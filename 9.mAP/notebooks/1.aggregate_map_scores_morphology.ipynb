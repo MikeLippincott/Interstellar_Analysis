{
 "cells": [
  {
   "cell_type": "code",
   "execution_count": 1,
   "metadata": {},
   "outputs": [],
   "source": [
    "import pathlib\n",
    "import warnings\n",
    "\n",
    "import numpy as np\n",
    "import pandas as pd\n",
    "import plotly.express as px\n",
    "from copairs.map import aggregate\n",
    "\n",
    "warnings.filterwarnings(\"ignore\")"
   ]
  },
  {
   "cell_type": "code",
   "execution_count": 2,
   "metadata": {},
   "outputs": [],
   "source": [
    "# Directories\n",
    "processed_data_dir = pathlib.Path(\"../data/processed/\")\n",
    "sc_ap_scores_dir = (processed_data_dir / \"mAP_scores/morphology\").resolve()\n",
    "agg_sc_ap_scores_dir = (processed_data_dir / \"aggregate_mAPs/morphology\").resolve()\n",
    "agg_sc_ap_scores_dir.mkdir(parents=True, exist_ok=True)"
   ]
  },
  {
   "cell_type": "markdown",
   "metadata": {},
   "source": [
    "## Preparing the dataset\n"
   ]
  },
  {
   "cell_type": "code",
   "execution_count": 3,
   "metadata": {},
   "outputs": [
    {
     "data": {
      "text/plain": [
       "array(['Control_vs_Apoptosis', 'Pyroptosis_vs_Apoptosis',\n",
       "       'Pyroptosis_vs_Control'], dtype=object)"
      ]
     },
     "execution_count": 3,
     "metadata": {},
     "output_type": "execute_result"
    }
   ],
   "source": [
    "all_files = list(sc_ap_scores_dir.glob(\"*.csv\"))\n",
    "# get the files that contain the string class\n",
    "class_files = [file for file in all_files if \"class\" in file.stem]\n",
    "mAPs = []\n",
    "for file in class_files:\n",
    "    df = pd.read_csv(file)\n",
    "    df[\"file\"] = file.stem\n",
    "    mAPs.append(df)\n",
    "# single-cell mAP scores\n",
    "mAPs = pd.concat(mAPs)\n",
    "mAPs.head()\n",
    "mAPs[\"comparison\"].unique()"
   ]
  },
  {
   "cell_type": "code",
   "execution_count": 4,
   "metadata": {},
   "outputs": [],
   "source": [
    "# grabbing all cp features (regular, feature shuffled and labeled shuffled)\n",
    "reg_sc_mAPs = mAPs.loc[mAPs[\"shuffled\"] == \"non-shuffled\"]\n",
    "shuffled_feat_sc_mAPs = mAPs.loc[mAPs[\"shuffled\"] == \"features_shuffled\"]"
   ]
  },
  {
   "cell_type": "code",
   "execution_count": 5,
   "metadata": {},
   "outputs": [
    {
     "data": {
      "text/html": [
       "<div>\n",
       "<style scoped>\n",
       "    .dataframe tbody tr th:only-of-type {\n",
       "        vertical-align: middle;\n",
       "    }\n",
       "\n",
       "    .dataframe tbody tr th {\n",
       "        vertical-align: top;\n",
       "    }\n",
       "\n",
       "    .dataframe thead th {\n",
       "        text-align: right;\n",
       "    }\n",
       "</style>\n",
       "<table border=\"1\" class=\"dataframe\">\n",
       "  <thead>\n",
       "    <tr style=\"text-align: right;\">\n",
       "      <th></th>\n",
       "      <th>Metadata_labels</th>\n",
       "      <th>shuffled</th>\n",
       "      <th>sampling_error</th>\n",
       "      <th>comparison</th>\n",
       "    </tr>\n",
       "  </thead>\n",
       "  <tbody>\n",
       "    <tr>\n",
       "      <th>0</th>\n",
       "      <td>Apoptosis</td>\n",
       "      <td>non-shuffled</td>\n",
       "      <td>0.085021</td>\n",
       "      <td>Control_vs_Apoptosis</td>\n",
       "    </tr>\n",
       "    <tr>\n",
       "      <th>1</th>\n",
       "      <td>Control</td>\n",
       "      <td>non-shuffled</td>\n",
       "      <td>0.011942</td>\n",
       "      <td>Control_vs_Apoptosis</td>\n",
       "    </tr>\n",
       "    <tr>\n",
       "      <th>2</th>\n",
       "      <td>Pyroptosis</td>\n",
       "      <td>non-shuffled</td>\n",
       "      <td>0.017691</td>\n",
       "      <td>Control_vs_Apoptosis</td>\n",
       "    </tr>\n",
       "  </tbody>\n",
       "</table>\n",
       "</div>"
      ],
      "text/plain": [
       "  Metadata_labels      shuffled  sampling_error            comparison\n",
       "0       Apoptosis  non-shuffled        0.085021  Control_vs_Apoptosis\n",
       "1         Control  non-shuffled        0.011942  Control_vs_Apoptosis\n",
       "2      Pyroptosis  non-shuffled        0.017691  Control_vs_Apoptosis"
      ]
     },
     "execution_count": 5,
     "metadata": {},
     "output_type": "execute_result"
    }
   ],
   "source": [
    "# Generating sampling_error df\n",
    "# This table will be used to merge with the aggregate table to get the sampling error a specific category.\n",
    "merged_sc_ap_scores_df = pd.concat(\n",
    "    [\n",
    "        reg_sc_mAPs,\n",
    "        shuffled_feat_sc_mAPs,\n",
    "    ]\n",
    ")\n",
    "\n",
    "# grouping dataframe based on phenotype levels, feature and feature types\n",
    "df_group = merged_sc_ap_scores_df.groupby(\n",
    "    by=[\"Metadata_labels\", \"shuffled\", \"comparison\"]\n",
    ")\n",
    "\n",
    "# calculating sampling error\n",
    "sampling_error_df = []\n",
    "for name, df in df_group:\n",
    "    pheno, shuffled_type, comparison = name\n",
    "\n",
    "    # caclulating sampling error\n",
    "    avg_percision = df[\"average_precision\"].values\n",
    "    sampling_error = np.std(avg_percision) / np.sqrt(len(avg_percision))\n",
    "\n",
    "    sampling_error_df.append([pheno, shuffled_type, sampling_error, comparison])\n",
    "cols = [\"Metadata_labels\", \"shuffled\", \"sampling_error\", \"comparison\"]\n",
    "sampling_error_df = pd.DataFrame(sampling_error_df, columns=cols)\n",
    "\n",
    "\n",
    "sampling_error_df.head()"
   ]
  },
  {
   "cell_type": "code",
   "execution_count": 6,
   "metadata": {},
   "outputs": [
    {
     "data": {
      "text/plain": [
       "array(['Control_vs_Apoptosis', 'Pyroptosis_vs_Apoptosis',\n",
       "       'Pyroptosis_vs_Control'], dtype=object)"
      ]
     },
     "execution_count": 6,
     "metadata": {},
     "output_type": "execute_result"
    }
   ],
   "source": [
    "mAPs[\"comparison\"].unique()"
   ]
  },
  {
   "cell_type": "code",
   "execution_count": 7,
   "metadata": {},
   "outputs": [
    {
     "data": {
      "text/html": [
       "<div>\n",
       "<style scoped>\n",
       "    .dataframe tbody tr th:only-of-type {\n",
       "        vertical-align: middle;\n",
       "    }\n",
       "\n",
       "    .dataframe tbody tr th {\n",
       "        vertical-align: top;\n",
       "    }\n",
       "\n",
       "    .dataframe thead th {\n",
       "        text-align: right;\n",
       "    }\n",
       "</style>\n",
       "<table border=\"1\" class=\"dataframe\">\n",
       "  <thead>\n",
       "    <tr style=\"text-align: right;\">\n",
       "      <th></th>\n",
       "      <th>Metadata_Well</th>\n",
       "      <th>Metadata_labels</th>\n",
       "      <th>average_precision</th>\n",
       "      <th>p_value</th>\n",
       "      <th>n_pos_pairs</th>\n",
       "      <th>n_total_pairs</th>\n",
       "      <th>shuffled</th>\n",
       "      <th>comparison</th>\n",
       "      <th>file</th>\n",
       "    </tr>\n",
       "  </thead>\n",
       "  <tbody>\n",
       "    <tr>\n",
       "      <th>0</th>\n",
       "      <td>D06</td>\n",
       "      <td>Apoptosis</td>\n",
       "      <td>0.640446</td>\n",
       "      <td>0.863636</td>\n",
       "      <td>7</td>\n",
       "      <td>153</td>\n",
       "      <td>non-shuffled</td>\n",
       "      <td>Control_vs_Apoptosis</td>\n",
       "      <td>merged_sc_agg_ap_scores_class</td>\n",
       "    </tr>\n",
       "    <tr>\n",
       "      <th>1</th>\n",
       "      <td>D06</td>\n",
       "      <td>Apoptosis</td>\n",
       "      <td>0.063021</td>\n",
       "      <td>0.378788</td>\n",
       "      <td>7</td>\n",
       "      <td>153</td>\n",
       "      <td>shuffled_baseline</td>\n",
       "      <td>Control_vs_Apoptosis</td>\n",
       "      <td>merged_sc_agg_ap_scores_class</td>\n",
       "    </tr>\n",
       "    <tr>\n",
       "      <th>2</th>\n",
       "      <td>D06</td>\n",
       "      <td>Apoptosis</td>\n",
       "      <td>0.063021</td>\n",
       "      <td>0.378788</td>\n",
       "      <td>7</td>\n",
       "      <td>153</td>\n",
       "      <td>shuffled_baseline</td>\n",
       "      <td>Pyroptosis_vs_Apoptosis</td>\n",
       "      <td>merged_sc_agg_ap_scores_class</td>\n",
       "    </tr>\n",
       "    <tr>\n",
       "      <th>3</th>\n",
       "      <td>D06</td>\n",
       "      <td>Apoptosis</td>\n",
       "      <td>0.063021</td>\n",
       "      <td>0.378788</td>\n",
       "      <td>7</td>\n",
       "      <td>153</td>\n",
       "      <td>shuffled_baseline</td>\n",
       "      <td>Pyroptosis_vs_Control</td>\n",
       "      <td>merged_sc_agg_ap_scores_class</td>\n",
       "    </tr>\n",
       "    <tr>\n",
       "      <th>4</th>\n",
       "      <td>B06</td>\n",
       "      <td>Control</td>\n",
       "      <td>0.603318</td>\n",
       "      <td>0.015152</td>\n",
       "      <td>80</td>\n",
       "      <td>153</td>\n",
       "      <td>non-shuffled</td>\n",
       "      <td>Control_vs_Apoptosis</td>\n",
       "      <td>merged_sc_agg_ap_scores_class</td>\n",
       "    </tr>\n",
       "  </tbody>\n",
       "</table>\n",
       "</div>"
      ],
      "text/plain": [
       "  Metadata_Well Metadata_labels  average_precision   p_value  n_pos_pairs  \\\n",
       "0           D06       Apoptosis           0.640446  0.863636            7   \n",
       "1           D06       Apoptosis           0.063021  0.378788            7   \n",
       "2           D06       Apoptosis           0.063021  0.378788            7   \n",
       "3           D06       Apoptosis           0.063021  0.378788            7   \n",
       "4           B06         Control           0.603318  0.015152           80   \n",
       "\n",
       "   n_total_pairs           shuffled               comparison  \\\n",
       "0            153       non-shuffled     Control_vs_Apoptosis   \n",
       "1            153  shuffled_baseline     Control_vs_Apoptosis   \n",
       "2            153  shuffled_baseline  Pyroptosis_vs_Apoptosis   \n",
       "3            153  shuffled_baseline    Pyroptosis_vs_Control   \n",
       "4            153       non-shuffled     Control_vs_Apoptosis   \n",
       "\n",
       "                            file  \n",
       "0  merged_sc_agg_ap_scores_class  \n",
       "1  merged_sc_agg_ap_scores_class  \n",
       "2  merged_sc_agg_ap_scores_class  \n",
       "3  merged_sc_agg_ap_scores_class  \n",
       "4  merged_sc_agg_ap_scores_class  "
      ]
     },
     "execution_count": 7,
     "metadata": {},
     "output_type": "execute_result"
    }
   ],
   "source": [
    "# aggregate single cells scores with cell labels\n",
    "data = tuple(mAPs.groupby(by=[\"Metadata_labels\", \"shuffled\", \"comparison\"]))\n",
    "columns = mAPs.columns\n",
    "agg_sc_ap_scores_df = []\n",
    "for cell_id, df1 in data:\n",
    "    for shuffle_type, df2 in df1.groupby(by=\"shuffled\"):\n",
    "        aggregated_ap_score = df2[\"average_precision\"].mean()\n",
    "\n",
    "        # select a single row since all the metadata is the same\n",
    "        selected_row = df2.iloc[0]\n",
    "\n",
    "        # update the average precision score of the single row\n",
    "        selected_row[\"average_precision\"] = aggregated_ap_score\n",
    "        agg_sc_ap_scores_df.append(selected_row.values.tolist())\n",
    "\n",
    "# saving into the results repo\n",
    "agg_sc_ap_scores_df = pd.DataFrame(data=agg_sc_ap_scores_df, columns=columns)\n",
    "agg_sc_ap_scores_df.to_csv(\n",
    "    sc_ap_scores_dir / \"merged_sc_agg_ap_scores_class.csv\", index=False\n",
    ")\n",
    "agg_sc_ap_scores_df.head()"
   ]
  },
  {
   "cell_type": "code",
   "execution_count": 8,
   "metadata": {},
   "outputs": [
    {
     "data": {
      "text/plain": [
       "array(['Control_vs_Apoptosis', 'Pyroptosis_vs_Apoptosis',\n",
       "       'Pyroptosis_vs_Control'], dtype=object)"
      ]
     },
     "execution_count": 8,
     "metadata": {},
     "output_type": "execute_result"
    }
   ],
   "source": [
    "agg_sc_ap_scores_df[\"comparison\"].unique()"
   ]
  },
  {
   "cell_type": "code",
   "execution_count": 9,
   "metadata": {},
   "outputs": [
    {
     "data": {
      "text/html": [
       "<div>\n",
       "<style scoped>\n",
       "    .dataframe tbody tr th:only-of-type {\n",
       "        vertical-align: middle;\n",
       "    }\n",
       "\n",
       "    .dataframe tbody tr th {\n",
       "        vertical-align: top;\n",
       "    }\n",
       "\n",
       "    .dataframe thead th {\n",
       "        text-align: right;\n",
       "    }\n",
       "</style>\n",
       "<table border=\"1\" class=\"dataframe\">\n",
       "  <thead>\n",
       "    <tr style=\"text-align: right;\">\n",
       "      <th></th>\n",
       "      <th>Metadata_labels</th>\n",
       "      <th>mean_average_precision</th>\n",
       "      <th>nlog10pvalue</th>\n",
       "      <th>q_value</th>\n",
       "      <th>nlog10qvalue</th>\n",
       "      <th>above_p_threshold</th>\n",
       "      <th>above_q_threshold</th>\n",
       "      <th>shuffled</th>\n",
       "      <th>comparison</th>\n",
       "    </tr>\n",
       "  </thead>\n",
       "  <tbody>\n",
       "    <tr>\n",
       "      <th>0</th>\n",
       "      <td>Apoptosis</td>\n",
       "      <td>0.640446</td>\n",
       "      <td>0.063669</td>\n",
       "      <td>0.863636</td>\n",
       "      <td>0.063669</td>\n",
       "      <td>False</td>\n",
       "      <td>False</td>\n",
       "      <td>non-shuffled</td>\n",
       "      <td>Control_vs_Apoptosis</td>\n",
       "    </tr>\n",
       "    <tr>\n",
       "      <th>0</th>\n",
       "      <td>Apoptosis</td>\n",
       "      <td>0.063021</td>\n",
       "      <td>0.421604</td>\n",
       "      <td>0.378788</td>\n",
       "      <td>0.421604</td>\n",
       "      <td>False</td>\n",
       "      <td>False</td>\n",
       "      <td>shuffled_baseline</td>\n",
       "      <td>Control_vs_Apoptosis</td>\n",
       "    </tr>\n",
       "    <tr>\n",
       "      <th>0</th>\n",
       "      <td>Apoptosis</td>\n",
       "      <td>0.063021</td>\n",
       "      <td>0.421604</td>\n",
       "      <td>0.378788</td>\n",
       "      <td>0.421604</td>\n",
       "      <td>False</td>\n",
       "      <td>False</td>\n",
       "      <td>shuffled_baseline</td>\n",
       "      <td>Pyroptosis_vs_Apoptosis</td>\n",
       "    </tr>\n",
       "    <tr>\n",
       "      <th>0</th>\n",
       "      <td>Apoptosis</td>\n",
       "      <td>0.063021</td>\n",
       "      <td>0.421604</td>\n",
       "      <td>0.378788</td>\n",
       "      <td>0.421604</td>\n",
       "      <td>False</td>\n",
       "      <td>False</td>\n",
       "      <td>shuffled_baseline</td>\n",
       "      <td>Pyroptosis_vs_Control</td>\n",
       "    </tr>\n",
       "    <tr>\n",
       "      <th>0</th>\n",
       "      <td>Control</td>\n",
       "      <td>0.603318</td>\n",
       "      <td>1.819544</td>\n",
       "      <td>0.015152</td>\n",
       "      <td>1.819544</td>\n",
       "      <td>True</td>\n",
       "      <td>True</td>\n",
       "      <td>non-shuffled</td>\n",
       "      <td>Control_vs_Apoptosis</td>\n",
       "    </tr>\n",
       "  </tbody>\n",
       "</table>\n",
       "</div>"
      ],
      "text/plain": [
       "  Metadata_labels  mean_average_precision  nlog10pvalue   q_value  \\\n",
       "0       Apoptosis                0.640446      0.063669  0.863636   \n",
       "0       Apoptosis                0.063021      0.421604  0.378788   \n",
       "0       Apoptosis                0.063021      0.421604  0.378788   \n",
       "0       Apoptosis                0.063021      0.421604  0.378788   \n",
       "0         Control                0.603318      1.819544  0.015152   \n",
       "\n",
       "   nlog10qvalue  above_p_threshold  above_q_threshold           shuffled  \\\n",
       "0      0.063669              False              False       non-shuffled   \n",
       "0      0.421604              False              False  shuffled_baseline   \n",
       "0      0.421604              False              False  shuffled_baseline   \n",
       "0      0.421604              False              False  shuffled_baseline   \n",
       "0      1.819544               True               True       non-shuffled   \n",
       "\n",
       "                comparison  \n",
       "0     Control_vs_Apoptosis  \n",
       "0     Control_vs_Apoptosis  \n",
       "0  Pyroptosis_vs_Apoptosis  \n",
       "0    Pyroptosis_vs_Control  \n",
       "0     Control_vs_Apoptosis  "
      ]
     },
     "execution_count": 9,
     "metadata": {},
     "output_type": "execute_result"
    }
   ],
   "source": [
    "# Generating aggregate scores with a threshold p-value of 0.05\n",
    "mAP_dfs = []\n",
    "for name, df in tuple(\n",
    "    agg_sc_ap_scores_df.groupby(by=[\"Metadata_labels\", \"shuffled\", \"comparison\"])\n",
    "):\n",
    "    agg_df = aggregate(df, sameby=[\"Metadata_labels\"], threshold=0.05)\n",
    "    agg_df[\"Metadata_labels\"] = name[0]\n",
    "    agg_df[\"shuffled\"] = name[1]\n",
    "    agg_df[\"comparison\"] = name[2]\n",
    "    mAP_dfs.append(agg_df)\n",
    "\n",
    "mAP_dfs = pd.concat(mAP_dfs)\n",
    "mAP_dfs.to_csv(agg_sc_ap_scores_dir / \"mAP_scores_class.csv\", index=False)\n",
    "mAP_dfs.head()"
   ]
  },
  {
   "cell_type": "code",
   "execution_count": 10,
   "metadata": {},
   "outputs": [
    {
     "data": {
      "text/plain": [
       "array(['non-shuffled', 'shuffled_baseline'], dtype=object)"
      ]
     },
     "execution_count": 10,
     "metadata": {},
     "output_type": "execute_result"
    }
   ],
   "source": [
    "mAP_dfs[\"comparison\"].unique()\n",
    "mAP_dfs[\"shuffled\"].unique()"
   ]
  },
  {
   "cell_type": "markdown",
   "metadata": {},
   "source": [
    "## Forming bar plots\n"
   ]
  },
  {
   "cell_type": "markdown",
   "metadata": {},
   "source": [
    "### Forming bar plots with CP Features\n"
   ]
  },
  {
   "cell_type": "code",
   "execution_count": 11,
   "metadata": {},
   "outputs": [
    {
     "data": {
      "text/html": [
       "<div>\n",
       "<style scoped>\n",
       "    .dataframe tbody tr th:only-of-type {\n",
       "        vertical-align: middle;\n",
       "    }\n",
       "\n",
       "    .dataframe tbody tr th {\n",
       "        vertical-align: top;\n",
       "    }\n",
       "\n",
       "    .dataframe thead th {\n",
       "        text-align: right;\n",
       "    }\n",
       "</style>\n",
       "<table border=\"1\" class=\"dataframe\">\n",
       "  <thead>\n",
       "    <tr style=\"text-align: right;\">\n",
       "      <th></th>\n",
       "      <th>Metadata_labels</th>\n",
       "      <th>mean_average_precision</th>\n",
       "      <th>nlog10pvalue</th>\n",
       "      <th>q_value</th>\n",
       "      <th>nlog10qvalue</th>\n",
       "      <th>above_p_threshold</th>\n",
       "      <th>above_q_threshold</th>\n",
       "      <th>shuffled</th>\n",
       "      <th>comparison</th>\n",
       "    </tr>\n",
       "  </thead>\n",
       "  <tbody>\n",
       "    <tr>\n",
       "      <th>0</th>\n",
       "      <td>Apoptosis</td>\n",
       "      <td>0.640446</td>\n",
       "      <td>0.063669</td>\n",
       "      <td>0.863636</td>\n",
       "      <td>0.063669</td>\n",
       "      <td>False</td>\n",
       "      <td>False</td>\n",
       "      <td>non-shuffled</td>\n",
       "      <td>Control_vs_Apoptosis</td>\n",
       "    </tr>\n",
       "    <tr>\n",
       "      <th>0</th>\n",
       "      <td>Apoptosis</td>\n",
       "      <td>0.063021</td>\n",
       "      <td>0.421604</td>\n",
       "      <td>0.378788</td>\n",
       "      <td>0.421604</td>\n",
       "      <td>False</td>\n",
       "      <td>False</td>\n",
       "      <td>shuffled_baseline</td>\n",
       "      <td>Control_vs_Apoptosis</td>\n",
       "    </tr>\n",
       "    <tr>\n",
       "      <th>0</th>\n",
       "      <td>Apoptosis</td>\n",
       "      <td>0.063021</td>\n",
       "      <td>0.421604</td>\n",
       "      <td>0.378788</td>\n",
       "      <td>0.421604</td>\n",
       "      <td>False</td>\n",
       "      <td>False</td>\n",
       "      <td>shuffled_baseline</td>\n",
       "      <td>Pyroptosis_vs_Apoptosis</td>\n",
       "    </tr>\n",
       "    <tr>\n",
       "      <th>0</th>\n",
       "      <td>Apoptosis</td>\n",
       "      <td>0.063021</td>\n",
       "      <td>0.421604</td>\n",
       "      <td>0.378788</td>\n",
       "      <td>0.421604</td>\n",
       "      <td>False</td>\n",
       "      <td>False</td>\n",
       "      <td>shuffled_baseline</td>\n",
       "      <td>Pyroptosis_vs_Control</td>\n",
       "    </tr>\n",
       "    <tr>\n",
       "      <th>0</th>\n",
       "      <td>Control</td>\n",
       "      <td>0.603318</td>\n",
       "      <td>1.819544</td>\n",
       "      <td>0.015152</td>\n",
       "      <td>1.819544</td>\n",
       "      <td>True</td>\n",
       "      <td>True</td>\n",
       "      <td>non-shuffled</td>\n",
       "      <td>Control_vs_Apoptosis</td>\n",
       "    </tr>\n",
       "    <tr>\n",
       "      <th>0</th>\n",
       "      <td>Control</td>\n",
       "      <td>0.535067</td>\n",
       "      <td>0.176091</td>\n",
       "      <td>0.666667</td>\n",
       "      <td>0.176091</td>\n",
       "      <td>False</td>\n",
       "      <td>False</td>\n",
       "      <td>shuffled_baseline</td>\n",
       "      <td>Control_vs_Apoptosis</td>\n",
       "    </tr>\n",
       "    <tr>\n",
       "      <th>0</th>\n",
       "      <td>Control</td>\n",
       "      <td>0.535067</td>\n",
       "      <td>0.176091</td>\n",
       "      <td>0.666667</td>\n",
       "      <td>0.176091</td>\n",
       "      <td>False</td>\n",
       "      <td>False</td>\n",
       "      <td>shuffled_baseline</td>\n",
       "      <td>Pyroptosis_vs_Apoptosis</td>\n",
       "    </tr>\n",
       "    <tr>\n",
       "      <th>0</th>\n",
       "      <td>Control</td>\n",
       "      <td>0.535067</td>\n",
       "      <td>0.176091</td>\n",
       "      <td>0.666667</td>\n",
       "      <td>0.176091</td>\n",
       "      <td>False</td>\n",
       "      <td>False</td>\n",
       "      <td>shuffled_baseline</td>\n",
       "      <td>Pyroptosis_vs_Control</td>\n",
       "    </tr>\n",
       "    <tr>\n",
       "      <th>0</th>\n",
       "      <td>Pyroptosis</td>\n",
       "      <td>0.652992</td>\n",
       "      <td>1.819544</td>\n",
       "      <td>0.015152</td>\n",
       "      <td>1.819544</td>\n",
       "      <td>True</td>\n",
       "      <td>True</td>\n",
       "      <td>non-shuffled</td>\n",
       "      <td>Control_vs_Apoptosis</td>\n",
       "    </tr>\n",
       "    <tr>\n",
       "      <th>0</th>\n",
       "      <td>Pyroptosis</td>\n",
       "      <td>0.428223</td>\n",
       "      <td>0.404571</td>\n",
       "      <td>0.393939</td>\n",
       "      <td>0.404571</td>\n",
       "      <td>False</td>\n",
       "      <td>False</td>\n",
       "      <td>shuffled_baseline</td>\n",
       "      <td>Control_vs_Apoptosis</td>\n",
       "    </tr>\n",
       "    <tr>\n",
       "      <th>0</th>\n",
       "      <td>Pyroptosis</td>\n",
       "      <td>0.428223</td>\n",
       "      <td>0.404571</td>\n",
       "      <td>0.393939</td>\n",
       "      <td>0.404571</td>\n",
       "      <td>False</td>\n",
       "      <td>False</td>\n",
       "      <td>shuffled_baseline</td>\n",
       "      <td>Pyroptosis_vs_Apoptosis</td>\n",
       "    </tr>\n",
       "    <tr>\n",
       "      <th>0</th>\n",
       "      <td>Pyroptosis</td>\n",
       "      <td>0.428223</td>\n",
       "      <td>0.404571</td>\n",
       "      <td>0.393939</td>\n",
       "      <td>0.404571</td>\n",
       "      <td>False</td>\n",
       "      <td>False</td>\n",
       "      <td>shuffled_baseline</td>\n",
       "      <td>Pyroptosis_vs_Control</td>\n",
       "    </tr>\n",
       "  </tbody>\n",
       "</table>\n",
       "</div>"
      ],
      "text/plain": [
       "  Metadata_labels  mean_average_precision  nlog10pvalue   q_value  \\\n",
       "0       Apoptosis                0.640446      0.063669  0.863636   \n",
       "0       Apoptosis                0.063021      0.421604  0.378788   \n",
       "0       Apoptosis                0.063021      0.421604  0.378788   \n",
       "0       Apoptosis                0.063021      0.421604  0.378788   \n",
       "0         Control                0.603318      1.819544  0.015152   \n",
       "0         Control                0.535067      0.176091  0.666667   \n",
       "0         Control                0.535067      0.176091  0.666667   \n",
       "0         Control                0.535067      0.176091  0.666667   \n",
       "0      Pyroptosis                0.652992      1.819544  0.015152   \n",
       "0      Pyroptosis                0.428223      0.404571  0.393939   \n",
       "0      Pyroptosis                0.428223      0.404571  0.393939   \n",
       "0      Pyroptosis                0.428223      0.404571  0.393939   \n",
       "\n",
       "   nlog10qvalue  above_p_threshold  above_q_threshold           shuffled  \\\n",
       "0      0.063669              False              False       non-shuffled   \n",
       "0      0.421604              False              False  shuffled_baseline   \n",
       "0      0.421604              False              False  shuffled_baseline   \n",
       "0      0.421604              False              False  shuffled_baseline   \n",
       "0      1.819544               True               True       non-shuffled   \n",
       "0      0.176091              False              False  shuffled_baseline   \n",
       "0      0.176091              False              False  shuffled_baseline   \n",
       "0      0.176091              False              False  shuffled_baseline   \n",
       "0      1.819544               True               True       non-shuffled   \n",
       "0      0.404571              False              False  shuffled_baseline   \n",
       "0      0.404571              False              False  shuffled_baseline   \n",
       "0      0.404571              False              False  shuffled_baseline   \n",
       "\n",
       "                comparison  \n",
       "0     Control_vs_Apoptosis  \n",
       "0     Control_vs_Apoptosis  \n",
       "0  Pyroptosis_vs_Apoptosis  \n",
       "0    Pyroptosis_vs_Control  \n",
       "0     Control_vs_Apoptosis  \n",
       "0     Control_vs_Apoptosis  \n",
       "0  Pyroptosis_vs_Apoptosis  \n",
       "0    Pyroptosis_vs_Control  \n",
       "0     Control_vs_Apoptosis  \n",
       "0     Control_vs_Apoptosis  \n",
       "0  Pyroptosis_vs_Apoptosis  \n",
       "0    Pyroptosis_vs_Control  "
      ]
     },
     "execution_count": 11,
     "metadata": {},
     "output_type": "execute_result"
    }
   ],
   "source": [
    "mAP_dfs"
   ]
  },
  {
   "cell_type": "code",
   "execution_count": 12,
   "metadata": {},
   "outputs": [
    {
     "data": {
      "application/vnd.plotly.v1+json": {
       "config": {
        "plotlyServerURL": "https://plot.ly"
       },
       "data": [
        {
         "alignmentgroup": "True",
         "hovertemplate": "comparison=Control_vs_Apoptosis<br>Cell Death Phenotypes=%{x}<br>Mean Average Precision=%{y}<extra></extra>",
         "legendgroup": "Control_vs_Apoptosis",
         "marker": {
          "color": "#636efa",
          "pattern": {
           "shape": ""
          }
         },
         "name": "Control_vs_Apoptosis",
         "offsetgroup": "Control_vs_Apoptosis",
         "orientation": "v",
         "showlegend": true,
         "textposition": "auto",
         "type": "bar",
         "x": [
          "Apoptosis",
          "Apoptosis",
          "Control",
          "Control",
          "Pyroptosis",
          "Pyroptosis"
         ],
         "xaxis": "x",
         "y": [
          0.6404460053854151,
          0.06302105127468907,
          0.6033181488834619,
          0.5350665574319208,
          0.6529917560323805,
          0.4282230223371714
         ],
         "yaxis": "y"
        },
        {
         "alignmentgroup": "True",
         "hovertemplate": "comparison=Pyroptosis_vs_Apoptosis<br>Cell Death Phenotypes=%{x}<br>Mean Average Precision=%{y}<extra></extra>",
         "legendgroup": "Pyroptosis_vs_Apoptosis",
         "marker": {
          "color": "#EF553B",
          "pattern": {
           "shape": ""
          }
         },
         "name": "Pyroptosis_vs_Apoptosis",
         "offsetgroup": "Pyroptosis_vs_Apoptosis",
         "orientation": "v",
         "showlegend": true,
         "textposition": "auto",
         "type": "bar",
         "x": [
          "Apoptosis",
          "Control",
          "Pyroptosis"
         ],
         "xaxis": "x",
         "y": [
          0.06302105127468907,
          0.5350665574319208,
          0.4282230223371714
         ],
         "yaxis": "y"
        },
        {
         "alignmentgroup": "True",
         "hovertemplate": "comparison=Pyroptosis_vs_Control<br>Cell Death Phenotypes=%{x}<br>Mean Average Precision=%{y}<extra></extra>",
         "legendgroup": "Pyroptosis_vs_Control",
         "marker": {
          "color": "#00cc96",
          "pattern": {
           "shape": ""
          }
         },
         "name": "Pyroptosis_vs_Control",
         "offsetgroup": "Pyroptosis_vs_Control",
         "orientation": "v",
         "showlegend": true,
         "textposition": "auto",
         "type": "bar",
         "x": [
          "Apoptosis",
          "Control",
          "Pyroptosis"
         ],
         "xaxis": "x",
         "y": [
          0.06302105127468907,
          0.5350665574319208,
          0.4282230223371714
         ],
         "yaxis": "y"
        }
       ],
       "layout": {
        "barmode": "group",
        "legend": {
         "title": {
          "text": "comparison"
         },
         "tracegroupgap": 0
        },
        "template": {
         "data": {
          "bar": [
           {
            "error_x": {
             "color": "#2a3f5f"
            },
            "error_y": {
             "color": "#2a3f5f"
            },
            "marker": {
             "line": {
              "color": "#E5ECF6",
              "width": 0.5
             },
             "pattern": {
              "fillmode": "overlay",
              "size": 10,
              "solidity": 0.2
             }
            },
            "type": "bar"
           }
          ],
          "barpolar": [
           {
            "marker": {
             "line": {
              "color": "#E5ECF6",
              "width": 0.5
             },
             "pattern": {
              "fillmode": "overlay",
              "size": 10,
              "solidity": 0.2
             }
            },
            "type": "barpolar"
           }
          ],
          "carpet": [
           {
            "aaxis": {
             "endlinecolor": "#2a3f5f",
             "gridcolor": "white",
             "linecolor": "white",
             "minorgridcolor": "white",
             "startlinecolor": "#2a3f5f"
            },
            "baxis": {
             "endlinecolor": "#2a3f5f",
             "gridcolor": "white",
             "linecolor": "white",
             "minorgridcolor": "white",
             "startlinecolor": "#2a3f5f"
            },
            "type": "carpet"
           }
          ],
          "choropleth": [
           {
            "colorbar": {
             "outlinewidth": 0,
             "ticks": ""
            },
            "type": "choropleth"
           }
          ],
          "contour": [
           {
            "colorbar": {
             "outlinewidth": 0,
             "ticks": ""
            },
            "colorscale": [
             [
              0,
              "#0d0887"
             ],
             [
              0.1111111111111111,
              "#46039f"
             ],
             [
              0.2222222222222222,
              "#7201a8"
             ],
             [
              0.3333333333333333,
              "#9c179e"
             ],
             [
              0.4444444444444444,
              "#bd3786"
             ],
             [
              0.5555555555555556,
              "#d8576b"
             ],
             [
              0.6666666666666666,
              "#ed7953"
             ],
             [
              0.7777777777777778,
              "#fb9f3a"
             ],
             [
              0.8888888888888888,
              "#fdca26"
             ],
             [
              1,
              "#f0f921"
             ]
            ],
            "type": "contour"
           }
          ],
          "contourcarpet": [
           {
            "colorbar": {
             "outlinewidth": 0,
             "ticks": ""
            },
            "type": "contourcarpet"
           }
          ],
          "heatmap": [
           {
            "colorbar": {
             "outlinewidth": 0,
             "ticks": ""
            },
            "colorscale": [
             [
              0,
              "#0d0887"
             ],
             [
              0.1111111111111111,
              "#46039f"
             ],
             [
              0.2222222222222222,
              "#7201a8"
             ],
             [
              0.3333333333333333,
              "#9c179e"
             ],
             [
              0.4444444444444444,
              "#bd3786"
             ],
             [
              0.5555555555555556,
              "#d8576b"
             ],
             [
              0.6666666666666666,
              "#ed7953"
             ],
             [
              0.7777777777777778,
              "#fb9f3a"
             ],
             [
              0.8888888888888888,
              "#fdca26"
             ],
             [
              1,
              "#f0f921"
             ]
            ],
            "type": "heatmap"
           }
          ],
          "heatmapgl": [
           {
            "colorbar": {
             "outlinewidth": 0,
             "ticks": ""
            },
            "colorscale": [
             [
              0,
              "#0d0887"
             ],
             [
              0.1111111111111111,
              "#46039f"
             ],
             [
              0.2222222222222222,
              "#7201a8"
             ],
             [
              0.3333333333333333,
              "#9c179e"
             ],
             [
              0.4444444444444444,
              "#bd3786"
             ],
             [
              0.5555555555555556,
              "#d8576b"
             ],
             [
              0.6666666666666666,
              "#ed7953"
             ],
             [
              0.7777777777777778,
              "#fb9f3a"
             ],
             [
              0.8888888888888888,
              "#fdca26"
             ],
             [
              1,
              "#f0f921"
             ]
            ],
            "type": "heatmapgl"
           }
          ],
          "histogram": [
           {
            "marker": {
             "pattern": {
              "fillmode": "overlay",
              "size": 10,
              "solidity": 0.2
             }
            },
            "type": "histogram"
           }
          ],
          "histogram2d": [
           {
            "colorbar": {
             "outlinewidth": 0,
             "ticks": ""
            },
            "colorscale": [
             [
              0,
              "#0d0887"
             ],
             [
              0.1111111111111111,
              "#46039f"
             ],
             [
              0.2222222222222222,
              "#7201a8"
             ],
             [
              0.3333333333333333,
              "#9c179e"
             ],
             [
              0.4444444444444444,
              "#bd3786"
             ],
             [
              0.5555555555555556,
              "#d8576b"
             ],
             [
              0.6666666666666666,
              "#ed7953"
             ],
             [
              0.7777777777777778,
              "#fb9f3a"
             ],
             [
              0.8888888888888888,
              "#fdca26"
             ],
             [
              1,
              "#f0f921"
             ]
            ],
            "type": "histogram2d"
           }
          ],
          "histogram2dcontour": [
           {
            "colorbar": {
             "outlinewidth": 0,
             "ticks": ""
            },
            "colorscale": [
             [
              0,
              "#0d0887"
             ],
             [
              0.1111111111111111,
              "#46039f"
             ],
             [
              0.2222222222222222,
              "#7201a8"
             ],
             [
              0.3333333333333333,
              "#9c179e"
             ],
             [
              0.4444444444444444,
              "#bd3786"
             ],
             [
              0.5555555555555556,
              "#d8576b"
             ],
             [
              0.6666666666666666,
              "#ed7953"
             ],
             [
              0.7777777777777778,
              "#fb9f3a"
             ],
             [
              0.8888888888888888,
              "#fdca26"
             ],
             [
              1,
              "#f0f921"
             ]
            ],
            "type": "histogram2dcontour"
           }
          ],
          "mesh3d": [
           {
            "colorbar": {
             "outlinewidth": 0,
             "ticks": ""
            },
            "type": "mesh3d"
           }
          ],
          "parcoords": [
           {
            "line": {
             "colorbar": {
              "outlinewidth": 0,
              "ticks": ""
             }
            },
            "type": "parcoords"
           }
          ],
          "pie": [
           {
            "automargin": true,
            "type": "pie"
           }
          ],
          "scatter": [
           {
            "fillpattern": {
             "fillmode": "overlay",
             "size": 10,
             "solidity": 0.2
            },
            "type": "scatter"
           }
          ],
          "scatter3d": [
           {
            "line": {
             "colorbar": {
              "outlinewidth": 0,
              "ticks": ""
             }
            },
            "marker": {
             "colorbar": {
              "outlinewidth": 0,
              "ticks": ""
             }
            },
            "type": "scatter3d"
           }
          ],
          "scattercarpet": [
           {
            "marker": {
             "colorbar": {
              "outlinewidth": 0,
              "ticks": ""
             }
            },
            "type": "scattercarpet"
           }
          ],
          "scattergeo": [
           {
            "marker": {
             "colorbar": {
              "outlinewidth": 0,
              "ticks": ""
             }
            },
            "type": "scattergeo"
           }
          ],
          "scattergl": [
           {
            "marker": {
             "colorbar": {
              "outlinewidth": 0,
              "ticks": ""
             }
            },
            "type": "scattergl"
           }
          ],
          "scattermapbox": [
           {
            "marker": {
             "colorbar": {
              "outlinewidth": 0,
              "ticks": ""
             }
            },
            "type": "scattermapbox"
           }
          ],
          "scatterpolar": [
           {
            "marker": {
             "colorbar": {
              "outlinewidth": 0,
              "ticks": ""
             }
            },
            "type": "scatterpolar"
           }
          ],
          "scatterpolargl": [
           {
            "marker": {
             "colorbar": {
              "outlinewidth": 0,
              "ticks": ""
             }
            },
            "type": "scatterpolargl"
           }
          ],
          "scatterternary": [
           {
            "marker": {
             "colorbar": {
              "outlinewidth": 0,
              "ticks": ""
             }
            },
            "type": "scatterternary"
           }
          ],
          "surface": [
           {
            "colorbar": {
             "outlinewidth": 0,
             "ticks": ""
            },
            "colorscale": [
             [
              0,
              "#0d0887"
             ],
             [
              0.1111111111111111,
              "#46039f"
             ],
             [
              0.2222222222222222,
              "#7201a8"
             ],
             [
              0.3333333333333333,
              "#9c179e"
             ],
             [
              0.4444444444444444,
              "#bd3786"
             ],
             [
              0.5555555555555556,
              "#d8576b"
             ],
             [
              0.6666666666666666,
              "#ed7953"
             ],
             [
              0.7777777777777778,
              "#fb9f3a"
             ],
             [
              0.8888888888888888,
              "#fdca26"
             ],
             [
              1,
              "#f0f921"
             ]
            ],
            "type": "surface"
           }
          ],
          "table": [
           {
            "cells": {
             "fill": {
              "color": "#EBF0F8"
             },
             "line": {
              "color": "white"
             }
            },
            "header": {
             "fill": {
              "color": "#C8D4E3"
             },
             "line": {
              "color": "white"
             }
            },
            "type": "table"
           }
          ]
         },
         "layout": {
          "annotationdefaults": {
           "arrowcolor": "#2a3f5f",
           "arrowhead": 0,
           "arrowwidth": 1
          },
          "autotypenumbers": "strict",
          "coloraxis": {
           "colorbar": {
            "outlinewidth": 0,
            "ticks": ""
           }
          },
          "colorscale": {
           "diverging": [
            [
             0,
             "#8e0152"
            ],
            [
             0.1,
             "#c51b7d"
            ],
            [
             0.2,
             "#de77ae"
            ],
            [
             0.3,
             "#f1b6da"
            ],
            [
             0.4,
             "#fde0ef"
            ],
            [
             0.5,
             "#f7f7f7"
            ],
            [
             0.6,
             "#e6f5d0"
            ],
            [
             0.7,
             "#b8e186"
            ],
            [
             0.8,
             "#7fbc41"
            ],
            [
             0.9,
             "#4d9221"
            ],
            [
             1,
             "#276419"
            ]
           ],
           "sequential": [
            [
             0,
             "#0d0887"
            ],
            [
             0.1111111111111111,
             "#46039f"
            ],
            [
             0.2222222222222222,
             "#7201a8"
            ],
            [
             0.3333333333333333,
             "#9c179e"
            ],
            [
             0.4444444444444444,
             "#bd3786"
            ],
            [
             0.5555555555555556,
             "#d8576b"
            ],
            [
             0.6666666666666666,
             "#ed7953"
            ],
            [
             0.7777777777777778,
             "#fb9f3a"
            ],
            [
             0.8888888888888888,
             "#fdca26"
            ],
            [
             1,
             "#f0f921"
            ]
           ],
           "sequentialminus": [
            [
             0,
             "#0d0887"
            ],
            [
             0.1111111111111111,
             "#46039f"
            ],
            [
             0.2222222222222222,
             "#7201a8"
            ],
            [
             0.3333333333333333,
             "#9c179e"
            ],
            [
             0.4444444444444444,
             "#bd3786"
            ],
            [
             0.5555555555555556,
             "#d8576b"
            ],
            [
             0.6666666666666666,
             "#ed7953"
            ],
            [
             0.7777777777777778,
             "#fb9f3a"
            ],
            [
             0.8888888888888888,
             "#fdca26"
            ],
            [
             1,
             "#f0f921"
            ]
           ]
          },
          "colorway": [
           "#636efa",
           "#EF553B",
           "#00cc96",
           "#ab63fa",
           "#FFA15A",
           "#19d3f3",
           "#FF6692",
           "#B6E880",
           "#FF97FF",
           "#FECB52"
          ],
          "font": {
           "color": "#2a3f5f"
          },
          "geo": {
           "bgcolor": "white",
           "lakecolor": "white",
           "landcolor": "#E5ECF6",
           "showlakes": true,
           "showland": true,
           "subunitcolor": "white"
          },
          "hoverlabel": {
           "align": "left"
          },
          "hovermode": "closest",
          "mapbox": {
           "style": "light"
          },
          "paper_bgcolor": "white",
          "plot_bgcolor": "#E5ECF6",
          "polar": {
           "angularaxis": {
            "gridcolor": "white",
            "linecolor": "white",
            "ticks": ""
           },
           "bgcolor": "#E5ECF6",
           "radialaxis": {
            "gridcolor": "white",
            "linecolor": "white",
            "ticks": ""
           }
          },
          "scene": {
           "xaxis": {
            "backgroundcolor": "#E5ECF6",
            "gridcolor": "white",
            "gridwidth": 2,
            "linecolor": "white",
            "showbackground": true,
            "ticks": "",
            "zerolinecolor": "white"
           },
           "yaxis": {
            "backgroundcolor": "#E5ECF6",
            "gridcolor": "white",
            "gridwidth": 2,
            "linecolor": "white",
            "showbackground": true,
            "ticks": "",
            "zerolinecolor": "white"
           },
           "zaxis": {
            "backgroundcolor": "#E5ECF6",
            "gridcolor": "white",
            "gridwidth": 2,
            "linecolor": "white",
            "showbackground": true,
            "ticks": "",
            "zerolinecolor": "white"
           }
          },
          "shapedefaults": {
           "line": {
            "color": "#2a3f5f"
           }
          },
          "ternary": {
           "aaxis": {
            "gridcolor": "white",
            "linecolor": "white",
            "ticks": ""
           },
           "baxis": {
            "gridcolor": "white",
            "linecolor": "white",
            "ticks": ""
           },
           "bgcolor": "#E5ECF6",
           "caxis": {
            "gridcolor": "white",
            "linecolor": "white",
            "ticks": ""
           }
          },
          "title": {
           "x": 0.05
          },
          "xaxis": {
           "automargin": true,
           "gridcolor": "white",
           "linecolor": "white",
           "ticks": "",
           "title": {
            "standoff": 15
           },
           "zerolinecolor": "white",
           "zerolinewidth": 2
          },
          "yaxis": {
           "automargin": true,
           "gridcolor": "white",
           "linecolor": "white",
           "ticks": "",
           "title": {
            "standoff": 15
           },
           "zerolinecolor": "white",
           "zerolinewidth": 2
          }
         }
        },
        "title": {
         "text": "Mean Average Precision for each Cell Death Phenotype"
        },
        "xaxis": {
         "anchor": "y",
         "domain": [
          0,
          1
         ],
         "title": {
          "text": "Cell Death Phenotypes"
         }
        },
        "yaxis": {
         "anchor": "x",
         "domain": [
          0,
          1
         ],
         "title": {
          "text": "Mean Average Precision"
         }
        }
       }
      }
     },
     "metadata": {},
     "output_type": "display_data"
    }
   ],
   "source": [
    "# phenotypes\n",
    "df = mAP_dfs.reset_index().drop(\"index\", axis=1)[\n",
    "    [\"Metadata_labels\", \"mean_average_precision\", \"shuffled\", \"comparison\"]\n",
    "]\n",
    "\n",
    "\n",
    "fig = px.bar(\n",
    "    df,\n",
    "    x=\"Metadata_labels\",\n",
    "    y=\"mean_average_precision\",\n",
    "    color=\"comparison\",\n",
    "    barmode=\"group\",\n",
    "    title=\"Mean Average Precision for each Cell Death Phenotype\",\n",
    "    labels={\n",
    "        \"mean_average_precision\": \"Mean Average Precision\",\n",
    "        \"Metadata_labels\": \"Cell Death Phenotypes\",\n",
    "    },\n",
    ")\n",
    "fig"
   ]
  },
  {
   "cell_type": "markdown",
   "metadata": {},
   "source": [
    "## Generating box plots of single cell ap scores"
   ]
  },
  {
   "cell_type": "code",
   "execution_count": 13,
   "metadata": {},
   "outputs": [],
   "source": [
    "all_df = pd.concat(\n",
    "    [\n",
    "        reg_sc_mAPs,\n",
    "        shuffled_feat_sc_mAPs,\n",
    "    ]\n",
    ")"
   ]
  },
  {
   "cell_type": "code",
   "execution_count": 14,
   "metadata": {},
   "outputs": [
    {
     "data": {
      "application/vnd.plotly.v1+json": {
       "config": {
        "plotlyServerURL": "https://plot.ly"
       },
       "data": [
        {
         "alignmentgroup": "True",
         "hovertemplate": "shuffled=non-shuffled<br>Cell Death Class=%{x}<br>Average Precision Scores=%{y}<extra></extra>",
         "legendgroup": "non-shuffled",
         "marker": {
          "color": "#636efa"
         },
         "name": "non-shuffled",
         "notched": false,
         "offsetgroup": "non-shuffled",
         "orientation": "v",
         "showlegend": true,
         "type": "box",
         "x": [
          "Apoptosis",
          "Control",
          "Pyroptosis",
          "Pyroptosis",
          "Pyroptosis",
          "Pyroptosis",
          "Pyroptosis",
          "Control",
          "Control",
          "Pyroptosis",
          "Pyroptosis",
          "Pyroptosis",
          "Pyroptosis",
          "Control",
          "Pyroptosis",
          "Pyroptosis",
          "Pyroptosis",
          "Pyroptosis",
          "Control",
          "Control",
          "Pyroptosis",
          "Pyroptosis",
          "Pyroptosis",
          "Pyroptosis",
          "Control",
          "Pyroptosis",
          "Pyroptosis",
          "Pyroptosis",
          "Pyroptosis",
          "Apoptosis",
          "Apoptosis",
          "Pyroptosis",
          "Pyroptosis",
          "Pyroptosis",
          "Pyroptosis",
          "Control",
          "Pyroptosis",
          "Pyroptosis",
          "Control",
          "Control",
          "Apoptosis",
          "Apoptosis",
          "Pyroptosis",
          "Pyroptosis",
          "Control",
          "Control",
          "Control",
          "Pyroptosis",
          "Pyroptosis",
          "Control",
          "Control",
          "Control",
          "Control",
          "Pyroptosis",
          "Pyroptosis",
          "Control",
          "Control",
          "Control",
          "Pyroptosis",
          "Pyroptosis",
          "Control",
          "Control",
          "Control",
          "Control",
          "Pyroptosis",
          "Pyroptosis",
          "Control",
          "Control",
          "Control",
          "Pyroptosis",
          "Pyroptosis",
          "Control",
          "Control",
          "Control",
          "Control",
          "Pyroptosis",
          "Pyroptosis",
          "Control",
          "Control",
          "Control",
          "Control",
          "Control",
          "Control",
          "Control",
          "Control",
          "Control",
          "Control",
          "Control",
          "Control",
          "Control",
          "Control",
          "Pyroptosis",
          "Pyroptosis",
          "Control",
          "Control",
          "Control",
          "Control",
          "Pyroptosis",
          "Pyroptosis",
          "Control",
          "Control",
          "Control",
          "Pyroptosis",
          "Pyroptosis",
          "Control",
          "Control",
          "Apoptosis",
          "Apoptosis",
          "Pyroptosis",
          "Pyroptosis",
          "Control",
          "Control",
          "Control",
          "Pyroptosis",
          "Pyroptosis",
          "Control",
          "Control",
          "Apoptosis",
          "Apoptosis",
          "Pyroptosis",
          "Pyroptosis",
          "Control",
          "Control",
          "Control",
          "Pyroptosis",
          "Pyroptosis",
          "Control",
          "Control",
          "Control",
          "Control",
          "Pyroptosis",
          "Pyroptosis",
          "Pyroptosis",
          "Pyroptosis",
          "Control",
          "Pyroptosis",
          "Pyroptosis",
          "Pyroptosis",
          "Control",
          "Control",
          "Control",
          "Pyroptosis",
          "Pyroptosis",
          "Pyroptosis",
          "Pyroptosis",
          "Control",
          "Control",
          "Control",
          "Control",
          "Control",
          "Control",
          "Control",
          "Control",
          "Control",
          "Control",
          "Control",
          "Control"
         ],
         "x0": " ",
         "xaxis": "x",
         "y": [
          0.6404460053854151,
          0.6033181488834619,
          0.6529917560323805,
          0.6058953714554595,
          0.4928593527722443,
          0.8348630794984506,
          0.8197765554091667,
          0.7005114768671149,
          0.6046328918547523,
          0.5450069882591989,
          0.5809656065644104,
          0.8139027965944673,
          0.7808765921871802,
          0.5777790522298873,
          0.5125601204384677,
          0.7717528650062943,
          0.7889893906778956,
          0.7725236188422666,
          0.4501250709597041,
          0.4260656869684153,
          0.4739847079766637,
          0.5018311327471203,
          0.7723076269856868,
          0.7687808011875625,
          0.7105455791083575,
          0.540928153449563,
          0.6623933358261005,
          0.7761537547516735,
          0.7717037988007203,
          0.0408171156520533,
          0.8655462184873949,
          0.4420793737261269,
          0.8176563364634134,
          0.7663897273853245,
          0.7652959207067327,
          0.6622385068904239,
          0.4956338280799948,
          0.526790552436522,
          0.5585844853985,
          0.6674259966237529,
          0.6694004408290122,
          0.8179271708683473,
          0.5238897007394987,
          0.505623891281948,
          0.4118755544206127,
          0.6050485340081442,
          0.652298746403137,
          0.5538822888937207,
          0.6922339115049645,
          0.5072673621999897,
          0.6240318750565681,
          0.4908254366542738,
          0.6269562388332882,
          0.6788092870549056,
          0.3744553563970594,
          0.7376431606302276,
          0.7704145933011101,
          0.6617606536890234,
          0.4917492650639927,
          0.698159850936497,
          0.4837631014629053,
          0.5939610046558601,
          0.512980360324516,
          0.7069717775332961,
          0.6702930586517413,
          0.5142046766234305,
          0.5192293832285163,
          0.7279403228704555,
          0.6016795664007424,
          0.4381622155806602,
          0.7122316358325462,
          0.3972523821196729,
          0.5850881020072253,
          0.5383850231145108,
          0.4516730899698302,
          0.5024107041847086,
          0.5148221764032281,
          0.7599621612321331,
          0.7903336689963989,
          0.7732830359627869,
          0.627060401662694,
          0.5961949233179564,
          0.4874261476511329,
          0.6297521709066407,
          0.513958165822241,
          0.3867323495834791,
          0.6310535469239482,
          0.572756495800865,
          0.7749974197959867,
          0.7154566642654826,
          0.7225607472022312,
          0.5920948940071508,
          0.6068075156688575,
          0.4069635672129004,
          0.5080436879684198,
          0.751510049503779,
          0.6415850882463732,
          0.8031942873815758,
          0.6201656227895918,
          0.4636872610612267,
          0.5846618819660115,
          0.7643110356829897,
          0.8196545385283223,
          0.8085530424504572,
          0.650700973055397,
          0.6023344291061191,
          0.4660507005461005,
          0.5333333333333333,
          0.8012561204279972,
          0.8005326212962514,
          0.660744744748661,
          0.6711901527157247,
          0.6887371030940251,
          0.8033803289091839,
          0.7952697769632472,
          0.4871999264582302,
          0.4564068360197089,
          0.8654761904761905,
          0.8650168728908886,
          0.7928354229364334,
          0.7831372616371344,
          0.5246940715987681,
          0.5099032186380228,
          0.6464860106424682,
          0.7943787696878796,
          0.7832317530259558,
          0.4645269395102493,
          0.4521008222069767,
          0.5022761610742338,
          0.6311978082865763,
          0.7996275655864951,
          0.7875717932437812,
          0.4946275961857989,
          0.3924933453350155,
          0.6801524046257958,
          0.8033242267750722,
          0.8399434999075889,
          0.475071667246858,
          0.4808412397757591,
          0.572473290815833,
          0.759972894333733,
          0.6103278302107471,
          0.6076394849946758,
          0.3502687747485297,
          0.4062469947825241,
          0.6112595215704941,
          0.5398661607236178,
          0.5380119605976782,
          0.7807557427550986,
          0.5842306898558876,
          0.7453980863925389,
          0.786085876418066,
          0.487345083800192,
          0.6413661882462223,
          0.6155682738420044,
          0.7259085919651644,
          0.7037893701366779
         ],
         "y0": " ",
         "yaxis": "y"
        }
       ],
       "layout": {
        "boxmode": "group",
        "legend": {
         "title": {
          "text": "shuffled"
         },
         "tracegroupgap": 0
        },
        "template": {
         "data": {
          "bar": [
           {
            "error_x": {
             "color": "#2a3f5f"
            },
            "error_y": {
             "color": "#2a3f5f"
            },
            "marker": {
             "line": {
              "color": "#E5ECF6",
              "width": 0.5
             },
             "pattern": {
              "fillmode": "overlay",
              "size": 10,
              "solidity": 0.2
             }
            },
            "type": "bar"
           }
          ],
          "barpolar": [
           {
            "marker": {
             "line": {
              "color": "#E5ECF6",
              "width": 0.5
             },
             "pattern": {
              "fillmode": "overlay",
              "size": 10,
              "solidity": 0.2
             }
            },
            "type": "barpolar"
           }
          ],
          "carpet": [
           {
            "aaxis": {
             "endlinecolor": "#2a3f5f",
             "gridcolor": "white",
             "linecolor": "white",
             "minorgridcolor": "white",
             "startlinecolor": "#2a3f5f"
            },
            "baxis": {
             "endlinecolor": "#2a3f5f",
             "gridcolor": "white",
             "linecolor": "white",
             "minorgridcolor": "white",
             "startlinecolor": "#2a3f5f"
            },
            "type": "carpet"
           }
          ],
          "choropleth": [
           {
            "colorbar": {
             "outlinewidth": 0,
             "ticks": ""
            },
            "type": "choropleth"
           }
          ],
          "contour": [
           {
            "colorbar": {
             "outlinewidth": 0,
             "ticks": ""
            },
            "colorscale": [
             [
              0,
              "#0d0887"
             ],
             [
              0.1111111111111111,
              "#46039f"
             ],
             [
              0.2222222222222222,
              "#7201a8"
             ],
             [
              0.3333333333333333,
              "#9c179e"
             ],
             [
              0.4444444444444444,
              "#bd3786"
             ],
             [
              0.5555555555555556,
              "#d8576b"
             ],
             [
              0.6666666666666666,
              "#ed7953"
             ],
             [
              0.7777777777777778,
              "#fb9f3a"
             ],
             [
              0.8888888888888888,
              "#fdca26"
             ],
             [
              1,
              "#f0f921"
             ]
            ],
            "type": "contour"
           }
          ],
          "contourcarpet": [
           {
            "colorbar": {
             "outlinewidth": 0,
             "ticks": ""
            },
            "type": "contourcarpet"
           }
          ],
          "heatmap": [
           {
            "colorbar": {
             "outlinewidth": 0,
             "ticks": ""
            },
            "colorscale": [
             [
              0,
              "#0d0887"
             ],
             [
              0.1111111111111111,
              "#46039f"
             ],
             [
              0.2222222222222222,
              "#7201a8"
             ],
             [
              0.3333333333333333,
              "#9c179e"
             ],
             [
              0.4444444444444444,
              "#bd3786"
             ],
             [
              0.5555555555555556,
              "#d8576b"
             ],
             [
              0.6666666666666666,
              "#ed7953"
             ],
             [
              0.7777777777777778,
              "#fb9f3a"
             ],
             [
              0.8888888888888888,
              "#fdca26"
             ],
             [
              1,
              "#f0f921"
             ]
            ],
            "type": "heatmap"
           }
          ],
          "heatmapgl": [
           {
            "colorbar": {
             "outlinewidth": 0,
             "ticks": ""
            },
            "colorscale": [
             [
              0,
              "#0d0887"
             ],
             [
              0.1111111111111111,
              "#46039f"
             ],
             [
              0.2222222222222222,
              "#7201a8"
             ],
             [
              0.3333333333333333,
              "#9c179e"
             ],
             [
              0.4444444444444444,
              "#bd3786"
             ],
             [
              0.5555555555555556,
              "#d8576b"
             ],
             [
              0.6666666666666666,
              "#ed7953"
             ],
             [
              0.7777777777777778,
              "#fb9f3a"
             ],
             [
              0.8888888888888888,
              "#fdca26"
             ],
             [
              1,
              "#f0f921"
             ]
            ],
            "type": "heatmapgl"
           }
          ],
          "histogram": [
           {
            "marker": {
             "pattern": {
              "fillmode": "overlay",
              "size": 10,
              "solidity": 0.2
             }
            },
            "type": "histogram"
           }
          ],
          "histogram2d": [
           {
            "colorbar": {
             "outlinewidth": 0,
             "ticks": ""
            },
            "colorscale": [
             [
              0,
              "#0d0887"
             ],
             [
              0.1111111111111111,
              "#46039f"
             ],
             [
              0.2222222222222222,
              "#7201a8"
             ],
             [
              0.3333333333333333,
              "#9c179e"
             ],
             [
              0.4444444444444444,
              "#bd3786"
             ],
             [
              0.5555555555555556,
              "#d8576b"
             ],
             [
              0.6666666666666666,
              "#ed7953"
             ],
             [
              0.7777777777777778,
              "#fb9f3a"
             ],
             [
              0.8888888888888888,
              "#fdca26"
             ],
             [
              1,
              "#f0f921"
             ]
            ],
            "type": "histogram2d"
           }
          ],
          "histogram2dcontour": [
           {
            "colorbar": {
             "outlinewidth": 0,
             "ticks": ""
            },
            "colorscale": [
             [
              0,
              "#0d0887"
             ],
             [
              0.1111111111111111,
              "#46039f"
             ],
             [
              0.2222222222222222,
              "#7201a8"
             ],
             [
              0.3333333333333333,
              "#9c179e"
             ],
             [
              0.4444444444444444,
              "#bd3786"
             ],
             [
              0.5555555555555556,
              "#d8576b"
             ],
             [
              0.6666666666666666,
              "#ed7953"
             ],
             [
              0.7777777777777778,
              "#fb9f3a"
             ],
             [
              0.8888888888888888,
              "#fdca26"
             ],
             [
              1,
              "#f0f921"
             ]
            ],
            "type": "histogram2dcontour"
           }
          ],
          "mesh3d": [
           {
            "colorbar": {
             "outlinewidth": 0,
             "ticks": ""
            },
            "type": "mesh3d"
           }
          ],
          "parcoords": [
           {
            "line": {
             "colorbar": {
              "outlinewidth": 0,
              "ticks": ""
             }
            },
            "type": "parcoords"
           }
          ],
          "pie": [
           {
            "automargin": true,
            "type": "pie"
           }
          ],
          "scatter": [
           {
            "fillpattern": {
             "fillmode": "overlay",
             "size": 10,
             "solidity": 0.2
            },
            "type": "scatter"
           }
          ],
          "scatter3d": [
           {
            "line": {
             "colorbar": {
              "outlinewidth": 0,
              "ticks": ""
             }
            },
            "marker": {
             "colorbar": {
              "outlinewidth": 0,
              "ticks": ""
             }
            },
            "type": "scatter3d"
           }
          ],
          "scattercarpet": [
           {
            "marker": {
             "colorbar": {
              "outlinewidth": 0,
              "ticks": ""
             }
            },
            "type": "scattercarpet"
           }
          ],
          "scattergeo": [
           {
            "marker": {
             "colorbar": {
              "outlinewidth": 0,
              "ticks": ""
             }
            },
            "type": "scattergeo"
           }
          ],
          "scattergl": [
           {
            "marker": {
             "colorbar": {
              "outlinewidth": 0,
              "ticks": ""
             }
            },
            "type": "scattergl"
           }
          ],
          "scattermapbox": [
           {
            "marker": {
             "colorbar": {
              "outlinewidth": 0,
              "ticks": ""
             }
            },
            "type": "scattermapbox"
           }
          ],
          "scatterpolar": [
           {
            "marker": {
             "colorbar": {
              "outlinewidth": 0,
              "ticks": ""
             }
            },
            "type": "scatterpolar"
           }
          ],
          "scatterpolargl": [
           {
            "marker": {
             "colorbar": {
              "outlinewidth": 0,
              "ticks": ""
             }
            },
            "type": "scatterpolargl"
           }
          ],
          "scatterternary": [
           {
            "marker": {
             "colorbar": {
              "outlinewidth": 0,
              "ticks": ""
             }
            },
            "type": "scatterternary"
           }
          ],
          "surface": [
           {
            "colorbar": {
             "outlinewidth": 0,
             "ticks": ""
            },
            "colorscale": [
             [
              0,
              "#0d0887"
             ],
             [
              0.1111111111111111,
              "#46039f"
             ],
             [
              0.2222222222222222,
              "#7201a8"
             ],
             [
              0.3333333333333333,
              "#9c179e"
             ],
             [
              0.4444444444444444,
              "#bd3786"
             ],
             [
              0.5555555555555556,
              "#d8576b"
             ],
             [
              0.6666666666666666,
              "#ed7953"
             ],
             [
              0.7777777777777778,
              "#fb9f3a"
             ],
             [
              0.8888888888888888,
              "#fdca26"
             ],
             [
              1,
              "#f0f921"
             ]
            ],
            "type": "surface"
           }
          ],
          "table": [
           {
            "cells": {
             "fill": {
              "color": "#EBF0F8"
             },
             "line": {
              "color": "white"
             }
            },
            "header": {
             "fill": {
              "color": "#C8D4E3"
             },
             "line": {
              "color": "white"
             }
            },
            "type": "table"
           }
          ]
         },
         "layout": {
          "annotationdefaults": {
           "arrowcolor": "#2a3f5f",
           "arrowhead": 0,
           "arrowwidth": 1
          },
          "autotypenumbers": "strict",
          "coloraxis": {
           "colorbar": {
            "outlinewidth": 0,
            "ticks": ""
           }
          },
          "colorscale": {
           "diverging": [
            [
             0,
             "#8e0152"
            ],
            [
             0.1,
             "#c51b7d"
            ],
            [
             0.2,
             "#de77ae"
            ],
            [
             0.3,
             "#f1b6da"
            ],
            [
             0.4,
             "#fde0ef"
            ],
            [
             0.5,
             "#f7f7f7"
            ],
            [
             0.6,
             "#e6f5d0"
            ],
            [
             0.7,
             "#b8e186"
            ],
            [
             0.8,
             "#7fbc41"
            ],
            [
             0.9,
             "#4d9221"
            ],
            [
             1,
             "#276419"
            ]
           ],
           "sequential": [
            [
             0,
             "#0d0887"
            ],
            [
             0.1111111111111111,
             "#46039f"
            ],
            [
             0.2222222222222222,
             "#7201a8"
            ],
            [
             0.3333333333333333,
             "#9c179e"
            ],
            [
             0.4444444444444444,
             "#bd3786"
            ],
            [
             0.5555555555555556,
             "#d8576b"
            ],
            [
             0.6666666666666666,
             "#ed7953"
            ],
            [
             0.7777777777777778,
             "#fb9f3a"
            ],
            [
             0.8888888888888888,
             "#fdca26"
            ],
            [
             1,
             "#f0f921"
            ]
           ],
           "sequentialminus": [
            [
             0,
             "#0d0887"
            ],
            [
             0.1111111111111111,
             "#46039f"
            ],
            [
             0.2222222222222222,
             "#7201a8"
            ],
            [
             0.3333333333333333,
             "#9c179e"
            ],
            [
             0.4444444444444444,
             "#bd3786"
            ],
            [
             0.5555555555555556,
             "#d8576b"
            ],
            [
             0.6666666666666666,
             "#ed7953"
            ],
            [
             0.7777777777777778,
             "#fb9f3a"
            ],
            [
             0.8888888888888888,
             "#fdca26"
            ],
            [
             1,
             "#f0f921"
            ]
           ]
          },
          "colorway": [
           "#636efa",
           "#EF553B",
           "#00cc96",
           "#ab63fa",
           "#FFA15A",
           "#19d3f3",
           "#FF6692",
           "#B6E880",
           "#FF97FF",
           "#FECB52"
          ],
          "font": {
           "color": "#2a3f5f"
          },
          "geo": {
           "bgcolor": "white",
           "lakecolor": "white",
           "landcolor": "#E5ECF6",
           "showlakes": true,
           "showland": true,
           "subunitcolor": "white"
          },
          "hoverlabel": {
           "align": "left"
          },
          "hovermode": "closest",
          "mapbox": {
           "style": "light"
          },
          "paper_bgcolor": "white",
          "plot_bgcolor": "#E5ECF6",
          "polar": {
           "angularaxis": {
            "gridcolor": "white",
            "linecolor": "white",
            "ticks": ""
           },
           "bgcolor": "#E5ECF6",
           "radialaxis": {
            "gridcolor": "white",
            "linecolor": "white",
            "ticks": ""
           }
          },
          "scene": {
           "xaxis": {
            "backgroundcolor": "#E5ECF6",
            "gridcolor": "white",
            "gridwidth": 2,
            "linecolor": "white",
            "showbackground": true,
            "ticks": "",
            "zerolinecolor": "white"
           },
           "yaxis": {
            "backgroundcolor": "#E5ECF6",
            "gridcolor": "white",
            "gridwidth": 2,
            "linecolor": "white",
            "showbackground": true,
            "ticks": "",
            "zerolinecolor": "white"
           },
           "zaxis": {
            "backgroundcolor": "#E5ECF6",
            "gridcolor": "white",
            "gridwidth": 2,
            "linecolor": "white",
            "showbackground": true,
            "ticks": "",
            "zerolinecolor": "white"
           }
          },
          "shapedefaults": {
           "line": {
            "color": "#2a3f5f"
           }
          },
          "ternary": {
           "aaxis": {
            "gridcolor": "white",
            "linecolor": "white",
            "ticks": ""
           },
           "baxis": {
            "gridcolor": "white",
            "linecolor": "white",
            "ticks": ""
           },
           "bgcolor": "#E5ECF6",
           "caxis": {
            "gridcolor": "white",
            "linecolor": "white",
            "ticks": ""
           }
          },
          "title": {
           "x": 0.05
          },
          "xaxis": {
           "automargin": true,
           "gridcolor": "white",
           "linecolor": "white",
           "ticks": "",
           "title": {
            "standoff": 15
           },
           "zerolinecolor": "white",
           "zerolinewidth": 2
          },
          "yaxis": {
           "automargin": true,
           "gridcolor": "white",
           "linecolor": "white",
           "ticks": "",
           "title": {
            "standoff": 15
           },
           "zerolinecolor": "white",
           "zerolinewidth": 2
          }
         }
        },
        "title": {
         "text": "Single Well Average Percision Scores"
        },
        "xaxis": {
         "anchor": "y",
         "categoryarray": [
          "Apoptosis",
          "Control",
          "Pyroptosis"
         ],
         "categoryorder": "array",
         "domain": [
          0,
          1
         ],
         "title": {
          "text": "Cell Death Class"
         }
        },
        "yaxis": {
         "anchor": "x",
         "domain": [
          0,
          1
         ],
         "title": {
          "text": "Average Precision Scores"
         }
        }
       }
      }
     },
     "metadata": {},
     "output_type": "display_data"
    }
   ],
   "source": [
    "# Assuming all_cp_df, all_dp_df, and all_cp_dp_df are your DataFrames\n",
    "categories_order = all_df[\"Metadata_labels\"].unique()\n",
    "\n",
    "# Create individual figures with the same category order\n",
    "fig1 = px.box(\n",
    "    all_df,\n",
    "    x=\"Metadata_labels\",\n",
    "    y=\"average_precision\",\n",
    "    color=\"shuffled\",\n",
    "    title=\"Single Well Average Percision Scores\",\n",
    "    category_orders={\"Metadata_labels\": categories_order},\n",
    "    labels={\n",
    "        \"average_precision\": \"Average Precision Scores\",\n",
    "        \"Metadata_labels\": \"Cell Death Class\",\n",
    "    },\n",
    ")\n",
    "fig1"
   ]
  },
  {
   "cell_type": "code",
   "execution_count": 15,
   "metadata": {},
   "outputs": [
    {
     "data": {
      "text/plain": [
       "array(['Control_vs_Apoptosis'], dtype=object)"
      ]
     },
     "execution_count": 15,
     "metadata": {},
     "output_type": "execute_result"
    }
   ],
   "source": [
    "all_df[\"comparison\"].unique()"
   ]
  },
  {
   "cell_type": "code",
   "execution_count": null,
   "metadata": {},
   "outputs": [],
   "source": []
  }
 ],
 "metadata": {
  "interpreter": {
   "hash": "2a7bc4b693a428e685bdbc198b90c0fe2d737ece3fda25b7a5d0fc6f41082281"
  },
  "kernelspec": {
   "display_name": "Python 3.12.0 ('map')",
   "language": "python",
   "name": "python3"
  },
  "language_info": {
   "codemirror_mode": {
    "name": "ipython",
    "version": 3
   },
   "file_extension": ".py",
   "mimetype": "text/x-python",
   "name": "python",
   "nbconvert_exporter": "python",
   "pygments_lexer": "ipython3",
   "version": "3.12.2"
  }
 },
 "nbformat": 4,
 "nbformat_minor": 2
}
