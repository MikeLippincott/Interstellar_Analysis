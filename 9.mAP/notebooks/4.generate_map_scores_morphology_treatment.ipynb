{
    "cells": [
        {
            "cell_type": "code",
            "execution_count": 1,
            "metadata": {},
            "outputs": [],
            "source": [
                "import itertools\n",
                "import logging\n",
                "import pathlib\n",
                "import sys\n",
                "from typing import Optional\n",
                "\n",
                "import numpy as np\n",
                "import pandas as pd\n",
                "import toml\n",
                "from copairs.map import run_pipeline\n",
                "from pycytominer import feature_select\n",
                "\n",
                "# imports src\n",
                "sys.path.append(\"../\")\n",
                "from src import utils\n",
                "\n",
                "# setting up logger\n",
                "logging.basicConfig(\n",
                "    filename=\"map_analysis_testing.log\",\n",
                "    level=logging.DEBUG,\n",
                "    format=\"%(levelname)s:%(asctime)s:%(name)s:%(message)s\",\n",
                ")"
            ]
        },
        {
            "cell_type": "markdown",
            "metadata": {},
            "source": [
                "## Helper functions\n",
                "Set of helper functions to help out throughout the notebook"
            ]
        },
        {
            "cell_type": "code",
            "execution_count": 2,
            "metadata": {},
            "outputs": [],
            "source": [
                "## Helper function\n",
                "\n",
                "\n",
                "def shuffle_meta_labels(\n",
                "    dataset: pd.DataFrame, target_col: str, seed: Optional[int] = 0\n",
                ") -> pd.DataFrame:\n",
                "    \"\"\"shuffles labels or values within a single selected column\n",
                "\n",
                "    Parameters\n",
                "    ----------\n",
                "    dataset : pd.DataFrame\n",
                "        dataframe containing the dataset\n",
                "\n",
                "    target_col : str\n",
                "        Column to select in order to conduct the shuffling\n",
                "\n",
                "    seed : int\n",
                "        setting random seed\n",
                "\n",
                "    Returns\n",
                "    -------\n",
                "    pd.DataFrame\n",
                "        shuffled dataset\n",
                "\n",
                "    Raises\n",
                "    ------\n",
                "    TypeError\n",
                "        raised if incorrect types are provided\n",
                "    \"\"\"\n",
                "    # setting seed\n",
                "    np.random.seed(seed)\n",
                "\n",
                "    # type checking\n",
                "    if not isinstance(target_col, str):\n",
                "        raise TypeError(\"'target_col' must be a string type\")\n",
                "    if not isinstance(dataset, pd.DataFrame):\n",
                "        raise TypeError(\"'dataset' must be a pandas dataframe\")\n",
                "\n",
                "    # selecting column, shuffle values within column, add to dataframe\n",
                "    # dataset[target_col] = np.random.permutation(dataset[target_col].values)\n",
                "    for column in dataset.columns:\n",
                "        if column == target_col:\n",
                "            np.random.shuffle(dataset[column].values)\n",
                "    return dataset\n",
                "\n",
                "\n",
                "def shuffle_features(feature_vals: np.array, seed: Optional[int] = 0) -> np.array:\n",
                "    \"\"\"suffles all values within feature space\n",
                "\n",
                "    Parameters\n",
                "    ----------\n",
                "    feature_vals : np.array\n",
                "        shuffled\n",
                "\n",
                "    seed : Optional[int]\n",
                "        setting random seed\n",
                "\n",
                "    Returns\n",
                "    -------\n",
                "    np.array\n",
                "        Returns shuffled values within the feature space\n",
                "\n",
                "    Raises\n",
                "    ------\n",
                "    TypeError\n",
                "        Raised if a numpy array is not provided\n",
                "    \"\"\"\n",
                "    # setting seed\n",
                "    np.random.seed(seed)\n",
                "\n",
                "    # shuffle given array\n",
                "    if not isinstance(feature_vals, np.ndarray):\n",
                "        raise TypeError(\"'feature_vals' must be a numpy array\")\n",
                "    if feature_vals.ndim != 2:\n",
                "        raise TypeError(\"'feature_vals' must be a 2x2 matrix\")\n",
                "\n",
                "    # creating a copy for feature vales to prevent overwriting of global variables\n",
                "    feature_vals = np.copy(feature_vals)\n",
                "\n",
                "    # shuffling feature space\n",
                "    n_cols = feature_vals.shape[1]\n",
                "    for col_idx in range(0, n_cols):\n",
                "        # selecting column, shuffle, and update:\n",
                "        feature_vals[:, col_idx] = np.random.permutation(feature_vals[:, col_idx])\n",
                "\n",
                "    return feature_vals"
            ]
        },
        {
            "cell_type": "markdown",
            "metadata": {},
            "source": [
                "## Setting up Paths and loading data"
            ]
        },
        {
            "cell_type": "code",
            "execution_count": 3,
            "metadata": {},
            "outputs": [],
            "source": [
                "# load in the treatment groups\n",
                "ground_truth = pathlib.Path(\n",
                "    \"../../4.sc_Morphology_Neural_Network_MLP_Model/MLP_utils/ground_truth.toml\"\n",
                ").resolve(strict=True)\n",
                "# load in the ground truth\n",
                "ground_truth = toml.load(ground_truth)\n",
                "apoptosis_ground_truth = ground_truth[\"Apoptosis\"][\"apoptosis_groups_list\"]\n",
                "pyroptosis_ground_truth = ground_truth[\"Pyroptosis\"][\"pyroptosis_groups_list\"]\n",
                "control_ground_truth = ground_truth[\"Healthy\"][\"healthy_groups_list\"]"
            ]
        },
        {
            "cell_type": "code",
            "execution_count": 4,
            "metadata": {},
            "outputs": [],
            "source": [
                "single_cell_data = pathlib.Path(\n",
                "    f\"../../data/PBMC_preprocessed_sc_norm_aggregated.parquet\"\n",
                ").resolve(strict=True)\n",
                "df = pd.read_parquet(single_cell_data)"
            ]
        },
        {
            "cell_type": "code",
            "execution_count": 5,
            "metadata": {},
            "outputs": [],
            "source": [
                "# out paths\n",
                "map_out_dir = pathlib.Path(\"../data/processed/mAP_scores/morphology/\")\n",
                "map_out_dir.mkdir(exist_ok=True, parents=True)\n",
                "\n",
                "# regular data output\n",
                "# saving to csv\n",
                "regular_feat_map_path = pathlib.Path(map_out_dir / \"mAP_scores_regular_treatment.csv\")\n",
                "\n",
                "# shuffled data output\n",
                "shuffled_feat_map_path = pathlib.Path(\n",
                "    map_out_dir / \"mAP_scores_shuffled_class_treatment.csv\"\n",
                ")\n",
                "\n",
                "# shuffled feature space output\n",
                "shuffled_feat_space_map_path = pathlib.Path(\n",
                "    map_out_dir / \"mAP_scores_shuffled_feature_space_treatment.csv\"\n",
                ")"
            ]
        },
        {
            "cell_type": "markdown",
            "metadata": {},
            "source": [
                "### Clean up data"
            ]
        },
        {
            "cell_type": "code",
            "execution_count": 6,
            "metadata": {},
            "outputs": [],
            "source": [
                "df[\"oneb_Metadata_Treatment_Dose_Inhibitor_Dose\"].unique()\n",
                "# replace values in the oneb_Metadata_Treatment_Dose_Inhibitor_Dose column\n",
                "df[\"oneb_Metadata_Treatment_Dose_Inhibitor_Dose\"] = df[\n",
                "    \"oneb_Metadata_Treatment_Dose_Inhibitor_Dose\"\n",
                "].replace(\n",
                "    \"Flagellin_0.100_ug_per_ml_DMSO_0.000_%\", \"Flagellin_0.100_ug_per_ml_DMSO_0.025_%\"\n",
                ")\n",
                "df[\"oneb_Metadata_Treatment_Dose_Inhibitor_Dose\"] = df[\n",
                "    \"oneb_Metadata_Treatment_Dose_Inhibitor_Dose\"\n",
                "].replace(\"Flagellin_1.000_0_DMSO_0.025_%\", \"Flagellin_1.000_ug_per_ml_DMSO_0.025_%\")\n",
                "df[\"oneb_Metadata_Treatment_Dose_Inhibitor_Dose\"] = df[\n",
                "    \"oneb_Metadata_Treatment_Dose_Inhibitor_Dose\"\n",
                "].replace(\n",
                "    \"Flagellin_1.000_ug_per_ml_DMSO_0.000_%\", \"Flagellin_1.000_ug_per_ml_DMSO_0.025_%\"\n",
                ")\n",
                "df[\"oneb_Metadata_Treatment_Dose_Inhibitor_Dose\"] = df[\n",
                "    \"oneb_Metadata_Treatment_Dose_Inhibitor_Dose\"\n",
                "].replace(\"media_ctr_0.0_0_Media_0_0\", \"Media\")\n",
                "df[\"oneb_Metadata_Treatment_Dose_Inhibitor_Dose\"] = df[\n",
                "    \"oneb_Metadata_Treatment_Dose_Inhibitor_Dose\"\n",
                "].replace(\"media_ctr_0.0_0_Media_ctr_0.0_0\", \"Media\")\n",
                "df[\"oneb_Metadata_Treatment_Dose_Inhibitor_Dose\"] = df[\n",
                "    \"oneb_Metadata_Treatment_Dose_Inhibitor_Dose\"\n",
                "].replace(\n",
                "    \"Flagellin_1.000_0_Disulfiram_1.000_uM\",\n",
                "    \"Flagellin_1.000_ug_per_ml_Disulfiram_1.000_uM\",\n",
                ")\n",
                "len(df[\"oneb_Metadata_Treatment_Dose_Inhibitor_Dose\"].unique())\n",
                "# add apoptosis, pyroptosis and healthy columns to dataframe\n",
                "df[\"Apoptosis\"] = df.apply(\n",
                "    lambda row: row[\"oneb_Metadata_Treatment_Dose_Inhibitor_Dose\"]\n",
                "    in apoptosis_ground_truth,\n",
                "    axis=1,\n",
                ")\n",
                "df[\"Pyroptosis\"] = df.apply(\n",
                "    lambda row: row[\"oneb_Metadata_Treatment_Dose_Inhibitor_Dose\"]\n",
                "    in pyroptosis_ground_truth,\n",
                "    axis=1,\n",
                ")\n",
                "df[\"Control\"] = df.apply(\n",
                "    lambda row: row[\"oneb_Metadata_Treatment_Dose_Inhibitor_Dose\"]\n",
                "    in control_ground_truth,\n",
                "    axis=1,\n",
                ")\n",
                "\n",
                "# merge apoptosis, pyroptosis, and healthy columns into one column\n",
                "df[\"Metadata_labels\"] = df.apply(\n",
                "    lambda row: \"Apoptosis\"\n",
                "    if row[\"Apoptosis\"]\n",
                "    else \"Pyroptosis\"\n",
                "    if row[\"Pyroptosis\"]\n",
                "    else \"Control\",\n",
                "    axis=1,\n",
                ")\n",
                "\n",
                "# # drop apoptosis, pyroptosis, and healthy columns\n",
                "df.drop(columns=[\"Apoptosis\", \"Pyroptosis\", \"Control\"], inplace=True)"
            ]
        },
        {
            "cell_type": "code",
            "execution_count": 7,
            "metadata": {},
            "outputs": [],
            "source": [
                "# output directories\n",
                "map_out_dir = pathlib.Path(\"../data/processed/mAP_scores/\")\n",
                "map_out_dir.mkdir(parents=True, exist_ok=True)"
            ]
        },
        {
            "cell_type": "markdown",
            "metadata": {},
            "source": [
                "## Define the control df"
            ]
        },
        {
            "cell_type": "code",
            "execution_count": 8,
            "metadata": {},
            "outputs": [
                {
                    "data": {
                        "text/html": [
                            "<div>\n",
                            "<style scoped>\n",
                            "    .dataframe tbody tr th:only-of-type {\n",
                            "        vertical-align: middle;\n",
                            "    }\n",
                            "\n",
                            "    .dataframe tbody tr th {\n",
                            "        vertical-align: top;\n",
                            "    }\n",
                            "\n",
                            "    .dataframe thead th {\n",
                            "        text-align: right;\n",
                            "    }\n",
                            "</style>\n",
                            "<table border=\"1\" class=\"dataframe\">\n",
                            "  <thead>\n",
                            "    <tr style=\"text-align: right;\">\n",
                            "      <th></th>\n",
                            "      <th>Metadata_Well</th>\n",
                            "      <th>oneb_Metadata_Treatment_Dose_Inhibitor_Dose</th>\n",
                            "      <th>Cytoplasm_AreaShape_Compactness</th>\n",
                            "      <th>Cytoplasm_AreaShape_FormFactor</th>\n",
                            "      <th>Cytoplasm_AreaShape_MajorAxisLength</th>\n",
                            "      <th>Cytoplasm_AreaShape_MinorAxisLength</th>\n",
                            "      <th>Cytoplasm_AreaShape_Orientation</th>\n",
                            "      <th>Cytoplasm_AreaShape_Zernike_0_0</th>\n",
                            "      <th>Cytoplasm_AreaShape_Zernike_1_1</th>\n",
                            "      <th>Cytoplasm_AreaShape_Zernike_2_0</th>\n",
                            "      <th>...</th>\n",
                            "      <th>Nuclei_Texture_InverseDifferenceMoment_CorrMito_3_02_256</th>\n",
                            "      <th>Nuclei_Texture_InverseDifferenceMoment_CorrPM_3_00_256</th>\n",
                            "      <th>Nuclei_Texture_InverseDifferenceMoment_CorrPM_3_01_256</th>\n",
                            "      <th>Nuclei_Texture_InverseDifferenceMoment_CorrPM_3_02_256</th>\n",
                            "      <th>Nuclei_Texture_InverseDifferenceMoment_CorrPM_3_03_256</th>\n",
                            "      <th>Nuclei_Texture_SumEntropy_CorrPM_3_01_256</th>\n",
                            "      <th>Nuclei_Texture_SumVariance_CorrPM_3_01_256</th>\n",
                            "      <th>Nuclei_Texture_Variance_CorrER_3_00_256</th>\n",
                            "      <th>Nuclei_Texture_Variance_CorrGasdermin_3_00_256</th>\n",
                            "      <th>Metadata_labels</th>\n",
                            "    </tr>\n",
                            "  </thead>\n",
                            "  <tbody>\n",
                            "    <tr>\n",
                            "      <th>4</th>\n",
                            "      <td>B06</td>\n",
                            "      <td>DMSO_0.100_%_DMSO_0.025_%</td>\n",
                            "      <td>0.022371</td>\n",
                            "      <td>-0.022614</td>\n",
                            "      <td>-0.039573</td>\n",
                            "      <td>-0.049300</td>\n",
                            "      <td>-0.013386</td>\n",
                            "      <td>-0.035579</td>\n",
                            "      <td>-0.026341</td>\n",
                            "      <td>-0.034624</td>\n",
                            "      <td>...</td>\n",
                            "      <td>0.279401</td>\n",
                            "      <td>0.037046</td>\n",
                            "      <td>0.029486</td>\n",
                            "      <td>0.030131</td>\n",
                            "      <td>0.033986</td>\n",
                            "      <td>-0.032881</td>\n",
                            "      <td>-0.010667</td>\n",
                            "      <td>-0.027280</td>\n",
                            "      <td>-0.026652</td>\n",
                            "      <td>Control</td>\n",
                            "    </tr>\n",
                            "    <tr>\n",
                            "      <th>5</th>\n",
                            "      <td>B07</td>\n",
                            "      <td>DMSO_0.100_%_DMSO_0.025_%</td>\n",
                            "      <td>-0.071753</td>\n",
                            "      <td>0.049418</td>\n",
                            "      <td>-0.080162</td>\n",
                            "      <td>-0.110935</td>\n",
                            "      <td>0.009102</td>\n",
                            "      <td>0.018723</td>\n",
                            "      <td>0.007016</td>\n",
                            "      <td>0.008824</td>\n",
                            "      <td>...</td>\n",
                            "      <td>0.277094</td>\n",
                            "      <td>0.017233</td>\n",
                            "      <td>0.004765</td>\n",
                            "      <td>0.010718</td>\n",
                            "      <td>0.006667</td>\n",
                            "      <td>-0.009478</td>\n",
                            "      <td>-0.006287</td>\n",
                            "      <td>0.018806</td>\n",
                            "      <td>0.015570</td>\n",
                            "      <td>Control</td>\n",
                            "    </tr>\n",
                            "    <tr>\n",
                            "      <th>15</th>\n",
                            "      <td>C06</td>\n",
                            "      <td>DMSO_0.100_%_DMSO_0.025_%</td>\n",
                            "      <td>0.061913</td>\n",
                            "      <td>-0.047412</td>\n",
                            "      <td>0.052250</td>\n",
                            "      <td>0.083849</td>\n",
                            "      <td>0.024151</td>\n",
                            "      <td>-0.026974</td>\n",
                            "      <td>-0.013448</td>\n",
                            "      <td>-0.005720</td>\n",
                            "      <td>...</td>\n",
                            "      <td>-0.187934</td>\n",
                            "      <td>0.072288</td>\n",
                            "      <td>0.079789</td>\n",
                            "      <td>0.076412</td>\n",
                            "      <td>0.073141</td>\n",
                            "      <td>-0.072702</td>\n",
                            "      <td>-0.014018</td>\n",
                            "      <td>0.001092</td>\n",
                            "      <td>0.000683</td>\n",
                            "      <td>Control</td>\n",
                            "    </tr>\n",
                            "    <tr>\n",
                            "      <th>16</th>\n",
                            "      <td>C07</td>\n",
                            "      <td>DMSO_0.100_%_DMSO_0.025_%</td>\n",
                            "      <td>0.028173</td>\n",
                            "      <td>-0.028884</td>\n",
                            "      <td>0.053797</td>\n",
                            "      <td>0.075352</td>\n",
                            "      <td>0.009324</td>\n",
                            "      <td>0.011514</td>\n",
                            "      <td>0.018833</td>\n",
                            "      <td>-0.006253</td>\n",
                            "      <td>...</td>\n",
                            "      <td>-0.228085</td>\n",
                            "      <td>0.024026</td>\n",
                            "      <td>0.030745</td>\n",
                            "      <td>0.026034</td>\n",
                            "      <td>0.028530</td>\n",
                            "      <td>-0.034391</td>\n",
                            "      <td>-0.008046</td>\n",
                            "      <td>0.064628</td>\n",
                            "      <td>0.052708</td>\n",
                            "      <td>Control</td>\n",
                            "    </tr>\n",
                            "    <tr>\n",
                            "      <th>81</th>\n",
                            "      <td>I06</td>\n",
                            "      <td>DMSO_0.100_%_DMSO_0.025_%</td>\n",
                            "      <td>0.048882</td>\n",
                            "      <td>-0.014356</td>\n",
                            "      <td>0.110362</td>\n",
                            "      <td>0.115949</td>\n",
                            "      <td>-0.005469</td>\n",
                            "      <td>0.024033</td>\n",
                            "      <td>0.043835</td>\n",
                            "      <td>-0.037867</td>\n",
                            "      <td>...</td>\n",
                            "      <td>-0.128464</td>\n",
                            "      <td>-0.048425</td>\n",
                            "      <td>-0.046729</td>\n",
                            "      <td>-0.039706</td>\n",
                            "      <td>-0.038696</td>\n",
                            "      <td>0.052546</td>\n",
                            "      <td>0.000737</td>\n",
                            "      <td>-0.009176</td>\n",
                            "      <td>-0.005408</td>\n",
                            "      <td>Control</td>\n",
                            "    </tr>\n",
                            "    <tr>\n",
                            "      <th>82</th>\n",
                            "      <td>I07</td>\n",
                            "      <td>DMSO_0.100_%_DMSO_0.025_%</td>\n",
                            "      <td>-0.100867</td>\n",
                            "      <td>0.076349</td>\n",
                            "      <td>-0.117207</td>\n",
                            "      <td>-0.154152</td>\n",
                            "      <td>-0.011498</td>\n",
                            "      <td>0.024456</td>\n",
                            "      <td>-0.014095</td>\n",
                            "      <td>0.037949</td>\n",
                            "      <td>...</td>\n",
                            "      <td>-0.284433</td>\n",
                            "      <td>-0.076275</td>\n",
                            "      <td>-0.078142</td>\n",
                            "      <td>-0.072489</td>\n",
                            "      <td>-0.079030</td>\n",
                            "      <td>0.068629</td>\n",
                            "      <td>0.012430</td>\n",
                            "      <td>-0.035163</td>\n",
                            "      <td>-0.028315</td>\n",
                            "      <td>Control</td>\n",
                            "    </tr>\n",
                            "    <tr>\n",
                            "      <th>92</th>\n",
                            "      <td>J06</td>\n",
                            "      <td>DMSO_0.100_%_DMSO_0.025_%</td>\n",
                            "      <td>-0.012228</td>\n",
                            "      <td>-0.005155</td>\n",
                            "      <td>-0.048954</td>\n",
                            "      <td>-0.032680</td>\n",
                            "      <td>-0.012399</td>\n",
                            "      <td>-0.034741</td>\n",
                            "      <td>-0.046950</td>\n",
                            "      <td>0.054012</td>\n",
                            "      <td>...</td>\n",
                            "      <td>0.225380</td>\n",
                            "      <td>0.056218</td>\n",
                            "      <td>0.057351</td>\n",
                            "      <td>0.053801</td>\n",
                            "      <td>0.055496</td>\n",
                            "      <td>-0.061207</td>\n",
                            "      <td>0.003581</td>\n",
                            "      <td>-0.020050</td>\n",
                            "      <td>-0.017568</td>\n",
                            "      <td>Control</td>\n",
                            "    </tr>\n",
                            "    <tr>\n",
                            "      <th>93</th>\n",
                            "      <td>J07</td>\n",
                            "      <td>DMSO_0.100_%_DMSO_0.025_%</td>\n",
                            "      <td>-0.000175</td>\n",
                            "      <td>0.007426</td>\n",
                            "      <td>0.030708</td>\n",
                            "      <td>0.024561</td>\n",
                            "      <td>-0.001792</td>\n",
                            "      <td>0.018262</td>\n",
                            "      <td>0.021859</td>\n",
                            "      <td>-0.007972</td>\n",
                            "      <td>...</td>\n",
                            "      <td>0.020434</td>\n",
                            "      <td>-0.083589</td>\n",
                            "      <td>-0.080232</td>\n",
                            "      <td>-0.086812</td>\n",
                            "      <td>-0.083429</td>\n",
                            "      <td>0.089028</td>\n",
                            "      <td>0.021893</td>\n",
                            "      <td>0.000990</td>\n",
                            "      <td>0.003350</td>\n",
                            "      <td>Control</td>\n",
                            "    </tr>\n",
                            "  </tbody>\n",
                            "</table>\n",
                            "<p>8 rows \u00d7 1248 columns</p>\n",
                            "</div>"
                        ],
                        "text/plain": [
                            "   Metadata_Well oneb_Metadata_Treatment_Dose_Inhibitor_Dose  \\\n",
                            "4            B06                   DMSO_0.100_%_DMSO_0.025_%   \n",
                            "5            B07                   DMSO_0.100_%_DMSO_0.025_%   \n",
                            "15           C06                   DMSO_0.100_%_DMSO_0.025_%   \n",
                            "16           C07                   DMSO_0.100_%_DMSO_0.025_%   \n",
                            "81           I06                   DMSO_0.100_%_DMSO_0.025_%   \n",
                            "82           I07                   DMSO_0.100_%_DMSO_0.025_%   \n",
                            "92           J06                   DMSO_0.100_%_DMSO_0.025_%   \n",
                            "93           J07                   DMSO_0.100_%_DMSO_0.025_%   \n",
                            "\n",
                            "    Cytoplasm_AreaShape_Compactness  Cytoplasm_AreaShape_FormFactor  \\\n",
                            "4                          0.022371                       -0.022614   \n",
                            "5                         -0.071753                        0.049418   \n",
                            "15                         0.061913                       -0.047412   \n",
                            "16                         0.028173                       -0.028884   \n",
                            "81                         0.048882                       -0.014356   \n",
                            "82                        -0.100867                        0.076349   \n",
                            "92                        -0.012228                       -0.005155   \n",
                            "93                        -0.000175                        0.007426   \n",
                            "\n",
                            "    Cytoplasm_AreaShape_MajorAxisLength  Cytoplasm_AreaShape_MinorAxisLength  \\\n",
                            "4                             -0.039573                            -0.049300   \n",
                            "5                             -0.080162                            -0.110935   \n",
                            "15                             0.052250                             0.083849   \n",
                            "16                             0.053797                             0.075352   \n",
                            "81                             0.110362                             0.115949   \n",
                            "82                            -0.117207                            -0.154152   \n",
                            "92                            -0.048954                            -0.032680   \n",
                            "93                             0.030708                             0.024561   \n",
                            "\n",
                            "    Cytoplasm_AreaShape_Orientation  Cytoplasm_AreaShape_Zernike_0_0  \\\n",
                            "4                         -0.013386                        -0.035579   \n",
                            "5                          0.009102                         0.018723   \n",
                            "15                         0.024151                        -0.026974   \n",
                            "16                         0.009324                         0.011514   \n",
                            "81                        -0.005469                         0.024033   \n",
                            "82                        -0.011498                         0.024456   \n",
                            "92                        -0.012399                        -0.034741   \n",
                            "93                        -0.001792                         0.018262   \n",
                            "\n",
                            "    Cytoplasm_AreaShape_Zernike_1_1  Cytoplasm_AreaShape_Zernike_2_0  ...  \\\n",
                            "4                         -0.026341                        -0.034624  ...   \n",
                            "5                          0.007016                         0.008824  ...   \n",
                            "15                        -0.013448                        -0.005720  ...   \n",
                            "16                         0.018833                        -0.006253  ...   \n",
                            "81                         0.043835                        -0.037867  ...   \n",
                            "82                        -0.014095                         0.037949  ...   \n",
                            "92                        -0.046950                         0.054012  ...   \n",
                            "93                         0.021859                        -0.007972  ...   \n",
                            "\n",
                            "    Nuclei_Texture_InverseDifferenceMoment_CorrMito_3_02_256  \\\n",
                            "4                                            0.279401          \n",
                            "5                                            0.277094          \n",
                            "15                                          -0.187934          \n",
                            "16                                          -0.228085          \n",
                            "81                                          -0.128464          \n",
                            "82                                          -0.284433          \n",
                            "92                                           0.225380          \n",
                            "93                                           0.020434          \n",
                            "\n",
                            "    Nuclei_Texture_InverseDifferenceMoment_CorrPM_3_00_256  \\\n",
                            "4                                            0.037046        \n",
                            "5                                            0.017233        \n",
                            "15                                           0.072288        \n",
                            "16                                           0.024026        \n",
                            "81                                          -0.048425        \n",
                            "82                                          -0.076275        \n",
                            "92                                           0.056218        \n",
                            "93                                          -0.083589        \n",
                            "\n",
                            "    Nuclei_Texture_InverseDifferenceMoment_CorrPM_3_01_256  \\\n",
                            "4                                            0.029486        \n",
                            "5                                            0.004765        \n",
                            "15                                           0.079789        \n",
                            "16                                           0.030745        \n",
                            "81                                          -0.046729        \n",
                            "82                                          -0.078142        \n",
                            "92                                           0.057351        \n",
                            "93                                          -0.080232        \n",
                            "\n",
                            "    Nuclei_Texture_InverseDifferenceMoment_CorrPM_3_02_256  \\\n",
                            "4                                            0.030131        \n",
                            "5                                            0.010718        \n",
                            "15                                           0.076412        \n",
                            "16                                           0.026034        \n",
                            "81                                          -0.039706        \n",
                            "82                                          -0.072489        \n",
                            "92                                           0.053801        \n",
                            "93                                          -0.086812        \n",
                            "\n",
                            "    Nuclei_Texture_InverseDifferenceMoment_CorrPM_3_03_256  \\\n",
                            "4                                            0.033986        \n",
                            "5                                            0.006667        \n",
                            "15                                           0.073141        \n",
                            "16                                           0.028530        \n",
                            "81                                          -0.038696        \n",
                            "82                                          -0.079030        \n",
                            "92                                           0.055496        \n",
                            "93                                          -0.083429        \n",
                            "\n",
                            "    Nuclei_Texture_SumEntropy_CorrPM_3_01_256  \\\n",
                            "4                                   -0.032881   \n",
                            "5                                   -0.009478   \n",
                            "15                                  -0.072702   \n",
                            "16                                  -0.034391   \n",
                            "81                                   0.052546   \n",
                            "82                                   0.068629   \n",
                            "92                                  -0.061207   \n",
                            "93                                   0.089028   \n",
                            "\n",
                            "    Nuclei_Texture_SumVariance_CorrPM_3_01_256  \\\n",
                            "4                                    -0.010667   \n",
                            "5                                    -0.006287   \n",
                            "15                                   -0.014018   \n",
                            "16                                   -0.008046   \n",
                            "81                                    0.000737   \n",
                            "82                                    0.012430   \n",
                            "92                                    0.003581   \n",
                            "93                                    0.021893   \n",
                            "\n",
                            "    Nuclei_Texture_Variance_CorrER_3_00_256  \\\n",
                            "4                                 -0.027280   \n",
                            "5                                  0.018806   \n",
                            "15                                 0.001092   \n",
                            "16                                 0.064628   \n",
                            "81                                -0.009176   \n",
                            "82                                -0.035163   \n",
                            "92                                -0.020050   \n",
                            "93                                 0.000990   \n",
                            "\n",
                            "    Nuclei_Texture_Variance_CorrGasdermin_3_00_256  Metadata_labels  \n",
                            "4                                        -0.026652          Control  \n",
                            "5                                         0.015570          Control  \n",
                            "15                                        0.000683          Control  \n",
                            "16                                        0.052708          Control  \n",
                            "81                                       -0.005408          Control  \n",
                            "82                                       -0.028315          Control  \n",
                            "92                                       -0.017568          Control  \n",
                            "93                                        0.003350          Control  \n",
                            "\n",
                            "[8 rows x 1248 columns]"
                        ]
                    },
                    "execution_count": 8,
                    "metadata": {},
                    "output_type": "execute_result"
                }
            ],
            "source": [
                "control_df = df[\n",
                "    df[\"oneb_Metadata_Treatment_Dose_Inhibitor_Dose\"] == \"DMSO_0.100_%_DMSO_0.025_%\"\n",
                "]\n",
                "control_df"
            ]
        },
        {
            "cell_type": "markdown",
            "metadata": {},
            "source": [
                "### mAP Pipeline Parameters"
            ]
        },
        {
            "cell_type": "markdown",
            "metadata": {},
            "source": [
                "The null size needs to be determined for the mAP pipeline. This is the size of the null class that is used to determine the mAP score."
            ]
        },
        {
            "cell_type": "code",
            "execution_count": 9,
            "metadata": {},
            "outputs": [
                {
                    "name": "stdout",
                    "output_type": "stream",
                    "text": [
                        "4\n"
                    ]
                }
            ],
            "source": [
                "tmp = (\n",
                "    df.groupby([\"oneb_Metadata_Treatment_Dose_Inhibitor_Dose\"])\n",
                "    .count()\n",
                "    .reset_index()[[\"Metadata_Well\", \"oneb_Metadata_Treatment_Dose_Inhibitor_Dose\"]]\n",
                ")\n",
                "# get the counts of each oneb_Metadata_Treatment_Dose_Inhibitor_Dose\n",
                "min_count = tmp[\"Metadata_Well\"].min()\n",
                "print(min_count)"
            ]
        },
        {
            "cell_type": "markdown",
            "metadata": {},
            "source": [
                "Positive pairs: profiles in the same group\n",
                "Negative pairs: profiles in different groups\n",
                "\n",
                "\n",
                "pos_sameby = Treatment group: All profiles that have the same treatment group\n",
                "pos_diffby = Treatment replicates: In this case - wells\n",
                "\n"
            ]
        },
        {
            "cell_type": "code",
            "execution_count": 10,
            "metadata": {},
            "outputs": [],
            "source": [
                "pos_sameby = [\"oneb_Metadata_Treatment_Dose_Inhibitor_Dose\"]\n",
                "pos_diffby = [\"Metadata_Well\"]\n",
                "\n",
                "neg_sameby = []\n",
                "neg_diffby = [\"oneb_Metadata_Treatment_Dose_Inhibitor_Dose\"]\n",
                "\n",
                "# null_size = min_count\n",
                "null_size = 100000\n",
                "batch_size = 1"
            ]
        },
        {
            "cell_type": "markdown",
            "metadata": {},
            "source": [
                "### mAP analysis for non-shuffled data"
            ]
        },
        {
            "cell_type": "markdown",
            "metadata": {},
            "source": [
                "Loop through the data and determine the mAP score for each treatment in a class compared to a whole other class\n",
                "Ex. Pyroptosis treatment 1 (LPS 1.0 ug/mL) vs. All Apoptosis treatments  \n",
                "Ex. Pyroptosis treatment 1 (LPS 1.0 ug/mL) vs. All Control treatments"
            ]
        },
        {
            "cell_type": "code",
            "execution_count": 11,
            "metadata": {},
            "outputs": [],
            "source": [
                "results_df = pd.DataFrame(\n",
                "    columns=[\n",
                "        \"Metadata_Well\",\n",
                "        \"Metadata_labels\",\n",
                "        \"average_precision\",\n",
                "        \"p_value\",\n",
                "        \"n_pos_pairs\",\n",
                "        \"n_total_pairs\",\n",
                "        \"shuffled\",\n",
                "        \"comparison\",\n",
                "    ]\n",
                ")"
            ]
        },
        {
            "cell_type": "code",
            "execution_count": 12,
            "metadata": {},
            "outputs": [],
            "source": [
                "# remove the control group from the dataframe\n",
                "df = df[\n",
                "    df[\"oneb_Metadata_Treatment_Dose_Inhibitor_Dose\"] != \"DMSO_0.100_%_DMSO_0.025_%\"\n",
                "]"
            ]
        },
        {
            "cell_type": "code",
            "execution_count": 13,
            "metadata": {},
            "outputs": [
                {
                    "name": "stdout",
                    "output_type": "stream",
                    "text": [
                        "['LPS_0.010_ug_per_ml_DMSO_0.025_%' 'DMSO_0.100_%_DMSO_0.025_%']\n"
                    ]
                },
                {
                    "data": {
                        "application/vnd.jupyter.widget-view+json": {
                            "model_id": "b529e63bba234bbdb52f246542d8a9c4",
                            "version_major": 2,
                            "version_minor": 0
                        },
                        "text/plain": [
                            "  0%|          | 0/34 [00:00<?, ?it/s]"
                        ]
                    },
                    "metadata": {},
                    "output_type": "display_data"
                },
                {
                    "data": {
                        "application/vnd.jupyter.widget-view+json": {
                            "model_id": "5d69b73033434cdaaf23c0abc8c79e73",
                            "version_major": 2,
                            "version_minor": 0
                        },
                        "text/plain": [
                            "  0%|          | 0/32 [00:00<?, ?it/s]"
                        ]
                    },
                    "metadata": {},
                    "output_type": "display_data"
                },
                {
                    "data": {
                        "application/vnd.jupyter.widget-view+json": {
                            "model_id": "7457712810194d8bb5c7527ee018d176",
                            "version_major": 2,
                            "version_minor": 0
                        },
                        "text/plain": [
                            "  0%|          | 0/2 [00:00<?, ?it/s]"
                        ]
                    },
                    "metadata": {},
                    "output_type": "display_data"
                },
                {
                    "name": "stdout",
                    "output_type": "stream",
                    "text": [
                        "['LPS_Nigericin_100.000_ug_per_ml_1.000_uM_DMSO_0.025_%'\n",
                        " 'DMSO_0.100_%_DMSO_0.025_%']\n"
                    ]
                },
                {
                    "name": "stderr",
                    "output_type": "stream",
                    "text": [
                        "/tmp/ipykernel_780873/3734974114.py:43: FutureWarning: The behavior of DataFrame concatenation with empty or all-NA entries is deprecated. In a future version, this will no longer exclude empty or all-NA columns when determining the result dtypes. To retain the old behavior, exclude the relevant entries before the concat operation.\n",
                        "  results_df = pd.concat([results_df, result], axis=0)\n"
                    ]
                },
                {
                    "data": {
                        "application/vnd.jupyter.widget-view+json": {
                            "model_id": "fbd042c90d1e4377bc05947b7de8248a",
                            "version_major": 2,
                            "version_minor": 0
                        },
                        "text/plain": [
                            "  0%|          | 0/34 [00:00<?, ?it/s]"
                        ]
                    },
                    "metadata": {},
                    "output_type": "display_data"
                },
                {
                    "data": {
                        "application/vnd.jupyter.widget-view+json": {
                            "model_id": "8c9b21b12d78419ca93d1fbef5c3515e",
                            "version_major": 2,
                            "version_minor": 0
                        },
                        "text/plain": [
                            "  0%|          | 0/32 [00:00<?, ?it/s]"
                        ]
                    },
                    "metadata": {},
                    "output_type": "display_data"
                },
                {
                    "data": {
                        "application/vnd.jupyter.widget-view+json": {
                            "model_id": "24aa7036bb354467a775fd57ecd7cecb",
                            "version_major": 2,
                            "version_minor": 0
                        },
                        "text/plain": [
                            "  0%|          | 0/2 [00:00<?, ?it/s]"
                        ]
                    },
                    "metadata": {},
                    "output_type": "display_data"
                },
                {
                    "name": "stdout",
                    "output_type": "stream",
                    "text": [
                        "['Media' 'DMSO_0.100_%_DMSO_0.025_%']\n"
                    ]
                },
                {
                    "data": {
                        "application/vnd.jupyter.widget-view+json": {
                            "model_id": "6b41002f82d84830b6bf4c7220cd589b",
                            "version_major": 2,
                            "version_minor": 0
                        },
                        "text/plain": [
                            "  0%|          | 0/43 [00:00<?, ?it/s]"
                        ]
                    },
                    "metadata": {},
                    "output_type": "display_data"
                },
                {
                    "data": {
                        "application/vnd.jupyter.widget-view+json": {
                            "model_id": "1cf9a4fbc1264caaa4670c1122a522f7",
                            "version_major": 2,
                            "version_minor": 0
                        },
                        "text/plain": [
                            "  0%|          | 0/48 [00:00<?, ?it/s]"
                        ]
                    },
                    "metadata": {},
                    "output_type": "display_data"
                },
                {
                    "data": {
                        "application/vnd.jupyter.widget-view+json": {
                            "model_id": "16abeac818df41489cf626308edabd33",
                            "version_major": 2,
                            "version_minor": 0
                        },
                        "text/plain": [
                            "  0%|          | 0/2 [00:00<?, ?it/s]"
                        ]
                    },
                    "metadata": {},
                    "output_type": "display_data"
                },
                {
                    "name": "stdout",
                    "output_type": "stream",
                    "text": [
                        "['LPS_0.100_ug_per_ml_DMSO_0.025_%' 'DMSO_0.100_%_DMSO_0.025_%']\n"
                    ]
                },
                {
                    "data": {
                        "application/vnd.jupyter.widget-view+json": {
                            "model_id": "a0e99321efc04d74bcb998e4e28c9fb7",
                            "version_major": 2,
                            "version_minor": 0
                        },
                        "text/plain": [
                            "  0%|          | 0/34 [00:00<?, ?it/s]"
                        ]
                    },
                    "metadata": {},
                    "output_type": "display_data"
                },
                {
                    "data": {
                        "application/vnd.jupyter.widget-view+json": {
                            "model_id": "f0ce16cc6ccf42eca77de2fea9628128",
                            "version_major": 2,
                            "version_minor": 0
                        },
                        "text/plain": [
                            "  0%|          | 0/32 [00:00<?, ?it/s]"
                        ]
                    },
                    "metadata": {},
                    "output_type": "display_data"
                },
                {
                    "data": {
                        "application/vnd.jupyter.widget-view+json": {
                            "model_id": "0051f36b03984dfcaad738918d6126c3",
                            "version_major": 2,
                            "version_minor": 0
                        },
                        "text/plain": [
                            "  0%|          | 0/2 [00:00<?, ?it/s]"
                        ]
                    },
                    "metadata": {},
                    "output_type": "display_data"
                },
                {
                    "name": "stdout",
                    "output_type": "stream",
                    "text": [
                        "['LPS_Nigericin_100.000_ug_per_ml_3.000_uM_DMSO_0.025_%'\n",
                        " 'DMSO_0.100_%_DMSO_0.025_%']\n"
                    ]
                },
                {
                    "data": {
                        "application/vnd.jupyter.widget-view+json": {
                            "model_id": "0b09fe0102934ad7bc9b7f6b7058a9cc",
                            "version_major": 2,
                            "version_minor": 0
                        },
                        "text/plain": [
                            "  0%|          | 0/34 [00:00<?, ?it/s]"
                        ]
                    },
                    "metadata": {},
                    "output_type": "display_data"
                },
                {
                    "data": {
                        "application/vnd.jupyter.widget-view+json": {
                            "model_id": "8b9ea083e67a4a06a257d54f12cef4ab",
                            "version_major": 2,
                            "version_minor": 0
                        },
                        "text/plain": [
                            "  0%|          | 0/32 [00:00<?, ?it/s]"
                        ]
                    },
                    "metadata": {},
                    "output_type": "display_data"
                },
                {
                    "data": {
                        "application/vnd.jupyter.widget-view+json": {
                            "model_id": "7050c330d4d94e9f908c82916cd52378",
                            "version_major": 2,
                            "version_minor": 0
                        },
                        "text/plain": [
                            "  0%|          | 0/2 [00:00<?, ?it/s]"
                        ]
                    },
                    "metadata": {},
                    "output_type": "display_data"
                },
                {
                    "name": "stdout",
                    "output_type": "stream",
                    "text": [
                        "['DMSO_0.100_%_DMSO_1.000_%' 'DMSO_0.100_%_DMSO_0.025_%']\n"
                    ]
                },
                {
                    "data": {
                        "application/vnd.jupyter.widget-view+json": {
                            "model_id": "b44cad12c2184d95b50c90611ac1a51d",
                            "version_major": 2,
                            "version_minor": 0
                        },
                        "text/plain": [
                            "  0%|          | 0/34 [00:00<?, ?it/s]"
                        ]
                    },
                    "metadata": {},
                    "output_type": "display_data"
                },
                {
                    "data": {
                        "application/vnd.jupyter.widget-view+json": {
                            "model_id": "a2cdc8d95fbc41e6923cd111f5ed1ccb",
                            "version_major": 2,
                            "version_minor": 0
                        },
                        "text/plain": [
                            "  0%|          | 0/32 [00:00<?, ?it/s]"
                        ]
                    },
                    "metadata": {},
                    "output_type": "display_data"
                },
                {
                    "data": {
                        "application/vnd.jupyter.widget-view+json": {
                            "model_id": "0e52430e2ccc43c29540f5ccb0d1ddae",
                            "version_major": 2,
                            "version_minor": 0
                        },
                        "text/plain": [
                            "  0%|          | 0/2 [00:00<?, ?it/s]"
                        ]
                    },
                    "metadata": {},
                    "output_type": "display_data"
                },
                {
                    "name": "stdout",
                    "output_type": "stream",
                    "text": [
                        "['LPS_1.000_ug_per_ml_DMSO_0.025_%' 'DMSO_0.100_%_DMSO_0.025_%']\n"
                    ]
                },
                {
                    "data": {
                        "application/vnd.jupyter.widget-view+json": {
                            "model_id": "9f383c45b7bd468ab977beea846b5982",
                            "version_major": 2,
                            "version_minor": 0
                        },
                        "text/plain": [
                            "  0%|          | 0/34 [00:00<?, ?it/s]"
                        ]
                    },
                    "metadata": {},
                    "output_type": "display_data"
                },
                {
                    "data": {
                        "application/vnd.jupyter.widget-view+json": {
                            "model_id": "63df939ce74b43f0bc97a33583675ffd",
                            "version_major": 2,
                            "version_minor": 0
                        },
                        "text/plain": [
                            "  0%|          | 0/32 [00:00<?, ?it/s]"
                        ]
                    },
                    "metadata": {},
                    "output_type": "display_data"
                },
                {
                    "data": {
                        "application/vnd.jupyter.widget-view+json": {
                            "model_id": "9ba4b7ae9bfd4446bd7db94fd5587112",
                            "version_major": 2,
                            "version_minor": 0
                        },
                        "text/plain": [
                            "  0%|          | 0/2 [00:00<?, ?it/s]"
                        ]
                    },
                    "metadata": {},
                    "output_type": "display_data"
                },
                {
                    "name": "stdout",
                    "output_type": "stream",
                    "text": [
                        "['LPS_Nigericin_100.000_ug_per_ml_10.000_uM_DMSO_0.025_%'\n",
                        " 'DMSO_0.100_%_DMSO_0.025_%']\n"
                    ]
                },
                {
                    "data": {
                        "application/vnd.jupyter.widget-view+json": {
                            "model_id": "308e1da1325d496a8f2aed8784dcd0a3",
                            "version_major": 2,
                            "version_minor": 0
                        },
                        "text/plain": [
                            "  0%|          | 0/34 [00:00<?, ?it/s]"
                        ]
                    },
                    "metadata": {},
                    "output_type": "display_data"
                },
                {
                    "data": {
                        "application/vnd.jupyter.widget-view+json": {
                            "model_id": "928edc674afb41359533754c76a5fa00",
                            "version_major": 2,
                            "version_minor": 0
                        },
                        "text/plain": [
                            "  0%|          | 0/32 [00:00<?, ?it/s]"
                        ]
                    },
                    "metadata": {},
                    "output_type": "display_data"
                },
                {
                    "data": {
                        "application/vnd.jupyter.widget-view+json": {
                            "model_id": "866e50fc6f10409bbfd5cf71ad712fb8",
                            "version_major": 2,
                            "version_minor": 0
                        },
                        "text/plain": [
                            "  0%|          | 0/2 [00:00<?, ?it/s]"
                        ]
                    },
                    "metadata": {},
                    "output_type": "display_data"
                },
                {
                    "name": "stdout",
                    "output_type": "stream",
                    "text": [
                        "['Thapsigargin_1.000_uM_DMSO_0.025_%' 'DMSO_0.100_%_DMSO_0.025_%']\n"
                    ]
                },
                {
                    "data": {
                        "application/vnd.jupyter.widget-view+json": {
                            "model_id": "39037100d50749c786bb45d5339cf3ce",
                            "version_major": 2,
                            "version_minor": 0
                        },
                        "text/plain": [
                            "  0%|          | 0/34 [00:00<?, ?it/s]"
                        ]
                    },
                    "metadata": {},
                    "output_type": "display_data"
                },
                {
                    "data": {
                        "application/vnd.jupyter.widget-view+json": {
                            "model_id": "c1b85257b0e945ad944e332b23b81057",
                            "version_major": 2,
                            "version_minor": 0
                        },
                        "text/plain": [
                            "  0%|          | 0/32 [00:00<?, ?it/s]"
                        ]
                    },
                    "metadata": {},
                    "output_type": "display_data"
                },
                {
                    "data": {
                        "application/vnd.jupyter.widget-view+json": {
                            "model_id": "3ef3b68b595e4727a20d4f3d74f6e767",
                            "version_major": 2,
                            "version_minor": 0
                        },
                        "text/plain": [
                            "  0%|          | 0/2 [00:00<?, ?it/s]"
                        ]
                    },
                    "metadata": {},
                    "output_type": "display_data"
                },
                {
                    "name": "stdout",
                    "output_type": "stream",
                    "text": [
                        "['DMSO_0.100_%_Z-VAD-FMK_100.000_uM' 'DMSO_0.100_%_DMSO_0.025_%']\n"
                    ]
                },
                {
                    "data": {
                        "application/vnd.jupyter.widget-view+json": {
                            "model_id": "fd457a9709784ee8942392ff559d0cd1",
                            "version_major": 2,
                            "version_minor": 0
                        },
                        "text/plain": [
                            "  0%|          | 0/34 [00:00<?, ?it/s]"
                        ]
                    },
                    "metadata": {},
                    "output_type": "display_data"
                },
                {
                    "data": {
                        "application/vnd.jupyter.widget-view+json": {
                            "model_id": "1605b51b0a994e3aaad8f2aa0bb03a7d",
                            "version_major": 2,
                            "version_minor": 0
                        },
                        "text/plain": [
                            "  0%|          | 0/32 [00:00<?, ?it/s]"
                        ]
                    },
                    "metadata": {},
                    "output_type": "display_data"
                },
                {
                    "data": {
                        "application/vnd.jupyter.widget-view+json": {
                            "model_id": "6e3b303426714f898202c46d80e8ce78",
                            "version_major": 2,
                            "version_minor": 0
                        },
                        "text/plain": [
                            "  0%|          | 0/2 [00:00<?, ?it/s]"
                        ]
                    },
                    "metadata": {},
                    "output_type": "display_data"
                },
                {
                    "name": "stdout",
                    "output_type": "stream",
                    "text": [
                        "['LPS_10.000_ug_per_ml_DMSO_0.025_%' 'DMSO_0.100_%_DMSO_0.025_%']\n"
                    ]
                },
                {
                    "data": {
                        "application/vnd.jupyter.widget-view+json": {
                            "model_id": "d06479e3ccd44312b314922a802b7ae0",
                            "version_major": 2,
                            "version_minor": 0
                        },
                        "text/plain": [
                            "  0%|          | 0/34 [00:00<?, ?it/s]"
                        ]
                    },
                    "metadata": {},
                    "output_type": "display_data"
                },
                {
                    "data": {
                        "application/vnd.jupyter.widget-view+json": {
                            "model_id": "42e6cef607f0418eabf6cd6109364c8b",
                            "version_major": 2,
                            "version_minor": 0
                        },
                        "text/plain": [
                            "  0%|          | 0/32 [00:00<?, ?it/s]"
                        ]
                    },
                    "metadata": {},
                    "output_type": "display_data"
                },
                {
                    "data": {
                        "application/vnd.jupyter.widget-view+json": {
                            "model_id": "88cf75749caf408492dbc1f915ab7caa",
                            "version_major": 2,
                            "version_minor": 0
                        },
                        "text/plain": [
                            "  0%|          | 0/2 [00:00<?, ?it/s]"
                        ]
                    },
                    "metadata": {},
                    "output_type": "display_data"
                },
                {
                    "name": "stdout",
                    "output_type": "stream",
                    "text": [
                        "['Disulfiram_0.100_uM_DMSO_0.025_%' 'DMSO_0.100_%_DMSO_0.025_%']\n"
                    ]
                },
                {
                    "data": {
                        "application/vnd.jupyter.widget-view+json": {
                            "model_id": "6fe9c0e727444e2c9da960ccb45cf801",
                            "version_major": 2,
                            "version_minor": 0
                        },
                        "text/plain": [
                            "  0%|          | 0/34 [00:00<?, ?it/s]"
                        ]
                    },
                    "metadata": {},
                    "output_type": "display_data"
                },
                {
                    "data": {
                        "application/vnd.jupyter.widget-view+json": {
                            "model_id": "0c01e3f8378c4553908e8d8b876e16b1",
                            "version_major": 2,
                            "version_minor": 0
                        },
                        "text/plain": [
                            "  0%|          | 0/32 [00:00<?, ?it/s]"
                        ]
                    },
                    "metadata": {},
                    "output_type": "display_data"
                },
                {
                    "data": {
                        "application/vnd.jupyter.widget-view+json": {
                            "model_id": "acf54de9d282459ebd69570f7b628032",
                            "version_major": 2,
                            "version_minor": 0
                        },
                        "text/plain": [
                            "  0%|          | 0/2 [00:00<?, ?it/s]"
                        ]
                    },
                    "metadata": {},
                    "output_type": "display_data"
                },
                {
                    "name": "stdout",
                    "output_type": "stream",
                    "text": [
                        "['Thapsigargin_10.000_uM_DMSO_0.025_%' 'DMSO_0.100_%_DMSO_0.025_%']\n"
                    ]
                },
                {
                    "data": {
                        "application/vnd.jupyter.widget-view+json": {
                            "model_id": "dcb21851fb3444de8986203a5cf10690",
                            "version_major": 2,
                            "version_minor": 0
                        },
                        "text/plain": [
                            "  0%|          | 0/34 [00:00<?, ?it/s]"
                        ]
                    },
                    "metadata": {},
                    "output_type": "display_data"
                },
                {
                    "data": {
                        "application/vnd.jupyter.widget-view+json": {
                            "model_id": "6889ea79a9dc4762940aec386e6bf622",
                            "version_major": 2,
                            "version_minor": 0
                        },
                        "text/plain": [
                            "  0%|          | 0/32 [00:00<?, ?it/s]"
                        ]
                    },
                    "metadata": {},
                    "output_type": "display_data"
                },
                {
                    "data": {
                        "application/vnd.jupyter.widget-view+json": {
                            "model_id": "ddfa03cc1d7b4235ab65b101ac44a7e1",
                            "version_major": 2,
                            "version_minor": 0
                        },
                        "text/plain": [
                            "  0%|          | 0/2 [00:00<?, ?it/s]"
                        ]
                    },
                    "metadata": {},
                    "output_type": "display_data"
                },
                {
                    "name": "stdout",
                    "output_type": "stream",
                    "text": [
                        "['DMSO_0.100_%_Z-VAD-FMK_30.000_uM' 'DMSO_0.100_%_DMSO_0.025_%']\n"
                    ]
                },
                {
                    "data": {
                        "application/vnd.jupyter.widget-view+json": {
                            "model_id": "c41e2c44dbf2460c846f9cad8735b797",
                            "version_major": 2,
                            "version_minor": 0
                        },
                        "text/plain": [
                            "  0%|          | 0/34 [00:00<?, ?it/s]"
                        ]
                    },
                    "metadata": {},
                    "output_type": "display_data"
                },
                {
                    "data": {
                        "application/vnd.jupyter.widget-view+json": {
                            "model_id": "400bb54646b64978a60fe03403f7cb3a",
                            "version_major": 2,
                            "version_minor": 0
                        },
                        "text/plain": [
                            "  0%|          | 0/32 [00:00<?, ?it/s]"
                        ]
                    },
                    "metadata": {},
                    "output_type": "display_data"
                },
                {
                    "data": {
                        "application/vnd.jupyter.widget-view+json": {
                            "model_id": "b5f0af6cc26d4a66b24f2d3dd8ad38c0",
                            "version_major": 2,
                            "version_minor": 0
                        },
                        "text/plain": [
                            "  0%|          | 0/2 [00:00<?, ?it/s]"
                        ]
                    },
                    "metadata": {},
                    "output_type": "display_data"
                },
                {
                    "name": "stdout",
                    "output_type": "stream",
                    "text": [
                        "['LPS_10.000_ug_per_ml_Disulfiram_0.100_uM' 'DMSO_0.100_%_DMSO_0.025_%']\n"
                    ]
                },
                {
                    "data": {
                        "application/vnd.jupyter.widget-view+json": {
                            "model_id": "09363facc3cb4bdeb7d55ffeb66ab1b4",
                            "version_major": 2,
                            "version_minor": 0
                        },
                        "text/plain": [
                            "  0%|          | 0/34 [00:00<?, ?it/s]"
                        ]
                    },
                    "metadata": {},
                    "output_type": "display_data"
                },
                {
                    "data": {
                        "application/vnd.jupyter.widget-view+json": {
                            "model_id": "71b44cbad6954989834aab8c1d233dda",
                            "version_major": 2,
                            "version_minor": 0
                        },
                        "text/plain": [
                            "  0%|          | 0/32 [00:00<?, ?it/s]"
                        ]
                    },
                    "metadata": {},
                    "output_type": "display_data"
                },
                {
                    "data": {
                        "application/vnd.jupyter.widget-view+json": {
                            "model_id": "68b09c47f677453db8297c514743ea17",
                            "version_major": 2,
                            "version_minor": 0
                        },
                        "text/plain": [
                            "  0%|          | 0/2 [00:00<?, ?it/s]"
                        ]
                    },
                    "metadata": {},
                    "output_type": "display_data"
                },
                {
                    "name": "stdout",
                    "output_type": "stream",
                    "text": [
                        "['Disulfiram_1.000_uM_DMSO_0.025_%' 'DMSO_0.100_%_DMSO_0.025_%']\n"
                    ]
                },
                {
                    "data": {
                        "application/vnd.jupyter.widget-view+json": {
                            "model_id": "62bb9f9ee13a430883aeceb0066f55d8",
                            "version_major": 2,
                            "version_minor": 0
                        },
                        "text/plain": [
                            "  0%|          | 0/34 [00:00<?, ?it/s]"
                        ]
                    },
                    "metadata": {},
                    "output_type": "display_data"
                },
                {
                    "data": {
                        "application/vnd.jupyter.widget-view+json": {
                            "model_id": "ab533c5f5fcb499499193044189ed723",
                            "version_major": 2,
                            "version_minor": 0
                        },
                        "text/plain": [
                            "  0%|          | 0/32 [00:00<?, ?it/s]"
                        ]
                    },
                    "metadata": {},
                    "output_type": "display_data"
                },
                {
                    "data": {
                        "application/vnd.jupyter.widget-view+json": {
                            "model_id": "4ed193a3293e46718467135c4a35bdf8",
                            "version_major": 2,
                            "version_minor": 0
                        },
                        "text/plain": [
                            "  0%|          | 0/2 [00:00<?, ?it/s]"
                        ]
                    },
                    "metadata": {},
                    "output_type": "display_data"
                },
                {
                    "name": "stdout",
                    "output_type": "stream",
                    "text": [
                        "['Topotecan_5.000_nM_DMSO_0.025_%' 'DMSO_0.100_%_DMSO_0.025_%']\n"
                    ]
                },
                {
                    "data": {
                        "application/vnd.jupyter.widget-view+json": {
                            "model_id": "3c40e102da1c4506a14861252499f2da",
                            "version_major": 2,
                            "version_minor": 0
                        },
                        "text/plain": [
                            "  0%|          | 0/34 [00:00<?, ?it/s]"
                        ]
                    },
                    "metadata": {},
                    "output_type": "display_data"
                },
                {
                    "data": {
                        "application/vnd.jupyter.widget-view+json": {
                            "model_id": "dab4eb9afb24475393c8660d49a9e8ab",
                            "version_major": 2,
                            "version_minor": 0
                        },
                        "text/plain": [
                            "  0%|          | 0/32 [00:00<?, ?it/s]"
                        ]
                    },
                    "metadata": {},
                    "output_type": "display_data"
                },
                {
                    "data": {
                        "application/vnd.jupyter.widget-view+json": {
                            "model_id": "3d74aee264074df489dec71a601835de",
                            "version_major": 2,
                            "version_minor": 0
                        },
                        "text/plain": [
                            "  0%|          | 0/2 [00:00<?, ?it/s]"
                        ]
                    },
                    "metadata": {},
                    "output_type": "display_data"
                },
                {
                    "name": "stdout",
                    "output_type": "stream",
                    "text": [
                        "['LPS_10.000_ug_per_ml_Disulfiram_1.000_uM' 'DMSO_0.100_%_DMSO_0.025_%']\n"
                    ]
                },
                {
                    "data": {
                        "application/vnd.jupyter.widget-view+json": {
                            "model_id": "97f888ee201b4d299757c89c3288ba2a",
                            "version_major": 2,
                            "version_minor": 0
                        },
                        "text/plain": [
                            "  0%|          | 0/34 [00:00<?, ?it/s]"
                        ]
                    },
                    "metadata": {},
                    "output_type": "display_data"
                },
                {
                    "data": {
                        "application/vnd.jupyter.widget-view+json": {
                            "model_id": "045dd04bdfb8407ea549bcf650eb9e3e",
                            "version_major": 2,
                            "version_minor": 0
                        },
                        "text/plain": [
                            "  0%|          | 0/32 [00:00<?, ?it/s]"
                        ]
                    },
                    "metadata": {},
                    "output_type": "display_data"
                },
                {
                    "data": {
                        "application/vnd.jupyter.widget-view+json": {
                            "model_id": "a7b0c2c9179748d08e043dd8806db4d3",
                            "version_major": 2,
                            "version_minor": 0
                        },
                        "text/plain": [
                            "  0%|          | 0/2 [00:00<?, ?it/s]"
                        ]
                    },
                    "metadata": {},
                    "output_type": "display_data"
                },
                {
                    "name": "stdout",
                    "output_type": "stream",
                    "text": [
                        "['Disulfiram_2.500_uM_DMSO_0.025_%' 'DMSO_0.100_%_DMSO_0.025_%']\n"
                    ]
                },
                {
                    "data": {
                        "application/vnd.jupyter.widget-view+json": {
                            "model_id": "13c59ce77838431aa008a9a2e47c06cb",
                            "version_major": 2,
                            "version_minor": 0
                        },
                        "text/plain": [
                            "  0%|          | 0/34 [00:00<?, ?it/s]"
                        ]
                    },
                    "metadata": {},
                    "output_type": "display_data"
                },
                {
                    "data": {
                        "application/vnd.jupyter.widget-view+json": {
                            "model_id": "5efe262fe08a4611ae4815cb6c81c992",
                            "version_major": 2,
                            "version_minor": 0
                        },
                        "text/plain": [
                            "  0%|          | 0/32 [00:00<?, ?it/s]"
                        ]
                    },
                    "metadata": {},
                    "output_type": "display_data"
                },
                {
                    "data": {
                        "application/vnd.jupyter.widget-view+json": {
                            "model_id": "a5aff763bd8141fe9abf669a9759af1d",
                            "version_major": 2,
                            "version_minor": 0
                        },
                        "text/plain": [
                            "  0%|          | 0/2 [00:00<?, ?it/s]"
                        ]
                    },
                    "metadata": {},
                    "output_type": "display_data"
                },
                {
                    "name": "stdout",
                    "output_type": "stream",
                    "text": [
                        "['Topotecan_10.000_nM_DMSO_0.025_%' 'DMSO_0.100_%_DMSO_0.025_%']\n"
                    ]
                },
                {
                    "data": {
                        "application/vnd.jupyter.widget-view+json": {
                            "model_id": "84df5d784f4440a9873182f19305b6fd",
                            "version_major": 2,
                            "version_minor": 0
                        },
                        "text/plain": [
                            "  0%|          | 0/34 [00:00<?, ?it/s]"
                        ]
                    },
                    "metadata": {},
                    "output_type": "display_data"
                },
                {
                    "data": {
                        "application/vnd.jupyter.widget-view+json": {
                            "model_id": "5360dfd432114b3da13431662b77f1c7",
                            "version_major": 2,
                            "version_minor": 0
                        },
                        "text/plain": [
                            "  0%|          | 0/32 [00:00<?, ?it/s]"
                        ]
                    },
                    "metadata": {},
                    "output_type": "display_data"
                },
                {
                    "data": {
                        "application/vnd.jupyter.widget-view+json": {
                            "model_id": "89e77f1e10b7431fb6b2d1a752fc1481",
                            "version_major": 2,
                            "version_minor": 0
                        },
                        "text/plain": [
                            "  0%|          | 0/2 [00:00<?, ?it/s]"
                        ]
                    },
                    "metadata": {},
                    "output_type": "display_data"
                },
                {
                    "name": "stdout",
                    "output_type": "stream",
                    "text": [
                        "['LPS_10.000_ug_per_ml_Disulfiram_2.500_uM' 'DMSO_0.100_%_DMSO_0.025_%']\n"
                    ]
                },
                {
                    "data": {
                        "application/vnd.jupyter.widget-view+json": {
                            "model_id": "6806f21cbceb428a97b64625901f79d3",
                            "version_major": 2,
                            "version_minor": 0
                        },
                        "text/plain": [
                            "  0%|          | 0/34 [00:00<?, ?it/s]"
                        ]
                    },
                    "metadata": {},
                    "output_type": "display_data"
                },
                {
                    "data": {
                        "application/vnd.jupyter.widget-view+json": {
                            "model_id": "84482eb4eb4b4cb89c1ed56a51958354",
                            "version_major": 2,
                            "version_minor": 0
                        },
                        "text/plain": [
                            "  0%|          | 0/32 [00:00<?, ?it/s]"
                        ]
                    },
                    "metadata": {},
                    "output_type": "display_data"
                },
                {
                    "data": {
                        "application/vnd.jupyter.widget-view+json": {
                            "model_id": "d09f8a296e3a48a3b3915d42e5b5ac88",
                            "version_major": 2,
                            "version_minor": 0
                        },
                        "text/plain": [
                            "  0%|          | 0/2 [00:00<?, ?it/s]"
                        ]
                    },
                    "metadata": {},
                    "output_type": "display_data"
                },
                {
                    "name": "stdout",
                    "output_type": "stream",
                    "text": [
                        "['H2O2_100.000_nM_DMSO_0.025_%' 'DMSO_0.100_%_DMSO_0.025_%']\n"
                    ]
                },
                {
                    "data": {
                        "application/vnd.jupyter.widget-view+json": {
                            "model_id": "5c0e5c9e72c442f199acb0cf1d237366",
                            "version_major": 2,
                            "version_minor": 0
                        },
                        "text/plain": [
                            "  0%|          | 0/34 [00:00<?, ?it/s]"
                        ]
                    },
                    "metadata": {},
                    "output_type": "display_data"
                },
                {
                    "data": {
                        "application/vnd.jupyter.widget-view+json": {
                            "model_id": "ab508a8a8b5148c39d889fd1ec07bfd0",
                            "version_major": 2,
                            "version_minor": 0
                        },
                        "text/plain": [
                            "  0%|          | 0/32 [00:00<?, ?it/s]"
                        ]
                    },
                    "metadata": {},
                    "output_type": "display_data"
                },
                {
                    "data": {
                        "application/vnd.jupyter.widget-view+json": {
                            "model_id": "b2af9e44c68c43e9aaa86f5d7da4b2f5",
                            "version_major": 2,
                            "version_minor": 0
                        },
                        "text/plain": [
                            "  0%|          | 0/2 [00:00<?, ?it/s]"
                        ]
                    },
                    "metadata": {},
                    "output_type": "display_data"
                },
                {
                    "name": "stdout",
                    "output_type": "stream",
                    "text": [
                        "['Topotecan_20.000_nM_DMSO_0.025_%' 'DMSO_0.100_%_DMSO_0.025_%']\n"
                    ]
                },
                {
                    "data": {
                        "application/vnd.jupyter.widget-view+json": {
                            "model_id": "6053dcabac1c4e3bba8932c64d35e9e8",
                            "version_major": 2,
                            "version_minor": 0
                        },
                        "text/plain": [
                            "  0%|          | 0/34 [00:00<?, ?it/s]"
                        ]
                    },
                    "metadata": {},
                    "output_type": "display_data"
                },
                {
                    "data": {
                        "application/vnd.jupyter.widget-view+json": {
                            "model_id": "0a79a74b14804e2983adafe0a4560f87",
                            "version_major": 2,
                            "version_minor": 0
                        },
                        "text/plain": [
                            "  0%|          | 0/32 [00:00<?, ?it/s]"
                        ]
                    },
                    "metadata": {},
                    "output_type": "display_data"
                },
                {
                    "data": {
                        "application/vnd.jupyter.widget-view+json": {
                            "model_id": "b8ec04717e7a499e959eb40a3e901199",
                            "version_major": 2,
                            "version_minor": 0
                        },
                        "text/plain": [
                            "  0%|          | 0/2 [00:00<?, ?it/s]"
                        ]
                    },
                    "metadata": {},
                    "output_type": "display_data"
                },
                {
                    "name": "stdout",
                    "output_type": "stream",
                    "text": [
                        "['LPS_10.000_ug_per_ml_Z-VAD-FMK_100.000_uM' 'DMSO_0.100_%_DMSO_0.025_%']\n"
                    ]
                },
                {
                    "data": {
                        "application/vnd.jupyter.widget-view+json": {
                            "model_id": "7a03075010dd40f182e8c218ef8c0601",
                            "version_major": 2,
                            "version_minor": 0
                        },
                        "text/plain": [
                            "  0%|          | 0/34 [00:00<?, ?it/s]"
                        ]
                    },
                    "metadata": {},
                    "output_type": "display_data"
                },
                {
                    "data": {
                        "application/vnd.jupyter.widget-view+json": {
                            "model_id": "9070ab94338c48c1954709d6b5868da6",
                            "version_major": 2,
                            "version_minor": 0
                        },
                        "text/plain": [
                            "  0%|          | 0/32 [00:00<?, ?it/s]"
                        ]
                    },
                    "metadata": {},
                    "output_type": "display_data"
                },
                {
                    "data": {
                        "application/vnd.jupyter.widget-view+json": {
                            "model_id": "9f6a4dcbb7de4309a43a15016fe5c842",
                            "version_major": 2,
                            "version_minor": 0
                        },
                        "text/plain": [
                            "  0%|          | 0/2 [00:00<?, ?it/s]"
                        ]
                    },
                    "metadata": {},
                    "output_type": "display_data"
                },
                {
                    "name": "stdout",
                    "output_type": "stream",
                    "text": [
                        "['H2O2_100.000_uM_DMSO_0.025_%' 'DMSO_0.100_%_DMSO_0.025_%']\n"
                    ]
                },
                {
                    "data": {
                        "application/vnd.jupyter.widget-view+json": {
                            "model_id": "fe77b291659c44fcb9e86f799bd521b8",
                            "version_major": 2,
                            "version_minor": 0
                        },
                        "text/plain": [
                            "  0%|          | 0/34 [00:00<?, ?it/s]"
                        ]
                    },
                    "metadata": {},
                    "output_type": "display_data"
                },
                {
                    "data": {
                        "application/vnd.jupyter.widget-view+json": {
                            "model_id": "73a048e762c94f4a968279d154fc1a26",
                            "version_major": 2,
                            "version_minor": 0
                        },
                        "text/plain": [
                            "  0%|          | 0/32 [00:00<?, ?it/s]"
                        ]
                    },
                    "metadata": {},
                    "output_type": "display_data"
                },
                {
                    "data": {
                        "application/vnd.jupyter.widget-view+json": {
                            "model_id": "a284899142fb4eb28c5d3621270377da",
                            "version_major": 2,
                            "version_minor": 0
                        },
                        "text/plain": [
                            "  0%|          | 0/2 [00:00<?, ?it/s]"
                        ]
                    },
                    "metadata": {},
                    "output_type": "display_data"
                },
                {
                    "name": "stdout",
                    "output_type": "stream",
                    "text": [
                        "['LPS_100.000_ug_per_ml_DMSO_0.025_%' 'DMSO_0.100_%_DMSO_0.025_%']\n"
                    ]
                },
                {
                    "data": {
                        "application/vnd.jupyter.widget-view+json": {
                            "model_id": "cfd3fef8621c430cbe9b11e283b16760",
                            "version_major": 2,
                            "version_minor": 0
                        },
                        "text/plain": [
                            "  0%|          | 0/34 [00:00<?, ?it/s]"
                        ]
                    },
                    "metadata": {},
                    "output_type": "display_data"
                },
                {
                    "data": {
                        "application/vnd.jupyter.widget-view+json": {
                            "model_id": "87beb3bde36d4a82a2e321b0ea2d8d9b",
                            "version_major": 2,
                            "version_minor": 0
                        },
                        "text/plain": [
                            "  0%|          | 0/32 [00:00<?, ?it/s]"
                        ]
                    },
                    "metadata": {},
                    "output_type": "display_data"
                },
                {
                    "data": {
                        "application/vnd.jupyter.widget-view+json": {
                            "model_id": "c6557563213449f29981a0f93a81d4a7",
                            "version_major": 2,
                            "version_minor": 0
                        },
                        "text/plain": [
                            "  0%|          | 0/2 [00:00<?, ?it/s]"
                        ]
                    },
                    "metadata": {},
                    "output_type": "display_data"
                },
                {
                    "name": "stdout",
                    "output_type": "stream",
                    "text": [
                        "['H2O2_100.000_uM_Disulfiram_1.000_uM' 'DMSO_0.100_%_DMSO_0.025_%']\n"
                    ]
                },
                {
                    "data": {
                        "application/vnd.jupyter.widget-view+json": {
                            "model_id": "af878754fe0540078053daa469ed91b4",
                            "version_major": 2,
                            "version_minor": 0
                        },
                        "text/plain": [
                            "  0%|          | 0/34 [00:00<?, ?it/s]"
                        ]
                    },
                    "metadata": {},
                    "output_type": "display_data"
                },
                {
                    "data": {
                        "application/vnd.jupyter.widget-view+json": {
                            "model_id": "5d2d4dba09a64f7aafa76255f9a21585",
                            "version_major": 2,
                            "version_minor": 0
                        },
                        "text/plain": [
                            "  0%|          | 0/32 [00:00<?, ?it/s]"
                        ]
                    },
                    "metadata": {},
                    "output_type": "display_data"
                },
                {
                    "data": {
                        "application/vnd.jupyter.widget-view+json": {
                            "model_id": "edabd7ed277245f892541e1168382a38",
                            "version_major": 2,
                            "version_minor": 0
                        },
                        "text/plain": [
                            "  0%|          | 0/2 [00:00<?, ?it/s]"
                        ]
                    },
                    "metadata": {},
                    "output_type": "display_data"
                },
                {
                    "name": "stdout",
                    "output_type": "stream",
                    "text": [
                        "['LPS_Nigericin_1.000_ug_per_ml_1.000_uM_DMSO_0.025_%'\n",
                        " 'DMSO_0.100_%_DMSO_0.025_%']\n"
                    ]
                },
                {
                    "data": {
                        "application/vnd.jupyter.widget-view+json": {
                            "model_id": "2ef845e1c2bd4e0c8091d56470ac2e2f",
                            "version_major": 2,
                            "version_minor": 0
                        },
                        "text/plain": [
                            "  0%|          | 0/34 [00:00<?, ?it/s]"
                        ]
                    },
                    "metadata": {},
                    "output_type": "display_data"
                },
                {
                    "data": {
                        "application/vnd.jupyter.widget-view+json": {
                            "model_id": "6012117b0dfe49478fa3567adc9494aa",
                            "version_major": 2,
                            "version_minor": 0
                        },
                        "text/plain": [
                            "  0%|          | 0/32 [00:00<?, ?it/s]"
                        ]
                    },
                    "metadata": {},
                    "output_type": "display_data"
                },
                {
                    "data": {
                        "application/vnd.jupyter.widget-view+json": {
                            "model_id": "f86fe9ce2a2b41afb0537e540dc61e29",
                            "version_major": 2,
                            "version_minor": 0
                        },
                        "text/plain": [
                            "  0%|          | 0/2 [00:00<?, ?it/s]"
                        ]
                    },
                    "metadata": {},
                    "output_type": "display_data"
                },
                {
                    "name": "stdout",
                    "output_type": "stream",
                    "text": [
                        "['H2O2_100.000_uM_Z-VAD-FMK_100.000_uM' 'DMSO_0.100_%_DMSO_0.025_%']\n"
                    ]
                },
                {
                    "data": {
                        "application/vnd.jupyter.widget-view+json": {
                            "model_id": "2eec4d51b21f4bb7aa99bf634138b662",
                            "version_major": 2,
                            "version_minor": 0
                        },
                        "text/plain": [
                            "  0%|          | 0/34 [00:00<?, ?it/s]"
                        ]
                    },
                    "metadata": {},
                    "output_type": "display_data"
                },
                {
                    "data": {
                        "application/vnd.jupyter.widget-view+json": {
                            "model_id": "e272a505284347e0b360f613d16475e5",
                            "version_major": 2,
                            "version_minor": 0
                        },
                        "text/plain": [
                            "  0%|          | 0/32 [00:00<?, ?it/s]"
                        ]
                    },
                    "metadata": {},
                    "output_type": "display_data"
                },
                {
                    "data": {
                        "application/vnd.jupyter.widget-view+json": {
                            "model_id": "1f7fdaaef2ca47339fa8c1efca3fa396",
                            "version_major": 2,
                            "version_minor": 0
                        },
                        "text/plain": [
                            "  0%|          | 0/2 [00:00<?, ?it/s]"
                        ]
                    },
                    "metadata": {},
                    "output_type": "display_data"
                },
                {
                    "name": "stdout",
                    "output_type": "stream",
                    "text": [
                        "['LPS_Nigericin_1.000_ug_per_ml_3.000_uM_DMSO_0.025_%'\n",
                        " 'DMSO_0.100_%_DMSO_0.025_%']\n"
                    ]
                },
                {
                    "data": {
                        "application/vnd.jupyter.widget-view+json": {
                            "model_id": "06f0946a261d401b8b9b9f644cc0a3b2",
                            "version_major": 2,
                            "version_minor": 0
                        },
                        "text/plain": [
                            "  0%|          | 0/34 [00:00<?, ?it/s]"
                        ]
                    },
                    "metadata": {},
                    "output_type": "display_data"
                },
                {
                    "data": {
                        "application/vnd.jupyter.widget-view+json": {
                            "model_id": "cc5aa80c5bde449aa40c304465fe33d7",
                            "version_major": 2,
                            "version_minor": 0
                        },
                        "text/plain": [
                            "  0%|          | 0/32 [00:00<?, ?it/s]"
                        ]
                    },
                    "metadata": {},
                    "output_type": "display_data"
                },
                {
                    "data": {
                        "application/vnd.jupyter.widget-view+json": {
                            "model_id": "846e16ebc6e244b8b9e620bd45e17e49",
                            "version_major": 2,
                            "version_minor": 0
                        },
                        "text/plain": [
                            "  0%|          | 0/2 [00:00<?, ?it/s]"
                        ]
                    },
                    "metadata": {},
                    "output_type": "display_data"
                },
                {
                    "name": "stdout",
                    "output_type": "stream",
                    "text": [
                        "['Flagellin_0.100_ug_per_ml_DMSO_0.025_%' 'DMSO_0.100_%_DMSO_0.025_%']\n"
                    ]
                },
                {
                    "data": {
                        "application/vnd.jupyter.widget-view+json": {
                            "model_id": "8ecdf6c0d27d4021bc7ae317e1e3276d",
                            "version_major": 2,
                            "version_minor": 0
                        },
                        "text/plain": [
                            "  0%|          | 0/34 [00:00<?, ?it/s]"
                        ]
                    },
                    "metadata": {},
                    "output_type": "display_data"
                },
                {
                    "data": {
                        "application/vnd.jupyter.widget-view+json": {
                            "model_id": "8726c4dfbb3e4858bfe34237f2c0c339",
                            "version_major": 2,
                            "version_minor": 0
                        },
                        "text/plain": [
                            "  0%|          | 0/32 [00:00<?, ?it/s]"
                        ]
                    },
                    "metadata": {},
                    "output_type": "display_data"
                },
                {
                    "data": {
                        "application/vnd.jupyter.widget-view+json": {
                            "model_id": "020ac05cc7634c99bea5c2e8747457a3",
                            "version_major": 2,
                            "version_minor": 0
                        },
                        "text/plain": [
                            "  0%|          | 0/2 [00:00<?, ?it/s]"
                        ]
                    },
                    "metadata": {},
                    "output_type": "display_data"
                },
                {
                    "name": "stdout",
                    "output_type": "stream",
                    "text": [
                        "['LPS_Nigericin_1.000_ug_per_ml_10.000_uM_DMSO_0.025_%'\n",
                        " 'DMSO_0.100_%_DMSO_0.025_%']\n"
                    ]
                },
                {
                    "data": {
                        "application/vnd.jupyter.widget-view+json": {
                            "model_id": "6ad58243c9dc4fd7a44206c87eae6a02",
                            "version_major": 2,
                            "version_minor": 0
                        },
                        "text/plain": [
                            "  0%|          | 0/34 [00:00<?, ?it/s]"
                        ]
                    },
                    "metadata": {},
                    "output_type": "display_data"
                },
                {
                    "data": {
                        "application/vnd.jupyter.widget-view+json": {
                            "model_id": "7810bde4f9ca4789938578a26b5834b1",
                            "version_major": 2,
                            "version_minor": 0
                        },
                        "text/plain": [
                            "  0%|          | 0/32 [00:00<?, ?it/s]"
                        ]
                    },
                    "metadata": {},
                    "output_type": "display_data"
                },
                {
                    "data": {
                        "application/vnd.jupyter.widget-view+json": {
                            "model_id": "5aafb2c726ab4434b1b3da74d18d231e",
                            "version_major": 2,
                            "version_minor": 0
                        },
                        "text/plain": [
                            "  0%|          | 0/2 [00:00<?, ?it/s]"
                        ]
                    },
                    "metadata": {},
                    "output_type": "display_data"
                },
                {
                    "name": "stdout",
                    "output_type": "stream",
                    "text": [
                        "['Flagellin_1.000_ug_per_ml_DMSO_0.025_%' 'DMSO_0.100_%_DMSO_0.025_%']\n"
                    ]
                },
                {
                    "data": {
                        "application/vnd.jupyter.widget-view+json": {
                            "model_id": "cddba3ed09a54e23b6907beeb6ecf5bf",
                            "version_major": 2,
                            "version_minor": 0
                        },
                        "text/plain": [
                            "  0%|          | 0/34 [00:00<?, ?it/s]"
                        ]
                    },
                    "metadata": {},
                    "output_type": "display_data"
                },
                {
                    "data": {
                        "application/vnd.jupyter.widget-view+json": {
                            "model_id": "8f5761357bf147e8823b47292cbec34d",
                            "version_major": 2,
                            "version_minor": 0
                        },
                        "text/plain": [
                            "  0%|          | 0/32 [00:00<?, ?it/s]"
                        ]
                    },
                    "metadata": {},
                    "output_type": "display_data"
                },
                {
                    "data": {
                        "application/vnd.jupyter.widget-view+json": {
                            "model_id": "2844dfd27f8546978169c27eab279ac8",
                            "version_major": 2,
                            "version_minor": 0
                        },
                        "text/plain": [
                            "  0%|          | 0/2 [00:00<?, ?it/s]"
                        ]
                    },
                    "metadata": {},
                    "output_type": "display_data"
                },
                {
                    "name": "stdout",
                    "output_type": "stream",
                    "text": [
                        "['LPS_Nigericin_1.000_ug_per_ml_10.000_uM_Disulfiram_1.000_uM'\n",
                        " 'DMSO_0.100_%_DMSO_0.025_%']\n"
                    ]
                },
                {
                    "data": {
                        "application/vnd.jupyter.widget-view+json": {
                            "model_id": "a91082dc8f3b41e7965746d4c0fea00c",
                            "version_major": 2,
                            "version_minor": 0
                        },
                        "text/plain": [
                            "  0%|          | 0/34 [00:00<?, ?it/s]"
                        ]
                    },
                    "metadata": {},
                    "output_type": "display_data"
                },
                {
                    "data": {
                        "application/vnd.jupyter.widget-view+json": {
                            "model_id": "2790fdd7609e4b5180a822a11a3a2649",
                            "version_major": 2,
                            "version_minor": 0
                        },
                        "text/plain": [
                            "  0%|          | 0/32 [00:00<?, ?it/s]"
                        ]
                    },
                    "metadata": {},
                    "output_type": "display_data"
                },
                {
                    "data": {
                        "application/vnd.jupyter.widget-view+json": {
                            "model_id": "209dadb731d74f3299807067196ad735",
                            "version_major": 2,
                            "version_minor": 0
                        },
                        "text/plain": [
                            "  0%|          | 0/2 [00:00<?, ?it/s]"
                        ]
                    },
                    "metadata": {},
                    "output_type": "display_data"
                },
                {
                    "name": "stdout",
                    "output_type": "stream",
                    "text": [
                        "['Flagellin_1.000_ug_per_ml_Disulfiram_1.000_uM'\n",
                        " 'DMSO_0.100_%_DMSO_0.025_%']\n"
                    ]
                },
                {
                    "data": {
                        "application/vnd.jupyter.widget-view+json": {
                            "model_id": "f9cc47f72c984e178a003224c8986639",
                            "version_major": 2,
                            "version_minor": 0
                        },
                        "text/plain": [
                            "  0%|          | 0/34 [00:00<?, ?it/s]"
                        ]
                    },
                    "metadata": {},
                    "output_type": "display_data"
                },
                {
                    "data": {
                        "application/vnd.jupyter.widget-view+json": {
                            "model_id": "0320ec92c090486499d0d1352c7fdda8",
                            "version_major": 2,
                            "version_minor": 0
                        },
                        "text/plain": [
                            "  0%|          | 0/32 [00:00<?, ?it/s]"
                        ]
                    },
                    "metadata": {},
                    "output_type": "display_data"
                },
                {
                    "data": {
                        "application/vnd.jupyter.widget-view+json": {
                            "model_id": "1c2e68e577ea4751a3598cc8ebe51e0b",
                            "version_major": 2,
                            "version_minor": 0
                        },
                        "text/plain": [
                            "  0%|          | 0/2 [00:00<?, ?it/s]"
                        ]
                    },
                    "metadata": {},
                    "output_type": "display_data"
                },
                {
                    "name": "stdout",
                    "output_type": "stream",
                    "text": [
                        "['LPS_Nigericin_1.000_ug_per_ml_10.000_uM_Z-VAD-FMK_100.000_uM'\n",
                        " 'DMSO_0.100_%_DMSO_0.025_%']\n"
                    ]
                },
                {
                    "data": {
                        "application/vnd.jupyter.widget-view+json": {
                            "model_id": "a5ae748e46004082a473c3b5400ca899",
                            "version_major": 2,
                            "version_minor": 0
                        },
                        "text/plain": [
                            "  0%|          | 0/34 [00:00<?, ?it/s]"
                        ]
                    },
                    "metadata": {},
                    "output_type": "display_data"
                },
                {
                    "data": {
                        "application/vnd.jupyter.widget-view+json": {
                            "model_id": "e187e6e945e8443e8d2342fbf0ba17a9",
                            "version_major": 2,
                            "version_minor": 0
                        },
                        "text/plain": [
                            "  0%|          | 0/32 [00:00<?, ?it/s]"
                        ]
                    },
                    "metadata": {},
                    "output_type": "display_data"
                },
                {
                    "data": {
                        "application/vnd.jupyter.widget-view+json": {
                            "model_id": "a54c451f2c264b328e70d04da13038cd",
                            "version_major": 2,
                            "version_minor": 0
                        },
                        "text/plain": [
                            "  0%|          | 0/2 [00:00<?, ?it/s]"
                        ]
                    },
                    "metadata": {},
                    "output_type": "display_data"
                }
            ],
            "source": [
                "for i in df[\"oneb_Metadata_Treatment_Dose_Inhibitor_Dose\"].unique():\n",
                "    # manually get treatment\n",
                "    tmp = df[df[\"oneb_Metadata_Treatment_Dose_Inhibitor_Dose\"].str.contains(i)]\n",
                "\n",
                "    # concat tmp and concrol_df\n",
                "    tmp1 = pd.concat([tmp, control_df])\n",
                "    print(tmp1[\"oneb_Metadata_Treatment_Dose_Inhibitor_Dose\"].unique())\n",
                "    # order the oneb_Metadata_Treatment_Dose_Inhibitor_Dose column so that the control group is at the beginning\n",
                "    tmp1[\"oneb_Metadata_Treatment_Dose_Inhibitor_Dose\"] = pd.Categorical(\n",
                "        tmp1[\"oneb_Metadata_Treatment_Dose_Inhibitor_Dose\"],\n",
                "        categories=[\"DMSO_0.100_%_DMSO_0.025_%\", i],\n",
                "        ordered=True,\n",
                "    )\n",
                "\n",
                "    # spliting metadata and raw feature values\n",
                "    logging.info(\"splitting data set into metadata and raw feature values\")\n",
                "    df_meta, df_feats = utils.split_data(tmp1)\n",
                "    df_feats = np.array(df_feats)\n",
                "    try:\n",
                "        # execute pipeline on negative control with trianing dataset with cp features\n",
                "\n",
                "        logging.info(f\"Running pipeline on CP features using phenotype\")\n",
                "        result = run_pipeline(\n",
                "            meta=df_meta,\n",
                "            feats=df_feats,\n",
                "            pos_sameby=pos_sameby,\n",
                "            pos_diffby=pos_diffby,\n",
                "            neg_sameby=neg_sameby,\n",
                "            neg_diffby=neg_diffby,\n",
                "            batch_size=batch_size,\n",
                "            null_size=null_size,\n",
                "        )\n",
                "\n",
                "        result[\"shuffled\"] = \"non-shuffled\"\n",
                "        result[\"comparison\"] = i\n",
                "\n",
                "    except ZeroDivisionError as e:\n",
                "        logging.warning(f\"{e} captured on phenotye:. Skipping\")\n",
                "\n",
                "    # concatenating all datasets\n",
                "    results_df = pd.concat([results_df, result], axis=0)\n",
                "results_df.to_csv(regular_feat_map_path, index=False)"
            ]
        },
        {
            "cell_type": "code",
            "execution_count": 14,
            "metadata": {},
            "outputs": [
                {
                    "data": {
                        "text/html": [
                            "<div>\n",
                            "<style scoped>\n",
                            "    .dataframe tbody tr th:only-of-type {\n",
                            "        vertical-align: middle;\n",
                            "    }\n",
                            "\n",
                            "    .dataframe tbody tr th {\n",
                            "        vertical-align: top;\n",
                            "    }\n",
                            "\n",
                            "    .dataframe thead th {\n",
                            "        text-align: right;\n",
                            "    }\n",
                            "</style>\n",
                            "<table border=\"1\" class=\"dataframe\">\n",
                            "  <thead>\n",
                            "    <tr style=\"text-align: right;\">\n",
                            "      <th></th>\n",
                            "      <th>Metadata_Well</th>\n",
                            "      <th>oneb_Metadata_Treatment_Dose_Inhibitor_Dose</th>\n",
                            "      <th>Metadata_labels</th>\n",
                            "      <th>average_precision</th>\n",
                            "      <th>p_value</th>\n",
                            "      <th>n_pos_pairs</th>\n",
                            "      <th>n_total_pairs</th>\n",
                            "      <th>shuffled</th>\n",
                            "      <th>comparison</th>\n",
                            "    </tr>\n",
                            "  </thead>\n",
                            "  <tbody>\n",
                            "    <tr>\n",
                            "      <th>0</th>\n",
                            "      <td>O02</td>\n",
                            "      <td>LPS_Nigericin_1.000_ug_per_ml_10.000_uM_Z-VAD-...</td>\n",
                            "      <td>Control</td>\n",
                            "      <td>1.000000</td>\n",
                            "      <td>0.006230</td>\n",
                            "      <td>3.0</td>\n",
                            "      <td>11.0</td>\n",
                            "      <td>non-shuffled</td>\n",
                            "      <td>LPS_Nigericin_1.000_ug_per_ml_10.000_uM_Z-VAD-...</td>\n",
                            "    </tr>\n",
                            "    <tr>\n",
                            "      <th>1</th>\n",
                            "      <td>O03</td>\n",
                            "      <td>LPS_Nigericin_1.000_ug_per_ml_10.000_uM_Z-VAD-...</td>\n",
                            "      <td>Control</td>\n",
                            "      <td>1.000000</td>\n",
                            "      <td>0.006230</td>\n",
                            "      <td>3.0</td>\n",
                            "      <td>11.0</td>\n",
                            "      <td>non-shuffled</td>\n",
                            "      <td>LPS_Nigericin_1.000_ug_per_ml_10.000_uM_Z-VAD-...</td>\n",
                            "    </tr>\n",
                            "    <tr>\n",
                            "      <th>2</th>\n",
                            "      <td>O08</td>\n",
                            "      <td>LPS_Nigericin_1.000_ug_per_ml_10.000_uM_Z-VAD-...</td>\n",
                            "      <td>Control</td>\n",
                            "      <td>1.000000</td>\n",
                            "      <td>0.006230</td>\n",
                            "      <td>3.0</td>\n",
                            "      <td>11.0</td>\n",
                            "      <td>non-shuffled</td>\n",
                            "      <td>LPS_Nigericin_1.000_ug_per_ml_10.000_uM_Z-VAD-...</td>\n",
                            "    </tr>\n",
                            "    <tr>\n",
                            "      <th>3</th>\n",
                            "      <td>O09</td>\n",
                            "      <td>LPS_Nigericin_1.000_ug_per_ml_10.000_uM_Z-VAD-...</td>\n",
                            "      <td>Control</td>\n",
                            "      <td>1.000000</td>\n",
                            "      <td>0.006230</td>\n",
                            "      <td>3.0</td>\n",
                            "      <td>11.0</td>\n",
                            "      <td>non-shuffled</td>\n",
                            "      <td>LPS_Nigericin_1.000_ug_per_ml_10.000_uM_Z-VAD-...</td>\n",
                            "    </tr>\n",
                            "    <tr>\n",
                            "      <th>4</th>\n",
                            "      <td>B06</td>\n",
                            "      <td>DMSO_0.100_%_DMSO_0.025_%</td>\n",
                            "      <td>Control</td>\n",
                            "      <td>0.674356</td>\n",
                            "      <td>0.593474</td>\n",
                            "      <td>7.0</td>\n",
                            "      <td>11.0</td>\n",
                            "      <td>non-shuffled</td>\n",
                            "      <td>LPS_Nigericin_1.000_ug_per_ml_10.000_uM_Z-VAD-...</td>\n",
                            "    </tr>\n",
                            "    <tr>\n",
                            "      <th>5</th>\n",
                            "      <td>B07</td>\n",
                            "      <td>DMSO_0.100_%_DMSO_0.025_%</td>\n",
                            "      <td>Control</td>\n",
                            "      <td>0.588642</td>\n",
                            "      <td>0.830082</td>\n",
                            "      <td>7.0</td>\n",
                            "      <td>11.0</td>\n",
                            "      <td>non-shuffled</td>\n",
                            "      <td>LPS_Nigericin_1.000_ug_per_ml_10.000_uM_Z-VAD-...</td>\n",
                            "    </tr>\n",
                            "    <tr>\n",
                            "      <th>6</th>\n",
                            "      <td>C06</td>\n",
                            "      <td>DMSO_0.100_%_DMSO_0.025_%</td>\n",
                            "      <td>Control</td>\n",
                            "      <td>0.720274</td>\n",
                            "      <td>0.450435</td>\n",
                            "      <td>7.0</td>\n",
                            "      <td>11.0</td>\n",
                            "      <td>non-shuffled</td>\n",
                            "      <td>LPS_Nigericin_1.000_ug_per_ml_10.000_uM_Z-VAD-...</td>\n",
                            "    </tr>\n",
                            "    <tr>\n",
                            "      <th>7</th>\n",
                            "      <td>C07</td>\n",
                            "      <td>DMSO_0.100_%_DMSO_0.025_%</td>\n",
                            "      <td>Control</td>\n",
                            "      <td>0.837338</td>\n",
                            "      <td>0.162848</td>\n",
                            "      <td>7.0</td>\n",
                            "      <td>11.0</td>\n",
                            "      <td>non-shuffled</td>\n",
                            "      <td>LPS_Nigericin_1.000_ug_per_ml_10.000_uM_Z-VAD-...</td>\n",
                            "    </tr>\n",
                            "    <tr>\n",
                            "      <th>8</th>\n",
                            "      <td>I06</td>\n",
                            "      <td>DMSO_0.100_%_DMSO_0.025_%</td>\n",
                            "      <td>Control</td>\n",
                            "      <td>0.766193</td>\n",
                            "      <td>0.326377</td>\n",
                            "      <td>7.0</td>\n",
                            "      <td>11.0</td>\n",
                            "      <td>non-shuffled</td>\n",
                            "      <td>LPS_Nigericin_1.000_ug_per_ml_10.000_uM_Z-VAD-...</td>\n",
                            "    </tr>\n",
                            "    <tr>\n",
                            "      <th>9</th>\n",
                            "      <td>I07</td>\n",
                            "      <td>DMSO_0.100_%_DMSO_0.025_%</td>\n",
                            "      <td>Control</td>\n",
                            "      <td>0.598846</td>\n",
                            "      <td>0.811652</td>\n",
                            "      <td>7.0</td>\n",
                            "      <td>11.0</td>\n",
                            "      <td>non-shuffled</td>\n",
                            "      <td>LPS_Nigericin_1.000_ug_per_ml_10.000_uM_Z-VAD-...</td>\n",
                            "    </tr>\n",
                            "    <tr>\n",
                            "      <th>10</th>\n",
                            "      <td>J06</td>\n",
                            "      <td>DMSO_0.100_%_DMSO_0.025_%</td>\n",
                            "      <td>Control</td>\n",
                            "      <td>0.651227</td>\n",
                            "      <td>0.662223</td>\n",
                            "      <td>7.0</td>\n",
                            "      <td>11.0</td>\n",
                            "      <td>non-shuffled</td>\n",
                            "      <td>LPS_Nigericin_1.000_ug_per_ml_10.000_uM_Z-VAD-...</td>\n",
                            "    </tr>\n",
                            "    <tr>\n",
                            "      <th>11</th>\n",
                            "      <td>J07</td>\n",
                            "      <td>DMSO_0.100_%_DMSO_0.025_%</td>\n",
                            "      <td>Control</td>\n",
                            "      <td>0.846861</td>\n",
                            "      <td>0.141149</td>\n",
                            "      <td>7.0</td>\n",
                            "      <td>11.0</td>\n",
                            "      <td>non-shuffled</td>\n",
                            "      <td>LPS_Nigericin_1.000_ug_per_ml_10.000_uM_Z-VAD-...</td>\n",
                            "    </tr>\n",
                            "  </tbody>\n",
                            "</table>\n",
                            "</div>"
                        ],
                        "text/plain": [
                            "   Metadata_Well        oneb_Metadata_Treatment_Dose_Inhibitor_Dose  \\\n",
                            "0            O02  LPS_Nigericin_1.000_ug_per_ml_10.000_uM_Z-VAD-...   \n",
                            "1            O03  LPS_Nigericin_1.000_ug_per_ml_10.000_uM_Z-VAD-...   \n",
                            "2            O08  LPS_Nigericin_1.000_ug_per_ml_10.000_uM_Z-VAD-...   \n",
                            "3            O09  LPS_Nigericin_1.000_ug_per_ml_10.000_uM_Z-VAD-...   \n",
                            "4            B06                          DMSO_0.100_%_DMSO_0.025_%   \n",
                            "5            B07                          DMSO_0.100_%_DMSO_0.025_%   \n",
                            "6            C06                          DMSO_0.100_%_DMSO_0.025_%   \n",
                            "7            C07                          DMSO_0.100_%_DMSO_0.025_%   \n",
                            "8            I06                          DMSO_0.100_%_DMSO_0.025_%   \n",
                            "9            I07                          DMSO_0.100_%_DMSO_0.025_%   \n",
                            "10           J06                          DMSO_0.100_%_DMSO_0.025_%   \n",
                            "11           J07                          DMSO_0.100_%_DMSO_0.025_%   \n",
                            "\n",
                            "   Metadata_labels  average_precision   p_value  n_pos_pairs  n_total_pairs  \\\n",
                            "0          Control           1.000000  0.006230          3.0           11.0   \n",
                            "1          Control           1.000000  0.006230          3.0           11.0   \n",
                            "2          Control           1.000000  0.006230          3.0           11.0   \n",
                            "3          Control           1.000000  0.006230          3.0           11.0   \n",
                            "4          Control           0.674356  0.593474          7.0           11.0   \n",
                            "5          Control           0.588642  0.830082          7.0           11.0   \n",
                            "6          Control           0.720274  0.450435          7.0           11.0   \n",
                            "7          Control           0.837338  0.162848          7.0           11.0   \n",
                            "8          Control           0.766193  0.326377          7.0           11.0   \n",
                            "9          Control           0.598846  0.811652          7.0           11.0   \n",
                            "10         Control           0.651227  0.662223          7.0           11.0   \n",
                            "11         Control           0.846861  0.141149          7.0           11.0   \n",
                            "\n",
                            "        shuffled                                         comparison  \n",
                            "0   non-shuffled  LPS_Nigericin_1.000_ug_per_ml_10.000_uM_Z-VAD-...  \n",
                            "1   non-shuffled  LPS_Nigericin_1.000_ug_per_ml_10.000_uM_Z-VAD-...  \n",
                            "2   non-shuffled  LPS_Nigericin_1.000_ug_per_ml_10.000_uM_Z-VAD-...  \n",
                            "3   non-shuffled  LPS_Nigericin_1.000_ug_per_ml_10.000_uM_Z-VAD-...  \n",
                            "4   non-shuffled  LPS_Nigericin_1.000_ug_per_ml_10.000_uM_Z-VAD-...  \n",
                            "5   non-shuffled  LPS_Nigericin_1.000_ug_per_ml_10.000_uM_Z-VAD-...  \n",
                            "6   non-shuffled  LPS_Nigericin_1.000_ug_per_ml_10.000_uM_Z-VAD-...  \n",
                            "7   non-shuffled  LPS_Nigericin_1.000_ug_per_ml_10.000_uM_Z-VAD-...  \n",
                            "8   non-shuffled  LPS_Nigericin_1.000_ug_per_ml_10.000_uM_Z-VAD-...  \n",
                            "9   non-shuffled  LPS_Nigericin_1.000_ug_per_ml_10.000_uM_Z-VAD-...  \n",
                            "10  non-shuffled  LPS_Nigericin_1.000_ug_per_ml_10.000_uM_Z-VAD-...  \n",
                            "11  non-shuffled  LPS_Nigericin_1.000_ug_per_ml_10.000_uM_Z-VAD-...  "
                        ]
                    },
                    "execution_count": 14,
                    "metadata": {},
                    "output_type": "execute_result"
                }
            ],
            "source": [
                "result"
            ]
        },
        {
            "cell_type": "code",
            "execution_count": null,
            "metadata": {},
            "outputs": [],
            "source": []
        },
        {
            "cell_type": "code",
            "execution_count": 15,
            "metadata": {},
            "outputs": [
                {
                    "data": {
                        "image/png": "[encoded data removed]",
                        "text/plain": [
                            "<Figure size 1000x500 with 1 Axes>"
                        ]
                    },
                    "metadata": {},
                    "output_type": "display_data"
                }
            ],
            "source": [
                "import matplotlib.pyplot as plt\n",
                "\n",
                "# plot the average precision scores on a number line\n",
                "import seaborn as sns\n",
                "\n",
                "# plot the average precision scores\n",
                "sns.set(style=\"whitegrid\")\n",
                "plt.figure(figsize=(10, 5))\n",
                "ax = sns.barplot(\n",
                "    x=\"comparison\", y=\"average_precision\", hue=\"Metadata_Well\", data=result\n",
                ")\n",
                "plt.title(\"Average Precision Scores\")\n",
                "# legend on the right\n",
                "plt.legend(bbox_to_anchor=(1.05, 1), loc=2, borderaxespad=0.0)\n",
                "plt.show()"
            ]
        },
        {
            "cell_type": "code",
            "execution_count": 16,
            "metadata": {},
            "outputs": [
                {
                    "data": {
                        "text/html": [
                            "<div>\n",
                            "<style scoped>\n",
                            "    .dataframe tbody tr th:only-of-type {\n",
                            "        vertical-align: middle;\n",
                            "    }\n",
                            "\n",
                            "    .dataframe tbody tr th {\n",
                            "        vertical-align: top;\n",
                            "    }\n",
                            "\n",
                            "    .dataframe thead th {\n",
                            "        text-align: right;\n",
                            "    }\n",
                            "</style>\n",
                            "<table border=\"1\" class=\"dataframe\">\n",
                            "  <thead>\n",
                            "    <tr style=\"text-align: right;\">\n",
                            "      <th></th>\n",
                            "      <th>Metadata_Well</th>\n",
                            "      <th>Metadata_labels</th>\n",
                            "      <th>average_precision</th>\n",
                            "      <th>p_value</th>\n",
                            "      <th>n_pos_pairs</th>\n",
                            "      <th>n_total_pairs</th>\n",
                            "      <th>shuffled</th>\n",
                            "      <th>comparison</th>\n",
                            "      <th>oneb_Metadata_Treatment_Dose_Inhibitor_Dose</th>\n",
                            "    </tr>\n",
                            "  </thead>\n",
                            "  <tbody>\n",
                            "    <tr>\n",
                            "      <th>0</th>\n",
                            "      <td>B02</td>\n",
                            "      <td>Pyroptosis</td>\n",
                            "      <td>1.000000</td>\n",
                            "      <td>0.006230</td>\n",
                            "      <td>3.0</td>\n",
                            "      <td>11.0</td>\n",
                            "      <td>non-shuffled</td>\n",
                            "      <td>LPS_0.010_ug_per_ml_DMSO_0.025_%</td>\n",
                            "      <td>LPS_0.010_ug_per_ml_DMSO_0.025_%</td>\n",
                            "    </tr>\n",
                            "    <tr>\n",
                            "      <th>1</th>\n",
                            "      <td>B03</td>\n",
                            "      <td>Pyroptosis</td>\n",
                            "      <td>0.588889</td>\n",
                            "      <td>0.170458</td>\n",
                            "      <td>3.0</td>\n",
                            "      <td>11.0</td>\n",
                            "      <td>non-shuffled</td>\n",
                            "      <td>LPS_0.010_ug_per_ml_DMSO_0.025_%</td>\n",
                            "      <td>LPS_0.010_ug_per_ml_DMSO_0.025_%</td>\n",
                            "    </tr>\n",
                            "    <tr>\n",
                            "      <th>2</th>\n",
                            "      <td>B08</td>\n",
                            "      <td>Pyroptosis</td>\n",
                            "      <td>1.000000</td>\n",
                            "      <td>0.006230</td>\n",
                            "      <td>3.0</td>\n",
                            "      <td>11.0</td>\n",
                            "      <td>non-shuffled</td>\n",
                            "      <td>LPS_0.010_ug_per_ml_DMSO_0.025_%</td>\n",
                            "      <td>LPS_0.010_ug_per_ml_DMSO_0.025_%</td>\n",
                            "    </tr>\n",
                            "    <tr>\n",
                            "      <th>3</th>\n",
                            "      <td>B09</td>\n",
                            "      <td>Pyroptosis</td>\n",
                            "      <td>1.000000</td>\n",
                            "      <td>0.006230</td>\n",
                            "      <td>3.0</td>\n",
                            "      <td>11.0</td>\n",
                            "      <td>non-shuffled</td>\n",
                            "      <td>LPS_0.010_ug_per_ml_DMSO_0.025_%</td>\n",
                            "      <td>LPS_0.010_ug_per_ml_DMSO_0.025_%</td>\n",
                            "    </tr>\n",
                            "    <tr>\n",
                            "      <th>4</th>\n",
                            "      <td>B06</td>\n",
                            "      <td>Control</td>\n",
                            "      <td>0.674356</td>\n",
                            "      <td>0.593474</td>\n",
                            "      <td>7.0</td>\n",
                            "      <td>11.0</td>\n",
                            "      <td>non-shuffled</td>\n",
                            "      <td>LPS_0.010_ug_per_ml_DMSO_0.025_%</td>\n",
                            "      <td>DMSO_0.100_%_DMSO_0.025_%</td>\n",
                            "    </tr>\n",
                            "    <tr>\n",
                            "      <th>5</th>\n",
                            "      <td>B07</td>\n",
                            "      <td>Control</td>\n",
                            "      <td>0.507689</td>\n",
                            "      <td>0.970480</td>\n",
                            "      <td>7.0</td>\n",
                            "      <td>11.0</td>\n",
                            "      <td>non-shuffled</td>\n",
                            "      <td>LPS_0.010_ug_per_ml_DMSO_0.025_%</td>\n",
                            "      <td>DMSO_0.100_%_DMSO_0.025_%</td>\n",
                            "    </tr>\n",
                            "    <tr>\n",
                            "      <th>6</th>\n",
                            "      <td>C06</td>\n",
                            "      <td>Control</td>\n",
                            "      <td>0.766759</td>\n",
                            "      <td>0.323167</td>\n",
                            "      <td>7.0</td>\n",
                            "      <td>11.0</td>\n",
                            "      <td>non-shuffled</td>\n",
                            "      <td>LPS_0.010_ug_per_ml_DMSO_0.025_%</td>\n",
                            "      <td>DMSO_0.100_%_DMSO_0.025_%</td>\n",
                            "    </tr>\n",
                            "    <tr>\n",
                            "      <th>7</th>\n",
                            "      <td>C07</td>\n",
                            "      <td>Control</td>\n",
                            "      <td>0.859617</td>\n",
                            "      <td>0.120329</td>\n",
                            "      <td>7.0</td>\n",
                            "      <td>11.0</td>\n",
                            "      <td>non-shuffled</td>\n",
                            "      <td>LPS_0.010_ug_per_ml_DMSO_0.025_%</td>\n",
                            "      <td>DMSO_0.100_%_DMSO_0.025_%</td>\n",
                            "    </tr>\n",
                            "    <tr>\n",
                            "      <th>8</th>\n",
                            "      <td>I06</td>\n",
                            "      <td>Control</td>\n",
                            "      <td>0.785637</td>\n",
                            "      <td>0.277887</td>\n",
                            "      <td>7.0</td>\n",
                            "      <td>11.0</td>\n",
                            "      <td>non-shuffled</td>\n",
                            "      <td>LPS_0.010_ug_per_ml_DMSO_0.025_%</td>\n",
                            "      <td>DMSO_0.100_%_DMSO_0.025_%</td>\n",
                            "    </tr>\n",
                            "    <tr>\n",
                            "      <th>9</th>\n",
                            "      <td>I07</td>\n",
                            "      <td>Control</td>\n",
                            "      <td>0.503608</td>\n",
                            "      <td>0.979340</td>\n",
                            "      <td>7.0</td>\n",
                            "      <td>11.0</td>\n",
                            "      <td>non-shuffled</td>\n",
                            "      <td>LPS_0.010_ug_per_ml_DMSO_0.025_%</td>\n",
                            "      <td>DMSO_0.100_%_DMSO_0.025_%</td>\n",
                            "    </tr>\n",
                            "    <tr>\n",
                            "      <th>10</th>\n",
                            "      <td>J06</td>\n",
                            "      <td>Control</td>\n",
                            "      <td>0.675036</td>\n",
                            "      <td>0.587254</td>\n",
                            "      <td>7.0</td>\n",
                            "      <td>11.0</td>\n",
                            "      <td>non-shuffled</td>\n",
                            "      <td>LPS_0.010_ug_per_ml_DMSO_0.025_%</td>\n",
                            "      <td>DMSO_0.100_%_DMSO_0.025_%</td>\n",
                            "    </tr>\n",
                            "    <tr>\n",
                            "      <th>11</th>\n",
                            "      <td>J07</td>\n",
                            "      <td>Control</td>\n",
                            "      <td>0.714208</td>\n",
                            "      <td>0.481585</td>\n",
                            "      <td>7.0</td>\n",
                            "      <td>11.0</td>\n",
                            "      <td>non-shuffled</td>\n",
                            "      <td>LPS_0.010_ug_per_ml_DMSO_0.025_%</td>\n",
                            "      <td>DMSO_0.100_%_DMSO_0.025_%</td>\n",
                            "    </tr>\n",
                            "    <tr>\n",
                            "      <th>0</th>\n",
                            "      <td>B04</td>\n",
                            "      <td>Pyroptosis</td>\n",
                            "      <td>0.916667</td>\n",
                            "      <td>0.012820</td>\n",
                            "      <td>3.0</td>\n",
                            "      <td>11.0</td>\n",
                            "      <td>non-shuffled</td>\n",
                            "      <td>LPS_Nigericin_100.000_ug_per_ml_1.000_uM_DMSO_...</td>\n",
                            "      <td>LPS_Nigericin_100.000_ug_per_ml_1.000_uM_DMSO_...</td>\n",
                            "    </tr>\n",
                            "    <tr>\n",
                            "      <th>1</th>\n",
                            "      <td>B05</td>\n",
                            "      <td>Pyroptosis</td>\n",
                            "      <td>1.000000</td>\n",
                            "      <td>0.006230</td>\n",
                            "      <td>3.0</td>\n",
                            "      <td>11.0</td>\n",
                            "      <td>non-shuffled</td>\n",
                            "      <td>LPS_Nigericin_100.000_ug_per_ml_1.000_uM_DMSO_...</td>\n",
                            "      <td>LPS_Nigericin_100.000_ug_per_ml_1.000_uM_DMSO_...</td>\n",
                            "    </tr>\n",
                            "    <tr>\n",
                            "      <th>2</th>\n",
                            "      <td>B10</td>\n",
                            "      <td>Pyroptosis</td>\n",
                            "      <td>1.000000</td>\n",
                            "      <td>0.006230</td>\n",
                            "      <td>3.0</td>\n",
                            "      <td>11.0</td>\n",
                            "      <td>non-shuffled</td>\n",
                            "      <td>LPS_Nigericin_100.000_ug_per_ml_1.000_uM_DMSO_...</td>\n",
                            "      <td>LPS_Nigericin_100.000_ug_per_ml_1.000_uM_DMSO_...</td>\n",
                            "    </tr>\n",
                            "  </tbody>\n",
                            "</table>\n",
                            "</div>"
                        ],
                        "text/plain": [
                            "   Metadata_Well Metadata_labels  average_precision   p_value  n_pos_pairs  \\\n",
                            "0            B02      Pyroptosis           1.000000  0.006230          3.0   \n",
                            "1            B03      Pyroptosis           0.588889  0.170458          3.0   \n",
                            "2            B08      Pyroptosis           1.000000  0.006230          3.0   \n",
                            "3            B09      Pyroptosis           1.000000  0.006230          3.0   \n",
                            "4            B06         Control           0.674356  0.593474          7.0   \n",
                            "5            B07         Control           0.507689  0.970480          7.0   \n",
                            "6            C06         Control           0.766759  0.323167          7.0   \n",
                            "7            C07         Control           0.859617  0.120329          7.0   \n",
                            "8            I06         Control           0.785637  0.277887          7.0   \n",
                            "9            I07         Control           0.503608  0.979340          7.0   \n",
                            "10           J06         Control           0.675036  0.587254          7.0   \n",
                            "11           J07         Control           0.714208  0.481585          7.0   \n",
                            "0            B04      Pyroptosis           0.916667  0.012820          3.0   \n",
                            "1            B05      Pyroptosis           1.000000  0.006230          3.0   \n",
                            "2            B10      Pyroptosis           1.000000  0.006230          3.0   \n",
                            "\n",
                            "    n_total_pairs      shuffled  \\\n",
                            "0            11.0  non-shuffled   \n",
                            "1            11.0  non-shuffled   \n",
                            "2            11.0  non-shuffled   \n",
                            "3            11.0  non-shuffled   \n",
                            "4            11.0  non-shuffled   \n",
                            "5            11.0  non-shuffled   \n",
                            "6            11.0  non-shuffled   \n",
                            "7            11.0  non-shuffled   \n",
                            "8            11.0  non-shuffled   \n",
                            "9            11.0  non-shuffled   \n",
                            "10           11.0  non-shuffled   \n",
                            "11           11.0  non-shuffled   \n",
                            "0            11.0  non-shuffled   \n",
                            "1            11.0  non-shuffled   \n",
                            "2            11.0  non-shuffled   \n",
                            "\n",
                            "                                           comparison  \\\n",
                            "0                    LPS_0.010_ug_per_ml_DMSO_0.025_%   \n",
                            "1                    LPS_0.010_ug_per_ml_DMSO_0.025_%   \n",
                            "2                    LPS_0.010_ug_per_ml_DMSO_0.025_%   \n",
                            "3                    LPS_0.010_ug_per_ml_DMSO_0.025_%   \n",
                            "4                    LPS_0.010_ug_per_ml_DMSO_0.025_%   \n",
                            "5                    LPS_0.010_ug_per_ml_DMSO_0.025_%   \n",
                            "6                    LPS_0.010_ug_per_ml_DMSO_0.025_%   \n",
                            "7                    LPS_0.010_ug_per_ml_DMSO_0.025_%   \n",
                            "8                    LPS_0.010_ug_per_ml_DMSO_0.025_%   \n",
                            "9                    LPS_0.010_ug_per_ml_DMSO_0.025_%   \n",
                            "10                   LPS_0.010_ug_per_ml_DMSO_0.025_%   \n",
                            "11                   LPS_0.010_ug_per_ml_DMSO_0.025_%   \n",
                            "0   LPS_Nigericin_100.000_ug_per_ml_1.000_uM_DMSO_...   \n",
                            "1   LPS_Nigericin_100.000_ug_per_ml_1.000_uM_DMSO_...   \n",
                            "2   LPS_Nigericin_100.000_ug_per_ml_1.000_uM_DMSO_...   \n",
                            "\n",
                            "          oneb_Metadata_Treatment_Dose_Inhibitor_Dose  \n",
                            "0                    LPS_0.010_ug_per_ml_DMSO_0.025_%  \n",
                            "1                    LPS_0.010_ug_per_ml_DMSO_0.025_%  \n",
                            "2                    LPS_0.010_ug_per_ml_DMSO_0.025_%  \n",
                            "3                    LPS_0.010_ug_per_ml_DMSO_0.025_%  \n",
                            "4                           DMSO_0.100_%_DMSO_0.025_%  \n",
                            "5                           DMSO_0.100_%_DMSO_0.025_%  \n",
                            "6                           DMSO_0.100_%_DMSO_0.025_%  \n",
                            "7                           DMSO_0.100_%_DMSO_0.025_%  \n",
                            "8                           DMSO_0.100_%_DMSO_0.025_%  \n",
                            "9                           DMSO_0.100_%_DMSO_0.025_%  \n",
                            "10                          DMSO_0.100_%_DMSO_0.025_%  \n",
                            "11                          DMSO_0.100_%_DMSO_0.025_%  \n",
                            "0   LPS_Nigericin_100.000_ug_per_ml_1.000_uM_DMSO_...  \n",
                            "1   LPS_Nigericin_100.000_ug_per_ml_1.000_uM_DMSO_...  \n",
                            "2   LPS_Nigericin_100.000_ug_per_ml_1.000_uM_DMSO_...  "
                        ]
                    },
                    "execution_count": 16,
                    "metadata": {},
                    "output_type": "execute_result"
                }
            ],
            "source": [
                "results_df.head(15)"
            ]
        },
        {
            "cell_type": "markdown",
            "metadata": {},
            "source": [
                "### mAP analysis for shuffled data (Feature space)"
            ]
        },
        {
            "cell_type": "code",
            "execution_count": 17,
            "metadata": {},
            "outputs": [],
            "source": [
                "results_df = pd.DataFrame(\n",
                "    columns=[\n",
                "        \"Metadata_Well\",\n",
                "        \"Metadata_labels\",\n",
                "        \"average_precision\",\n",
                "        \"p_value\",\n",
                "        \"n_pos_pairs\",\n",
                "        \"n_total_pairs\",\n",
                "        \"shuffled\",\n",
                "        \"comparison\",\n",
                "    ]\n",
                ")"
            ]
        },
        {
            "cell_type": "code",
            "execution_count": 18,
            "metadata": {},
            "outputs": [
                {
                    "data": {
                        "application/vnd.jupyter.widget-view+json": {
                            "model_id": "2c2a3e6ddde74b2a80e11709b921332a",
                            "version_major": 2,
                            "version_minor": 0
                        },
                        "text/plain": [
                            "  0%|          | 0/34 [00:00<?, ?it/s]"
                        ]
                    },
                    "metadata": {},
                    "output_type": "display_data"
                },
                {
                    "data": {
                        "application/vnd.jupyter.widget-view+json": {
                            "model_id": "48ae9a454ba6435eaf72eef692748469",
                            "version_major": 2,
                            "version_minor": 0
                        },
                        "text/plain": [
                            "  0%|          | 0/32 [00:00<?, ?it/s]"
                        ]
                    },
                    "metadata": {},
                    "output_type": "display_data"
                },
                {
                    "data": {
                        "application/vnd.jupyter.widget-view+json": {
                            "model_id": "b820f56c51da4685b052def5771cb65e",
                            "version_major": 2,
                            "version_minor": 0
                        },
                        "text/plain": [
                            "  0%|          | 0/2 [00:00<?, ?it/s]"
                        ]
                    },
                    "metadata": {},
                    "output_type": "display_data"
                },
                {
                    "name": "stderr",
                    "output_type": "stream",
                    "text": [
                        "/tmp/ipykernel_780873/1784065866.py:41: FutureWarning: The behavior of DataFrame concatenation with empty or all-NA entries is deprecated. In a future version, this will no longer exclude empty or all-NA columns when determining the result dtypes. To retain the old behavior, exclude the relevant entries before the concat operation.\n",
                        "  results_df = pd.concat([results_df, result], ignore_index=True)\n"
                    ]
                },
                {
                    "data": {
                        "application/vnd.jupyter.widget-view+json": {
                            "model_id": "a8b8c0fe05044ebd81e6ed490aba1fc9",
                            "version_major": 2,
                            "version_minor": 0
                        },
                        "text/plain": [
                            "  0%|          | 0/34 [00:00<?, ?it/s]"
                        ]
                    },
                    "metadata": {},
                    "output_type": "display_data"
                },
                {
                    "data": {
                        "application/vnd.jupyter.widget-view+json": {
                            "model_id": "962e815746d84386bf7ff2fbc95cdb52",
                            "version_major": 2,
                            "version_minor": 0
                        },
                        "text/plain": [
                            "  0%|          | 0/32 [00:00<?, ?it/s]"
                        ]
                    },
                    "metadata": {},
                    "output_type": "display_data"
                },
                {
                    "data": {
                        "application/vnd.jupyter.widget-view+json": {
                            "model_id": "d5189551b54747d4ab65bdc9c1bb1cae",
                            "version_major": 2,
                            "version_minor": 0
                        },
                        "text/plain": [
                            "  0%|          | 0/2 [00:00<?, ?it/s]"
                        ]
                    },
                    "metadata": {},
                    "output_type": "display_data"
                },
                {
                    "data": {
                        "application/vnd.jupyter.widget-view+json": {
                            "model_id": "955d92987bbe4f31b57814666a3cdf05",
                            "version_major": 2,
                            "version_minor": 0
                        },
                        "text/plain": [
                            "  0%|          | 0/43 [00:00<?, ?it/s]"
                        ]
                    },
                    "metadata": {},
                    "output_type": "display_data"
                },
                {
                    "data": {
                        "application/vnd.jupyter.widget-view+json": {
                            "model_id": "653f2b69e76f46148207835ef8b2594d",
                            "version_major": 2,
                            "version_minor": 0
                        },
                        "text/plain": [
                            "  0%|          | 0/48 [00:00<?, ?it/s]"
                        ]
                    },
                    "metadata": {},
                    "output_type": "display_data"
                },
                {
                    "data": {
                        "application/vnd.jupyter.widget-view+json": {
                            "model_id": "4bd86e3f0623436497e5524c807d01c0",
                            "version_major": 2,
                            "version_minor": 0
                        },
                        "text/plain": [
                            "  0%|          | 0/2 [00:00<?, ?it/s]"
                        ]
                    },
                    "metadata": {},
                    "output_type": "display_data"
                },
                {
                    "data": {
                        "application/vnd.jupyter.widget-view+json": {
                            "model_id": "2f5f289f09d34c629c701d390a704611",
                            "version_major": 2,
                            "version_minor": 0
                        },
                        "text/plain": [
                            "  0%|          | 0/34 [00:00<?, ?it/s]"
                        ]
                    },
                    "metadata": {},
                    "output_type": "display_data"
                },
                {
                    "data": {
                        "application/vnd.jupyter.widget-view+json": {
                            "model_id": "3df4498192f5479fb08b41fe4f9194a5",
                            "version_major": 2,
                            "version_minor": 0
                        },
                        "text/plain": [
                            "  0%|          | 0/32 [00:00<?, ?it/s]"
                        ]
                    },
                    "metadata": {},
                    "output_type": "display_data"
                },
                {
                    "data": {
                        "application/vnd.jupyter.widget-view+json": {
                            "model_id": "5302ae004ae9410c8d63f29440a6846b",
                            "version_major": 2,
                            "version_minor": 0
                        },
                        "text/plain": [
                            "  0%|          | 0/2 [00:00<?, ?it/s]"
                        ]
                    },
                    "metadata": {},
                    "output_type": "display_data"
                },
                {
                    "data": {
                        "application/vnd.jupyter.widget-view+json": {
                            "model_id": "388c10fabf614def856f73b8d62215ee",
                            "version_major": 2,
                            "version_minor": 0
                        },
                        "text/plain": [
                            "  0%|          | 0/34 [00:00<?, ?it/s]"
                        ]
                    },
                    "metadata": {},
                    "output_type": "display_data"
                },
                {
                    "data": {
                        "application/vnd.jupyter.widget-view+json": {
                            "model_id": "f52eab31a4524e9caa5fc186859e19c1",
                            "version_major": 2,
                            "version_minor": 0
                        },
                        "text/plain": [
                            "  0%|          | 0/32 [00:00<?, ?it/s]"
                        ]
                    },
                    "metadata": {},
                    "output_type": "display_data"
                },
                {
                    "data": {
                        "application/vnd.jupyter.widget-view+json": {
                            "model_id": "dfe220338ac1423384b2975fa6dee290",
                            "version_major": 2,
                            "version_minor": 0
                        },
                        "text/plain": [
                            "  0%|          | 0/2 [00:00<?, ?it/s]"
                        ]
                    },
                    "metadata": {},
                    "output_type": "display_data"
                },
                {
                    "data": {
                        "application/vnd.jupyter.widget-view+json": {
                            "model_id": "c5e6758b448b4348a1b89916184b0969",
                            "version_major": 2,
                            "version_minor": 0
                        },
                        "text/plain": [
                            "  0%|          | 0/34 [00:00<?, ?it/s]"
                        ]
                    },
                    "metadata": {},
                    "output_type": "display_data"
                },
                {
                    "data": {
                        "application/vnd.jupyter.widget-view+json": {
                            "model_id": "f290d358a04f44e1ade5ba39772a5ef1",
                            "version_major": 2,
                            "version_minor": 0
                        },
                        "text/plain": [
                            "  0%|          | 0/32 [00:00<?, ?it/s]"
                        ]
                    },
                    "metadata": {},
                    "output_type": "display_data"
                },
                {
                    "data": {
                        "application/vnd.jupyter.widget-view+json": {
                            "model_id": "bf7ef166ddd64a3e8b53eef54728e3cd",
                            "version_major": 2,
                            "version_minor": 0
                        },
                        "text/plain": [
                            "  0%|          | 0/2 [00:00<?, ?it/s]"
                        ]
                    },
                    "metadata": {},
                    "output_type": "display_data"
                },
                {
                    "data": {
                        "application/vnd.jupyter.widget-view+json": {
                            "model_id": "5f501b45cae84ef68f2036e7d2597d8f",
                            "version_major": 2,
                            "version_minor": 0
                        },
                        "text/plain": [
                            "  0%|          | 0/34 [00:00<?, ?it/s]"
                        ]
                    },
                    "metadata": {},
                    "output_type": "display_data"
                },
                {
                    "data": {
                        "application/vnd.jupyter.widget-view+json": {
                            "model_id": "a0f4dd9df72f4faa8f2837e86d9998b7",
                            "version_major": 2,
                            "version_minor": 0
                        },
                        "text/plain": [
                            "  0%|          | 0/32 [00:00<?, ?it/s]"
                        ]
                    },
                    "metadata": {},
                    "output_type": "display_data"
                },
                {
                    "data": {
                        "application/vnd.jupyter.widget-view+json": {
                            "model_id": "5546683bf7704aad9c69590ff3faecb2",
                            "version_major": 2,
                            "version_minor": 0
                        },
                        "text/plain": [
                            "  0%|          | 0/2 [00:00<?, ?it/s]"
                        ]
                    },
                    "metadata": {},
                    "output_type": "display_data"
                },
                {
                    "data": {
                        "application/vnd.jupyter.widget-view+json": {
                            "model_id": "f18ff93fb9754ebd9624eb8f0e4c1c4f",
                            "version_major": 2,
                            "version_minor": 0
                        },
                        "text/plain": [
                            "  0%|          | 0/34 [00:00<?, ?it/s]"
                        ]
                    },
                    "metadata": {},
                    "output_type": "display_data"
                },
                {
                    "data": {
                        "application/vnd.jupyter.widget-view+json": {
                            "model_id": "610427c522b24fb6a73aa8a508a57bf7",
                            "version_major": 2,
                            "version_minor": 0
                        },
                        "text/plain": [
                            "  0%|          | 0/32 [00:00<?, ?it/s]"
                        ]
                    },
                    "metadata": {},
                    "output_type": "display_data"
                },
                {
                    "data": {
                        "application/vnd.jupyter.widget-view+json": {
                            "model_id": "ca3824f87f2547d09cee8bb3b24e8437",
                            "version_major": 2,
                            "version_minor": 0
                        },
                        "text/plain": [
                            "  0%|          | 0/2 [00:00<?, ?it/s]"
                        ]
                    },
                    "metadata": {},
                    "output_type": "display_data"
                },
                {
                    "data": {
                        "application/vnd.jupyter.widget-view+json": {
                            "model_id": "e94fdd23f3474bb9be5fac9aa0b6a87c",
                            "version_major": 2,
                            "version_minor": 0
                        },
                        "text/plain": [
                            "  0%|          | 0/34 [00:00<?, ?it/s]"
                        ]
                    },
                    "metadata": {},
                    "output_type": "display_data"
                },
                {
                    "data": {
                        "application/vnd.jupyter.widget-view+json": {
                            "model_id": "2331df016a2c4c5f8150cd2a64abef56",
                            "version_major": 2,
                            "version_minor": 0
                        },
                        "text/plain": [
                            "  0%|          | 0/32 [00:00<?, ?it/s]"
                        ]
                    },
                    "metadata": {},
                    "output_type": "display_data"
                },
                {
                    "data": {
                        "application/vnd.jupyter.widget-view+json": {
                            "model_id": "101ea2da51744685b5ff07427ac7ac19",
                            "version_major": 2,
                            "version_minor": 0
                        },
                        "text/plain": [
                            "  0%|          | 0/2 [00:00<?, ?it/s]"
                        ]
                    },
                    "metadata": {},
                    "output_type": "display_data"
                },
                {
                    "data": {
                        "application/vnd.jupyter.widget-view+json": {
                            "model_id": "b1195c8ee4ed4727982225e385ce7549",
                            "version_major": 2,
                            "version_minor": 0
                        },
                        "text/plain": [
                            "  0%|          | 0/34 [00:00<?, ?it/s]"
                        ]
                    },
                    "metadata": {},
                    "output_type": "display_data"
                },
                {
                    "data": {
                        "application/vnd.jupyter.widget-view+json": {
                            "model_id": "23320679a5ce4e899cd297c9bdcfe76c",
                            "version_major": 2,
                            "version_minor": 0
                        },
                        "text/plain": [
                            "  0%|          | 0/32 [00:00<?, ?it/s]"
                        ]
                    },
                    "metadata": {},
                    "output_type": "display_data"
                },
                {
                    "data": {
                        "application/vnd.jupyter.widget-view+json": {
                            "model_id": "5d5a1df4882849e6884c9bb2c271b54d",
                            "version_major": 2,
                            "version_minor": 0
                        },
                        "text/plain": [
                            "  0%|          | 0/2 [00:00<?, ?it/s]"
                        ]
                    },
                    "metadata": {},
                    "output_type": "display_data"
                },
                {
                    "data": {
                        "application/vnd.jupyter.widget-view+json": {
                            "model_id": "1bc3658238414250b9b3cf05463cefdc",
                            "version_major": 2,
                            "version_minor": 0
                        },
                        "text/plain": [
                            "  0%|          | 0/34 [00:00<?, ?it/s]"
                        ]
                    },
                    "metadata": {},
                    "output_type": "display_data"
                },
                {
                    "data": {
                        "application/vnd.jupyter.widget-view+json": {
                            "model_id": "61de2aa06f8a475585395a2c5619b6d5",
                            "version_major": 2,
                            "version_minor": 0
                        },
                        "text/plain": [
                            "  0%|          | 0/32 [00:00<?, ?it/s]"
                        ]
                    },
                    "metadata": {},
                    "output_type": "display_data"
                },
                {
                    "data": {
                        "application/vnd.jupyter.widget-view+json": {
                            "model_id": "12f44da40f9d475193e4ad90caf25498",
                            "version_major": 2,
                            "version_minor": 0
                        },
                        "text/plain": [
                            "  0%|          | 0/2 [00:00<?, ?it/s]"
                        ]
                    },
                    "metadata": {},
                    "output_type": "display_data"
                },
                {
                    "data": {
                        "application/vnd.jupyter.widget-view+json": {
                            "model_id": "e1cc8f7117a844008960e72eed5c64b9",
                            "version_major": 2,
                            "version_minor": 0
                        },
                        "text/plain": [
                            "  0%|          | 0/34 [00:00<?, ?it/s]"
                        ]
                    },
                    "metadata": {},
                    "output_type": "display_data"
                },
                {
                    "data": {
                        "application/vnd.jupyter.widget-view+json": {
                            "model_id": "c74cde3716814ade9f31d3248fbbda62",
                            "version_major": 2,
                            "version_minor": 0
                        },
                        "text/plain": [
                            "  0%|          | 0/32 [00:00<?, ?it/s]"
                        ]
                    },
                    "metadata": {},
                    "output_type": "display_data"
                },
                {
                    "data": {
                        "application/vnd.jupyter.widget-view+json": {
                            "model_id": "17a1274f92c04b4881dc2df172f9b75e",
                            "version_major": 2,
                            "version_minor": 0
                        },
                        "text/plain": [
                            "  0%|          | 0/2 [00:00<?, ?it/s]"
                        ]
                    },
                    "metadata": {},
                    "output_type": "display_data"
                },
                {
                    "data": {
                        "application/vnd.jupyter.widget-view+json": {
                            "model_id": "1054b4de682948e89c91d238f514c345",
                            "version_major": 2,
                            "version_minor": 0
                        },
                        "text/plain": [
                            "  0%|          | 0/34 [00:00<?, ?it/s]"
                        ]
                    },
                    "metadata": {},
                    "output_type": "display_data"
                },
                {
                    "data": {
                        "application/vnd.jupyter.widget-view+json": {
                            "model_id": "881ce0edaaa44a748d4429151cfa9305",
                            "version_major": 2,
                            "version_minor": 0
                        },
                        "text/plain": [
                            "  0%|          | 0/32 [00:00<?, ?it/s]"
                        ]
                    },
                    "metadata": {},
                    "output_type": "display_data"
                },
                {
                    "data": {
                        "application/vnd.jupyter.widget-view+json": {
                            "model_id": "1003875d1f924d2f8da522c6a5819713",
                            "version_major": 2,
                            "version_minor": 0
                        },
                        "text/plain": [
                            "  0%|          | 0/2 [00:00<?, ?it/s]"
                        ]
                    },
                    "metadata": {},
                    "output_type": "display_data"
                },
                {
                    "data": {
                        "application/vnd.jupyter.widget-view+json": {
                            "model_id": "6b2e265b551b49cfac548492acdeb18c",
                            "version_major": 2,
                            "version_minor": 0
                        },
                        "text/plain": [
                            "  0%|          | 0/34 [00:00<?, ?it/s]"
                        ]
                    },
                    "metadata": {},
                    "output_type": "display_data"
                },
                {
                    "data": {
                        "application/vnd.jupyter.widget-view+json": {
                            "model_id": "aaa83e26e9ff4450b2337cfe7c6525e2",
                            "version_major": 2,
                            "version_minor": 0
                        },
                        "text/plain": [
                            "  0%|          | 0/32 [00:00<?, ?it/s]"
                        ]
                    },
                    "metadata": {},
                    "output_type": "display_data"
                },
                {
                    "data": {
                        "application/vnd.jupyter.widget-view+json": {
                            "model_id": "c2bab453320b46a88ee3a9bd502f97ad",
                            "version_major": 2,
                            "version_minor": 0
                        },
                        "text/plain": [
                            "  0%|          | 0/2 [00:00<?, ?it/s]"
                        ]
                    },
                    "metadata": {},
                    "output_type": "display_data"
                },
                {
                    "data": {
                        "application/vnd.jupyter.widget-view+json": {
                            "model_id": "ff8a9d367a994557a1fa44deac4426e0",
                            "version_major": 2,
                            "version_minor": 0
                        },
                        "text/plain": [
                            "  0%|          | 0/34 [00:00<?, ?it/s]"
                        ]
                    },
                    "metadata": {},
                    "output_type": "display_data"
                },
                {
                    "data": {
                        "application/vnd.jupyter.widget-view+json": {
                            "model_id": "67f0a67fda5148aeb1fcd593ccd291e3",
                            "version_major": 2,
                            "version_minor": 0
                        },
                        "text/plain": [
                            "  0%|          | 0/32 [00:00<?, ?it/s]"
                        ]
                    },
                    "metadata": {},
                    "output_type": "display_data"
                },
                {
                    "data": {
                        "application/vnd.jupyter.widget-view+json": {
                            "model_id": "8e869a93620a4b12a7d292fd21bf43ad",
                            "version_major": 2,
                            "version_minor": 0
                        },
                        "text/plain": [
                            "  0%|          | 0/2 [00:00<?, ?it/s]"
                        ]
                    },
                    "metadata": {},
                    "output_type": "display_data"
                },
                {
                    "data": {
                        "application/vnd.jupyter.widget-view+json": {
                            "model_id": "675310edab5c47feab66c8b7b4ea2610",
                            "version_major": 2,
                            "version_minor": 0
                        },
                        "text/plain": [
                            "  0%|          | 0/34 [00:00<?, ?it/s]"
                        ]
                    },
                    "metadata": {},
                    "output_type": "display_data"
                },
                {
                    "data": {
                        "application/vnd.jupyter.widget-view+json": {
                            "model_id": "15cf98ae35e041f18eda09c0e70e0f41",
                            "version_major": 2,
                            "version_minor": 0
                        },
                        "text/plain": [
                            "  0%|          | 0/32 [00:00<?, ?it/s]"
                        ]
                    },
                    "metadata": {},
                    "output_type": "display_data"
                },
                {
                    "data": {
                        "application/vnd.jupyter.widget-view+json": {
                            "model_id": "719df8d258d4488e9ff59b855287a938",
                            "version_major": 2,
                            "version_minor": 0
                        },
                        "text/plain": [
                            "  0%|          | 0/2 [00:00<?, ?it/s]"
                        ]
                    },
                    "metadata": {},
                    "output_type": "display_data"
                },
                {
                    "data": {
                        "application/vnd.jupyter.widget-view+json": {
                            "model_id": "72cf4a5cae634643b192c45355923e9b",
                            "version_major": 2,
                            "version_minor": 0
                        },
                        "text/plain": [
                            "  0%|          | 0/34 [00:00<?, ?it/s]"
                        ]
                    },
                    "metadata": {},
                    "output_type": "display_data"
                },
                {
                    "data": {
                        "application/vnd.jupyter.widget-view+json": {
                            "model_id": "fc35ec4278ce4fada6749e6505c35c7d",
                            "version_major": 2,
                            "version_minor": 0
                        },
                        "text/plain": [
                            "  0%|          | 0/32 [00:00<?, ?it/s]"
                        ]
                    },
                    "metadata": {},
                    "output_type": "display_data"
                },
                {
                    "data": {
                        "application/vnd.jupyter.widget-view+json": {
                            "model_id": "ada5f732a9f548118cdd656f3a5895f6",
                            "version_major": 2,
                            "version_minor": 0
                        },
                        "text/plain": [
                            "  0%|          | 0/2 [00:00<?, ?it/s]"
                        ]
                    },
                    "metadata": {},
                    "output_type": "display_data"
                },
                {
                    "data": {
                        "application/vnd.jupyter.widget-view+json": {
                            "model_id": "73c4bd44e1b34e4f8398eb07753c4f72",
                            "version_major": 2,
                            "version_minor": 0
                        },
                        "text/plain": [
                            "  0%|          | 0/34 [00:00<?, ?it/s]"
                        ]
                    },
                    "metadata": {},
                    "output_type": "display_data"
                },
                {
                    "data": {
                        "application/vnd.jupyter.widget-view+json": {
                            "model_id": "3fdd25eb8fda4b7db05b40ba036c9668",
                            "version_major": 2,
                            "version_minor": 0
                        },
                        "text/plain": [
                            "  0%|          | 0/32 [00:00<?, ?it/s]"
                        ]
                    },
                    "metadata": {},
                    "output_type": "display_data"
                },
                {
                    "data": {
                        "application/vnd.jupyter.widget-view+json": {
                            "model_id": "7753e11115364f43aef1f6dcbaa6a475",
                            "version_major": 2,
                            "version_minor": 0
                        },
                        "text/plain": [
                            "  0%|          | 0/2 [00:00<?, ?it/s]"
                        ]
                    },
                    "metadata": {},
                    "output_type": "display_data"
                },
                {
                    "data": {
                        "application/vnd.jupyter.widget-view+json": {
                            "model_id": "450fa8ff92af4be3836b4e322332c2aa",
                            "version_major": 2,
                            "version_minor": 0
                        },
                        "text/plain": [
                            "  0%|          | 0/34 [00:00<?, ?it/s]"
                        ]
                    },
                    "metadata": {},
                    "output_type": "display_data"
                },
                {
                    "data": {
                        "application/vnd.jupyter.widget-view+json": {
                            "model_id": "073be520dfad4c25bcb363b00e67e12a",
                            "version_major": 2,
                            "version_minor": 0
                        },
                        "text/plain": [
                            "  0%|          | 0/32 [00:00<?, ?it/s]"
                        ]
                    },
                    "metadata": {},
                    "output_type": "display_data"
                },
                {
                    "data": {
                        "application/vnd.jupyter.widget-view+json": {
                            "model_id": "02db48a28ef243099b0400f3097d9b62",
                            "version_major": 2,
                            "version_minor": 0
                        },
                        "text/plain": [
                            "  0%|          | 0/2 [00:00<?, ?it/s]"
                        ]
                    },
                    "metadata": {},
                    "output_type": "display_data"
                },
                {
                    "data": {
                        "application/vnd.jupyter.widget-view+json": {
                            "model_id": "6786bf81def744c99324e578bd5ec50a",
                            "version_major": 2,
                            "version_minor": 0
                        },
                        "text/plain": [
                            "  0%|          | 0/34 [00:00<?, ?it/s]"
                        ]
                    },
                    "metadata": {},
                    "output_type": "display_data"
                },
                {
                    "data": {
                        "application/vnd.jupyter.widget-view+json": {
                            "model_id": "7c90756ef7fa473386155fa2737ed468",
                            "version_major": 2,
                            "version_minor": 0
                        },
                        "text/plain": [
                            "  0%|          | 0/32 [00:00<?, ?it/s]"
                        ]
                    },
                    "metadata": {},
                    "output_type": "display_data"
                },
                {
                    "data": {
                        "application/vnd.jupyter.widget-view+json": {
                            "model_id": "b33641fb51d741b8be9976c88638a3b8",
                            "version_major": 2,
                            "version_minor": 0
                        },
                        "text/plain": [
                            "  0%|          | 0/2 [00:00<?, ?it/s]"
                        ]
                    },
                    "metadata": {},
                    "output_type": "display_data"
                },
                {
                    "data": {
                        "application/vnd.jupyter.widget-view+json": {
                            "model_id": "3d4c4417cfd24394aeaed2337a9a7f44",
                            "version_major": 2,
                            "version_minor": 0
                        },
                        "text/plain": [
                            "  0%|          | 0/34 [00:00<?, ?it/s]"
                        ]
                    },
                    "metadata": {},
                    "output_type": "display_data"
                },
                {
                    "data": {
                        "application/vnd.jupyter.widget-view+json": {
                            "model_id": "0469528301c646738367db7c4c0f368b",
                            "version_major": 2,
                            "version_minor": 0
                        },
                        "text/plain": [
                            "  0%|          | 0/32 [00:00<?, ?it/s]"
                        ]
                    },
                    "metadata": {},
                    "output_type": "display_data"
                },
                {
                    "data": {
                        "application/vnd.jupyter.widget-view+json": {
                            "model_id": "217598d17d1945a995641f6ed4105eb1",
                            "version_major": 2,
                            "version_minor": 0
                        },
                        "text/plain": [
                            "  0%|          | 0/2 [00:00<?, ?it/s]"
                        ]
                    },
                    "metadata": {},
                    "output_type": "display_data"
                },
                {
                    "data": {
                        "application/vnd.jupyter.widget-view+json": {
                            "model_id": "3ed517eaa3694a1681d173f6974db8d5",
                            "version_major": 2,
                            "version_minor": 0
                        },
                        "text/plain": [
                            "  0%|          | 0/34 [00:00<?, ?it/s]"
                        ]
                    },
                    "metadata": {},
                    "output_type": "display_data"
                },
                {
                    "data": {
                        "application/vnd.jupyter.widget-view+json": {
                            "model_id": "a5f425e34c5448cc9059bbd920ab9de3",
                            "version_major": 2,
                            "version_minor": 0
                        },
                        "text/plain": [
                            "  0%|          | 0/32 [00:00<?, ?it/s]"
                        ]
                    },
                    "metadata": {},
                    "output_type": "display_data"
                },
                {
                    "data": {
                        "application/vnd.jupyter.widget-view+json": {
                            "model_id": "bffd15e22bdc4157a525edf925007ad5",
                            "version_major": 2,
                            "version_minor": 0
                        },
                        "text/plain": [
                            "  0%|          | 0/2 [00:00<?, ?it/s]"
                        ]
                    },
                    "metadata": {},
                    "output_type": "display_data"
                },
                {
                    "data": {
                        "application/vnd.jupyter.widget-view+json": {
                            "model_id": "de6653eb2ab241068c921a4ec8e553b9",
                            "version_major": 2,
                            "version_minor": 0
                        },
                        "text/plain": [
                            "  0%|          | 0/34 [00:00<?, ?it/s]"
                        ]
                    },
                    "metadata": {},
                    "output_type": "display_data"
                },
                {
                    "data": {
                        "application/vnd.jupyter.widget-view+json": {
                            "model_id": "217b49b3304840b3b60c821dcb4fda42",
                            "version_major": 2,
                            "version_minor": 0
                        },
                        "text/plain": [
                            "  0%|          | 0/32 [00:00<?, ?it/s]"
                        ]
                    },
                    "metadata": {},
                    "output_type": "display_data"
                },
                {
                    "data": {
                        "application/vnd.jupyter.widget-view+json": {
                            "model_id": "516422c5a08e48deb43ec2e64eb0254b",
                            "version_major": 2,
                            "version_minor": 0
                        },
                        "text/plain": [
                            "  0%|          | 0/2 [00:00<?, ?it/s]"
                        ]
                    },
                    "metadata": {},
                    "output_type": "display_data"
                },
                {
                    "data": {
                        "application/vnd.jupyter.widget-view+json": {
                            "model_id": "19eacd474bbb41c89e23161665cabac5",
                            "version_major": 2,
                            "version_minor": 0
                        },
                        "text/plain": [
                            "  0%|          | 0/34 [00:00<?, ?it/s]"
                        ]
                    },
                    "metadata": {},
                    "output_type": "display_data"
                },
                {
                    "data": {
                        "application/vnd.jupyter.widget-view+json": {
                            "model_id": "7d742cef247b4b20994fbddf6c044115",
                            "version_major": 2,
                            "version_minor": 0
                        },
                        "text/plain": [
                            "  0%|          | 0/32 [00:00<?, ?it/s]"
                        ]
                    },
                    "metadata": {},
                    "output_type": "display_data"
                },
                {
                    "data": {
                        "application/vnd.jupyter.widget-view+json": {
                            "model_id": "4e9d03c7242e40b98609d0e0111ba4cb",
                            "version_major": 2,
                            "version_minor": 0
                        },
                        "text/plain": [
                            "  0%|          | 0/2 [00:00<?, ?it/s]"
                        ]
                    },
                    "metadata": {},
                    "output_type": "display_data"
                },
                {
                    "data": {
                        "application/vnd.jupyter.widget-view+json": {
                            "model_id": "ebde5344ca554f39b4578e3dcfafbb2a",
                            "version_major": 2,
                            "version_minor": 0
                        },
                        "text/plain": [
                            "  0%|          | 0/34 [00:00<?, ?it/s]"
                        ]
                    },
                    "metadata": {},
                    "output_type": "display_data"
                },
                {
                    "data": {
                        "application/vnd.jupyter.widget-view+json": {
                            "model_id": "6a4c92bc9e0549b9b4bb849de450380c",
                            "version_major": 2,
                            "version_minor": 0
                        },
                        "text/plain": [
                            "  0%|          | 0/32 [00:00<?, ?it/s]"
                        ]
                    },
                    "metadata": {},
                    "output_type": "display_data"
                },
                {
                    "data": {
                        "application/vnd.jupyter.widget-view+json": {
                            "model_id": "ab6fe554f0044877be4014f71b7711ca",
                            "version_major": 2,
                            "version_minor": 0
                        },
                        "text/plain": [
                            "  0%|          | 0/2 [00:00<?, ?it/s]"
                        ]
                    },
                    "metadata": {},
                    "output_type": "display_data"
                },
                {
                    "data": {
                        "application/vnd.jupyter.widget-view+json": {
                            "model_id": "6488c3dbff43474998566970b58fde38",
                            "version_major": 2,
                            "version_minor": 0
                        },
                        "text/plain": [
                            "  0%|          | 0/34 [00:00<?, ?it/s]"
                        ]
                    },
                    "metadata": {},
                    "output_type": "display_data"
                },
                {
                    "data": {
                        "application/vnd.jupyter.widget-view+json": {
                            "model_id": "a244eccf43d141d1b915ab9389927524",
                            "version_major": 2,
                            "version_minor": 0
                        },
                        "text/plain": [
                            "  0%|          | 0/32 [00:00<?, ?it/s]"
                        ]
                    },
                    "metadata": {},
                    "output_type": "display_data"
                },
                {
                    "data": {
                        "application/vnd.jupyter.widget-view+json": {
                            "model_id": "6d5985e76f8c403d93db74cadb6cef4e",
                            "version_major": 2,
                            "version_minor": 0
                        },
                        "text/plain": [
                            "  0%|          | 0/2 [00:00<?, ?it/s]"
                        ]
                    },
                    "metadata": {},
                    "output_type": "display_data"
                },
                {
                    "data": {
                        "application/vnd.jupyter.widget-view+json": {
                            "model_id": "8f3b6a572acf45fba05c5a75a486853e",
                            "version_major": 2,
                            "version_minor": 0
                        },
                        "text/plain": [
                            "  0%|          | 0/34 [00:00<?, ?it/s]"
                        ]
                    },
                    "metadata": {},
                    "output_type": "display_data"
                },
                {
                    "data": {
                        "application/vnd.jupyter.widget-view+json": {
                            "model_id": "ed20c081b48f489d9ca215c9cdc66d76",
                            "version_major": 2,
                            "version_minor": 0
                        },
                        "text/plain": [
                            "  0%|          | 0/32 [00:00<?, ?it/s]"
                        ]
                    },
                    "metadata": {},
                    "output_type": "display_data"
                },
                {
                    "data": {
                        "application/vnd.jupyter.widget-view+json": {
                            "model_id": "81899c49e95d430ba0f5ace1ec7e57aa",
                            "version_major": 2,
                            "version_minor": 0
                        },
                        "text/plain": [
                            "  0%|          | 0/2 [00:00<?, ?it/s]"
                        ]
                    },
                    "metadata": {},
                    "output_type": "display_data"
                },
                {
                    "data": {
                        "application/vnd.jupyter.widget-view+json": {
                            "model_id": "d3bb0325d12541049d92d150d66078d0",
                            "version_major": 2,
                            "version_minor": 0
                        },
                        "text/plain": [
                            "  0%|          | 0/34 [00:00<?, ?it/s]"
                        ]
                    },
                    "metadata": {},
                    "output_type": "display_data"
                },
                {
                    "data": {
                        "application/vnd.jupyter.widget-view+json": {
                            "model_id": "b54d3da253ea4b67ad53615b392164fc",
                            "version_major": 2,
                            "version_minor": 0
                        },
                        "text/plain": [
                            "  0%|          | 0/32 [00:00<?, ?it/s]"
                        ]
                    },
                    "metadata": {},
                    "output_type": "display_data"
                },
                {
                    "data": {
                        "application/vnd.jupyter.widget-view+json": {
                            "model_id": "3a1ddd3be48c4122bbe60f56520b7702",
                            "version_major": 2,
                            "version_minor": 0
                        },
                        "text/plain": [
                            "  0%|          | 0/2 [00:00<?, ?it/s]"
                        ]
                    },
                    "metadata": {},
                    "output_type": "display_data"
                },
                {
                    "data": {
                        "application/vnd.jupyter.widget-view+json": {
                            "model_id": "fc6607cc73404ffd8e03d2617d3476f9",
                            "version_major": 2,
                            "version_minor": 0
                        },
                        "text/plain": [
                            "  0%|          | 0/34 [00:00<?, ?it/s]"
                        ]
                    },
                    "metadata": {},
                    "output_type": "display_data"
                },
                {
                    "data": {
                        "application/vnd.jupyter.widget-view+json": {
                            "model_id": "4c5f381d3d04444283ac988b83c1f120",
                            "version_major": 2,
                            "version_minor": 0
                        },
                        "text/plain": [
                            "  0%|          | 0/32 [00:00<?, ?it/s]"
                        ]
                    },
                    "metadata": {},
                    "output_type": "display_data"
                },
                {
                    "data": {
                        "application/vnd.jupyter.widget-view+json": {
                            "model_id": "325953acc7884dd5a4b2aab51028f41a",
                            "version_major": 2,
                            "version_minor": 0
                        },
                        "text/plain": [
                            "  0%|          | 0/2 [00:00<?, ?it/s]"
                        ]
                    },
                    "metadata": {},
                    "output_type": "display_data"
                },
                {
                    "data": {
                        "application/vnd.jupyter.widget-view+json": {
                            "model_id": "3ab0535509004bfaab6f3b283a1ff0a1",
                            "version_major": 2,
                            "version_minor": 0
                        },
                        "text/plain": [
                            "  0%|          | 0/34 [00:00<?, ?it/s]"
                        ]
                    },
                    "metadata": {},
                    "output_type": "display_data"
                },
                {
                    "data": {
                        "application/vnd.jupyter.widget-view+json": {
                            "model_id": "d794d2099b64493fb89e675dcd9cabc9",
                            "version_major": 2,
                            "version_minor": 0
                        },
                        "text/plain": [
                            "  0%|          | 0/32 [00:00<?, ?it/s]"
                        ]
                    },
                    "metadata": {},
                    "output_type": "display_data"
                },
                {
                    "data": {
                        "application/vnd.jupyter.widget-view+json": {
                            "model_id": "5e026c90f4f54ddfad8804b2075a45a8",
                            "version_major": 2,
                            "version_minor": 0
                        },
                        "text/plain": [
                            "  0%|          | 0/2 [00:00<?, ?it/s]"
                        ]
                    },
                    "metadata": {},
                    "output_type": "display_data"
                },
                {
                    "data": {
                        "application/vnd.jupyter.widget-view+json": {
                            "model_id": "434674be7dd246699eab5a8dd3cf585a",
                            "version_major": 2,
                            "version_minor": 0
                        },
                        "text/plain": [
                            "  0%|          | 0/34 [00:00<?, ?it/s]"
                        ]
                    },
                    "metadata": {},
                    "output_type": "display_data"
                },
                {
                    "data": {
                        "application/vnd.jupyter.widget-view+json": {
                            "model_id": "20c2aa0e8d9041fe83bdb09635b59143",
                            "version_major": 2,
                            "version_minor": 0
                        },
                        "text/plain": [
                            "  0%|          | 0/32 [00:00<?, ?it/s]"
                        ]
                    },
                    "metadata": {},
                    "output_type": "display_data"
                },
                {
                    "data": {
                        "application/vnd.jupyter.widget-view+json": {
                            "model_id": "bf5e04dffbbc445da88dca20478eafcf",
                            "version_major": 2,
                            "version_minor": 0
                        },
                        "text/plain": [
                            "  0%|          | 0/2 [00:00<?, ?it/s]"
                        ]
                    },
                    "metadata": {},
                    "output_type": "display_data"
                },
                {
                    "data": {
                        "application/vnd.jupyter.widget-view+json": {
                            "model_id": "4f4c5a14515e45e9bf4d9419c99948cd",
                            "version_major": 2,
                            "version_minor": 0
                        },
                        "text/plain": [
                            "  0%|          | 0/34 [00:00<?, ?it/s]"
                        ]
                    },
                    "metadata": {},
                    "output_type": "display_data"
                },
                {
                    "data": {
                        "application/vnd.jupyter.widget-view+json": {
                            "model_id": "9cb371a430b54b14aaf45bb6214f4b19",
                            "version_major": 2,
                            "version_minor": 0
                        },
                        "text/plain": [
                            "  0%|          | 0/32 [00:00<?, ?it/s]"
                        ]
                    },
                    "metadata": {},
                    "output_type": "display_data"
                },
                {
                    "data": {
                        "application/vnd.jupyter.widget-view+json": {
                            "model_id": "7c80c036d1ce4fe18526513b4cb8f524",
                            "version_major": 2,
                            "version_minor": 0
                        },
                        "text/plain": [
                            "  0%|          | 0/2 [00:00<?, ?it/s]"
                        ]
                    },
                    "metadata": {},
                    "output_type": "display_data"
                },
                {
                    "data": {
                        "application/vnd.jupyter.widget-view+json": {
                            "model_id": "95e0d87373e140e98da484bc61e183ea",
                            "version_major": 2,
                            "version_minor": 0
                        },
                        "text/plain": [
                            "  0%|          | 0/34 [00:00<?, ?it/s]"
                        ]
                    },
                    "metadata": {},
                    "output_type": "display_data"
                },
                {
                    "data": {
                        "application/vnd.jupyter.widget-view+json": {
                            "model_id": "e5f3e9d0857845e9a8be321f3f727dcc",
                            "version_major": 2,
                            "version_minor": 0
                        },
                        "text/plain": [
                            "  0%|          | 0/32 [00:00<?, ?it/s]"
                        ]
                    },
                    "metadata": {},
                    "output_type": "display_data"
                },
                {
                    "data": {
                        "application/vnd.jupyter.widget-view+json": {
                            "model_id": "463ee051c0404ebcbc5c03e4637921e4",
                            "version_major": 2,
                            "version_minor": 0
                        },
                        "text/plain": [
                            "  0%|          | 0/2 [00:00<?, ?it/s]"
                        ]
                    },
                    "metadata": {},
                    "output_type": "display_data"
                },
                {
                    "data": {
                        "application/vnd.jupyter.widget-view+json": {
                            "model_id": "fec313d7bb6e4eb2bf1500e2749eb860",
                            "version_major": 2,
                            "version_minor": 0
                        },
                        "text/plain": [
                            "  0%|          | 0/34 [00:00<?, ?it/s]"
                        ]
                    },
                    "metadata": {},
                    "output_type": "display_data"
                },
                {
                    "data": {
                        "application/vnd.jupyter.widget-view+json": {
                            "model_id": "d1b45658fb524ee9922f97b241003db4",
                            "version_major": 2,
                            "version_minor": 0
                        },
                        "text/plain": [
                            "  0%|          | 0/32 [00:00<?, ?it/s]"
                        ]
                    },
                    "metadata": {},
                    "output_type": "display_data"
                },
                {
                    "data": {
                        "application/vnd.jupyter.widget-view+json": {
                            "model_id": "ef5032a7666946a9ada213348fa093a1",
                            "version_major": 2,
                            "version_minor": 0
                        },
                        "text/plain": [
                            "  0%|          | 0/2 [00:00<?, ?it/s]"
                        ]
                    },
                    "metadata": {},
                    "output_type": "display_data"
                },
                {
                    "data": {
                        "application/vnd.jupyter.widget-view+json": {
                            "model_id": "176707c97a5446209dbee14562d8d6f0",
                            "version_major": 2,
                            "version_minor": 0
                        },
                        "text/plain": [
                            "  0%|          | 0/34 [00:00<?, ?it/s]"
                        ]
                    },
                    "metadata": {},
                    "output_type": "display_data"
                },
                {
                    "data": {
                        "application/vnd.jupyter.widget-view+json": {
                            "model_id": "acbdbb25480745059f23323d3db708d5",
                            "version_major": 2,
                            "version_minor": 0
                        },
                        "text/plain": [
                            "  0%|          | 0/32 [00:00<?, ?it/s]"
                        ]
                    },
                    "metadata": {},
                    "output_type": "display_data"
                },
                {
                    "data": {
                        "application/vnd.jupyter.widget-view+json": {
                            "model_id": "185c5d04b66242b49cce7cd3917713dc",
                            "version_major": 2,
                            "version_minor": 0
                        },
                        "text/plain": [
                            "  0%|          | 0/2 [00:00<?, ?it/s]"
                        ]
                    },
                    "metadata": {},
                    "output_type": "display_data"
                },
                {
                    "data": {
                        "application/vnd.jupyter.widget-view+json": {
                            "model_id": "478099590aec4f88a6af242a0cca3f5c",
                            "version_major": 2,
                            "version_minor": 0
                        },
                        "text/plain": [
                            "  0%|          | 0/34 [00:00<?, ?it/s]"
                        ]
                    },
                    "metadata": {},
                    "output_type": "display_data"
                },
                {
                    "data": {
                        "application/vnd.jupyter.widget-view+json": {
                            "model_id": "4d19b15950994929a49d8937e22b3f21",
                            "version_major": 2,
                            "version_minor": 0
                        },
                        "text/plain": [
                            "  0%|          | 0/32 [00:00<?, ?it/s]"
                        ]
                    },
                    "metadata": {},
                    "output_type": "display_data"
                },
                {
                    "data": {
                        "application/vnd.jupyter.widget-view+json": {
                            "model_id": "1246e6ac08d84d58b96ea63976dcf33a",
                            "version_major": 2,
                            "version_minor": 0
                        },
                        "text/plain": [
                            "  0%|          | 0/2 [00:00<?, ?it/s]"
                        ]
                    },
                    "metadata": {},
                    "output_type": "display_data"
                },
                {
                    "data": {
                        "text/html": [
                            "<div>\n",
                            "<style scoped>\n",
                            "    .dataframe tbody tr th:only-of-type {\n",
                            "        vertical-align: middle;\n",
                            "    }\n",
                            "\n",
                            "    .dataframe tbody tr th {\n",
                            "        vertical-align: top;\n",
                            "    }\n",
                            "\n",
                            "    .dataframe thead th {\n",
                            "        text-align: right;\n",
                            "    }\n",
                            "</style>\n",
                            "<table border=\"1\" class=\"dataframe\">\n",
                            "  <thead>\n",
                            "    <tr style=\"text-align: right;\">\n",
                            "      <th></th>\n",
                            "      <th>Metadata_Well</th>\n",
                            "      <th>Metadata_labels</th>\n",
                            "      <th>average_precision</th>\n",
                            "      <th>p_value</th>\n",
                            "      <th>n_pos_pairs</th>\n",
                            "      <th>n_total_pairs</th>\n",
                            "      <th>shuffled</th>\n",
                            "      <th>comparison</th>\n",
                            "      <th>oneb_Metadata_Treatment_Dose_Inhibitor_Dose</th>\n",
                            "    </tr>\n",
                            "  </thead>\n",
                            "  <tbody>\n",
                            "    <tr>\n",
                            "      <th>0</th>\n",
                            "      <td>B02</td>\n",
                            "      <td>Pyroptosis</td>\n",
                            "      <td>0.324242</td>\n",
                            "      <td>0.617854</td>\n",
                            "      <td>3.0</td>\n",
                            "      <td>11.0</td>\n",
                            "      <td>shuffled</td>\n",
                            "      <td>LPS_0.010_ug_per_ml_DMSO_0.025_%</td>\n",
                            "      <td>LPS_0.010_ug_per_ml_DMSO_0.025_%</td>\n",
                            "    </tr>\n",
                            "    <tr>\n",
                            "      <th>1</th>\n",
                            "      <td>B03</td>\n",
                            "      <td>Pyroptosis</td>\n",
                            "      <td>0.833333</td>\n",
                            "      <td>0.019000</td>\n",
                            "      <td>3.0</td>\n",
                            "      <td>11.0</td>\n",
                            "      <td>shuffled</td>\n",
                            "      <td>LPS_0.010_ug_per_ml_DMSO_0.025_%</td>\n",
                            "      <td>LPS_0.010_ug_per_ml_DMSO_0.025_%</td>\n",
                            "    </tr>\n",
                            "    <tr>\n",
                            "      <th>2</th>\n",
                            "      <td>B08</td>\n",
                            "      <td>Pyroptosis</td>\n",
                            "      <td>0.444444</td>\n",
                            "      <td>0.368446</td>\n",
                            "      <td>3.0</td>\n",
                            "      <td>11.0</td>\n",
                            "      <td>shuffled</td>\n",
                            "      <td>LPS_0.010_ug_per_ml_DMSO_0.025_%</td>\n",
                            "      <td>LPS_0.010_ug_per_ml_DMSO_0.025_%</td>\n",
                            "    </tr>\n",
                            "    <tr>\n",
                            "      <th>3</th>\n",
                            "      <td>B09</td>\n",
                            "      <td>Pyroptosis</td>\n",
                            "      <td>0.331650</td>\n",
                            "      <td>0.605484</td>\n",
                            "      <td>3.0</td>\n",
                            "      <td>11.0</td>\n",
                            "      <td>shuffled</td>\n",
                            "      <td>LPS_0.010_ug_per_ml_DMSO_0.025_%</td>\n",
                            "      <td>LPS_0.010_ug_per_ml_DMSO_0.025_%</td>\n",
                            "    </tr>\n",
                            "    <tr>\n",
                            "      <th>4</th>\n",
                            "      <td>B06</td>\n",
                            "      <td>Control</td>\n",
                            "      <td>0.837338</td>\n",
                            "      <td>0.162848</td>\n",
                            "      <td>7.0</td>\n",
                            "      <td>11.0</td>\n",
                            "      <td>shuffled</td>\n",
                            "      <td>LPS_0.010_ug_per_ml_DMSO_0.025_%</td>\n",
                            "      <td>DMSO_0.100_%_DMSO_0.025_%</td>\n",
                            "    </tr>\n",
                            "    <tr>\n",
                            "      <th>5</th>\n",
                            "      <td>B07</td>\n",
                            "      <td>Control</td>\n",
                            "      <td>0.927644</td>\n",
                            "      <td>0.029550</td>\n",
                            "      <td>7.0</td>\n",
                            "      <td>11.0</td>\n",
                            "      <td>shuffled</td>\n",
                            "      <td>LPS_0.010_ug_per_ml_DMSO_0.025_%</td>\n",
                            "      <td>DMSO_0.100_%_DMSO_0.025_%</td>\n",
                            "    </tr>\n",
                            "    <tr>\n",
                            "      <th>6</th>\n",
                            "      <td>C06</td>\n",
                            "      <td>Control</td>\n",
                            "      <td>0.725000</td>\n",
                            "      <td>0.441656</td>\n",
                            "      <td>7.0</td>\n",
                            "      <td>11.0</td>\n",
                            "      <td>shuffled</td>\n",
                            "      <td>LPS_0.010_ug_per_ml_DMSO_0.025_%</td>\n",
                            "      <td>DMSO_0.100_%_DMSO_0.025_%</td>\n",
                            "    </tr>\n",
                            "    <tr>\n",
                            "      <th>7</th>\n",
                            "      <td>C07</td>\n",
                            "      <td>Control</td>\n",
                            "      <td>0.565512</td>\n",
                            "      <td>0.882041</td>\n",
                            "      <td>7.0</td>\n",
                            "      <td>11.0</td>\n",
                            "      <td>shuffled</td>\n",
                            "      <td>LPS_0.010_ug_per_ml_DMSO_0.025_%</td>\n",
                            "      <td>DMSO_0.100_%_DMSO_0.025_%</td>\n",
                            "    </tr>\n",
                            "    <tr>\n",
                            "      <th>8</th>\n",
                            "      <td>I06</td>\n",
                            "      <td>Control</td>\n",
                            "      <td>0.763131</td>\n",
                            "      <td>0.338687</td>\n",
                            "      <td>7.0</td>\n",
                            "      <td>11.0</td>\n",
                            "      <td>shuffled</td>\n",
                            "      <td>LPS_0.010_ug_per_ml_DMSO_0.025_%</td>\n",
                            "      <td>DMSO_0.100_%_DMSO_0.025_%</td>\n",
                            "    </tr>\n",
                            "    <tr>\n",
                            "      <th>9</th>\n",
                            "      <td>I07</td>\n",
                            "      <td>Control</td>\n",
                            "      <td>0.580442</td>\n",
                            "      <td>0.845302</td>\n",
                            "      <td>7.0</td>\n",
                            "      <td>11.0</td>\n",
                            "      <td>shuffled</td>\n",
                            "      <td>LPS_0.010_ug_per_ml_DMSO_0.025_%</td>\n",
                            "      <td>DMSO_0.100_%_DMSO_0.025_%</td>\n",
                            "    </tr>\n",
                            "  </tbody>\n",
                            "</table>\n",
                            "</div>"
                        ],
                        "text/plain": [
                            "  Metadata_Well Metadata_labels  average_precision   p_value  n_pos_pairs  \\\n",
                            "0           B02      Pyroptosis           0.324242  0.617854          3.0   \n",
                            "1           B03      Pyroptosis           0.833333  0.019000          3.0   \n",
                            "2           B08      Pyroptosis           0.444444  0.368446          3.0   \n",
                            "3           B09      Pyroptosis           0.331650  0.605484          3.0   \n",
                            "4           B06         Control           0.837338  0.162848          7.0   \n",
                            "5           B07         Control           0.927644  0.029550          7.0   \n",
                            "6           C06         Control           0.725000  0.441656          7.0   \n",
                            "7           C07         Control           0.565512  0.882041          7.0   \n",
                            "8           I06         Control           0.763131  0.338687          7.0   \n",
                            "9           I07         Control           0.580442  0.845302          7.0   \n",
                            "\n",
                            "   n_total_pairs  shuffled                        comparison  \\\n",
                            "0           11.0  shuffled  LPS_0.010_ug_per_ml_DMSO_0.025_%   \n",
                            "1           11.0  shuffled  LPS_0.010_ug_per_ml_DMSO_0.025_%   \n",
                            "2           11.0  shuffled  LPS_0.010_ug_per_ml_DMSO_0.025_%   \n",
                            "3           11.0  shuffled  LPS_0.010_ug_per_ml_DMSO_0.025_%   \n",
                            "4           11.0  shuffled  LPS_0.010_ug_per_ml_DMSO_0.025_%   \n",
                            "5           11.0  shuffled  LPS_0.010_ug_per_ml_DMSO_0.025_%   \n",
                            "6           11.0  shuffled  LPS_0.010_ug_per_ml_DMSO_0.025_%   \n",
                            "7           11.0  shuffled  LPS_0.010_ug_per_ml_DMSO_0.025_%   \n",
                            "8           11.0  shuffled  LPS_0.010_ug_per_ml_DMSO_0.025_%   \n",
                            "9           11.0  shuffled  LPS_0.010_ug_per_ml_DMSO_0.025_%   \n",
                            "\n",
                            "  oneb_Metadata_Treatment_Dose_Inhibitor_Dose  \n",
                            "0            LPS_0.010_ug_per_ml_DMSO_0.025_%  \n",
                            "1            LPS_0.010_ug_per_ml_DMSO_0.025_%  \n",
                            "2            LPS_0.010_ug_per_ml_DMSO_0.025_%  \n",
                            "3            LPS_0.010_ug_per_ml_DMSO_0.025_%  \n",
                            "4                   DMSO_0.100_%_DMSO_0.025_%  \n",
                            "5                   DMSO_0.100_%_DMSO_0.025_%  \n",
                            "6                   DMSO_0.100_%_DMSO_0.025_%  \n",
                            "7                   DMSO_0.100_%_DMSO_0.025_%  \n",
                            "8                   DMSO_0.100_%_DMSO_0.025_%  \n",
                            "9                   DMSO_0.100_%_DMSO_0.025_%  "
                        ]
                    },
                    "execution_count": 18,
                    "metadata": {},
                    "output_type": "execute_result"
                }
            ],
            "source": [
                "for i in df[\"oneb_Metadata_Treatment_Dose_Inhibitor_Dose\"].unique():\n",
                "    # manually get treatment\n",
                "    tmp = df[\n",
                "        df[\"oneb_Metadata_Treatment_Dose_Inhibitor_Dose\"].str.contains(i)\n",
                "    ].reset_index(drop=True)\n",
                "\n",
                "    # concat tmp and concrol_df\n",
                "    tmp1 = pd.concat([tmp, control_df]).reset_index(drop=True)\n",
                "\n",
                "    # spliting metadata and raw feature values\n",
                "    logging.info(\"splitting data set into metadata and raw feature values\")\n",
                "    df_meta, df_feats = utils.split_data(tmp1)\n",
                "    df_feats = np.array(df_feats)\n",
                "    seed = np.random.randint(0, 100)\n",
                "\n",
                "    # shuffling the features, this will overwrite the generated feature space from above with the shuffled one\n",
                "    df_feats = shuffle_features(feature_vals=df_feats, seed=seed)\n",
                "\n",
                "    try:\n",
                "        # execute pipeline on negative control with trianing dataset with cp features\n",
                "\n",
                "        logging.info(f\"Running pipeline on CP features using phenotype\")\n",
                "        result = run_pipeline(\n",
                "            meta=df_meta,\n",
                "            feats=df_feats,\n",
                "            pos_sameby=pos_sameby,\n",
                "            pos_diffby=pos_diffby,\n",
                "            neg_sameby=neg_sameby,\n",
                "            neg_diffby=neg_diffby,\n",
                "            batch_size=batch_size,\n",
                "            null_size=null_size,\n",
                "        )\n",
                "\n",
                "        result[\"shuffled\"] = \"shuffled\"\n",
                "        result[\"comparison\"] = i\n",
                "\n",
                "    except ZeroDivisionError as e:\n",
                "        logging.warning(f\"{e} captured on phenotye:. Skipping\")\n",
                "\n",
                "        # concatenating all datasets\n",
                "    results_df = pd.concat([results_df, result], ignore_index=True)\n",
                "# saving to csv\n",
                "results_df.to_csv(shuffled_feat_space_map_path, index=False)\n",
                "results_df.head(10)"
            ]
        }
    ],
    "metadata": {
        "kernelspec": {
            "display_name": "map",
            "language": "python",
            "name": "python3"
        },
        "language_info": {
            "codemirror_mode": {
                "name": "ipython",
                "version": 3
            },
            "file_extension": ".py",
            "mimetype": "text/x-python",
            "name": "python",
            "nbconvert_exporter": "python",
            "pygments_lexer": "ipython3",
            "version": "3.12.1"
        }
    },
    "nbformat": 4,
    "nbformat_minor": 2
}
