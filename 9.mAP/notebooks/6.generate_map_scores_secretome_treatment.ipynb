{
    "cells": [
        {
            "cell_type": "code",
            "execution_count": 1,
            "metadata": {},
            "outputs": [],
            "source": [
                "import itertools\n",
                "import logging\n",
                "import pathlib\n",
                "import sys\n",
                "from typing import Optional\n",
                "\n",
                "import numpy as np\n",
                "import pandas as pd\n",
                "import toml\n",
                "from copairs.map import run_pipeline\n",
                "from pycytominer import feature_select\n",
                "\n",
                "# imports src\n",
                "sys.path.append(\"../\")\n",
                "from src import utils\n",
                "\n",
                "# setting up logger\n",
                "logging.basicConfig(\n",
                "    filename=\"map_analysis_testing.log\",\n",
                "    level=logging.DEBUG,\n",
                "    format=\"%(levelname)s:%(asctime)s:%(name)s:%(message)s\",\n",
                ")"
            ]
        },
        {
            "cell_type": "markdown",
            "metadata": {},
            "source": [
                "## Helper functions\n",
                "Set of helper functions to help out throughout the notebook"
            ]
        },
        {
            "cell_type": "code",
            "execution_count": 2,
            "metadata": {},
            "outputs": [],
            "source": [
                "## Helper function\n",
                "\n",
                "\n",
                "def shuffle_meta_labels(\n",
                "    dataset: pd.DataFrame, target_col: str, seed: Optional[int] = 0\n",
                ") -> pd.DataFrame:\n",
                "    \"\"\"shuffles labels or values within a single selected column\n",
                "\n",
                "    Parameters\n",
                "    ----------\n",
                "    dataset : pd.DataFrame\n",
                "        dataframe containing the dataset\n",
                "\n",
                "    target_col : str\n",
                "        Column to select in order to conduct the shuffling\n",
                "\n",
                "    seed : int\n",
                "        setting random seed\n",
                "\n",
                "    Returns\n",
                "    -------\n",
                "    pd.DataFrame\n",
                "        shuffled dataset\n",
                "\n",
                "    Raises\n",
                "    ------\n",
                "    TypeError\n",
                "        raised if incorrect types are provided\n",
                "    \"\"\"\n",
                "    # setting seed\n",
                "    np.random.seed(seed)\n",
                "\n",
                "    # type checking\n",
                "    if not isinstance(target_col, str):\n",
                "        raise TypeError(\"'target_col' must be a string type\")\n",
                "    if not isinstance(dataset, pd.DataFrame):\n",
                "        raise TypeError(\"'dataset' must be a pandas dataframe\")\n",
                "\n",
                "    # selecting column, shuffle values within column, add to dataframe\n",
                "    dataset[target_col] = np.random.permutation(dataset[target_col].values)\n",
                "    return dataset\n",
                "\n",
                "\n",
                "def shuffle_features(feature_vals: np.array, seed: Optional[int] = 0) -> np.array:\n",
                "    \"\"\"suffles all values within feature space\n",
                "\n",
                "    Parameters\n",
                "    ----------\n",
                "    feature_vals : np.array\n",
                "        shuffled\n",
                "\n",
                "    seed : Optional[int]\n",
                "        setting random seed\n",
                "\n",
                "    Returns\n",
                "    -------\n",
                "    np.array\n",
                "        Returns shuffled values within the feature space\n",
                "\n",
                "    Raises\n",
                "    ------\n",
                "    TypeError\n",
                "        Raised if a numpy array is not provided\n",
                "    \"\"\"\n",
                "    # setting seed\n",
                "    np.random.seed(seed)\n",
                "\n",
                "    # shuffle given array\n",
                "    if not isinstance(feature_vals, np.ndarray):\n",
                "        raise TypeError(\"'feature_vals' must be a numpy array\")\n",
                "    if feature_vals.ndim != 2:\n",
                "        raise TypeError(\"'feature_vals' must be a 2x2 matrix\")\n",
                "\n",
                "    # creating a copy for feature vales to prevent overwriting of global variables\n",
                "    feature_vals = np.copy(feature_vals)\n",
                "\n",
                "    # shuffling feature space\n",
                "    n_cols = feature_vals.shape[1]\n",
                "    for col_idx in range(0, n_cols):\n",
                "        # selecting column, shuffle, and update:\n",
                "        feature_vals[:, col_idx] = np.random.permutation(feature_vals[:, col_idx])\n",
                "\n",
                "    return feature_vals"
            ]
        },
        {
            "cell_type": "markdown",
            "metadata": {},
            "source": [
                "## Setting up Paths and loading data"
            ]
        },
        {
            "cell_type": "code",
            "execution_count": 3,
            "metadata": {},
            "outputs": [],
            "source": [
                "# load in the treatment groups\n",
                "ground_truth = pathlib.Path(\n",
                "    \"../../4.sc_Morphology_Neural_Network_MLP_Model/MLP_utils/ground_truth.toml\"\n",
                ").resolve(strict=True)\n",
                "# load in the ground truth\n",
                "ground_truth = toml.load(ground_truth)\n",
                "apoptosis_ground_truth = ground_truth[\"Apoptosis\"][\"apoptosis_groups_list\"]\n",
                "pyroptosis_ground_truth = ground_truth[\"Pyroptosis\"][\"pyroptosis_groups_list\"]\n",
                "control_ground_truth = ground_truth[\"Healthy\"][\"healthy_groups_list\"]"
            ]
        },
        {
            "cell_type": "code",
            "execution_count": 4,
            "metadata": {},
            "outputs": [],
            "source": [
                "single_cell_data = pathlib.Path(\n",
                "    f\"../../2.Nomic_nELISA_Analysis/Data/clean/Plate2/nELISA_plate_430420_PBMC_clean.parquet\"\n",
                ").resolve(strict=True)\n",
                "df = pd.read_parquet(single_cell_data)"
            ]
        },
        {
            "cell_type": "code",
            "execution_count": 5,
            "metadata": {},
            "outputs": [
                {
                    "data": {
                        "text/html": [
                            "<div>\n",
                            "<style scoped>\n",
                            "    .dataframe tbody tr th:only-of-type {\n",
                            "        vertical-align: middle;\n",
                            "    }\n",
                            "\n",
                            "    .dataframe tbody tr th {\n",
                            "        vertical-align: top;\n",
                            "    }\n",
                            "\n",
                            "    .dataframe thead th {\n",
                            "        text-align: right;\n",
                            "    }\n",
                            "</style>\n",
                            "<table border=\"1\" class=\"dataframe\">\n",
                            "  <thead>\n",
                            "    <tr style=\"text-align: right;\">\n",
                            "      <th></th>\n",
                            "      <th>plate_name</th>\n",
                            "      <th>plate_barcode</th>\n",
                            "      <th>position_x</th>\n",
                            "      <th>cell_type</th>\n",
                            "      <th>incubation inducer</th>\n",
                            "      <th>inhibitor</th>\n",
                            "      <th>inhibitor_concentration_value</th>\n",
                            "      <th>inhibitor_concentration_unit</th>\n",
                            "      <th>inhibitor_concentration</th>\n",
                            "      <th>inducer1</th>\n",
                            "      <th>...</th>\n",
                            "      <th>VEGF-D [NSU]</th>\n",
                            "      <th>VEGFR-1 [NSU]</th>\n",
                            "      <th>WISP-1 (CCN4) [NSU]</th>\n",
                            "      <th>XCL1 (Lymphotactin) [NSU]</th>\n",
                            "      <th>Treatment</th>\n",
                            "      <th>Dose</th>\n",
                            "      <th>oneb_Treatment_Dose_Inhibitor_Dose</th>\n",
                            "      <th>twob_Treatment_Dose_Inhibitor_Dose</th>\n",
                            "      <th>threeb_Treatment_Dose_Inhibitor_Dose</th>\n",
                            "      <th>fourb_Treatment_Dose_Inhibitor_Dose</th>\n",
                            "    </tr>\n",
                            "  </thead>\n",
                            "  <tbody>\n",
                            "    <tr>\n",
                            "      <th>0</th>\n",
                            "      <td>70117_20230210MM1_P1</td>\n",
                            "      <td>430420</td>\n",
                            "      <td>B06</td>\n",
                            "      <td>PBMC</td>\n",
                            "      <td>6_h</td>\n",
                            "      <td>DMSO</td>\n",
                            "      <td>0.025</td>\n",
                            "      <td>%</td>\n",
                            "      <td>0.030</td>\n",
                            "      <td>DMSO</td>\n",
                            "      <td>...</td>\n",
                            "      <td>0.258834</td>\n",
                            "      <td>0.238358</td>\n",
                            "      <td>0.524276</td>\n",
                            "      <td>0.250670</td>\n",
                            "      <td>DMSO</td>\n",
                            "      <td>0.100_%</td>\n",
                            "      <td>DMSO_0.100_%_DMSO_0.025_%</td>\n",
                            "      <td>DMSO_DMSO_0.100_%</td>\n",
                            "      <td>DMSO__0.100_%__DMSO_0.030</td>\n",
                            "      <td>DMSO__0.100_%__DMSO__0.030</td>\n",
                            "    </tr>\n",
                            "    <tr>\n",
                            "      <th>1</th>\n",
                            "      <td>70117_20230210MM1_P1</td>\n",
                            "      <td>430420</td>\n",
                            "      <td>C06</td>\n",
                            "      <td>PBMC</td>\n",
                            "      <td>6_h</td>\n",
                            "      <td>DMSO</td>\n",
                            "      <td>0.025</td>\n",
                            "      <td>%</td>\n",
                            "      <td>0.030</td>\n",
                            "      <td>DMSO</td>\n",
                            "      <td>...</td>\n",
                            "      <td>0.381170</td>\n",
                            "      <td>0.168645</td>\n",
                            "      <td>0.455092</td>\n",
                            "      <td>0.228752</td>\n",
                            "      <td>DMSO</td>\n",
                            "      <td>0.100_%</td>\n",
                            "      <td>DMSO_0.100_%_DMSO_0.025_%</td>\n",
                            "      <td>DMSO_DMSO_0.100_%</td>\n",
                            "      <td>DMSO__0.100_%__DMSO_0.030</td>\n",
                            "      <td>DMSO__0.100_%__DMSO__0.030</td>\n",
                            "    </tr>\n",
                            "    <tr>\n",
                            "      <th>2</th>\n",
                            "      <td>70117_20230210MM1_P1</td>\n",
                            "      <td>430420</td>\n",
                            "      <td>I06</td>\n",
                            "      <td>PBMC</td>\n",
                            "      <td>6_h</td>\n",
                            "      <td>DMSO</td>\n",
                            "      <td>0.025</td>\n",
                            "      <td>%</td>\n",
                            "      <td>0.030</td>\n",
                            "      <td>DMSO</td>\n",
                            "      <td>...</td>\n",
                            "      <td>0.182956</td>\n",
                            "      <td>0.263281</td>\n",
                            "      <td>0.213596</td>\n",
                            "      <td>0.064645</td>\n",
                            "      <td>DMSO</td>\n",
                            "      <td>0.100_%</td>\n",
                            "      <td>DMSO_0.100_%_DMSO_0.025_%</td>\n",
                            "      <td>DMSO_DMSO_0.100_%</td>\n",
                            "      <td>DMSO__0.100_%__DMSO_0.030</td>\n",
                            "      <td>DMSO__0.100_%__DMSO__0.030</td>\n",
                            "    </tr>\n",
                            "    <tr>\n",
                            "      <th>3</th>\n",
                            "      <td>70117_20230210MM1_P1</td>\n",
                            "      <td>430420</td>\n",
                            "      <td>J06</td>\n",
                            "      <td>PBMC</td>\n",
                            "      <td>6_h</td>\n",
                            "      <td>DMSO</td>\n",
                            "      <td>0.025</td>\n",
                            "      <td>%</td>\n",
                            "      <td>0.030</td>\n",
                            "      <td>DMSO</td>\n",
                            "      <td>...</td>\n",
                            "      <td>0.582053</td>\n",
                            "      <td>0.087565</td>\n",
                            "      <td>0.140992</td>\n",
                            "      <td>0.234191</td>\n",
                            "      <td>DMSO</td>\n",
                            "      <td>0.100_%</td>\n",
                            "      <td>DMSO_0.100_%_DMSO_0.025_%</td>\n",
                            "      <td>DMSO_DMSO_0.100_%</td>\n",
                            "      <td>DMSO__0.100_%__DMSO_0.030</td>\n",
                            "      <td>DMSO__0.100_%__DMSO__0.030</td>\n",
                            "    </tr>\n",
                            "    <tr>\n",
                            "      <th>4</th>\n",
                            "      <td>70117_20230210MM1_P1</td>\n",
                            "      <td>430420</td>\n",
                            "      <td>B07</td>\n",
                            "      <td>PBMC</td>\n",
                            "      <td>6_h</td>\n",
                            "      <td>DMSO</td>\n",
                            "      <td>0.025</td>\n",
                            "      <td>%</td>\n",
                            "      <td>0.030</td>\n",
                            "      <td>DMSO</td>\n",
                            "      <td>...</td>\n",
                            "      <td>0.264141</td>\n",
                            "      <td>0.296782</td>\n",
                            "      <td>0.541689</td>\n",
                            "      <td>0.167078</td>\n",
                            "      <td>DMSO</td>\n",
                            "      <td>0.100_%</td>\n",
                            "      <td>DMSO_0.100_%_DMSO_0.025_%</td>\n",
                            "      <td>DMSO_DMSO_0.100_%</td>\n",
                            "      <td>DMSO__0.100_%__DMSO_0.030</td>\n",
                            "      <td>DMSO__0.100_%__DMSO__0.030</td>\n",
                            "    </tr>\n",
                            "    <tr>\n",
                            "      <th>...</th>\n",
                            "      <td>...</td>\n",
                            "      <td>...</td>\n",
                            "      <td>...</td>\n",
                            "      <td>...</td>\n",
                            "      <td>...</td>\n",
                            "      <td>...</td>\n",
                            "      <td>...</td>\n",
                            "      <td>...</td>\n",
                            "      <td>...</td>\n",
                            "      <td>...</td>\n",
                            "      <td>...</td>\n",
                            "      <td>...</td>\n",
                            "      <td>...</td>\n",
                            "      <td>...</td>\n",
                            "      <td>...</td>\n",
                            "      <td>...</td>\n",
                            "      <td>...</td>\n",
                            "      <td>...</td>\n",
                            "      <td>...</td>\n",
                            "      <td>...</td>\n",
                            "      <td>...</td>\n",
                            "    </tr>\n",
                            "    <tr>\n",
                            "      <th>149</th>\n",
                            "      <td>70117_20230210MM1_P1</td>\n",
                            "      <td>430420</td>\n",
                            "      <td>O05</td>\n",
                            "      <td>PBMC</td>\n",
                            "      <td>6_h</td>\n",
                            "      <td>Media_ctr</td>\n",
                            "      <td>NaN</td>\n",
                            "      <td>nan</td>\n",
                            "      <td>0.0</td>\n",
                            "      <td>media_ctr</td>\n",
                            "      <td>...</td>\n",
                            "      <td>0.275941</td>\n",
                            "      <td>0.312566</td>\n",
                            "      <td>0.286031</td>\n",
                            "      <td>0.288358</td>\n",
                            "      <td>media_ctr</td>\n",
                            "      <td>0.0_nan</td>\n",
                            "      <td>media_ctr_0.0_0_Media_ctr_0.0_0</td>\n",
                            "      <td>media_ctr_Media_ctr_0.0_nan</td>\n",
                            "      <td>media_ctr__0.0_nan__Media_ctr_0.0</td>\n",
                            "      <td>media_ctr__0.0_nan__Media_ctr__0.0</td>\n",
                            "    </tr>\n",
                            "    <tr>\n",
                            "      <th>150</th>\n",
                            "      <td>70117_20230210MM1_P1</td>\n",
                            "      <td>430420</td>\n",
                            "      <td>O10</td>\n",
                            "      <td>PBMC</td>\n",
                            "      <td>6_h</td>\n",
                            "      <td>Media_ctr</td>\n",
                            "      <td>NaN</td>\n",
                            "      <td>nan</td>\n",
                            "      <td>0.0</td>\n",
                            "      <td>media_ctr</td>\n",
                            "      <td>...</td>\n",
                            "      <td>0.450715</td>\n",
                            "      <td>0.178011</td>\n",
                            "      <td>0.621119</td>\n",
                            "      <td>0.229238</td>\n",
                            "      <td>media_ctr</td>\n",
                            "      <td>0.0_nan</td>\n",
                            "      <td>media_ctr_0.0_0_Media_ctr_0.0_0</td>\n",
                            "      <td>media_ctr_Media_ctr_0.0_nan</td>\n",
                            "      <td>media_ctr__0.0_nan__Media_ctr_0.0</td>\n",
                            "      <td>media_ctr__0.0_nan__Media_ctr__0.0</td>\n",
                            "    </tr>\n",
                            "    <tr>\n",
                            "      <th>151</th>\n",
                            "      <td>70117_20230210MM1_P1</td>\n",
                            "      <td>430420</td>\n",
                            "      <td>O11</td>\n",
                            "      <td>PBMC</td>\n",
                            "      <td>6_h</td>\n",
                            "      <td>Media</td>\n",
                            "      <td>NaN</td>\n",
                            "      <td>nan</td>\n",
                            "      <td>0.0</td>\n",
                            "      <td>media_ctr</td>\n",
                            "      <td>...</td>\n",
                            "      <td>0.308965</td>\n",
                            "      <td>0.268730</td>\n",
                            "      <td>0.613026</td>\n",
                            "      <td>0.254080</td>\n",
                            "      <td>media_ctr</td>\n",
                            "      <td>0.0_nan</td>\n",
                            "      <td>media_ctr_0.0_0_Media_0.0_0</td>\n",
                            "      <td>media_ctr_Media_0.0_nan</td>\n",
                            "      <td>media_ctr__0.0_nan__Media_0.0</td>\n",
                            "      <td>media_ctr__0.0_nan__Media__0.0</td>\n",
                            "    </tr>\n",
                            "    <tr>\n",
                            "      <th>152</th>\n",
                            "      <td>70117_20230210MM1_P1</td>\n",
                            "      <td>430420</td>\n",
                            "      <td>B12</td>\n",
                            "      <td>PBMC</td>\n",
                            "      <td>6_h</td>\n",
                            "      <td>Media_ctr</td>\n",
                            "      <td>NaN</td>\n",
                            "      <td>nan</td>\n",
                            "      <td>0.0</td>\n",
                            "      <td>media_ctr</td>\n",
                            "      <td>...</td>\n",
                            "      <td>0.161322</td>\n",
                            "      <td>0.296984</td>\n",
                            "      <td>0.625991</td>\n",
                            "      <td>0.297158</td>\n",
                            "      <td>media_ctr</td>\n",
                            "      <td>0.0_nan</td>\n",
                            "      <td>media_ctr_0.0_0_Media_ctr_0.0_0</td>\n",
                            "      <td>media_ctr_Media_ctr_0.0_nan</td>\n",
                            "      <td>media_ctr__0.0_nan__Media_ctr_0.0</td>\n",
                            "      <td>media_ctr__0.0_nan__Media_ctr__0.0</td>\n",
                            "    </tr>\n",
                            "    <tr>\n",
                            "      <th>153</th>\n",
                            "      <td>70117_20230210MM1_P1</td>\n",
                            "      <td>430420</td>\n",
                            "      <td>I12</td>\n",
                            "      <td>PBMC</td>\n",
                            "      <td>6_h</td>\n",
                            "      <td>Media_ctr</td>\n",
                            "      <td>NaN</td>\n",
                            "      <td>nan</td>\n",
                            "      <td>0.0</td>\n",
                            "      <td>media_ctr</td>\n",
                            "      <td>...</td>\n",
                            "      <td>0.367450</td>\n",
                            "      <td>0.248619</td>\n",
                            "      <td>0.404964</td>\n",
                            "      <td>0.290474</td>\n",
                            "      <td>media_ctr</td>\n",
                            "      <td>0.0_nan</td>\n",
                            "      <td>media_ctr_0.0_0_Media_ctr_0.0_0</td>\n",
                            "      <td>media_ctr_Media_ctr_0.0_nan</td>\n",
                            "      <td>media_ctr__0.0_nan__Media_ctr_0.0</td>\n",
                            "      <td>media_ctr__0.0_nan__Media_ctr__0.0</td>\n",
                            "    </tr>\n",
                            "  </tbody>\n",
                            "</table>\n",
                            "<p>154 rows \u00d7 218 columns</p>\n",
                            "</div>"
                        ],
                        "text/plain": [
                            "               plate_name  plate_barcode position_x cell_type  \\\n",
                            "0    70117_20230210MM1_P1         430420        B06      PBMC   \n",
                            "1    70117_20230210MM1_P1         430420        C06      PBMC   \n",
                            "2    70117_20230210MM1_P1         430420        I06      PBMC   \n",
                            "3    70117_20230210MM1_P1         430420        J06      PBMC   \n",
                            "4    70117_20230210MM1_P1         430420        B07      PBMC   \n",
                            "..                    ...            ...        ...       ...   \n",
                            "149  70117_20230210MM1_P1         430420        O05      PBMC   \n",
                            "150  70117_20230210MM1_P1         430420        O10      PBMC   \n",
                            "151  70117_20230210MM1_P1         430420        O11      PBMC   \n",
                            "152  70117_20230210MM1_P1         430420        B12      PBMC   \n",
                            "153  70117_20230210MM1_P1         430420        I12      PBMC   \n",
                            "\n",
                            "    incubation inducer  inhibitor  inhibitor_concentration_value  \\\n",
                            "0                  6_h       DMSO                          0.025   \n",
                            "1                  6_h       DMSO                          0.025   \n",
                            "2                  6_h       DMSO                          0.025   \n",
                            "3                  6_h       DMSO                          0.025   \n",
                            "4                  6_h       DMSO                          0.025   \n",
                            "..                 ...        ...                            ...   \n",
                            "149                6_h  Media_ctr                            NaN   \n",
                            "150                6_h  Media_ctr                            NaN   \n",
                            "151                6_h      Media                            NaN   \n",
                            "152                6_h  Media_ctr                            NaN   \n",
                            "153                6_h  Media_ctr                            NaN   \n",
                            "\n",
                            "    inhibitor_concentration_unit inhibitor_concentration   inducer1  ...  \\\n",
                            "0                              %                   0.030       DMSO  ...   \n",
                            "1                              %                   0.030       DMSO  ...   \n",
                            "2                              %                   0.030       DMSO  ...   \n",
                            "3                              %                   0.030       DMSO  ...   \n",
                            "4                              %                   0.030       DMSO  ...   \n",
                            "..                           ...                     ...        ...  ...   \n",
                            "149                          nan                     0.0  media_ctr  ...   \n",
                            "150                          nan                     0.0  media_ctr  ...   \n",
                            "151                          nan                     0.0  media_ctr  ...   \n",
                            "152                          nan                     0.0  media_ctr  ...   \n",
                            "153                          nan                     0.0  media_ctr  ...   \n",
                            "\n",
                            "     VEGF-D [NSU] VEGFR-1 [NSU] WISP-1 (CCN4) [NSU] XCL1 (Lymphotactin) [NSU]  \\\n",
                            "0        0.258834      0.238358            0.524276                  0.250670   \n",
                            "1        0.381170      0.168645            0.455092                  0.228752   \n",
                            "2        0.182956      0.263281            0.213596                  0.064645   \n",
                            "3        0.582053      0.087565            0.140992                  0.234191   \n",
                            "4        0.264141      0.296782            0.541689                  0.167078   \n",
                            "..            ...           ...                 ...                       ...   \n",
                            "149      0.275941      0.312566            0.286031                  0.288358   \n",
                            "150      0.450715      0.178011            0.621119                  0.229238   \n",
                            "151      0.308965      0.268730            0.613026                  0.254080   \n",
                            "152      0.161322      0.296984            0.625991                  0.297158   \n",
                            "153      0.367450      0.248619            0.404964                  0.290474   \n",
                            "\n",
                            "     Treatment     Dose oneb_Treatment_Dose_Inhibitor_Dose  \\\n",
                            "0         DMSO  0.100_%          DMSO_0.100_%_DMSO_0.025_%   \n",
                            "1         DMSO  0.100_%          DMSO_0.100_%_DMSO_0.025_%   \n",
                            "2         DMSO  0.100_%          DMSO_0.100_%_DMSO_0.025_%   \n",
                            "3         DMSO  0.100_%          DMSO_0.100_%_DMSO_0.025_%   \n",
                            "4         DMSO  0.100_%          DMSO_0.100_%_DMSO_0.025_%   \n",
                            "..         ...      ...                                ...   \n",
                            "149  media_ctr  0.0_nan    media_ctr_0.0_0_Media_ctr_0.0_0   \n",
                            "150  media_ctr  0.0_nan    media_ctr_0.0_0_Media_ctr_0.0_0   \n",
                            "151  media_ctr  0.0_nan        media_ctr_0.0_0_Media_0.0_0   \n",
                            "152  media_ctr  0.0_nan    media_ctr_0.0_0_Media_ctr_0.0_0   \n",
                            "153  media_ctr  0.0_nan    media_ctr_0.0_0_Media_ctr_0.0_0   \n",
                            "\n",
                            "    twob_Treatment_Dose_Inhibitor_Dose  threeb_Treatment_Dose_Inhibitor_Dose  \\\n",
                            "0                    DMSO_DMSO_0.100_%             DMSO__0.100_%__DMSO_0.030   \n",
                            "1                    DMSO_DMSO_0.100_%             DMSO__0.100_%__DMSO_0.030   \n",
                            "2                    DMSO_DMSO_0.100_%             DMSO__0.100_%__DMSO_0.030   \n",
                            "3                    DMSO_DMSO_0.100_%             DMSO__0.100_%__DMSO_0.030   \n",
                            "4                    DMSO_DMSO_0.100_%             DMSO__0.100_%__DMSO_0.030   \n",
                            "..                                 ...                                   ...   \n",
                            "149        media_ctr_Media_ctr_0.0_nan     media_ctr__0.0_nan__Media_ctr_0.0   \n",
                            "150        media_ctr_Media_ctr_0.0_nan     media_ctr__0.0_nan__Media_ctr_0.0   \n",
                            "151            media_ctr_Media_0.0_nan         media_ctr__0.0_nan__Media_0.0   \n",
                            "152        media_ctr_Media_ctr_0.0_nan     media_ctr__0.0_nan__Media_ctr_0.0   \n",
                            "153        media_ctr_Media_ctr_0.0_nan     media_ctr__0.0_nan__Media_ctr_0.0   \n",
                            "\n",
                            "     fourb_Treatment_Dose_Inhibitor_Dose  \n",
                            "0             DMSO__0.100_%__DMSO__0.030  \n",
                            "1             DMSO__0.100_%__DMSO__0.030  \n",
                            "2             DMSO__0.100_%__DMSO__0.030  \n",
                            "3             DMSO__0.100_%__DMSO__0.030  \n",
                            "4             DMSO__0.100_%__DMSO__0.030  \n",
                            "..                                   ...  \n",
                            "149   media_ctr__0.0_nan__Media_ctr__0.0  \n",
                            "150   media_ctr__0.0_nan__Media_ctr__0.0  \n",
                            "151       media_ctr__0.0_nan__Media__0.0  \n",
                            "152   media_ctr__0.0_nan__Media_ctr__0.0  \n",
                            "153   media_ctr__0.0_nan__Media_ctr__0.0  \n",
                            "\n",
                            "[154 rows x 218 columns]"
                        ]
                    },
                    "execution_count": 5,
                    "metadata": {},
                    "output_type": "execute_result"
                }
            ],
            "source": [
                "df"
            ]
        },
        {
            "cell_type": "code",
            "execution_count": 6,
            "metadata": {},
            "outputs": [],
            "source": [
                "# rename columns\n",
                "df = df.rename(\n",
                "    columns={\n",
                "        \"position_x\": \"Metadata_Well\",\n",
                "        \"oneb_Treatment_Dose_Inhibitor_Dose\": \"oneb_Metadata_Treatment_Dose_Inhibitor_Dose\",\n",
                "    }\n",
                ")"
            ]
        },
        {
            "cell_type": "code",
            "execution_count": 7,
            "metadata": {},
            "outputs": [],
            "source": [
                "# out paths\n",
                "map_out_dir = pathlib.Path(\"../data/processed/mAP_scores/secretome/\")\n",
                "map_out_dir.mkdir(exist_ok=True, parents=True)\n",
                "\n",
                "# regular data output\n",
                "# saving to csv\n",
                "regular_feat_map_path = pathlib.Path(map_out_dir / \"mAP_scores_regular_treatment.csv\")\n",
                "\n",
                "# shuffled data output\n",
                "shuffled_feat_map_path = pathlib.Path(map_out_dir / \"mAP_scores_shuffled_treatment.csv\")\n",
                "\n",
                "# shuffled feature space output\n",
                "shuffled_feat_space_map_path = pathlib.Path(\n",
                "    map_out_dir / \"mAP_scores_shuffled_feature_space_treatment.csv\"\n",
                ")"
            ]
        },
        {
            "cell_type": "markdown",
            "metadata": {},
            "source": [
                "### Clean up data"
            ]
        },
        {
            "cell_type": "code",
            "execution_count": 8,
            "metadata": {},
            "outputs": [
                {
                    "name": "stdout",
                    "output_type": "stream",
                    "text": [
                        "37\n"
                    ]
                }
            ],
            "source": [
                "# keep columns that contain Metdata and ['NSU']\n",
                "df = df.filter(regex=\"Metadata|NSU\")\n",
                "df.head()\n",
                "\n",
                "df[\"oneb_Metadata_Treatment_Dose_Inhibitor_Dose\"].unique()\n",
                "# replace values in the oneb_Metadata_Treatment_Dose_Inhibitor_Dose column\n",
                "df[\"oneb_Metadata_Treatment_Dose_Inhibitor_Dose\"] = df[\n",
                "    \"oneb_Metadata_Treatment_Dose_Inhibitor_Dose\"\n",
                "].replace(\n",
                "    \"Flagellin_0.100_ug_per_ml_DMSO_0.000_%\", \"Flagellin_0.100_ug_per_ml_DMSO_0.025_%\"\n",
                ")\n",
                "df[\"oneb_Metadata_Treatment_Dose_Inhibitor_Dose\"] = df[\n",
                "    \"oneb_Metadata_Treatment_Dose_Inhibitor_Dose\"\n",
                "].replace(\n",
                "    \"Flagellin_0.100_ug_per_ml_DMSO_0.0_%\", \"Flagellin_0.100_ug_per_ml_DMSO_0.025_%\"\n",
                ")\n",
                "df[\"oneb_Metadata_Treatment_Dose_Inhibitor_Dose\"] = df[\n",
                "    \"oneb_Metadata_Treatment_Dose_Inhibitor_Dose\"\n",
                "].replace(\n",
                "    \"Flagellin_1.000_ug_per_ml_DMSO_0.0_%\", \"Flagellin_1.000_ug_per_ml_DMSO_0.025_%\"\n",
                ")\n",
                "df[\"oneb_Metadata_Treatment_Dose_Inhibitor_Dose\"] = df[\n",
                "    \"oneb_Metadata_Treatment_Dose_Inhibitor_Dose\"\n",
                "].replace(\"Flagellin_1.000_0_DMSO_0.025_%\", \"Flagellin_1.000_ug_per_ml_DMSO_0.025_%\")\n",
                "df[\"oneb_Metadata_Treatment_Dose_Inhibitor_Dose\"] = df[\n",
                "    \"oneb_Metadata_Treatment_Dose_Inhibitor_Dose\"\n",
                "].replace(\n",
                "    \"Flagellin_1.000_ug_per_ml_DMSO_0.000_%\", \"Flagellin_1.000_ug_per_ml_DMSO_0.025_%\"\n",
                ")\n",
                "df[\"oneb_Metadata_Treatment_Dose_Inhibitor_Dose\"] = df[\n",
                "    \"oneb_Metadata_Treatment_Dose_Inhibitor_Dose\"\n",
                "].replace(\"media_ctr_0.0_0_Media_0_0\", \"Media\")\n",
                "df[\"oneb_Metadata_Treatment_Dose_Inhibitor_Dose\"] = df[\n",
                "    \"oneb_Metadata_Treatment_Dose_Inhibitor_Dose\"\n",
                "].replace(\"media_ctr_0.0_0_Media_ctr_0.0_0\", \"Media\")\n",
                "df[\"oneb_Metadata_Treatment_Dose_Inhibitor_Dose\"] = df[\n",
                "    \"oneb_Metadata_Treatment_Dose_Inhibitor_Dose\"\n",
                "].replace(\n",
                "    \"Flagellin_1.000_0_Disulfiram_1.000_uM\",\n",
                "    \"Flagellin_1.000_ug_per_ml_Disulfiram_1.000_uM\",\n",
                ")\n",
                "df[\"oneb_Metadata_Treatment_Dose_Inhibitor_Dose\"] = df[\n",
                "    \"oneb_Metadata_Treatment_Dose_Inhibitor_Dose\"\n",
                "].replace(\"media_ctr_0.0_0_Media_0.0_0\", \"Media\")\n",
                "print(len(df[\"oneb_Metadata_Treatment_Dose_Inhibitor_Dose\"].unique()))"
            ]
        },
        {
            "cell_type": "code",
            "execution_count": 9,
            "metadata": {},
            "outputs": [],
            "source": [
                "# add apoptosis, pyroptosis and healthy columns to dataframe\n",
                "df[\"Apoptosis\"] = df.apply(\n",
                "    lambda row: row[\"oneb_Metadata_Treatment_Dose_Inhibitor_Dose\"]\n",
                "    in apoptosis_ground_truth,\n",
                "    axis=1,\n",
                ")\n",
                "df[\"Pyroptosis\"] = df.apply(\n",
                "    lambda row: row[\"oneb_Metadata_Treatment_Dose_Inhibitor_Dose\"]\n",
                "    in pyroptosis_ground_truth,\n",
                "    axis=1,\n",
                ")\n",
                "df[\"Control\"] = df.apply(\n",
                "    lambda row: row[\"oneb_Metadata_Treatment_Dose_Inhibitor_Dose\"]\n",
                "    in control_ground_truth,\n",
                "    axis=1,\n",
                ")\n",
                "\n",
                "# merge apoptosis, pyroptosis, and healthy columns into one column\n",
                "df[\"Metadata_labels\"] = df.apply(\n",
                "    lambda row: \"Apoptosis\"\n",
                "    if row[\"Apoptosis\"]\n",
                "    else \"Pyroptosis\"\n",
                "    if row[\"Pyroptosis\"]\n",
                "    else \"Control\",\n",
                "    axis=1,\n",
                ")\n",
                "# # drop apoptosis, pyroptosis, and healthy columns\n",
                "df.drop(columns=[\"Apoptosis\", \"Pyroptosis\", \"Control\"], inplace=True)"
            ]
        },
        {
            "cell_type": "code",
            "execution_count": 10,
            "metadata": {},
            "outputs": [],
            "source": [
                "# output directories\n",
                "map_out_dir = pathlib.Path(\"../data/processed/mAP_scores/\")\n",
                "map_out_dir.mkdir(parents=True, exist_ok=True)"
            ]
        },
        {
            "cell_type": "markdown",
            "metadata": {},
            "source": [
                "### mAP Pipeline Parameters"
            ]
        },
        {
            "cell_type": "markdown",
            "metadata": {},
            "source": [
                "The null size needs to be determined for the mAP pipeline. This is the size of the null class that is used to determine the mAP score."
            ]
        },
        {
            "cell_type": "code",
            "execution_count": 11,
            "metadata": {},
            "outputs": [
                {
                    "name": "stdout",
                    "output_type": "stream",
                    "text": [
                        "4\n"
                    ]
                },
                {
                    "data": {
                        "text/html": [
                            "<div>\n",
                            "<style scoped>\n",
                            "    .dataframe tbody tr th:only-of-type {\n",
                            "        vertical-align: middle;\n",
                            "    }\n",
                            "\n",
                            "    .dataframe tbody tr th {\n",
                            "        vertical-align: top;\n",
                            "    }\n",
                            "\n",
                            "    .dataframe thead th {\n",
                            "        text-align: right;\n",
                            "    }\n",
                            "</style>\n",
                            "<table border=\"1\" class=\"dataframe\">\n",
                            "  <thead>\n",
                            "    <tr style=\"text-align: right;\">\n",
                            "      <th></th>\n",
                            "      <th>Metadata_Well</th>\n",
                            "      <th>oneb_Metadata_Treatment_Dose_Inhibitor_Dose</th>\n",
                            "    </tr>\n",
                            "  </thead>\n",
                            "  <tbody>\n",
                            "    <tr>\n",
                            "      <th>0</th>\n",
                            "      <td>8</td>\n",
                            "      <td>DMSO_0.100_%_DMSO_0.025_%</td>\n",
                            "    </tr>\n",
                            "    <tr>\n",
                            "      <th>1</th>\n",
                            "      <td>4</td>\n",
                            "      <td>DMSO_0.100_%_DMSO_1.000_%</td>\n",
                            "    </tr>\n",
                            "    <tr>\n",
                            "      <th>2</th>\n",
                            "      <td>4</td>\n",
                            "      <td>DMSO_0.100_%_Z-VAD-FMK_100.000_uM</td>\n",
                            "    </tr>\n",
                            "    <tr>\n",
                            "      <th>3</th>\n",
                            "      <td>4</td>\n",
                            "      <td>DMSO_0.100_%_Z-VAD-FMK_30.000_uM</td>\n",
                            "    </tr>\n",
                            "    <tr>\n",
                            "      <th>4</th>\n",
                            "      <td>4</td>\n",
                            "      <td>Disulfiram_0.100_uM_DMSO_0.025_%</td>\n",
                            "    </tr>\n",
                            "    <tr>\n",
                            "      <th>5</th>\n",
                            "      <td>4</td>\n",
                            "      <td>Disulfiram_1.000_uM_DMSO_0.025_%</td>\n",
                            "    </tr>\n",
                            "    <tr>\n",
                            "      <th>6</th>\n",
                            "      <td>4</td>\n",
                            "      <td>Disulfiram_2.500_uM_DMSO_0.025_%</td>\n",
                            "    </tr>\n",
                            "    <tr>\n",
                            "      <th>7</th>\n",
                            "      <td>4</td>\n",
                            "      <td>Flagellin_0.100_ug_per_ml_DMSO_0.025_%</td>\n",
                            "    </tr>\n",
                            "    <tr>\n",
                            "      <th>8</th>\n",
                            "      <td>4</td>\n",
                            "      <td>Flagellin_1.000_ug_per_ml_DMSO_0.025_%</td>\n",
                            "    </tr>\n",
                            "    <tr>\n",
                            "      <th>9</th>\n",
                            "      <td>4</td>\n",
                            "      <td>Flagellin_1.000_ug_per_ml_Disulfiram_1.000_uM</td>\n",
                            "    </tr>\n",
                            "    <tr>\n",
                            "      <th>10</th>\n",
                            "      <td>4</td>\n",
                            "      <td>H2O2_100.000_nM_DMSO_0.025_%</td>\n",
                            "    </tr>\n",
                            "    <tr>\n",
                            "      <th>11</th>\n",
                            "      <td>4</td>\n",
                            "      <td>H2O2_100.000_uM_DMSO_0.025_%</td>\n",
                            "    </tr>\n",
                            "    <tr>\n",
                            "      <th>12</th>\n",
                            "      <td>4</td>\n",
                            "      <td>H2O2_100.000_uM_Disulfiram_1.000_uM</td>\n",
                            "    </tr>\n",
                            "    <tr>\n",
                            "      <th>13</th>\n",
                            "      <td>4</td>\n",
                            "      <td>H2O2_100.000_uM_Z-VAD-FMK_100.000_uM</td>\n",
                            "    </tr>\n",
                            "    <tr>\n",
                            "      <th>14</th>\n",
                            "      <td>4</td>\n",
                            "      <td>LPS_0.010_ug_per_ml_DMSO_0.025_%</td>\n",
                            "    </tr>\n",
                            "    <tr>\n",
                            "      <th>15</th>\n",
                            "      <td>4</td>\n",
                            "      <td>LPS_0.100_ug_per_ml_DMSO_0.025_%</td>\n",
                            "    </tr>\n",
                            "    <tr>\n",
                            "      <th>16</th>\n",
                            "      <td>4</td>\n",
                            "      <td>LPS_1.000_ug_per_ml_DMSO_0.025_%</td>\n",
                            "    </tr>\n",
                            "    <tr>\n",
                            "      <th>17</th>\n",
                            "      <td>4</td>\n",
                            "      <td>LPS_10.000_ug_per_ml_DMSO_0.025_%</td>\n",
                            "    </tr>\n",
                            "    <tr>\n",
                            "      <th>18</th>\n",
                            "      <td>4</td>\n",
                            "      <td>LPS_10.000_ug_per_ml_Disulfiram_0.100_uM</td>\n",
                            "    </tr>\n",
                            "    <tr>\n",
                            "      <th>19</th>\n",
                            "      <td>4</td>\n",
                            "      <td>LPS_10.000_ug_per_ml_Disulfiram_1.000_uM</td>\n",
                            "    </tr>\n",
                            "    <tr>\n",
                            "      <th>20</th>\n",
                            "      <td>4</td>\n",
                            "      <td>LPS_10.000_ug_per_ml_Disulfiram_2.500_uM</td>\n",
                            "    </tr>\n",
                            "    <tr>\n",
                            "      <th>21</th>\n",
                            "      <td>4</td>\n",
                            "      <td>LPS_10.000_ug_per_ml_Z-VAD-FMK_100.000_uM</td>\n",
                            "    </tr>\n",
                            "    <tr>\n",
                            "      <th>22</th>\n",
                            "      <td>4</td>\n",
                            "      <td>LPS_100.000_ug_per_ml_DMSO_0.025_%</td>\n",
                            "    </tr>\n",
                            "    <tr>\n",
                            "      <th>23</th>\n",
                            "      <td>4</td>\n",
                            "      <td>LPS_Nigericin_1.000_ug_per_ml_1.000_uM_DMSO_0....</td>\n",
                            "    </tr>\n",
                            "    <tr>\n",
                            "      <th>24</th>\n",
                            "      <td>4</td>\n",
                            "      <td>LPS_Nigericin_1.000_ug_per_ml_10.000_uM_DMSO_0...</td>\n",
                            "    </tr>\n",
                            "    <tr>\n",
                            "      <th>25</th>\n",
                            "      <td>4</td>\n",
                            "      <td>LPS_Nigericin_1.000_ug_per_ml_10.000_uM_Disulf...</td>\n",
                            "    </tr>\n",
                            "    <tr>\n",
                            "      <th>26</th>\n",
                            "      <td>4</td>\n",
                            "      <td>LPS_Nigericin_1.000_ug_per_ml_10.000_uM_Z-VAD-...</td>\n",
                            "    </tr>\n",
                            "    <tr>\n",
                            "      <th>27</th>\n",
                            "      <td>4</td>\n",
                            "      <td>LPS_Nigericin_1.000_ug_per_ml_3.000_uM_DMSO_0....</td>\n",
                            "    </tr>\n",
                            "    <tr>\n",
                            "      <th>28</th>\n",
                            "      <td>4</td>\n",
                            "      <td>LPS_Nigericin_100.000_ug_per_ml_1.000_uM_DMSO_...</td>\n",
                            "    </tr>\n",
                            "    <tr>\n",
                            "      <th>29</th>\n",
                            "      <td>4</td>\n",
                            "      <td>LPS_Nigericin_100.000_ug_per_ml_10.000_uM_DMSO...</td>\n",
                            "    </tr>\n",
                            "    <tr>\n",
                            "      <th>30</th>\n",
                            "      <td>4</td>\n",
                            "      <td>LPS_Nigericin_100.000_ug_per_ml_3.000_uM_DMSO_...</td>\n",
                            "    </tr>\n",
                            "    <tr>\n",
                            "      <th>31</th>\n",
                            "      <td>6</td>\n",
                            "      <td>Media</td>\n",
                            "    </tr>\n",
                            "    <tr>\n",
                            "      <th>32</th>\n",
                            "      <td>4</td>\n",
                            "      <td>Thapsigargin_1.000_uM_DMSO_0.025_%</td>\n",
                            "    </tr>\n",
                            "    <tr>\n",
                            "      <th>33</th>\n",
                            "      <td>4</td>\n",
                            "      <td>Thapsigargin_10.000_uM_DMSO_0.025_%</td>\n",
                            "    </tr>\n",
                            "    <tr>\n",
                            "      <th>34</th>\n",
                            "      <td>4</td>\n",
                            "      <td>Topotecan_10.000_nM_DMSO_0.025_%</td>\n",
                            "    </tr>\n",
                            "    <tr>\n",
                            "      <th>35</th>\n",
                            "      <td>4</td>\n",
                            "      <td>Topotecan_20.000_nM_DMSO_0.025_%</td>\n",
                            "    </tr>\n",
                            "    <tr>\n",
                            "      <th>36</th>\n",
                            "      <td>4</td>\n",
                            "      <td>Topotecan_5.000_nM_DMSO_0.025_%</td>\n",
                            "    </tr>\n",
                            "  </tbody>\n",
                            "</table>\n",
                            "</div>"
                        ],
                        "text/plain": [
                            "    Metadata_Well        oneb_Metadata_Treatment_Dose_Inhibitor_Dose\n",
                            "0               8                          DMSO_0.100_%_DMSO_0.025_%\n",
                            "1               4                          DMSO_0.100_%_DMSO_1.000_%\n",
                            "2               4                  DMSO_0.100_%_Z-VAD-FMK_100.000_uM\n",
                            "3               4                   DMSO_0.100_%_Z-VAD-FMK_30.000_uM\n",
                            "4               4                   Disulfiram_0.100_uM_DMSO_0.025_%\n",
                            "5               4                   Disulfiram_1.000_uM_DMSO_0.025_%\n",
                            "6               4                   Disulfiram_2.500_uM_DMSO_0.025_%\n",
                            "7               4             Flagellin_0.100_ug_per_ml_DMSO_0.025_%\n",
                            "8               4             Flagellin_1.000_ug_per_ml_DMSO_0.025_%\n",
                            "9               4      Flagellin_1.000_ug_per_ml_Disulfiram_1.000_uM\n",
                            "10              4                       H2O2_100.000_nM_DMSO_0.025_%\n",
                            "11              4                       H2O2_100.000_uM_DMSO_0.025_%\n",
                            "12              4                H2O2_100.000_uM_Disulfiram_1.000_uM\n",
                            "13              4               H2O2_100.000_uM_Z-VAD-FMK_100.000_uM\n",
                            "14              4                   LPS_0.010_ug_per_ml_DMSO_0.025_%\n",
                            "15              4                   LPS_0.100_ug_per_ml_DMSO_0.025_%\n",
                            "16              4                   LPS_1.000_ug_per_ml_DMSO_0.025_%\n",
                            "17              4                  LPS_10.000_ug_per_ml_DMSO_0.025_%\n",
                            "18              4           LPS_10.000_ug_per_ml_Disulfiram_0.100_uM\n",
                            "19              4           LPS_10.000_ug_per_ml_Disulfiram_1.000_uM\n",
                            "20              4           LPS_10.000_ug_per_ml_Disulfiram_2.500_uM\n",
                            "21              4          LPS_10.000_ug_per_ml_Z-VAD-FMK_100.000_uM\n",
                            "22              4                 LPS_100.000_ug_per_ml_DMSO_0.025_%\n",
                            "23              4  LPS_Nigericin_1.000_ug_per_ml_1.000_uM_DMSO_0....\n",
                            "24              4  LPS_Nigericin_1.000_ug_per_ml_10.000_uM_DMSO_0...\n",
                            "25              4  LPS_Nigericin_1.000_ug_per_ml_10.000_uM_Disulf...\n",
                            "26              4  LPS_Nigericin_1.000_ug_per_ml_10.000_uM_Z-VAD-...\n",
                            "27              4  LPS_Nigericin_1.000_ug_per_ml_3.000_uM_DMSO_0....\n",
                            "28              4  LPS_Nigericin_100.000_ug_per_ml_1.000_uM_DMSO_...\n",
                            "29              4  LPS_Nigericin_100.000_ug_per_ml_10.000_uM_DMSO...\n",
                            "30              4  LPS_Nigericin_100.000_ug_per_ml_3.000_uM_DMSO_...\n",
                            "31              6                                              Media\n",
                            "32              4                 Thapsigargin_1.000_uM_DMSO_0.025_%\n",
                            "33              4                Thapsigargin_10.000_uM_DMSO_0.025_%\n",
                            "34              4                   Topotecan_10.000_nM_DMSO_0.025_%\n",
                            "35              4                   Topotecan_20.000_nM_DMSO_0.025_%\n",
                            "36              4                    Topotecan_5.000_nM_DMSO_0.025_%"
                        ]
                    },
                    "execution_count": 11,
                    "metadata": {},
                    "output_type": "execute_result"
                }
            ],
            "source": [
                "tmp = (\n",
                "    df.groupby([\"oneb_Metadata_Treatment_Dose_Inhibitor_Dose\"])\n",
                "    .count()\n",
                "    .reset_index()[[\"Metadata_Well\", \"oneb_Metadata_Treatment_Dose_Inhibitor_Dose\"]]\n",
                ")\n",
                "# get the Pyroptosis number of Metadata_Well\n",
                "# get the counts of each oneb_Metadata_Treatment_Dose_Inhibitor_Dose\n",
                "min_count = tmp[\"Metadata_Well\"].min()\n",
                "print(min_count)\n",
                "tmp"
            ]
        },
        {
            "cell_type": "code",
            "execution_count": 12,
            "metadata": {},
            "outputs": [
                {
                    "data": {
                        "text/plain": [
                            "[('Control', 'Pyroptosis'),\n",
                            " ('Control', 'Apoptosis'),\n",
                            " ('Pyroptosis', 'Apoptosis')]"
                        ]
                    },
                    "execution_count": 12,
                    "metadata": {},
                    "output_type": "execute_result"
                }
            ],
            "source": [
                "# generate the permutations of cell death labels via itertools\n",
                "pos_samby_permutations = list(itertools.combinations(df[\"Metadata_labels\"].unique(), 2))\n",
                "pos_samby_permutations"
            ]
        },
        {
            "cell_type": "code",
            "execution_count": 13,
            "metadata": {},
            "outputs": [],
            "source": [
                "pos_sameby = [\"oneb_Metadata_Treatment_Dose_Inhibitor_Dose\"]\n",
                "pos_diffby = [\"Metadata_Well\"]\n",
                "\n",
                "neg_sameby = [\"Metadata_labels\"]\n",
                "neg_diffby = [\n",
                "    \"oneb_Metadata_Treatment_Dose_Inhibitor_Dose\",\n",
                "]\n",
                "\n",
                "null_size = min_count\n",
                "batch_size = 1\n",
                "\n",
                "# number of resampling\n",
                "n_resamples = 10"
            ]
        },
        {
            "cell_type": "markdown",
            "metadata": {},
            "source": [
                "### mAP analysis for non-shuffled data"
            ]
        },
        {
            "cell_type": "code",
            "execution_count": 14,
            "metadata": {},
            "outputs": [],
            "source": [
                "results_df = pd.DataFrame(\n",
                "    columns=[\n",
                "        \"Metadata_Well\",\n",
                "        \"Metadata_labels\",\n",
                "        \"average_precision\",\n",
                "        \"p_value\",\n",
                "        \"n_pos_pairs\",\n",
                "        \"n_total_pairs\",\n",
                "        \"shuffled\",\n",
                "        \"comparison\",\n",
                "    ]\n",
                ")"
            ]
        },
        {
            "cell_type": "code",
            "execution_count": 15,
            "metadata": {},
            "outputs": [
                {
                    "data": {
                        "application/vnd.jupyter.widget-view+json": {
                            "model_id": "644b1a07ce9c491495279e9be9d9578d",
                            "version_major": 2,
                            "version_minor": 0
                        },
                        "text/plain": [
                            "  0%|          | 0/130 [00:00<?, ?it/s]"
                        ]
                    },
                    "metadata": {},
                    "output_type": "display_data"
                },
                {
                    "data": {
                        "application/vnd.jupyter.widget-view+json": {
                            "model_id": "be34e302507b4f3e9fbf69760fe9c394",
                            "version_major": 2,
                            "version_minor": 0
                        },
                        "text/plain": [
                            "  0%|          | 0/2176 [00:00<?, ?it/s]"
                        ]
                    },
                    "metadata": {},
                    "output_type": "display_data"
                },
                {
                    "data": {
                        "application/vnd.jupyter.widget-view+json": {
                            "model_id": "b51c7ac6227b48e184326ab267eb1364",
                            "version_major": 2,
                            "version_minor": 0
                        },
                        "text/plain": [
                            "  0%|          | 0/2 [00:00<?, ?it/s]"
                        ]
                    },
                    "metadata": {},
                    "output_type": "display_data"
                },
                {
                    "name": "stderr",
                    "output_type": "stream",
                    "text": [
                        "/tmp/ipykernel_532780/178303504.py:51: FutureWarning: The behavior of DataFrame concatenation with empty or all-NA entries is deprecated. In a future version, this will no longer exclude empty or all-NA columns when determining the result dtypes. To retain the old behavior, exclude the relevant entries before the concat operation.\n",
                        "  results_df = pd.concat([results_df, result], ignore_index=True)\n"
                    ]
                },
                {
                    "data": {
                        "application/vnd.jupyter.widget-view+json": {
                            "model_id": "4519ac93ca554b7f91ce474ba396eb36",
                            "version_major": 2,
                            "version_minor": 0
                        },
                        "text/plain": [
                            "  0%|          | 0/28 [00:00<?, ?it/s]"
                        ]
                    },
                    "metadata": {},
                    "output_type": "display_data"
                },
                {
                    "data": {
                        "application/vnd.jupyter.widget-view+json": {
                            "model_id": "e8086a7e89be4122a59f9eb6ba4ba001",
                            "version_major": 2,
                            "version_minor": 0
                        },
                        "text/plain": [
                            "  0%|          | 0/108 [00:00<?, ?it/s]"
                        ]
                    },
                    "metadata": {},
                    "output_type": "display_data"
                },
                {
                    "data": {
                        "application/vnd.jupyter.widget-view+json": {
                            "model_id": "be34c3614efd4600a5d2fcaecb942f34",
                            "version_major": 2,
                            "version_minor": 0
                        },
                        "text/plain": [
                            "  0%|          | 0/2176 [00:00<?, ?it/s]"
                        ]
                    },
                    "metadata": {},
                    "output_type": "display_data"
                },
                {
                    "data": {
                        "application/vnd.jupyter.widget-view+json": {
                            "model_id": "125c9e3e5d4f40b19416640c2d0d5545",
                            "version_major": 2,
                            "version_minor": 0
                        },
                        "text/plain": [
                            "  0%|          | 0/2 [00:00<?, ?it/s]"
                        ]
                    },
                    "metadata": {},
                    "output_type": "display_data"
                },
                {
                    "data": {
                        "application/vnd.jupyter.widget-view+json": {
                            "model_id": "7df4e62e745140dd9b221f2eb53c0074",
                            "version_major": 2,
                            "version_minor": 0
                        },
                        "text/plain": [
                            "  0%|          | 0/6 [00:00<?, ?it/s]"
                        ]
                    },
                    "metadata": {},
                    "output_type": "display_data"
                },
                {
                    "data": {
                        "application/vnd.jupyter.widget-view+json": {
                            "model_id": "4e392d8e46d34f378ec51e303c07ee6d",
                            "version_major": 2,
                            "version_minor": 0
                        },
                        "text/plain": [
                            "  0%|          | 0/108 [00:00<?, ?it/s]"
                        ]
                    },
                    "metadata": {},
                    "output_type": "display_data"
                },
                {
                    "data": {
                        "application/vnd.jupyter.widget-view+json": {
                            "model_id": "b4d8170daf344ea0971cac0292b37108",
                            "version_major": 2,
                            "version_minor": 0
                        },
                        "text/plain": [
                            "  0%|          | 0/2176 [00:00<?, ?it/s]"
                        ]
                    },
                    "metadata": {},
                    "output_type": "display_data"
                },
                {
                    "data": {
                        "application/vnd.jupyter.widget-view+json": {
                            "model_id": "e748c19dae554d3fbe5d2385781bf3bf",
                            "version_major": 2,
                            "version_minor": 0
                        },
                        "text/plain": [
                            "  0%|          | 0/2 [00:00<?, ?it/s]"
                        ]
                    },
                    "metadata": {},
                    "output_type": "display_data"
                },
                {
                    "data": {
                        "application/vnd.jupyter.widget-view+json": {
                            "model_id": "f4227c1ea27e4ef7836b8d6b7bead4e7",
                            "version_major": 2,
                            "version_minor": 0
                        },
                        "text/plain": [
                            "  0%|          | 0/6 [00:00<?, ?it/s]"
                        ]
                    },
                    "metadata": {},
                    "output_type": "display_data"
                },
                {
                    "data": {
                        "application/vnd.jupyter.widget-view+json": {
                            "model_id": "e0346fabd25e4047a566d17c39da8403",
                            "version_major": 2,
                            "version_minor": 0
                        },
                        "text/plain": [
                            "  0%|          | 0/108 [00:00<?, ?it/s]"
                        ]
                    },
                    "metadata": {},
                    "output_type": "display_data"
                },
                {
                    "data": {
                        "application/vnd.jupyter.widget-view+json": {
                            "model_id": "f9dc7d6fd3414030908810d15791f152",
                            "version_major": 2,
                            "version_minor": 0
                        },
                        "text/plain": [
                            "  0%|          | 0/2176 [00:00<?, ?it/s]"
                        ]
                    },
                    "metadata": {},
                    "output_type": "display_data"
                },
                {
                    "data": {
                        "application/vnd.jupyter.widget-view+json": {
                            "model_id": "0b606850273a4d4ab6f548784c3e3aae",
                            "version_major": 2,
                            "version_minor": 0
                        },
                        "text/plain": [
                            "  0%|          | 0/2 [00:00<?, ?it/s]"
                        ]
                    },
                    "metadata": {},
                    "output_type": "display_data"
                },
                {
                    "data": {
                        "application/vnd.jupyter.widget-view+json": {
                            "model_id": "db737b932ed047349f170db9d2301f58",
                            "version_major": 2,
                            "version_minor": 0
                        },
                        "text/plain": [
                            "  0%|          | 0/6 [00:00<?, ?it/s]"
                        ]
                    },
                    "metadata": {},
                    "output_type": "display_data"
                },
                {
                    "data": {
                        "application/vnd.jupyter.widget-view+json": {
                            "model_id": "f8d135d08d7e4c84b0e7395baef6fd8f",
                            "version_major": 2,
                            "version_minor": 0
                        },
                        "text/plain": [
                            "  0%|          | 0/145 [00:00<?, ?it/s]"
                        ]
                    },
                    "metadata": {},
                    "output_type": "display_data"
                },
                {
                    "data": {
                        "application/vnd.jupyter.widget-view+json": {
                            "model_id": "50fdee5b5c594be79d5245d8e4657a79",
                            "version_major": 2,
                            "version_minor": 0
                        },
                        "text/plain": [
                            "  0%|          | 0/2864 [00:00<?, ?it/s]"
                        ]
                    },
                    "metadata": {},
                    "output_type": "display_data"
                },
                {
                    "data": {
                        "application/vnd.jupyter.widget-view+json": {
                            "model_id": "a86f7f486dc24a68807625cc86f94c33",
                            "version_major": 2,
                            "version_minor": 0
                        },
                        "text/plain": [
                            "  0%|          | 0/4 [00:00<?, ?it/s]"
                        ]
                    },
                    "metadata": {},
                    "output_type": "display_data"
                },
                {
                    "data": {
                        "application/vnd.jupyter.widget-view+json": {
                            "model_id": "bb9759d22b884d8c98cf2a27db005ee2",
                            "version_major": 2,
                            "version_minor": 0
                        },
                        "text/plain": [
                            "  0%|          | 0/6 [00:00<?, ?it/s]"
                        ]
                    },
                    "metadata": {},
                    "output_type": "display_data"
                },
                {
                    "data": {
                        "application/vnd.jupyter.widget-view+json": {
                            "model_id": "d9a455a7bb4a4caea81610dd8417fde8",
                            "version_major": 2,
                            "version_minor": 0
                        },
                        "text/plain": [
                            "  0%|          | 0/145 [00:00<?, ?it/s]"
                        ]
                    },
                    "metadata": {},
                    "output_type": "display_data"
                },
                {
                    "data": {
                        "application/vnd.jupyter.widget-view+json": {
                            "model_id": "a425ce8d69214c939638defd43f51122",
                            "version_major": 2,
                            "version_minor": 0
                        },
                        "text/plain": [
                            "  0%|          | 0/2864 [00:00<?, ?it/s]"
                        ]
                    },
                    "metadata": {},
                    "output_type": "display_data"
                },
                {
                    "data": {
                        "application/vnd.jupyter.widget-view+json": {
                            "model_id": "f90a2ea5504b4cd2b16b80d1b47dedf7",
                            "version_major": 2,
                            "version_minor": 0
                        },
                        "text/plain": [
                            "  0%|          | 0/4 [00:00<?, ?it/s]"
                        ]
                    },
                    "metadata": {},
                    "output_type": "display_data"
                },
                {
                    "data": {
                        "application/vnd.jupyter.widget-view+json": {
                            "model_id": "66b871902929457e8e3ea449051cd14a",
                            "version_major": 2,
                            "version_minor": 0
                        },
                        "text/plain": [
                            "  0%|          | 0/6 [00:00<?, ?it/s]"
                        ]
                    },
                    "metadata": {},
                    "output_type": "display_data"
                },
                {
                    "data": {
                        "application/vnd.jupyter.widget-view+json": {
                            "model_id": "9517bdd13bdf4445869f7c14892a6b2e",
                            "version_major": 2,
                            "version_minor": 0
                        },
                        "text/plain": [
                            "  0%|          | 0/145 [00:00<?, ?it/s]"
                        ]
                    },
                    "metadata": {},
                    "output_type": "display_data"
                },
                {
                    "data": {
                        "application/vnd.jupyter.widget-view+json": {
                            "model_id": "d1fc01f026a043358c79e2c84fa8a7d2",
                            "version_major": 2,
                            "version_minor": 0
                        },
                        "text/plain": [
                            "  0%|          | 0/2864 [00:00<?, ?it/s]"
                        ]
                    },
                    "metadata": {},
                    "output_type": "display_data"
                },
                {
                    "data": {
                        "application/vnd.jupyter.widget-view+json": {
                            "model_id": "11f97be9cd624b1bb9530a1e44e1af81",
                            "version_major": 2,
                            "version_minor": 0
                        },
                        "text/plain": [
                            "  0%|          | 0/4 [00:00<?, ?it/s]"
                        ]
                    },
                    "metadata": {},
                    "output_type": "display_data"
                },
                {
                    "data": {
                        "application/vnd.jupyter.widget-view+json": {
                            "model_id": "e14aff90c60f45d0a0216e1a0eddf1d6",
                            "version_major": 2,
                            "version_minor": 0
                        },
                        "text/plain": [
                            "  0%|          | 0/6 [00:00<?, ?it/s]"
                        ]
                    },
                    "metadata": {},
                    "output_type": "display_data"
                },
                {
                    "data": {
                        "application/vnd.jupyter.widget-view+json": {
                            "model_id": "6c09a96a9b1a46e8bd46b8ef4b76aa2d",
                            "version_major": 2,
                            "version_minor": 0
                        },
                        "text/plain": [
                            "  0%|          | 0/145 [00:00<?, ?it/s]"
                        ]
                    },
                    "metadata": {},
                    "output_type": "display_data"
                },
                {
                    "data": {
                        "application/vnd.jupyter.widget-view+json": {
                            "model_id": "ae33735e0ae943c6a8303937845471ba",
                            "version_major": 2,
                            "version_minor": 0
                        },
                        "text/plain": [
                            "  0%|          | 0/2864 [00:00<?, ?it/s]"
                        ]
                    },
                    "metadata": {},
                    "output_type": "display_data"
                },
                {
                    "data": {
                        "application/vnd.jupyter.widget-view+json": {
                            "model_id": "d00090a8c94a4e60823fc642397054b8",
                            "version_major": 2,
                            "version_minor": 0
                        },
                        "text/plain": [
                            "  0%|          | 0/4 [00:00<?, ?it/s]"
                        ]
                    },
                    "metadata": {},
                    "output_type": "display_data"
                },
                {
                    "data": {
                        "application/vnd.jupyter.widget-view+json": {
                            "model_id": "2a5df2da7c324d5abaf20044369e9c6c",
                            "version_major": 2,
                            "version_minor": 0
                        },
                        "text/plain": [
                            "  0%|          | 0/6 [00:00<?, ?it/s]"
                        ]
                    },
                    "metadata": {},
                    "output_type": "display_data"
                },
                {
                    "data": {
                        "application/vnd.jupyter.widget-view+json": {
                            "model_id": "ed69ee6d5ea14a98adefaa5f5fb55163",
                            "version_major": 2,
                            "version_minor": 0
                        },
                        "text/plain": [
                            "  0%|          | 0/108 [00:00<?, ?it/s]"
                        ]
                    },
                    "metadata": {},
                    "output_type": "display_data"
                },
                {
                    "data": {
                        "application/vnd.jupyter.widget-view+json": {
                            "model_id": "9a51ff8a7d134a228e214e928e2a3b73",
                            "version_major": 2,
                            "version_minor": 0
                        },
                        "text/plain": [
                            "  0%|          | 0/2176 [00:00<?, ?it/s]"
                        ]
                    },
                    "metadata": {},
                    "output_type": "display_data"
                },
                {
                    "data": {
                        "application/vnd.jupyter.widget-view+json": {
                            "model_id": "8d2b7b0a4547440e906a2c2fa3512a1c",
                            "version_major": 2,
                            "version_minor": 0
                        },
                        "text/plain": [
                            "  0%|          | 0/2 [00:00<?, ?it/s]"
                        ]
                    },
                    "metadata": {},
                    "output_type": "display_data"
                },
                {
                    "data": {
                        "application/vnd.jupyter.widget-view+json": {
                            "model_id": "4e9ea1750ddf43e88c89334454b2a292",
                            "version_major": 2,
                            "version_minor": 0
                        },
                        "text/plain": [
                            "  0%|          | 0/6 [00:00<?, ?it/s]"
                        ]
                    },
                    "metadata": {},
                    "output_type": "display_data"
                },
                {
                    "data": {
                        "application/vnd.jupyter.widget-view+json": {
                            "model_id": "27086e57910e4da289571dd967f1256a",
                            "version_major": 2,
                            "version_minor": 0
                        },
                        "text/plain": [
                            "  0%|          | 0/108 [00:00<?, ?it/s]"
                        ]
                    },
                    "metadata": {},
                    "output_type": "display_data"
                },
                {
                    "data": {
                        "application/vnd.jupyter.widget-view+json": {
                            "model_id": "07fc934332bd4c0e8fec9c992155633f",
                            "version_major": 2,
                            "version_minor": 0
                        },
                        "text/plain": [
                            "  0%|          | 0/2176 [00:00<?, ?it/s]"
                        ]
                    },
                    "metadata": {},
                    "output_type": "display_data"
                },
                {
                    "data": {
                        "application/vnd.jupyter.widget-view+json": {
                            "model_id": "08f29530cdf34eb594cae6c4ff2f9833",
                            "version_major": 2,
                            "version_minor": 0
                        },
                        "text/plain": [
                            "  0%|          | 0/2 [00:00<?, ?it/s]"
                        ]
                    },
                    "metadata": {},
                    "output_type": "display_data"
                },
                {
                    "data": {
                        "application/vnd.jupyter.widget-view+json": {
                            "model_id": "90ffef0b70e748d199ad77ece59d1c28",
                            "version_major": 2,
                            "version_minor": 0
                        },
                        "text/plain": [
                            "  0%|          | 0/6 [00:00<?, ?it/s]"
                        ]
                    },
                    "metadata": {},
                    "output_type": "display_data"
                },
                {
                    "data": {
                        "application/vnd.jupyter.widget-view+json": {
                            "model_id": "25146592b53f45718fe8fe20a6d2f10b",
                            "version_major": 2,
                            "version_minor": 0
                        },
                        "text/plain": [
                            "  0%|          | 0/145 [00:00<?, ?it/s]"
                        ]
                    },
                    "metadata": {},
                    "output_type": "display_data"
                },
                {
                    "data": {
                        "application/vnd.jupyter.widget-view+json": {
                            "model_id": "5399958db1a94b69800f836ef6e3ac06",
                            "version_major": 2,
                            "version_minor": 0
                        },
                        "text/plain": [
                            "  0%|          | 0/2864 [00:00<?, ?it/s]"
                        ]
                    },
                    "metadata": {},
                    "output_type": "display_data"
                },
                {
                    "data": {
                        "application/vnd.jupyter.widget-view+json": {
                            "model_id": "e92df118a7944543a71e2c70a765602d",
                            "version_major": 2,
                            "version_minor": 0
                        },
                        "text/plain": [
                            "  0%|          | 0/4 [00:00<?, ?it/s]"
                        ]
                    },
                    "metadata": {},
                    "output_type": "display_data"
                },
                {
                    "data": {
                        "application/vnd.jupyter.widget-view+json": {
                            "model_id": "22cc84df791646b595abcb65af88a6db",
                            "version_major": 2,
                            "version_minor": 0
                        },
                        "text/plain": [
                            "  0%|          | 0/6 [00:00<?, ?it/s]"
                        ]
                    },
                    "metadata": {},
                    "output_type": "display_data"
                },
                {
                    "data": {
                        "application/vnd.jupyter.widget-view+json": {
                            "model_id": "eb9ac0c027754bbb9df66b939d71bf66",
                            "version_major": 2,
                            "version_minor": 0
                        },
                        "text/plain": [
                            "  0%|          | 0/145 [00:00<?, ?it/s]"
                        ]
                    },
                    "metadata": {},
                    "output_type": "display_data"
                },
                {
                    "data": {
                        "application/vnd.jupyter.widget-view+json": {
                            "model_id": "0b2ba83bae084467af54f86e84ed7d38",
                            "version_major": 2,
                            "version_minor": 0
                        },
                        "text/plain": [
                            "  0%|          | 0/2864 [00:00<?, ?it/s]"
                        ]
                    },
                    "metadata": {},
                    "output_type": "display_data"
                },
                {
                    "data": {
                        "application/vnd.jupyter.widget-view+json": {
                            "model_id": "f48c313812854de5a26096a22a75109a",
                            "version_major": 2,
                            "version_minor": 0
                        },
                        "text/plain": [
                            "  0%|          | 0/4 [00:00<?, ?it/s]"
                        ]
                    },
                    "metadata": {},
                    "output_type": "display_data"
                },
                {
                    "data": {
                        "application/vnd.jupyter.widget-view+json": {
                            "model_id": "2f7b68eee86547d39403c1894e524881",
                            "version_major": 2,
                            "version_minor": 0
                        },
                        "text/plain": [
                            "  0%|          | 0/6 [00:00<?, ?it/s]"
                        ]
                    },
                    "metadata": {},
                    "output_type": "display_data"
                },
                {
                    "data": {
                        "application/vnd.jupyter.widget-view+json": {
                            "model_id": "66fc61d71eb540eb9d04bfc07b64318a",
                            "version_major": 2,
                            "version_minor": 0
                        },
                        "text/plain": [
                            "  0%|          | 0/145 [00:00<?, ?it/s]"
                        ]
                    },
                    "metadata": {},
                    "output_type": "display_data"
                },
                {
                    "data": {
                        "application/vnd.jupyter.widget-view+json": {
                            "model_id": "397dda5899c04e62a96da789396ebfbc",
                            "version_major": 2,
                            "version_minor": 0
                        },
                        "text/plain": [
                            "  0%|          | 0/2864 [00:00<?, ?it/s]"
                        ]
                    },
                    "metadata": {},
                    "output_type": "display_data"
                },
                {
                    "data": {
                        "application/vnd.jupyter.widget-view+json": {
                            "model_id": "9ca67e3d22894a87b2c1a3d9e66191bb",
                            "version_major": 2,
                            "version_minor": 0
                        },
                        "text/plain": [
                            "  0%|          | 0/4 [00:00<?, ?it/s]"
                        ]
                    },
                    "metadata": {},
                    "output_type": "display_data"
                },
                {
                    "data": {
                        "application/vnd.jupyter.widget-view+json": {
                            "model_id": "72f37346dee44f8da0804c9cdc0904be",
                            "version_major": 2,
                            "version_minor": 0
                        },
                        "text/plain": [
                            "  0%|          | 0/6 [00:00<?, ?it/s]"
                        ]
                    },
                    "metadata": {},
                    "output_type": "display_data"
                },
                {
                    "data": {
                        "application/vnd.jupyter.widget-view+json": {
                            "model_id": "374571e36ac2407f9f5c0ce3c5b66c38",
                            "version_major": 2,
                            "version_minor": 0
                        },
                        "text/plain": [
                            "  0%|          | 0/108 [00:00<?, ?it/s]"
                        ]
                    },
                    "metadata": {},
                    "output_type": "display_data"
                },
                {
                    "data": {
                        "application/vnd.jupyter.widget-view+json": {
                            "model_id": "00ec1f1d1407476e84658a9bc4eeae2d",
                            "version_major": 2,
                            "version_minor": 0
                        },
                        "text/plain": [
                            "  0%|          | 0/2176 [00:00<?, ?it/s]"
                        ]
                    },
                    "metadata": {},
                    "output_type": "display_data"
                },
                {
                    "data": {
                        "application/vnd.jupyter.widget-view+json": {
                            "model_id": "a0fdd274dcd9479aab4c9f7501c3c6a7",
                            "version_major": 2,
                            "version_minor": 0
                        },
                        "text/plain": [
                            "  0%|          | 0/2 [00:00<?, ?it/s]"
                        ]
                    },
                    "metadata": {},
                    "output_type": "display_data"
                },
                {
                    "data": {
                        "application/vnd.jupyter.widget-view+json": {
                            "model_id": "9746f6b461b14e34990c28e0fb22fe89",
                            "version_major": 2,
                            "version_minor": 0
                        },
                        "text/plain": [
                            "  0%|          | 0/6 [00:00<?, ?it/s]"
                        ]
                    },
                    "metadata": {},
                    "output_type": "display_data"
                },
                {
                    "data": {
                        "application/vnd.jupyter.widget-view+json": {
                            "model_id": "6347e5ce01cd4a2a85ac3bb262b538b0",
                            "version_major": 2,
                            "version_minor": 0
                        },
                        "text/plain": [
                            "  0%|          | 0/145 [00:00<?, ?it/s]"
                        ]
                    },
                    "metadata": {},
                    "output_type": "display_data"
                },
                {
                    "data": {
                        "application/vnd.jupyter.widget-view+json": {
                            "model_id": "3869ba85a75c4c3da2fbd90ec877424e",
                            "version_major": 2,
                            "version_minor": 0
                        },
                        "text/plain": [
                            "  0%|          | 0/2864 [00:00<?, ?it/s]"
                        ]
                    },
                    "metadata": {},
                    "output_type": "display_data"
                },
                {
                    "data": {
                        "application/vnd.jupyter.widget-view+json": {
                            "model_id": "94ebda6e679149ffa9ba1cc0456132b6",
                            "version_major": 2,
                            "version_minor": 0
                        },
                        "text/plain": [
                            "  0%|          | 0/4 [00:00<?, ?it/s]"
                        ]
                    },
                    "metadata": {},
                    "output_type": "display_data"
                },
                {
                    "data": {
                        "application/vnd.jupyter.widget-view+json": {
                            "model_id": "619f8c1ef42e4ecaa6fc76bf5dd2cb6a",
                            "version_major": 2,
                            "version_minor": 0
                        },
                        "text/plain": [
                            "  0%|          | 0/6 [00:00<?, ?it/s]"
                        ]
                    },
                    "metadata": {},
                    "output_type": "display_data"
                },
                {
                    "data": {
                        "application/vnd.jupyter.widget-view+json": {
                            "model_id": "f20525fc43c34c60831861c9d125559c",
                            "version_major": 2,
                            "version_minor": 0
                        },
                        "text/plain": [
                            "  0%|          | 0/145 [00:00<?, ?it/s]"
                        ]
                    },
                    "metadata": {},
                    "output_type": "display_data"
                },
                {
                    "data": {
                        "application/vnd.jupyter.widget-view+json": {
                            "model_id": "f315b820380945009c497bb3b02028f2",
                            "version_major": 2,
                            "version_minor": 0
                        },
                        "text/plain": [
                            "  0%|          | 0/2864 [00:00<?, ?it/s]"
                        ]
                    },
                    "metadata": {},
                    "output_type": "display_data"
                },
                {
                    "data": {
                        "application/vnd.jupyter.widget-view+json": {
                            "model_id": "29009808f5bf41b88950cee2f439e974",
                            "version_major": 2,
                            "version_minor": 0
                        },
                        "text/plain": [
                            "  0%|          | 0/4 [00:00<?, ?it/s]"
                        ]
                    },
                    "metadata": {},
                    "output_type": "display_data"
                },
                {
                    "data": {
                        "application/vnd.jupyter.widget-view+json": {
                            "model_id": "da46e2f9d16743248576699e32ddc8ad",
                            "version_major": 2,
                            "version_minor": 0
                        },
                        "text/plain": [
                            "  0%|          | 0/6 [00:00<?, ?it/s]"
                        ]
                    },
                    "metadata": {},
                    "output_type": "display_data"
                },
                {
                    "data": {
                        "application/vnd.jupyter.widget-view+json": {
                            "model_id": "d1de826aff904218b8e6973dc732cb4d",
                            "version_major": 2,
                            "version_minor": 0
                        },
                        "text/plain": [
                            "  0%|          | 0/108 [00:00<?, ?it/s]"
                        ]
                    },
                    "metadata": {},
                    "output_type": "display_data"
                },
                {
                    "data": {
                        "application/vnd.jupyter.widget-view+json": {
                            "model_id": "e1876d61d9e04950b3d410bf8f66f05c",
                            "version_major": 2,
                            "version_minor": 0
                        },
                        "text/plain": [
                            "  0%|          | 0/2176 [00:00<?, ?it/s]"
                        ]
                    },
                    "metadata": {},
                    "output_type": "display_data"
                },
                {
                    "data": {
                        "application/vnd.jupyter.widget-view+json": {
                            "model_id": "a3d4478561f1435b821d5ed897237ff8",
                            "version_major": 2,
                            "version_minor": 0
                        },
                        "text/plain": [
                            "  0%|          | 0/2 [00:00<?, ?it/s]"
                        ]
                    },
                    "metadata": {},
                    "output_type": "display_data"
                },
                {
                    "data": {
                        "application/vnd.jupyter.widget-view+json": {
                            "model_id": "1abd2741a17644d4bd8bddf961a57f89",
                            "version_major": 2,
                            "version_minor": 0
                        },
                        "text/plain": [
                            "  0%|          | 0/6 [00:00<?, ?it/s]"
                        ]
                    },
                    "metadata": {},
                    "output_type": "display_data"
                },
                {
                    "data": {
                        "application/vnd.jupyter.widget-view+json": {
                            "model_id": "55e3c86ad46f4a5393b0b37ae6cb4ead",
                            "version_major": 2,
                            "version_minor": 0
                        },
                        "text/plain": [
                            "  0%|          | 0/145 [00:00<?, ?it/s]"
                        ]
                    },
                    "metadata": {},
                    "output_type": "display_data"
                },
                {
                    "data": {
                        "application/vnd.jupyter.widget-view+json": {
                            "model_id": "65b1ae27ef504095b1b0ff4f41e64b78",
                            "version_major": 2,
                            "version_minor": 0
                        },
                        "text/plain": [
                            "  0%|          | 0/2864 [00:00<?, ?it/s]"
                        ]
                    },
                    "metadata": {},
                    "output_type": "display_data"
                },
                {
                    "data": {
                        "application/vnd.jupyter.widget-view+json": {
                            "model_id": "9f22ec3157c14de7b2ed0bd9b1a7e22b",
                            "version_major": 2,
                            "version_minor": 0
                        },
                        "text/plain": [
                            "  0%|          | 0/4 [00:00<?, ?it/s]"
                        ]
                    },
                    "metadata": {},
                    "output_type": "display_data"
                },
                {
                    "data": {
                        "application/vnd.jupyter.widget-view+json": {
                            "model_id": "ebf12295b0e6422488793a4c79456ded",
                            "version_major": 2,
                            "version_minor": 0
                        },
                        "text/plain": [
                            "  0%|          | 0/6 [00:00<?, ?it/s]"
                        ]
                    },
                    "metadata": {},
                    "output_type": "display_data"
                },
                {
                    "data": {
                        "application/vnd.jupyter.widget-view+json": {
                            "model_id": "1df7e6675b8c4eaaad846e6b7d9a9277",
                            "version_major": 2,
                            "version_minor": 0
                        },
                        "text/plain": [
                            "  0%|          | 0/108 [00:00<?, ?it/s]"
                        ]
                    },
                    "metadata": {},
                    "output_type": "display_data"
                },
                {
                    "data": {
                        "application/vnd.jupyter.widget-view+json": {
                            "model_id": "15e9a966d7dc4f41a55a743b3066dfa9",
                            "version_major": 2,
                            "version_minor": 0
                        },
                        "text/plain": [
                            "  0%|          | 0/2176 [00:00<?, ?it/s]"
                        ]
                    },
                    "metadata": {},
                    "output_type": "display_data"
                },
                {
                    "data": {
                        "application/vnd.jupyter.widget-view+json": {
                            "model_id": "67752afe4ace4645b5e0835d3f928059",
                            "version_major": 2,
                            "version_minor": 0
                        },
                        "text/plain": [
                            "  0%|          | 0/2 [00:00<?, ?it/s]"
                        ]
                    },
                    "metadata": {},
                    "output_type": "display_data"
                },
                {
                    "data": {
                        "application/vnd.jupyter.widget-view+json": {
                            "model_id": "d4bc868ec6124f3ebbc538114f1eab55",
                            "version_major": 2,
                            "version_minor": 0
                        },
                        "text/plain": [
                            "  0%|          | 0/6 [00:00<?, ?it/s]"
                        ]
                    },
                    "metadata": {},
                    "output_type": "display_data"
                },
                {
                    "data": {
                        "application/vnd.jupyter.widget-view+json": {
                            "model_id": "8402088633af48cb9985fb3203b96247",
                            "version_major": 2,
                            "version_minor": 0
                        },
                        "text/plain": [
                            "  0%|          | 0/145 [00:00<?, ?it/s]"
                        ]
                    },
                    "metadata": {},
                    "output_type": "display_data"
                },
                {
                    "data": {
                        "application/vnd.jupyter.widget-view+json": {
                            "model_id": "17dc81eb0ed2490bb5ea41b48d77ccf5",
                            "version_major": 2,
                            "version_minor": 0
                        },
                        "text/plain": [
                            "  0%|          | 0/2864 [00:00<?, ?it/s]"
                        ]
                    },
                    "metadata": {},
                    "output_type": "display_data"
                },
                {
                    "data": {
                        "application/vnd.jupyter.widget-view+json": {
                            "model_id": "c131cd7778364844b43f3fbe0431a87c",
                            "version_major": 2,
                            "version_minor": 0
                        },
                        "text/plain": [
                            "  0%|          | 0/4 [00:00<?, ?it/s]"
                        ]
                    },
                    "metadata": {},
                    "output_type": "display_data"
                },
                {
                    "data": {
                        "application/vnd.jupyter.widget-view+json": {
                            "model_id": "b7dbc8bc15e548bdad781a1af97adbf1",
                            "version_major": 2,
                            "version_minor": 0
                        },
                        "text/plain": [
                            "  0%|          | 0/6 [00:00<?, ?it/s]"
                        ]
                    },
                    "metadata": {},
                    "output_type": "display_data"
                },
                {
                    "data": {
                        "application/vnd.jupyter.widget-view+json": {
                            "model_id": "cd1660b4750542a3b1285ddf8c9bca5e",
                            "version_major": 2,
                            "version_minor": 0
                        },
                        "text/plain": [
                            "  0%|          | 0/145 [00:00<?, ?it/s]"
                        ]
                    },
                    "metadata": {},
                    "output_type": "display_data"
                },
                {
                    "data": {
                        "application/vnd.jupyter.widget-view+json": {
                            "model_id": "d55a2e0823f1487cac1466a3d724d919",
                            "version_major": 2,
                            "version_minor": 0
                        },
                        "text/plain": [
                            "  0%|          | 0/2864 [00:00<?, ?it/s]"
                        ]
                    },
                    "metadata": {},
                    "output_type": "display_data"
                },
                {
                    "data": {
                        "application/vnd.jupyter.widget-view+json": {
                            "model_id": "a5c3820530c047938af7089a77cb8380",
                            "version_major": 2,
                            "version_minor": 0
                        },
                        "text/plain": [
                            "  0%|          | 0/4 [00:00<?, ?it/s]"
                        ]
                    },
                    "metadata": {},
                    "output_type": "display_data"
                },
                {
                    "data": {
                        "application/vnd.jupyter.widget-view+json": {
                            "model_id": "0c1d7762d6a943d09a2d418f671d0b06",
                            "version_major": 2,
                            "version_minor": 0
                        },
                        "text/plain": [
                            "  0%|          | 0/6 [00:00<?, ?it/s]"
                        ]
                    },
                    "metadata": {},
                    "output_type": "display_data"
                },
                {
                    "data": {
                        "application/vnd.jupyter.widget-view+json": {
                            "model_id": "6acb93eb910841508b7f6fa5c2204691",
                            "version_major": 2,
                            "version_minor": 0
                        },
                        "text/plain": [
                            "  0%|          | 0/145 [00:00<?, ?it/s]"
                        ]
                    },
                    "metadata": {},
                    "output_type": "display_data"
                },
                {
                    "data": {
                        "application/vnd.jupyter.widget-view+json": {
                            "model_id": "d285134b5eb74bfa90cc8d2a536a85d4",
                            "version_major": 2,
                            "version_minor": 0
                        },
                        "text/plain": [
                            "  0%|          | 0/2864 [00:00<?, ?it/s]"
                        ]
                    },
                    "metadata": {},
                    "output_type": "display_data"
                },
                {
                    "data": {
                        "application/vnd.jupyter.widget-view+json": {
                            "model_id": "9a86422373b247a69dd90fc49e5f17c3",
                            "version_major": 2,
                            "version_minor": 0
                        },
                        "text/plain": [
                            "  0%|          | 0/4 [00:00<?, ?it/s]"
                        ]
                    },
                    "metadata": {},
                    "output_type": "display_data"
                },
                {
                    "data": {
                        "application/vnd.jupyter.widget-view+json": {
                            "model_id": "f80e720fd76d4bbc91129b9537b6dfc2",
                            "version_major": 2,
                            "version_minor": 0
                        },
                        "text/plain": [
                            "  0%|          | 0/6 [00:00<?, ?it/s]"
                        ]
                    },
                    "metadata": {},
                    "output_type": "display_data"
                },
                {
                    "data": {
                        "application/vnd.jupyter.widget-view+json": {
                            "model_id": "c5d28a796fe0441bb6bd12fe9efd32c8",
                            "version_major": 2,
                            "version_minor": 0
                        },
                        "text/plain": [
                            "  0%|          | 0/145 [00:00<?, ?it/s]"
                        ]
                    },
                    "metadata": {},
                    "output_type": "display_data"
                },
                {
                    "data": {
                        "application/vnd.jupyter.widget-view+json": {
                            "model_id": "0aec28a6fabb4505afbf3196cbae1577",
                            "version_major": 2,
                            "version_minor": 0
                        },
                        "text/plain": [
                            "  0%|          | 0/2864 [00:00<?, ?it/s]"
                        ]
                    },
                    "metadata": {},
                    "output_type": "display_data"
                },
                {
                    "data": {
                        "application/vnd.jupyter.widget-view+json": {
                            "model_id": "bf3731c69cf2400989aab24d3e64be75",
                            "version_major": 2,
                            "version_minor": 0
                        },
                        "text/plain": [
                            "  0%|          | 0/4 [00:00<?, ?it/s]"
                        ]
                    },
                    "metadata": {},
                    "output_type": "display_data"
                },
                {
                    "data": {
                        "application/vnd.jupyter.widget-view+json": {
                            "model_id": "cb6130c6cac2474a877408139ad06566",
                            "version_major": 2,
                            "version_minor": 0
                        },
                        "text/plain": [
                            "  0%|          | 0/6 [00:00<?, ?it/s]"
                        ]
                    },
                    "metadata": {},
                    "output_type": "display_data"
                },
                {
                    "data": {
                        "application/vnd.jupyter.widget-view+json": {
                            "model_id": "9f0a8aefe955481aaa07ef3ea5824c5c",
                            "version_major": 2,
                            "version_minor": 0
                        },
                        "text/plain": [
                            "  0%|          | 0/108 [00:00<?, ?it/s]"
                        ]
                    },
                    "metadata": {},
                    "output_type": "display_data"
                },
                {
                    "data": {
                        "application/vnd.jupyter.widget-view+json": {
                            "model_id": "3397cbfab13b49808fed6bfc65169999",
                            "version_major": 2,
                            "version_minor": 0
                        },
                        "text/plain": [
                            "  0%|          | 0/2176 [00:00<?, ?it/s]"
                        ]
                    },
                    "metadata": {},
                    "output_type": "display_data"
                },
                {
                    "data": {
                        "application/vnd.jupyter.widget-view+json": {
                            "model_id": "10717d98d1634e63bbc1c49f0545ef46",
                            "version_major": 2,
                            "version_minor": 0
                        },
                        "text/plain": [
                            "  0%|          | 0/2 [00:00<?, ?it/s]"
                        ]
                    },
                    "metadata": {},
                    "output_type": "display_data"
                },
                {
                    "data": {
                        "application/vnd.jupyter.widget-view+json": {
                            "model_id": "6cc9d9ddf83b4e25ab5d179db2851379",
                            "version_major": 2,
                            "version_minor": 0
                        },
                        "text/plain": [
                            "  0%|          | 0/6 [00:00<?, ?it/s]"
                        ]
                    },
                    "metadata": {},
                    "output_type": "display_data"
                },
                {
                    "data": {
                        "application/vnd.jupyter.widget-view+json": {
                            "model_id": "536867f01ff14aff83abc68e1cbac2aa",
                            "version_major": 2,
                            "version_minor": 0
                        },
                        "text/plain": [
                            "  0%|          | 0/145 [00:00<?, ?it/s]"
                        ]
                    },
                    "metadata": {},
                    "output_type": "display_data"
                },
                {
                    "data": {
                        "application/vnd.jupyter.widget-view+json": {
                            "model_id": "6ba84f1f0ef241ca9b5046e8457df3fa",
                            "version_major": 2,
                            "version_minor": 0
                        },
                        "text/plain": [
                            "  0%|          | 0/2864 [00:00<?, ?it/s]"
                        ]
                    },
                    "metadata": {},
                    "output_type": "display_data"
                },
                {
                    "data": {
                        "application/vnd.jupyter.widget-view+json": {
                            "model_id": "81a9d0844f924cab8e7e7df1ebf4eccb",
                            "version_major": 2,
                            "version_minor": 0
                        },
                        "text/plain": [
                            "  0%|          | 0/4 [00:00<?, ?it/s]"
                        ]
                    },
                    "metadata": {},
                    "output_type": "display_data"
                },
                {
                    "data": {
                        "application/vnd.jupyter.widget-view+json": {
                            "model_id": "c7886cab8bde47dbbba078eeea05af71",
                            "version_major": 2,
                            "version_minor": 0
                        },
                        "text/plain": [
                            "  0%|          | 0/6 [00:00<?, ?it/s]"
                        ]
                    },
                    "metadata": {},
                    "output_type": "display_data"
                },
                {
                    "data": {
                        "application/vnd.jupyter.widget-view+json": {
                            "model_id": "1dfe1e2cfd3f43a3815ede41b2bcd0ef",
                            "version_major": 2,
                            "version_minor": 0
                        },
                        "text/plain": [
                            "  0%|          | 0/108 [00:00<?, ?it/s]"
                        ]
                    },
                    "metadata": {},
                    "output_type": "display_data"
                },
                {
                    "data": {
                        "application/vnd.jupyter.widget-view+json": {
                            "model_id": "c4c78a08d32d4a58adb4e2b477f2df94",
                            "version_major": 2,
                            "version_minor": 0
                        },
                        "text/plain": [
                            "  0%|          | 0/2176 [00:00<?, ?it/s]"
                        ]
                    },
                    "metadata": {},
                    "output_type": "display_data"
                },
                {
                    "data": {
                        "application/vnd.jupyter.widget-view+json": {
                            "model_id": "8ac2169659bc4f9fac27509f1c7755c1",
                            "version_major": 2,
                            "version_minor": 0
                        },
                        "text/plain": [
                            "  0%|          | 0/2 [00:00<?, ?it/s]"
                        ]
                    },
                    "metadata": {},
                    "output_type": "display_data"
                },
                {
                    "data": {
                        "application/vnd.jupyter.widget-view+json": {
                            "model_id": "9099e874c51c462b8b15d6a4572bfacd",
                            "version_major": 2,
                            "version_minor": 0
                        },
                        "text/plain": [
                            "  0%|          | 0/6 [00:00<?, ?it/s]"
                        ]
                    },
                    "metadata": {},
                    "output_type": "display_data"
                },
                {
                    "data": {
                        "application/vnd.jupyter.widget-view+json": {
                            "model_id": "7eb554860e74464abada02b06df84de1",
                            "version_major": 2,
                            "version_minor": 0
                        },
                        "text/plain": [
                            "  0%|          | 0/145 [00:00<?, ?it/s]"
                        ]
                    },
                    "metadata": {},
                    "output_type": "display_data"
                },
                {
                    "data": {
                        "application/vnd.jupyter.widget-view+json": {
                            "model_id": "8d20907da56347099725de1171478eee",
                            "version_major": 2,
                            "version_minor": 0
                        },
                        "text/plain": [
                            "  0%|          | 0/2864 [00:00<?, ?it/s]"
                        ]
                    },
                    "metadata": {},
                    "output_type": "display_data"
                },
                {
                    "data": {
                        "application/vnd.jupyter.widget-view+json": {
                            "model_id": "6df4ce8866d749a3af76f6f96de647f4",
                            "version_major": 2,
                            "version_minor": 0
                        },
                        "text/plain": [
                            "  0%|          | 0/4 [00:00<?, ?it/s]"
                        ]
                    },
                    "metadata": {},
                    "output_type": "display_data"
                },
                {
                    "data": {
                        "application/vnd.jupyter.widget-view+json": {
                            "model_id": "12305dcdff684c7eacaec43ce717954e",
                            "version_major": 2,
                            "version_minor": 0
                        },
                        "text/plain": [
                            "  0%|          | 0/6 [00:00<?, ?it/s]"
                        ]
                    },
                    "metadata": {},
                    "output_type": "display_data"
                },
                {
                    "data": {
                        "application/vnd.jupyter.widget-view+json": {
                            "model_id": "3aed3d61f9a8407db5407fac4c0e1c2f",
                            "version_major": 2,
                            "version_minor": 0
                        },
                        "text/plain": [
                            "  0%|          | 0/145 [00:00<?, ?it/s]"
                        ]
                    },
                    "metadata": {},
                    "output_type": "display_data"
                },
                {
                    "data": {
                        "application/vnd.jupyter.widget-view+json": {
                            "model_id": "3c74bd885fec4ebcbc7ab29f2f2fd9ac",
                            "version_major": 2,
                            "version_minor": 0
                        },
                        "text/plain": [
                            "  0%|          | 0/2864 [00:00<?, ?it/s]"
                        ]
                    },
                    "metadata": {},
                    "output_type": "display_data"
                },
                {
                    "data": {
                        "application/vnd.jupyter.widget-view+json": {
                            "model_id": "ef1fd321bdf64d35b9c06cdb695e59e5",
                            "version_major": 2,
                            "version_minor": 0
                        },
                        "text/plain": [
                            "  0%|          | 0/4 [00:00<?, ?it/s]"
                        ]
                    },
                    "metadata": {},
                    "output_type": "display_data"
                },
                {
                    "data": {
                        "application/vnd.jupyter.widget-view+json": {
                            "model_id": "2812dadcc1a74625b1e775aaa17c7d87",
                            "version_major": 2,
                            "version_minor": 0
                        },
                        "text/plain": [
                            "  0%|          | 0/6 [00:00<?, ?it/s]"
                        ]
                    },
                    "metadata": {},
                    "output_type": "display_data"
                },
                {
                    "data": {
                        "application/vnd.jupyter.widget-view+json": {
                            "model_id": "85f444d8078f4b2496b704b6d05dac89",
                            "version_major": 2,
                            "version_minor": 0
                        },
                        "text/plain": [
                            "  0%|          | 0/145 [00:00<?, ?it/s]"
                        ]
                    },
                    "metadata": {},
                    "output_type": "display_data"
                },
                {
                    "data": {
                        "application/vnd.jupyter.widget-view+json": {
                            "model_id": "d4030ac4fd6f481095b119e3bd6d0f08",
                            "version_major": 2,
                            "version_minor": 0
                        },
                        "text/plain": [
                            "  0%|          | 0/2864 [00:00<?, ?it/s]"
                        ]
                    },
                    "metadata": {},
                    "output_type": "display_data"
                },
                {
                    "data": {
                        "application/vnd.jupyter.widget-view+json": {
                            "model_id": "6f519d55f228460995b8f0ab808f8a46",
                            "version_major": 2,
                            "version_minor": 0
                        },
                        "text/plain": [
                            "  0%|          | 0/4 [00:00<?, ?it/s]"
                        ]
                    },
                    "metadata": {},
                    "output_type": "display_data"
                },
                {
                    "data": {
                        "application/vnd.jupyter.widget-view+json": {
                            "model_id": "4659d460c41348c98a3b55e26e6a2369",
                            "version_major": 2,
                            "version_minor": 0
                        },
                        "text/plain": [
                            "  0%|          | 0/6 [00:00<?, ?it/s]"
                        ]
                    },
                    "metadata": {},
                    "output_type": "display_data"
                },
                {
                    "data": {
                        "application/vnd.jupyter.widget-view+json": {
                            "model_id": "dcc872fcb7bc40a4b607608d83f8993a",
                            "version_major": 2,
                            "version_minor": 0
                        },
                        "text/plain": [
                            "  0%|          | 0/145 [00:00<?, ?it/s]"
                        ]
                    },
                    "metadata": {},
                    "output_type": "display_data"
                },
                {
                    "data": {
                        "application/vnd.jupyter.widget-view+json": {
                            "model_id": "4ad6f4ab27e148c881c27530efb14981",
                            "version_major": 2,
                            "version_minor": 0
                        },
                        "text/plain": [
                            "  0%|          | 0/2864 [00:00<?, ?it/s]"
                        ]
                    },
                    "metadata": {},
                    "output_type": "display_data"
                },
                {
                    "data": {
                        "application/vnd.jupyter.widget-view+json": {
                            "model_id": "f25398df64704b8d8937c5b14377705e",
                            "version_major": 2,
                            "version_minor": 0
                        },
                        "text/plain": [
                            "  0%|          | 0/4 [00:00<?, ?it/s]"
                        ]
                    },
                    "metadata": {},
                    "output_type": "display_data"
                },
                {
                    "data": {
                        "application/vnd.jupyter.widget-view+json": {
                            "model_id": "53929ee717994a66a33b2bd14394abe3",
                            "version_major": 2,
                            "version_minor": 0
                        },
                        "text/plain": [
                            "  0%|          | 0/6 [00:00<?, ?it/s]"
                        ]
                    },
                    "metadata": {},
                    "output_type": "display_data"
                },
                {
                    "data": {
                        "application/vnd.jupyter.widget-view+json": {
                            "model_id": "bab4f000448b4311ac7d7f3cd9d427f4",
                            "version_major": 2,
                            "version_minor": 0
                        },
                        "text/plain": [
                            "  0%|          | 0/108 [00:00<?, ?it/s]"
                        ]
                    },
                    "metadata": {},
                    "output_type": "display_data"
                },
                {
                    "data": {
                        "application/vnd.jupyter.widget-view+json": {
                            "model_id": "4733d22ea4134070928c7eee6ea5185f",
                            "version_major": 2,
                            "version_minor": 0
                        },
                        "text/plain": [
                            "  0%|          | 0/2176 [00:00<?, ?it/s]"
                        ]
                    },
                    "metadata": {},
                    "output_type": "display_data"
                },
                {
                    "data": {
                        "application/vnd.jupyter.widget-view+json": {
                            "model_id": "1e2cd4fb6c6b4612ad3a466195867243",
                            "version_major": 2,
                            "version_minor": 0
                        },
                        "text/plain": [
                            "  0%|          | 0/2 [00:00<?, ?it/s]"
                        ]
                    },
                    "metadata": {},
                    "output_type": "display_data"
                },
                {
                    "data": {
                        "application/vnd.jupyter.widget-view+json": {
                            "model_id": "8a8f620672774aa89824d04557e321a6",
                            "version_major": 2,
                            "version_minor": 0
                        },
                        "text/plain": [
                            "  0%|          | 0/6 [00:00<?, ?it/s]"
                        ]
                    },
                    "metadata": {},
                    "output_type": "display_data"
                },
                {
                    "data": {
                        "application/vnd.jupyter.widget-view+json": {
                            "model_id": "e75118f8757d4b459f321fc2baced14b",
                            "version_major": 2,
                            "version_minor": 0
                        },
                        "text/plain": [
                            "  0%|          | 0/108 [00:00<?, ?it/s]"
                        ]
                    },
                    "metadata": {},
                    "output_type": "display_data"
                },
                {
                    "data": {
                        "application/vnd.jupyter.widget-view+json": {
                            "model_id": "9a3fd7e7679e49ba96c1afc75c77c7a3",
                            "version_major": 2,
                            "version_minor": 0
                        },
                        "text/plain": [
                            "  0%|          | 0/2176 [00:00<?, ?it/s]"
                        ]
                    },
                    "metadata": {},
                    "output_type": "display_data"
                },
                {
                    "data": {
                        "application/vnd.jupyter.widget-view+json": {
                            "model_id": "9eb53bd7319745789c9842cee9bdb955",
                            "version_major": 2,
                            "version_minor": 0
                        },
                        "text/plain": [
                            "  0%|          | 0/2 [00:00<?, ?it/s]"
                        ]
                    },
                    "metadata": {},
                    "output_type": "display_data"
                },
                {
                    "data": {
                        "application/vnd.jupyter.widget-view+json": {
                            "model_id": "c02a8c86dcaf4ef483941359f720e210",
                            "version_major": 2,
                            "version_minor": 0
                        },
                        "text/plain": [
                            "  0%|          | 0/6 [00:00<?, ?it/s]"
                        ]
                    },
                    "metadata": {},
                    "output_type": "display_data"
                },
                {
                    "data": {
                        "application/vnd.jupyter.widget-view+json": {
                            "model_id": "5de1a59b1b86431e805e901e105582e1",
                            "version_major": 2,
                            "version_minor": 0
                        },
                        "text/plain": [
                            "  0%|          | 0/108 [00:00<?, ?it/s]"
                        ]
                    },
                    "metadata": {},
                    "output_type": "display_data"
                },
                {
                    "data": {
                        "application/vnd.jupyter.widget-view+json": {
                            "model_id": "84730cc8937d47038db5025caee4e875",
                            "version_major": 2,
                            "version_minor": 0
                        },
                        "text/plain": [
                            "  0%|          | 0/2176 [00:00<?, ?it/s]"
                        ]
                    },
                    "metadata": {},
                    "output_type": "display_data"
                },
                {
                    "data": {
                        "application/vnd.jupyter.widget-view+json": {
                            "model_id": "59e79915e2e3454d9a83afcd3d0957a8",
                            "version_major": 2,
                            "version_minor": 0
                        },
                        "text/plain": [
                            "  0%|          | 0/2 [00:00<?, ?it/s]"
                        ]
                    },
                    "metadata": {},
                    "output_type": "display_data"
                },
                {
                    "data": {
                        "application/vnd.jupyter.widget-view+json": {
                            "model_id": "98feebb2a03446c792081cf1e73c98c6",
                            "version_major": 2,
                            "version_minor": 0
                        },
                        "text/plain": [
                            "  0%|          | 0/6 [00:00<?, ?it/s]"
                        ]
                    },
                    "metadata": {},
                    "output_type": "display_data"
                },
                {
                    "data": {
                        "application/vnd.jupyter.widget-view+json": {
                            "model_id": "d7d2aba1715b445dbc87098d9e603e02",
                            "version_major": 2,
                            "version_minor": 0
                        },
                        "text/plain": [
                            "  0%|          | 0/108 [00:00<?, ?it/s]"
                        ]
                    },
                    "metadata": {},
                    "output_type": "display_data"
                },
                {
                    "data": {
                        "application/vnd.jupyter.widget-view+json": {
                            "model_id": "4d0d19a951334f30a690b244db1b8744",
                            "version_major": 2,
                            "version_minor": 0
                        },
                        "text/plain": [
                            "  0%|          | 0/2176 [00:00<?, ?it/s]"
                        ]
                    },
                    "metadata": {},
                    "output_type": "display_data"
                },
                {
                    "data": {
                        "application/vnd.jupyter.widget-view+json": {
                            "model_id": "4abad3e8460946f583946b9090efaa8d",
                            "version_major": 2,
                            "version_minor": 0
                        },
                        "text/plain": [
                            "  0%|          | 0/2 [00:00<?, ?it/s]"
                        ]
                    },
                    "metadata": {},
                    "output_type": "display_data"
                },
                {
                    "data": {
                        "application/vnd.jupyter.widget-view+json": {
                            "model_id": "552f9528c7a449b7b58b8b4b15060683",
                            "version_major": 2,
                            "version_minor": 0
                        },
                        "text/plain": [
                            "  0%|          | 0/6 [00:00<?, ?it/s]"
                        ]
                    },
                    "metadata": {},
                    "output_type": "display_data"
                },
                {
                    "data": {
                        "application/vnd.jupyter.widget-view+json": {
                            "model_id": "bef4c53cf2f644a8b40e8cf86a7dd6b4",
                            "version_major": 2,
                            "version_minor": 0
                        },
                        "text/plain": [
                            "  0%|          | 0/108 [00:00<?, ?it/s]"
                        ]
                    },
                    "metadata": {},
                    "output_type": "display_data"
                },
                {
                    "data": {
                        "application/vnd.jupyter.widget-view+json": {
                            "model_id": "2eb3c10aa2d44e7f90a627363ebc48e6",
                            "version_major": 2,
                            "version_minor": 0
                        },
                        "text/plain": [
                            "  0%|          | 0/2176 [00:00<?, ?it/s]"
                        ]
                    },
                    "metadata": {},
                    "output_type": "display_data"
                },
                {
                    "data": {
                        "application/vnd.jupyter.widget-view+json": {
                            "model_id": "227c9589e91d4f8eac9f71f7095772e9",
                            "version_major": 2,
                            "version_minor": 0
                        },
                        "text/plain": [
                            "  0%|          | 0/2 [00:00<?, ?it/s]"
                        ]
                    },
                    "metadata": {},
                    "output_type": "display_data"
                },
                {
                    "data": {
                        "application/vnd.jupyter.widget-view+json": {
                            "model_id": "24e39acaab394a6a85cc996329eb929a",
                            "version_major": 2,
                            "version_minor": 0
                        },
                        "text/plain": [
                            "  0%|          | 0/6 [00:00<?, ?it/s]"
                        ]
                    },
                    "metadata": {},
                    "output_type": "display_data"
                },
                {
                    "data": {
                        "application/vnd.jupyter.widget-view+json": {
                            "model_id": "ae6aed4c7ba741b28c77282cbf3b059a",
                            "version_major": 2,
                            "version_minor": 0
                        },
                        "text/plain": [
                            "  0%|          | 0/108 [00:00<?, ?it/s]"
                        ]
                    },
                    "metadata": {},
                    "output_type": "display_data"
                },
                {
                    "data": {
                        "application/vnd.jupyter.widget-view+json": {
                            "model_id": "4d219570832a4b94ac446146d807a974",
                            "version_major": 2,
                            "version_minor": 0
                        },
                        "text/plain": [
                            "  0%|          | 0/2176 [00:00<?, ?it/s]"
                        ]
                    },
                    "metadata": {},
                    "output_type": "display_data"
                },
                {
                    "data": {
                        "application/vnd.jupyter.widget-view+json": {
                            "model_id": "df10b84f83e644c3a931bb10401fe991",
                            "version_major": 2,
                            "version_minor": 0
                        },
                        "text/plain": [
                            "  0%|          | 0/2 [00:00<?, ?it/s]"
                        ]
                    },
                    "metadata": {},
                    "output_type": "display_data"
                },
                {
                    "data": {
                        "application/vnd.jupyter.widget-view+json": {
                            "model_id": "16e7324e013249ca964baf7cf14bda81",
                            "version_major": 2,
                            "version_minor": 0
                        },
                        "text/plain": [
                            "  0%|          | 0/6 [00:00<?, ?it/s]"
                        ]
                    },
                    "metadata": {},
                    "output_type": "display_data"
                },
                {
                    "data": {
                        "application/vnd.jupyter.widget-view+json": {
                            "model_id": "f91dadb4d19b45db809a2b7e2c86f479",
                            "version_major": 2,
                            "version_minor": 0
                        },
                        "text/plain": [
                            "  0%|          | 0/117 [00:00<?, ?it/s]"
                        ]
                    },
                    "metadata": {},
                    "output_type": "display_data"
                },
                {
                    "data": {
                        "application/vnd.jupyter.widget-view+json": {
                            "model_id": "e7803d157553404d94edac4ec3076132",
                            "version_major": 2,
                            "version_minor": 0
                        },
                        "text/plain": [
                            "  0%|          | 0/2176 [00:00<?, ?it/s]"
                        ]
                    },
                    "metadata": {},
                    "output_type": "display_data"
                },
                {
                    "data": {
                        "application/vnd.jupyter.widget-view+json": {
                            "model_id": "22b5a50a86b5459cbfd4f168148ce690",
                            "version_major": 2,
                            "version_minor": 0
                        },
                        "text/plain": [
                            "  0%|          | 0/2 [00:00<?, ?it/s]"
                        ]
                    },
                    "metadata": {},
                    "output_type": "display_data"
                },
                {
                    "data": {
                        "application/vnd.jupyter.widget-view+json": {
                            "model_id": "9e24398c07de43ccaa3aa915598b5d4b",
                            "version_major": 2,
                            "version_minor": 0
                        },
                        "text/plain": [
                            "  0%|          | 0/15 [00:00<?, ?it/s]"
                        ]
                    },
                    "metadata": {},
                    "output_type": "display_data"
                },
                {
                    "data": {
                        "text/html": [
                            "<div>\n",
                            "<style scoped>\n",
                            "    .dataframe tbody tr th:only-of-type {\n",
                            "        vertical-align: middle;\n",
                            "    }\n",
                            "\n",
                            "    .dataframe tbody tr th {\n",
                            "        vertical-align: top;\n",
                            "    }\n",
                            "\n",
                            "    .dataframe thead th {\n",
                            "        text-align: right;\n",
                            "    }\n",
                            "</style>\n",
                            "<table border=\"1\" class=\"dataframe\">\n",
                            "  <thead>\n",
                            "    <tr style=\"text-align: right;\">\n",
                            "      <th></th>\n",
                            "      <th>Metadata_Well</th>\n",
                            "      <th>Metadata_labels</th>\n",
                            "      <th>average_precision</th>\n",
                            "      <th>p_value</th>\n",
                            "      <th>n_pos_pairs</th>\n",
                            "      <th>n_total_pairs</th>\n",
                            "      <th>shuffled</th>\n",
                            "      <th>comparison</th>\n",
                            "      <th>oneb_Metadata_Treatment_Dose_Inhibitor_Dose</th>\n",
                            "    </tr>\n",
                            "  </thead>\n",
                            "  <tbody>\n",
                            "    <tr>\n",
                            "      <th>0</th>\n",
                            "      <td>B06</td>\n",
                            "      <td>Control</td>\n",
                            "      <td>1.0</td>\n",
                            "      <td>1.0</td>\n",
                            "      <td>7.0</td>\n",
                            "      <td>7.0</td>\n",
                            "      <td>non-shuffled</td>\n",
                            "      <td>DMSO_0.100_%_DMSO_0.025_%_Control_vs_Pyroptosis</td>\n",
                            "      <td>DMSO_0.100_%_DMSO_0.025_%</td>\n",
                            "    </tr>\n",
                            "    <tr>\n",
                            "      <th>1</th>\n",
                            "      <td>C06</td>\n",
                            "      <td>Control</td>\n",
                            "      <td>1.0</td>\n",
                            "      <td>1.0</td>\n",
                            "      <td>7.0</td>\n",
                            "      <td>7.0</td>\n",
                            "      <td>non-shuffled</td>\n",
                            "      <td>DMSO_0.100_%_DMSO_0.025_%_Control_vs_Pyroptosis</td>\n",
                            "      <td>DMSO_0.100_%_DMSO_0.025_%</td>\n",
                            "    </tr>\n",
                            "    <tr>\n",
                            "      <th>2</th>\n",
                            "      <td>I06</td>\n",
                            "      <td>Control</td>\n",
                            "      <td>1.0</td>\n",
                            "      <td>1.0</td>\n",
                            "      <td>7.0</td>\n",
                            "      <td>7.0</td>\n",
                            "      <td>non-shuffled</td>\n",
                            "      <td>DMSO_0.100_%_DMSO_0.025_%_Control_vs_Pyroptosis</td>\n",
                            "      <td>DMSO_0.100_%_DMSO_0.025_%</td>\n",
                            "    </tr>\n",
                            "    <tr>\n",
                            "      <th>3</th>\n",
                            "      <td>J06</td>\n",
                            "      <td>Control</td>\n",
                            "      <td>1.0</td>\n",
                            "      <td>1.0</td>\n",
                            "      <td>7.0</td>\n",
                            "      <td>7.0</td>\n",
                            "      <td>non-shuffled</td>\n",
                            "      <td>DMSO_0.100_%_DMSO_0.025_%_Control_vs_Pyroptosis</td>\n",
                            "      <td>DMSO_0.100_%_DMSO_0.025_%</td>\n",
                            "    </tr>\n",
                            "    <tr>\n",
                            "      <th>4</th>\n",
                            "      <td>B07</td>\n",
                            "      <td>Control</td>\n",
                            "      <td>1.0</td>\n",
                            "      <td>1.0</td>\n",
                            "      <td>7.0</td>\n",
                            "      <td>7.0</td>\n",
                            "      <td>non-shuffled</td>\n",
                            "      <td>DMSO_0.100_%_DMSO_0.025_%_Control_vs_Pyroptosis</td>\n",
                            "      <td>DMSO_0.100_%_DMSO_0.025_%</td>\n",
                            "    </tr>\n",
                            "  </tbody>\n",
                            "</table>\n",
                            "</div>"
                        ],
                        "text/plain": [
                            "  Metadata_Well Metadata_labels  average_precision  p_value  n_pos_pairs  \\\n",
                            "0           B06         Control                1.0      1.0          7.0   \n",
                            "1           C06         Control                1.0      1.0          7.0   \n",
                            "2           I06         Control                1.0      1.0          7.0   \n",
                            "3           J06         Control                1.0      1.0          7.0   \n",
                            "4           B07         Control                1.0      1.0          7.0   \n",
                            "\n",
                            "   n_total_pairs      shuffled  \\\n",
                            "0            7.0  non-shuffled   \n",
                            "1            7.0  non-shuffled   \n",
                            "2            7.0  non-shuffled   \n",
                            "3            7.0  non-shuffled   \n",
                            "4            7.0  non-shuffled   \n",
                            "\n",
                            "                                        comparison  \\\n",
                            "0  DMSO_0.100_%_DMSO_0.025_%_Control_vs_Pyroptosis   \n",
                            "1  DMSO_0.100_%_DMSO_0.025_%_Control_vs_Pyroptosis   \n",
                            "2  DMSO_0.100_%_DMSO_0.025_%_Control_vs_Pyroptosis   \n",
                            "3  DMSO_0.100_%_DMSO_0.025_%_Control_vs_Pyroptosis   \n",
                            "4  DMSO_0.100_%_DMSO_0.025_%_Control_vs_Pyroptosis   \n",
                            "\n",
                            "  oneb_Metadata_Treatment_Dose_Inhibitor_Dose  \n",
                            "0                   DMSO_0.100_%_DMSO_0.025_%  \n",
                            "1                   DMSO_0.100_%_DMSO_0.025_%  \n",
                            "2                   DMSO_0.100_%_DMSO_0.025_%  \n",
                            "3                   DMSO_0.100_%_DMSO_0.025_%  \n",
                            "4                   DMSO_0.100_%_DMSO_0.025_%  "
                        ]
                    },
                    "execution_count": 15,
                    "metadata": {},
                    "output_type": "execute_result"
                }
            ],
            "source": [
                "for i in df[\"oneb_Metadata_Treatment_Dose_Inhibitor_Dose\"].unique():\n",
                "\n",
                "    # manually get treatment\n",
                "    tmp = df[\n",
                "        df[\"oneb_Metadata_Treatment_Dose_Inhibitor_Dose\"].str.contains(i)\n",
                "    ].reset_index(drop=True)\n",
                "    # get the label\n",
                "    label = tmp[\"Metadata_labels\"].unique().tolist()[0]\n",
                "    # add all labels to the df except for the LPS treatment label\n",
                "    tmp1 = df[~df[\"Metadata_labels\"].str.contains(label)].reset_index(drop=True)\n",
                "    # concat tmp and tmp1\n",
                "    tmp1 = pd.concat([tmp, tmp1]).reset_index(drop=True)\n",
                "\n",
                "    # drop rows that contain the label\n",
                "    _pos_samby_permutations = [x for x in pos_samby_permutations if label in x]\n",
                "\n",
                "    for j in _pos_samby_permutations:\n",
                "        tmp1 = tmp1[tmp1[\"Metadata_labels\"].isin(j)].reset_index(drop=True)\n",
                "\n",
                "        # spliting metadata and raw feature values\n",
                "        logging.info(\"splitting data set into metadata and raw feature values\")\n",
                "        df_meta, df_feats = utils.split_data(tmp1)\n",
                "        df_feats = np.array(df_feats)\n",
                "        try:\n",
                "            # execute pipeline on negative control with trianing dataset with cp features\n",
                "\n",
                "            logging.info(f\"Running pipeline on CP features using phenotype\")\n",
                "            result = run_pipeline(\n",
                "                meta=df_meta,\n",
                "                feats=df_feats,\n",
                "                pos_sameby=pos_sameby,\n",
                "                pos_diffby=pos_diffby,\n",
                "                neg_sameby=neg_sameby,\n",
                "                neg_diffby=neg_diffby,\n",
                "                batch_size=batch_size,\n",
                "                null_size=null_size,\n",
                "            )\n",
                "\n",
                "            result[\"shuffled\"] = \"non-shuffled\"\n",
                "            comparison = i\n",
                "            comparison = comparison + \"_\" + \"_vs_\".join(j)\n",
                "\n",
                "            result[\"comparison\"] = comparison\n",
                "\n",
                "        except ZeroDivisionError as e:\n",
                "            logging.warning(f\"{e} captured on phenotye:. Skipping\")\n",
                "\n",
                "        # concatenating all datasets\n",
                "        results_df = pd.concat([results_df, result], ignore_index=True)\n",
                "results_df.to_csv(regular_feat_map_path, index=False)\n",
                "results_df.head()"
            ]
        },
        {
            "cell_type": "markdown",
            "metadata": {},
            "source": [
                "### mAP analysis for shuffled data (Phenotype)"
            ]
        },
        {
            "cell_type": "code",
            "execution_count": 16,
            "metadata": {},
            "outputs": [],
            "source": [
                "results_df = pd.DataFrame(\n",
                "    columns=[\n",
                "        \"Metadata_Well\",\n",
                "        \"Metadata_labels\",\n",
                "        \"average_precision\",\n",
                "        \"p_value\",\n",
                "        \"n_pos_pairs\",\n",
                "        \"n_total_pairs\",\n",
                "        \"shuffled\",\n",
                "        \"comparison\",\n",
                "    ]\n",
                ")"
            ]
        },
        {
            "cell_type": "code",
            "execution_count": 17,
            "metadata": {},
            "outputs": [
                {
                    "data": {
                        "application/vnd.jupyter.widget-view+json": {
                            "model_id": "2250c95daeb3497a81a66f2feab3700f",
                            "version_major": 2,
                            "version_minor": 0
                        },
                        "text/plain": [
                            "  0%|          | 0/130 [00:00<?, ?it/s]"
                        ]
                    },
                    "metadata": {},
                    "output_type": "display_data"
                },
                {
                    "data": {
                        "application/vnd.jupyter.widget-view+json": {
                            "model_id": "b1a1fabb62174448b6fca128b413ccd4",
                            "version_major": 2,
                            "version_minor": 0
                        },
                        "text/plain": [
                            "  0%|          | 0/2176 [00:00<?, ?it/s]"
                        ]
                    },
                    "metadata": {},
                    "output_type": "display_data"
                },
                {
                    "data": {
                        "application/vnd.jupyter.widget-view+json": {
                            "model_id": "4c93e63abe0e49a4ab91c9d4b9d07776",
                            "version_major": 2,
                            "version_minor": 0
                        },
                        "text/plain": [
                            "  0%|          | 0/2 [00:00<?, ?it/s]"
                        ]
                    },
                    "metadata": {},
                    "output_type": "display_data"
                },
                {
                    "name": "stderr",
                    "output_type": "stream",
                    "text": [
                        "/tmp/ipykernel_532780/1162644311.py:56: FutureWarning: The behavior of DataFrame concatenation with empty or all-NA entries is deprecated. In a future version, this will no longer exclude empty or all-NA columns when determining the result dtypes. To retain the old behavior, exclude the relevant entries before the concat operation.\n",
                        "  results_df = pd.concat([results_df, result], ignore_index=True)\n"
                    ]
                },
                {
                    "data": {
                        "application/vnd.jupyter.widget-view+json": {
                            "model_id": "e889aa916fb6496cb027960066d9eecf",
                            "version_major": 2,
                            "version_minor": 0
                        },
                        "text/plain": [
                            "  0%|          | 0/28 [00:00<?, ?it/s]"
                        ]
                    },
                    "metadata": {},
                    "output_type": "display_data"
                },
                {
                    "data": {
                        "application/vnd.jupyter.widget-view+json": {
                            "model_id": "dc216cc452ae4723ae9824754178a003",
                            "version_major": 2,
                            "version_minor": 0
                        },
                        "text/plain": [
                            "  0%|          | 0/108 [00:00<?, ?it/s]"
                        ]
                    },
                    "metadata": {},
                    "output_type": "display_data"
                },
                {
                    "data": {
                        "application/vnd.jupyter.widget-view+json": {
                            "model_id": "2ae147d392e24314b16671cd3d071682",
                            "version_major": 2,
                            "version_minor": 0
                        },
                        "text/plain": [
                            "  0%|          | 0/2176 [00:00<?, ?it/s]"
                        ]
                    },
                    "metadata": {},
                    "output_type": "display_data"
                },
                {
                    "data": {
                        "application/vnd.jupyter.widget-view+json": {
                            "model_id": "582fd6ffe38d41a99fdaa4c9c96d172c",
                            "version_major": 2,
                            "version_minor": 0
                        },
                        "text/plain": [
                            "  0%|          | 0/2 [00:00<?, ?it/s]"
                        ]
                    },
                    "metadata": {},
                    "output_type": "display_data"
                },
                {
                    "data": {
                        "application/vnd.jupyter.widget-view+json": {
                            "model_id": "7c4b07adf10f40a6b895d4e1ea0a5cac",
                            "version_major": 2,
                            "version_minor": 0
                        },
                        "text/plain": [
                            "  0%|          | 0/6 [00:00<?, ?it/s]"
                        ]
                    },
                    "metadata": {},
                    "output_type": "display_data"
                },
                {
                    "data": {
                        "application/vnd.jupyter.widget-view+json": {
                            "model_id": "a5cc1788c2954d54a9694b51dd2cc73e",
                            "version_major": 2,
                            "version_minor": 0
                        },
                        "text/plain": [
                            "  0%|          | 0/108 [00:00<?, ?it/s]"
                        ]
                    },
                    "metadata": {},
                    "output_type": "display_data"
                },
                {
                    "data": {
                        "application/vnd.jupyter.widget-view+json": {
                            "model_id": "6e1a41fe60af4f04a835f085fd796c0d",
                            "version_major": 2,
                            "version_minor": 0
                        },
                        "text/plain": [
                            "  0%|          | 0/2176 [00:00<?, ?it/s]"
                        ]
                    },
                    "metadata": {},
                    "output_type": "display_data"
                },
                {
                    "data": {
                        "application/vnd.jupyter.widget-view+json": {
                            "model_id": "de143ec12ff74dd7975fe8ffdb084366",
                            "version_major": 2,
                            "version_minor": 0
                        },
                        "text/plain": [
                            "  0%|          | 0/2 [00:00<?, ?it/s]"
                        ]
                    },
                    "metadata": {},
                    "output_type": "display_data"
                },
                {
                    "data": {
                        "application/vnd.jupyter.widget-view+json": {
                            "model_id": "c0cf0a782e72498a874f9c3d5d89394e",
                            "version_major": 2,
                            "version_minor": 0
                        },
                        "text/plain": [
                            "  0%|          | 0/6 [00:00<?, ?it/s]"
                        ]
                    },
                    "metadata": {},
                    "output_type": "display_data"
                },
                {
                    "data": {
                        "application/vnd.jupyter.widget-view+json": {
                            "model_id": "c4d10329faee403192e59aa0b6455eef",
                            "version_major": 2,
                            "version_minor": 0
                        },
                        "text/plain": [
                            "  0%|          | 0/108 [00:00<?, ?it/s]"
                        ]
                    },
                    "metadata": {},
                    "output_type": "display_data"
                },
                {
                    "data": {
                        "application/vnd.jupyter.widget-view+json": {
                            "model_id": "68e8190def154cfca8f3485e785c4554",
                            "version_major": 2,
                            "version_minor": 0
                        },
                        "text/plain": [
                            "  0%|          | 0/2176 [00:00<?, ?it/s]"
                        ]
                    },
                    "metadata": {},
                    "output_type": "display_data"
                },
                {
                    "data": {
                        "application/vnd.jupyter.widget-view+json": {
                            "model_id": "08bf4c7a3f144b93a1b40f8209c9ecb0",
                            "version_major": 2,
                            "version_minor": 0
                        },
                        "text/plain": [
                            "  0%|          | 0/2 [00:00<?, ?it/s]"
                        ]
                    },
                    "metadata": {},
                    "output_type": "display_data"
                },
                {
                    "data": {
                        "application/vnd.jupyter.widget-view+json": {
                            "model_id": "e6f3b1337a8f40959ffaac8c693d0a8b",
                            "version_major": 2,
                            "version_minor": 0
                        },
                        "text/plain": [
                            "  0%|          | 0/6 [00:00<?, ?it/s]"
                        ]
                    },
                    "metadata": {},
                    "output_type": "display_data"
                },
                {
                    "data": {
                        "application/vnd.jupyter.widget-view+json": {
                            "model_id": "33fc5c1c20274b348e67e0037a4ed53e",
                            "version_major": 2,
                            "version_minor": 0
                        },
                        "text/plain": [
                            "  0%|          | 0/145 [00:00<?, ?it/s]"
                        ]
                    },
                    "metadata": {},
                    "output_type": "display_data"
                },
                {
                    "data": {
                        "application/vnd.jupyter.widget-view+json": {
                            "model_id": "36d51453bd4b4c1482db16c86e3fc610",
                            "version_major": 2,
                            "version_minor": 0
                        },
                        "text/plain": [
                            "  0%|          | 0/2864 [00:00<?, ?it/s]"
                        ]
                    },
                    "metadata": {},
                    "output_type": "display_data"
                },
                {
                    "data": {
                        "application/vnd.jupyter.widget-view+json": {
                            "model_id": "4bb1da340a3c4c93ac8cbceb995fc321",
                            "version_major": 2,
                            "version_minor": 0
                        },
                        "text/plain": [
                            "  0%|          | 0/4 [00:00<?, ?it/s]"
                        ]
                    },
                    "metadata": {},
                    "output_type": "display_data"
                },
                {
                    "data": {
                        "application/vnd.jupyter.widget-view+json": {
                            "model_id": "d9c7af833dc94c95b5c96ce9a88283cc",
                            "version_major": 2,
                            "version_minor": 0
                        },
                        "text/plain": [
                            "  0%|          | 0/6 [00:00<?, ?it/s]"
                        ]
                    },
                    "metadata": {},
                    "output_type": "display_data"
                },
                {
                    "data": {
                        "application/vnd.jupyter.widget-view+json": {
                            "model_id": "d396827d75fe4b97b0f5e61f8abad156",
                            "version_major": 2,
                            "version_minor": 0
                        },
                        "text/plain": [
                            "  0%|          | 0/145 [00:00<?, ?it/s]"
                        ]
                    },
                    "metadata": {},
                    "output_type": "display_data"
                },
                {
                    "data": {
                        "application/vnd.jupyter.widget-view+json": {
                            "model_id": "723829c38dcf407fb7430f526defc9b4",
                            "version_major": 2,
                            "version_minor": 0
                        },
                        "text/plain": [
                            "  0%|          | 0/2864 [00:00<?, ?it/s]"
                        ]
                    },
                    "metadata": {},
                    "output_type": "display_data"
                },
                {
                    "data": {
                        "application/vnd.jupyter.widget-view+json": {
                            "model_id": "fb58c4edf310451eab7af2f9a75466d9",
                            "version_major": 2,
                            "version_minor": 0
                        },
                        "text/plain": [
                            "  0%|          | 0/4 [00:00<?, ?it/s]"
                        ]
                    },
                    "metadata": {},
                    "output_type": "display_data"
                },
                {
                    "data": {
                        "application/vnd.jupyter.widget-view+json": {
                            "model_id": "4550fdca9ddb43b8a564950a618b8ced",
                            "version_major": 2,
                            "version_minor": 0
                        },
                        "text/plain": [
                            "  0%|          | 0/6 [00:00<?, ?it/s]"
                        ]
                    },
                    "metadata": {},
                    "output_type": "display_data"
                },
                {
                    "data": {
                        "application/vnd.jupyter.widget-view+json": {
                            "model_id": "4c4a9fc93ea84887924e6f3ffdb45874",
                            "version_major": 2,
                            "version_minor": 0
                        },
                        "text/plain": [
                            "  0%|          | 0/145 [00:00<?, ?it/s]"
                        ]
                    },
                    "metadata": {},
                    "output_type": "display_data"
                },
                {
                    "data": {
                        "application/vnd.jupyter.widget-view+json": {
                            "model_id": "4eaf17fdc8c44f7da96393e87c18a1ee",
                            "version_major": 2,
                            "version_minor": 0
                        },
                        "text/plain": [
                            "  0%|          | 0/2864 [00:00<?, ?it/s]"
                        ]
                    },
                    "metadata": {},
                    "output_type": "display_data"
                },
                {
                    "data": {
                        "application/vnd.jupyter.widget-view+json": {
                            "model_id": "4e493a57c55943d583139d8a017c759b",
                            "version_major": 2,
                            "version_minor": 0
                        },
                        "text/plain": [
                            "  0%|          | 0/4 [00:00<?, ?it/s]"
                        ]
                    },
                    "metadata": {},
                    "output_type": "display_data"
                },
                {
                    "data": {
                        "application/vnd.jupyter.widget-view+json": {
                            "model_id": "fabda51edb2f46bc8542cea4ef1c46a5",
                            "version_major": 2,
                            "version_minor": 0
                        },
                        "text/plain": [
                            "  0%|          | 0/6 [00:00<?, ?it/s]"
                        ]
                    },
                    "metadata": {},
                    "output_type": "display_data"
                },
                {
                    "data": {
                        "application/vnd.jupyter.widget-view+json": {
                            "model_id": "606850ffd7784256b13b6a309ee8196f",
                            "version_major": 2,
                            "version_minor": 0
                        },
                        "text/plain": [
                            "  0%|          | 0/145 [00:00<?, ?it/s]"
                        ]
                    },
                    "metadata": {},
                    "output_type": "display_data"
                },
                {
                    "data": {
                        "application/vnd.jupyter.widget-view+json": {
                            "model_id": "dfd4f6a818c8479aa75a2323faabe483",
                            "version_major": 2,
                            "version_minor": 0
                        },
                        "text/plain": [
                            "  0%|          | 0/2864 [00:00<?, ?it/s]"
                        ]
                    },
                    "metadata": {},
                    "output_type": "display_data"
                },
                {
                    "data": {
                        "application/vnd.jupyter.widget-view+json": {
                            "model_id": "04ddc24aac8343cd9550796ce23e6247",
                            "version_major": 2,
                            "version_minor": 0
                        },
                        "text/plain": [
                            "  0%|          | 0/4 [00:00<?, ?it/s]"
                        ]
                    },
                    "metadata": {},
                    "output_type": "display_data"
                },
                {
                    "data": {
                        "application/vnd.jupyter.widget-view+json": {
                            "model_id": "dc2419b51f3c4c31a4245efeb2447be8",
                            "version_major": 2,
                            "version_minor": 0
                        },
                        "text/plain": [
                            "  0%|          | 0/6 [00:00<?, ?it/s]"
                        ]
                    },
                    "metadata": {},
                    "output_type": "display_data"
                },
                {
                    "data": {
                        "application/vnd.jupyter.widget-view+json": {
                            "model_id": "f51b77c4c1254490b206c96a3b9db762",
                            "version_major": 2,
                            "version_minor": 0
                        },
                        "text/plain": [
                            "  0%|          | 0/108 [00:00<?, ?it/s]"
                        ]
                    },
                    "metadata": {},
                    "output_type": "display_data"
                },
                {
                    "data": {
                        "application/vnd.jupyter.widget-view+json": {
                            "model_id": "74c28a1591ce42cfae11e166072e4589",
                            "version_major": 2,
                            "version_minor": 0
                        },
                        "text/plain": [
                            "  0%|          | 0/2176 [00:00<?, ?it/s]"
                        ]
                    },
                    "metadata": {},
                    "output_type": "display_data"
                },
                {
                    "data": {
                        "application/vnd.jupyter.widget-view+json": {
                            "model_id": "69a8247d99ef4b7090a22da941609b67",
                            "version_major": 2,
                            "version_minor": 0
                        },
                        "text/plain": [
                            "  0%|          | 0/2 [00:00<?, ?it/s]"
                        ]
                    },
                    "metadata": {},
                    "output_type": "display_data"
                },
                {
                    "data": {
                        "application/vnd.jupyter.widget-view+json": {
                            "model_id": "b7b03b0a16c144fdb9855148f17dcbf0",
                            "version_major": 2,
                            "version_minor": 0
                        },
                        "text/plain": [
                            "  0%|          | 0/6 [00:00<?, ?it/s]"
                        ]
                    },
                    "metadata": {},
                    "output_type": "display_data"
                },
                {
                    "data": {
                        "application/vnd.jupyter.widget-view+json": {
                            "model_id": "de3440bbf32040858fd36dde1d949bd7",
                            "version_major": 2,
                            "version_minor": 0
                        },
                        "text/plain": [
                            "  0%|          | 0/108 [00:00<?, ?it/s]"
                        ]
                    },
                    "metadata": {},
                    "output_type": "display_data"
                },
                {
                    "data": {
                        "application/vnd.jupyter.widget-view+json": {
                            "model_id": "a6cff9a36a4f4d3faacaae06cfe325ce",
                            "version_major": 2,
                            "version_minor": 0
                        },
                        "text/plain": [
                            "  0%|          | 0/2176 [00:00<?, ?it/s]"
                        ]
                    },
                    "metadata": {},
                    "output_type": "display_data"
                },
                {
                    "data": {
                        "application/vnd.jupyter.widget-view+json": {
                            "model_id": "086254abda8b497dad0412179c6bb69a",
                            "version_major": 2,
                            "version_minor": 0
                        },
                        "text/plain": [
                            "  0%|          | 0/2 [00:00<?, ?it/s]"
                        ]
                    },
                    "metadata": {},
                    "output_type": "display_data"
                },
                {
                    "data": {
                        "application/vnd.jupyter.widget-view+json": {
                            "model_id": "cc5b79275fd64f32bc35bbb1f4a75b71",
                            "version_major": 2,
                            "version_minor": 0
                        },
                        "text/plain": [
                            "  0%|          | 0/6 [00:00<?, ?it/s]"
                        ]
                    },
                    "metadata": {},
                    "output_type": "display_data"
                },
                {
                    "data": {
                        "application/vnd.jupyter.widget-view+json": {
                            "model_id": "658d2493dca141199f65ab12df7515bb",
                            "version_major": 2,
                            "version_minor": 0
                        },
                        "text/plain": [
                            "  0%|          | 0/145 [00:00<?, ?it/s]"
                        ]
                    },
                    "metadata": {},
                    "output_type": "display_data"
                },
                {
                    "data": {
                        "application/vnd.jupyter.widget-view+json": {
                            "model_id": "df61bd982b9c4e12b34ecb178ccb7a2f",
                            "version_major": 2,
                            "version_minor": 0
                        },
                        "text/plain": [
                            "  0%|          | 0/2864 [00:00<?, ?it/s]"
                        ]
                    },
                    "metadata": {},
                    "output_type": "display_data"
                },
                {
                    "data": {
                        "application/vnd.jupyter.widget-view+json": {
                            "model_id": "72d88ca7a2d74ad6894cd2d0831a3f7e",
                            "version_major": 2,
                            "version_minor": 0
                        },
                        "text/plain": [
                            "  0%|          | 0/4 [00:00<?, ?it/s]"
                        ]
                    },
                    "metadata": {},
                    "output_type": "display_data"
                },
                {
                    "data": {
                        "application/vnd.jupyter.widget-view+json": {
                            "model_id": "0e9fec1e289245f3bd5c858985460bce",
                            "version_major": 2,
                            "version_minor": 0
                        },
                        "text/plain": [
                            "  0%|          | 0/6 [00:00<?, ?it/s]"
                        ]
                    },
                    "metadata": {},
                    "output_type": "display_data"
                },
                {
                    "data": {
                        "application/vnd.jupyter.widget-view+json": {
                            "model_id": "e50c2a91f6544b2dbb668810afef651c",
                            "version_major": 2,
                            "version_minor": 0
                        },
                        "text/plain": [
                            "  0%|          | 0/145 [00:00<?, ?it/s]"
                        ]
                    },
                    "metadata": {},
                    "output_type": "display_data"
                },
                {
                    "data": {
                        "application/vnd.jupyter.widget-view+json": {
                            "model_id": "376a44c2ef3a4ccd968d7bfb417d5c27",
                            "version_major": 2,
                            "version_minor": 0
                        },
                        "text/plain": [
                            "  0%|          | 0/2864 [00:00<?, ?it/s]"
                        ]
                    },
                    "metadata": {},
                    "output_type": "display_data"
                },
                {
                    "data": {
                        "application/vnd.jupyter.widget-view+json": {
                            "model_id": "b7edff7571d74f51b1b5e0dcc7b81b94",
                            "version_major": 2,
                            "version_minor": 0
                        },
                        "text/plain": [
                            "  0%|          | 0/4 [00:00<?, ?it/s]"
                        ]
                    },
                    "metadata": {},
                    "output_type": "display_data"
                },
                {
                    "data": {
                        "application/vnd.jupyter.widget-view+json": {
                            "model_id": "b8861717d9b6424883cd0d8f576af23e",
                            "version_major": 2,
                            "version_minor": 0
                        },
                        "text/plain": [
                            "  0%|          | 0/6 [00:00<?, ?it/s]"
                        ]
                    },
                    "metadata": {},
                    "output_type": "display_data"
                },
                {
                    "data": {
                        "application/vnd.jupyter.widget-view+json": {
                            "model_id": "b5aebb5577554d0f8d26a85d96e3fffb",
                            "version_major": 2,
                            "version_minor": 0
                        },
                        "text/plain": [
                            "  0%|          | 0/145 [00:00<?, ?it/s]"
                        ]
                    },
                    "metadata": {},
                    "output_type": "display_data"
                },
                {
                    "data": {
                        "application/vnd.jupyter.widget-view+json": {
                            "model_id": "5598af0e530740cd89c3c652653f209e",
                            "version_major": 2,
                            "version_minor": 0
                        },
                        "text/plain": [
                            "  0%|          | 0/2864 [00:00<?, ?it/s]"
                        ]
                    },
                    "metadata": {},
                    "output_type": "display_data"
                },
                {
                    "data": {
                        "application/vnd.jupyter.widget-view+json": {
                            "model_id": "484771fcaa5f4519bdfb809e2e4ecd0a",
                            "version_major": 2,
                            "version_minor": 0
                        },
                        "text/plain": [
                            "  0%|          | 0/4 [00:00<?, ?it/s]"
                        ]
                    },
                    "metadata": {},
                    "output_type": "display_data"
                },
                {
                    "data": {
                        "application/vnd.jupyter.widget-view+json": {
                            "model_id": "7aab7079881d4defb6a9dc6040287478",
                            "version_major": 2,
                            "version_minor": 0
                        },
                        "text/plain": [
                            "  0%|          | 0/6 [00:00<?, ?it/s]"
                        ]
                    },
                    "metadata": {},
                    "output_type": "display_data"
                },
                {
                    "data": {
                        "application/vnd.jupyter.widget-view+json": {
                            "model_id": "8b56f4e5f1b8493ba08943087d4d7437",
                            "version_major": 2,
                            "version_minor": 0
                        },
                        "text/plain": [
                            "  0%|          | 0/108 [00:00<?, ?it/s]"
                        ]
                    },
                    "metadata": {},
                    "output_type": "display_data"
                },
                {
                    "data": {
                        "application/vnd.jupyter.widget-view+json": {
                            "model_id": "650e68fe22c84f07b23bbc9742abf2c8",
                            "version_major": 2,
                            "version_minor": 0
                        },
                        "text/plain": [
                            "  0%|          | 0/2176 [00:00<?, ?it/s]"
                        ]
                    },
                    "metadata": {},
                    "output_type": "display_data"
                },
                {
                    "data": {
                        "application/vnd.jupyter.widget-view+json": {
                            "model_id": "27c368277a404d81a5b1817013bf22f6",
                            "version_major": 2,
                            "version_minor": 0
                        },
                        "text/plain": [
                            "  0%|          | 0/2 [00:00<?, ?it/s]"
                        ]
                    },
                    "metadata": {},
                    "output_type": "display_data"
                },
                {
                    "data": {
                        "application/vnd.jupyter.widget-view+json": {
                            "model_id": "a5d45b3d50534b61888b1a99d7abbfef",
                            "version_major": 2,
                            "version_minor": 0
                        },
                        "text/plain": [
                            "  0%|          | 0/6 [00:00<?, ?it/s]"
                        ]
                    },
                    "metadata": {},
                    "output_type": "display_data"
                },
                {
                    "data": {
                        "application/vnd.jupyter.widget-view+json": {
                            "model_id": "d5272a9f468e44c59c074a78dc040380",
                            "version_major": 2,
                            "version_minor": 0
                        },
                        "text/plain": [
                            "  0%|          | 0/145 [00:00<?, ?it/s]"
                        ]
                    },
                    "metadata": {},
                    "output_type": "display_data"
                },
                {
                    "data": {
                        "application/vnd.jupyter.widget-view+json": {
                            "model_id": "94b40099418b4e37a951d71d9c693121",
                            "version_major": 2,
                            "version_minor": 0
                        },
                        "text/plain": [
                            "  0%|          | 0/2864 [00:00<?, ?it/s]"
                        ]
                    },
                    "metadata": {},
                    "output_type": "display_data"
                },
                {
                    "data": {
                        "application/vnd.jupyter.widget-view+json": {
                            "model_id": "2fb86c62510d4522857ecfc25a3aba41",
                            "version_major": 2,
                            "version_minor": 0
                        },
                        "text/plain": [
                            "  0%|          | 0/4 [00:00<?, ?it/s]"
                        ]
                    },
                    "metadata": {},
                    "output_type": "display_data"
                },
                {
                    "data": {
                        "application/vnd.jupyter.widget-view+json": {
                            "model_id": "45077ad9f0634fdaa3c53404a396a2f3",
                            "version_major": 2,
                            "version_minor": 0
                        },
                        "text/plain": [
                            "  0%|          | 0/6 [00:00<?, ?it/s]"
                        ]
                    },
                    "metadata": {},
                    "output_type": "display_data"
                },
                {
                    "data": {
                        "application/vnd.jupyter.widget-view+json": {
                            "model_id": "da7d3a02acab4615bda4a6f4722ed92c",
                            "version_major": 2,
                            "version_minor": 0
                        },
                        "text/plain": [
                            "  0%|          | 0/145 [00:00<?, ?it/s]"
                        ]
                    },
                    "metadata": {},
                    "output_type": "display_data"
                },
                {
                    "data": {
                        "application/vnd.jupyter.widget-view+json": {
                            "model_id": "757e840822664440a77d629ef292cd22",
                            "version_major": 2,
                            "version_minor": 0
                        },
                        "text/plain": [
                            "  0%|          | 0/2864 [00:00<?, ?it/s]"
                        ]
                    },
                    "metadata": {},
                    "output_type": "display_data"
                },
                {
                    "data": {
                        "application/vnd.jupyter.widget-view+json": {
                            "model_id": "ecbf6278f8814ca4ac428d3a5f89cb5e",
                            "version_major": 2,
                            "version_minor": 0
                        },
                        "text/plain": [
                            "  0%|          | 0/4 [00:00<?, ?it/s]"
                        ]
                    },
                    "metadata": {},
                    "output_type": "display_data"
                },
                {
                    "data": {
                        "application/vnd.jupyter.widget-view+json": {
                            "model_id": "0bfe7336eda64443b93012852825d13e",
                            "version_major": 2,
                            "version_minor": 0
                        },
                        "text/plain": [
                            "  0%|          | 0/6 [00:00<?, ?it/s]"
                        ]
                    },
                    "metadata": {},
                    "output_type": "display_data"
                },
                {
                    "data": {
                        "application/vnd.jupyter.widget-view+json": {
                            "model_id": "8cedfb94b437441785481397862f9d8b",
                            "version_major": 2,
                            "version_minor": 0
                        },
                        "text/plain": [
                            "  0%|          | 0/108 [00:00<?, ?it/s]"
                        ]
                    },
                    "metadata": {},
                    "output_type": "display_data"
                },
                {
                    "data": {
                        "application/vnd.jupyter.widget-view+json": {
                            "model_id": "0b0272ea5db04f4299197893f85f66d5",
                            "version_major": 2,
                            "version_minor": 0
                        },
                        "text/plain": [
                            "  0%|          | 0/2176 [00:00<?, ?it/s]"
                        ]
                    },
                    "metadata": {},
                    "output_type": "display_data"
                },
                {
                    "data": {
                        "application/vnd.jupyter.widget-view+json": {
                            "model_id": "447a95c91f6d4578b200a3154c0ba0f4",
                            "version_major": 2,
                            "version_minor": 0
                        },
                        "text/plain": [
                            "  0%|          | 0/2 [00:00<?, ?it/s]"
                        ]
                    },
                    "metadata": {},
                    "output_type": "display_data"
                },
                {
                    "data": {
                        "application/vnd.jupyter.widget-view+json": {
                            "model_id": "06dd59c3733b48309d42dab2060b2f0c",
                            "version_major": 2,
                            "version_minor": 0
                        },
                        "text/plain": [
                            "  0%|          | 0/6 [00:00<?, ?it/s]"
                        ]
                    },
                    "metadata": {},
                    "output_type": "display_data"
                },
                {
                    "data": {
                        "application/vnd.jupyter.widget-view+json": {
                            "model_id": "c1d8eac6d4534ed9bbb81ce3ff9b6774",
                            "version_major": 2,
                            "version_minor": 0
                        },
                        "text/plain": [
                            "  0%|          | 0/145 [00:00<?, ?it/s]"
                        ]
                    },
                    "metadata": {},
                    "output_type": "display_data"
                },
                {
                    "data": {
                        "application/vnd.jupyter.widget-view+json": {
                            "model_id": "33e61d0cf47b4ed18bfef0fe7f2930b0",
                            "version_major": 2,
                            "version_minor": 0
                        },
                        "text/plain": [
                            "  0%|          | 0/2864 [00:00<?, ?it/s]"
                        ]
                    },
                    "metadata": {},
                    "output_type": "display_data"
                },
                {
                    "data": {
                        "application/vnd.jupyter.widget-view+json": {
                            "model_id": "689994e70a5f4655bb0441db4e2164ab",
                            "version_major": 2,
                            "version_minor": 0
                        },
                        "text/plain": [
                            "  0%|          | 0/4 [00:00<?, ?it/s]"
                        ]
                    },
                    "metadata": {},
                    "output_type": "display_data"
                },
                {
                    "data": {
                        "application/vnd.jupyter.widget-view+json": {
                            "model_id": "22330f85c505434c93eba02ec1fdfa4c",
                            "version_major": 2,
                            "version_minor": 0
                        },
                        "text/plain": [
                            "  0%|          | 0/6 [00:00<?, ?it/s]"
                        ]
                    },
                    "metadata": {},
                    "output_type": "display_data"
                },
                {
                    "data": {
                        "application/vnd.jupyter.widget-view+json": {
                            "model_id": "bbdf22ce27024c3c9bfa870ae9ee9175",
                            "version_major": 2,
                            "version_minor": 0
                        },
                        "text/plain": [
                            "  0%|          | 0/108 [00:00<?, ?it/s]"
                        ]
                    },
                    "metadata": {},
                    "output_type": "display_data"
                },
                {
                    "data": {
                        "application/vnd.jupyter.widget-view+json": {
                            "model_id": "c6810c7ae55a4e5b8c9890397882c32c",
                            "version_major": 2,
                            "version_minor": 0
                        },
                        "text/plain": [
                            "  0%|          | 0/2176 [00:00<?, ?it/s]"
                        ]
                    },
                    "metadata": {},
                    "output_type": "display_data"
                },
                {
                    "data": {
                        "application/vnd.jupyter.widget-view+json": {
                            "model_id": "35a4cd16f03d440a854b1fe731f3a1dc",
                            "version_major": 2,
                            "version_minor": 0
                        },
                        "text/plain": [
                            "  0%|          | 0/2 [00:00<?, ?it/s]"
                        ]
                    },
                    "metadata": {},
                    "output_type": "display_data"
                },
                {
                    "data": {
                        "application/vnd.jupyter.widget-view+json": {
                            "model_id": "9a54199520af42c48124c5e58abd7411",
                            "version_major": 2,
                            "version_minor": 0
                        },
                        "text/plain": [
                            "  0%|          | 0/6 [00:00<?, ?it/s]"
                        ]
                    },
                    "metadata": {},
                    "output_type": "display_data"
                },
                {
                    "data": {
                        "application/vnd.jupyter.widget-view+json": {
                            "model_id": "4d889da652b54565813c2484e4709219",
                            "version_major": 2,
                            "version_minor": 0
                        },
                        "text/plain": [
                            "  0%|          | 0/145 [00:00<?, ?it/s]"
                        ]
                    },
                    "metadata": {},
                    "output_type": "display_data"
                },
                {
                    "data": {
                        "application/vnd.jupyter.widget-view+json": {
                            "model_id": "dcbf864ac5894b18b4aaa7e42881dfff",
                            "version_major": 2,
                            "version_minor": 0
                        },
                        "text/plain": [
                            "  0%|          | 0/2864 [00:00<?, ?it/s]"
                        ]
                    },
                    "metadata": {},
                    "output_type": "display_data"
                },
                {
                    "data": {
                        "application/vnd.jupyter.widget-view+json": {
                            "model_id": "ce49fae3ad974d6e966653d8fb713be9",
                            "version_major": 2,
                            "version_minor": 0
                        },
                        "text/plain": [
                            "  0%|          | 0/4 [00:00<?, ?it/s]"
                        ]
                    },
                    "metadata": {},
                    "output_type": "display_data"
                },
                {
                    "data": {
                        "application/vnd.jupyter.widget-view+json": {
                            "model_id": "d117f8a9cd734243944f4ecfe34104b4",
                            "version_major": 2,
                            "version_minor": 0
                        },
                        "text/plain": [
                            "  0%|          | 0/6 [00:00<?, ?it/s]"
                        ]
                    },
                    "metadata": {},
                    "output_type": "display_data"
                },
                {
                    "data": {
                        "application/vnd.jupyter.widget-view+json": {
                            "model_id": "90fecd2e86ac41c89e39013fbe3f2d4c",
                            "version_major": 2,
                            "version_minor": 0
                        },
                        "text/plain": [
                            "  0%|          | 0/145 [00:00<?, ?it/s]"
                        ]
                    },
                    "metadata": {},
                    "output_type": "display_data"
                },
                {
                    "data": {
                        "application/vnd.jupyter.widget-view+json": {
                            "model_id": "1c9777e40a84422694232155b5d2ceb4",
                            "version_major": 2,
                            "version_minor": 0
                        },
                        "text/plain": [
                            "  0%|          | 0/2864 [00:00<?, ?it/s]"
                        ]
                    },
                    "metadata": {},
                    "output_type": "display_data"
                },
                {
                    "data": {
                        "application/vnd.jupyter.widget-view+json": {
                            "model_id": "d8f14409d99f4eb587d174adfd2aca34",
                            "version_major": 2,
                            "version_minor": 0
                        },
                        "text/plain": [
                            "  0%|          | 0/4 [00:00<?, ?it/s]"
                        ]
                    },
                    "metadata": {},
                    "output_type": "display_data"
                },
                {
                    "data": {
                        "application/vnd.jupyter.widget-view+json": {
                            "model_id": "ae493ad65c3a42c79c60b91255ee3ff7",
                            "version_major": 2,
                            "version_minor": 0
                        },
                        "text/plain": [
                            "  0%|          | 0/6 [00:00<?, ?it/s]"
                        ]
                    },
                    "metadata": {},
                    "output_type": "display_data"
                },
                {
                    "data": {
                        "application/vnd.jupyter.widget-view+json": {
                            "model_id": "37e15906e95c48fc96c3bd2461273b52",
                            "version_major": 2,
                            "version_minor": 0
                        },
                        "text/plain": [
                            "  0%|          | 0/145 [00:00<?, ?it/s]"
                        ]
                    },
                    "metadata": {},
                    "output_type": "display_data"
                },
                {
                    "data": {
                        "application/vnd.jupyter.widget-view+json": {
                            "model_id": "cc8788b1d4354ed7894bb42f9b023b01",
                            "version_major": 2,
                            "version_minor": 0
                        },
                        "text/plain": [
                            "  0%|          | 0/2864 [00:00<?, ?it/s]"
                        ]
                    },
                    "metadata": {},
                    "output_type": "display_data"
                },
                {
                    "data": {
                        "application/vnd.jupyter.widget-view+json": {
                            "model_id": "de8fe1ee089f459e9f25ed96d6023063",
                            "version_major": 2,
                            "version_minor": 0
                        },
                        "text/plain": [
                            "  0%|          | 0/4 [00:00<?, ?it/s]"
                        ]
                    },
                    "metadata": {},
                    "output_type": "display_data"
                },
                {
                    "data": {
                        "application/vnd.jupyter.widget-view+json": {
                            "model_id": "f45cdf1fa62b4f01ba37ebd53d44e6d6",
                            "version_major": 2,
                            "version_minor": 0
                        },
                        "text/plain": [
                            "  0%|          | 0/6 [00:00<?, ?it/s]"
                        ]
                    },
                    "metadata": {},
                    "output_type": "display_data"
                },
                {
                    "data": {
                        "application/vnd.jupyter.widget-view+json": {
                            "model_id": "7f8c1c6d7b62467eb63cbc425d96842a",
                            "version_major": 2,
                            "version_minor": 0
                        },
                        "text/plain": [
                            "  0%|          | 0/145 [00:00<?, ?it/s]"
                        ]
                    },
                    "metadata": {},
                    "output_type": "display_data"
                },
                {
                    "data": {
                        "application/vnd.jupyter.widget-view+json": {
                            "model_id": "40f477c2d74e424a870908e60f9d41ac",
                            "version_major": 2,
                            "version_minor": 0
                        },
                        "text/plain": [
                            "  0%|          | 0/2864 [00:00<?, ?it/s]"
                        ]
                    },
                    "metadata": {},
                    "output_type": "display_data"
                },
                {
                    "data": {
                        "application/vnd.jupyter.widget-view+json": {
                            "model_id": "546bd280fe764806b9cf599333fdb292",
                            "version_major": 2,
                            "version_minor": 0
                        },
                        "text/plain": [
                            "  0%|          | 0/4 [00:00<?, ?it/s]"
                        ]
                    },
                    "metadata": {},
                    "output_type": "display_data"
                },
                {
                    "data": {
                        "application/vnd.jupyter.widget-view+json": {
                            "model_id": "c4bde2f370bc45c2b77e7400b649ec9f",
                            "version_major": 2,
                            "version_minor": 0
                        },
                        "text/plain": [
                            "  0%|          | 0/6 [00:00<?, ?it/s]"
                        ]
                    },
                    "metadata": {},
                    "output_type": "display_data"
                },
                {
                    "data": {
                        "application/vnd.jupyter.widget-view+json": {
                            "model_id": "4f69a06bec5f42249c7b7d0ce362671e",
                            "version_major": 2,
                            "version_minor": 0
                        },
                        "text/plain": [
                            "  0%|          | 0/108 [00:00<?, ?it/s]"
                        ]
                    },
                    "metadata": {},
                    "output_type": "display_data"
                },
                {
                    "data": {
                        "application/vnd.jupyter.widget-view+json": {
                            "model_id": "e004580e6f51454ebd420c24a8400df6",
                            "version_major": 2,
                            "version_minor": 0
                        },
                        "text/plain": [
                            "  0%|          | 0/2176 [00:00<?, ?it/s]"
                        ]
                    },
                    "metadata": {},
                    "output_type": "display_data"
                },
                {
                    "data": {
                        "application/vnd.jupyter.widget-view+json": {
                            "model_id": "6436cf64ba7c40ac8e491f8d8bdb3f74",
                            "version_major": 2,
                            "version_minor": 0
                        },
                        "text/plain": [
                            "  0%|          | 0/2 [00:00<?, ?it/s]"
                        ]
                    },
                    "metadata": {},
                    "output_type": "display_data"
                },
                {
                    "data": {
                        "application/vnd.jupyter.widget-view+json": {
                            "model_id": "85976c88e23e4444813543eb184e15ad",
                            "version_major": 2,
                            "version_minor": 0
                        },
                        "text/plain": [
                            "  0%|          | 0/6 [00:00<?, ?it/s]"
                        ]
                    },
                    "metadata": {},
                    "output_type": "display_data"
                },
                {
                    "data": {
                        "application/vnd.jupyter.widget-view+json": {
                            "model_id": "0cc35f615f2b46d48c6008b097bc69fe",
                            "version_major": 2,
                            "version_minor": 0
                        },
                        "text/plain": [
                            "  0%|          | 0/145 [00:00<?, ?it/s]"
                        ]
                    },
                    "metadata": {},
                    "output_type": "display_data"
                },
                {
                    "data": {
                        "application/vnd.jupyter.widget-view+json": {
                            "model_id": "eb3bce68412747d692133cdad49e3098",
                            "version_major": 2,
                            "version_minor": 0
                        },
                        "text/plain": [
                            "  0%|          | 0/2864 [00:00<?, ?it/s]"
                        ]
                    },
                    "metadata": {},
                    "output_type": "display_data"
                },
                {
                    "data": {
                        "application/vnd.jupyter.widget-view+json": {
                            "model_id": "9be2ad973a1242f49893ec84b78dc4f0",
                            "version_major": 2,
                            "version_minor": 0
                        },
                        "text/plain": [
                            "  0%|          | 0/4 [00:00<?, ?it/s]"
                        ]
                    },
                    "metadata": {},
                    "output_type": "display_data"
                },
                {
                    "data": {
                        "application/vnd.jupyter.widget-view+json": {
                            "model_id": "6e9c54ffb288472cab75f6085d5d85b7",
                            "version_major": 2,
                            "version_minor": 0
                        },
                        "text/plain": [
                            "  0%|          | 0/6 [00:00<?, ?it/s]"
                        ]
                    },
                    "metadata": {},
                    "output_type": "display_data"
                },
                {
                    "data": {
                        "application/vnd.jupyter.widget-view+json": {
                            "model_id": "d31db5c0966542f993156dcff093e00f",
                            "version_major": 2,
                            "version_minor": 0
                        },
                        "text/plain": [
                            "  0%|          | 0/108 [00:00<?, ?it/s]"
                        ]
                    },
                    "metadata": {},
                    "output_type": "display_data"
                },
                {
                    "data": {
                        "application/vnd.jupyter.widget-view+json": {
                            "model_id": "9b238e20ca9b479bb83e42101f9097c9",
                            "version_major": 2,
                            "version_minor": 0
                        },
                        "text/plain": [
                            "  0%|          | 0/2176 [00:00<?, ?it/s]"
                        ]
                    },
                    "metadata": {},
                    "output_type": "display_data"
                },
                {
                    "data": {
                        "application/vnd.jupyter.widget-view+json": {
                            "model_id": "4b1702c97aad4e95ab1637187f77d5db",
                            "version_major": 2,
                            "version_minor": 0
                        },
                        "text/plain": [
                            "  0%|          | 0/2 [00:00<?, ?it/s]"
                        ]
                    },
                    "metadata": {},
                    "output_type": "display_data"
                },
                {
                    "data": {
                        "application/vnd.jupyter.widget-view+json": {
                            "model_id": "deb131770f40487e963efec48bf49b0c",
                            "version_major": 2,
                            "version_minor": 0
                        },
                        "text/plain": [
                            "  0%|          | 0/6 [00:00<?, ?it/s]"
                        ]
                    },
                    "metadata": {},
                    "output_type": "display_data"
                },
                {
                    "data": {
                        "application/vnd.jupyter.widget-view+json": {
                            "model_id": "0b3e8c52f2b04cdc8aa8047d62fea800",
                            "version_major": 2,
                            "version_minor": 0
                        },
                        "text/plain": [
                            "  0%|          | 0/145 [00:00<?, ?it/s]"
                        ]
                    },
                    "metadata": {},
                    "output_type": "display_data"
                },
                {
                    "data": {
                        "application/vnd.jupyter.widget-view+json": {
                            "model_id": "622ca5d2f2ce46b49dc4f52c67914e27",
                            "version_major": 2,
                            "version_minor": 0
                        },
                        "text/plain": [
                            "  0%|          | 0/2864 [00:00<?, ?it/s]"
                        ]
                    },
                    "metadata": {},
                    "output_type": "display_data"
                },
                {
                    "data": {
                        "application/vnd.jupyter.widget-view+json": {
                            "model_id": "b4af04dfd2ad44288d76a36c1892f85a",
                            "version_major": 2,
                            "version_minor": 0
                        },
                        "text/plain": [
                            "  0%|          | 0/4 [00:00<?, ?it/s]"
                        ]
                    },
                    "metadata": {},
                    "output_type": "display_data"
                },
                {
                    "data": {
                        "application/vnd.jupyter.widget-view+json": {
                            "model_id": "81f4935fddb3457d85f2f35fd06ffe24",
                            "version_major": 2,
                            "version_minor": 0
                        },
                        "text/plain": [
                            "  0%|          | 0/6 [00:00<?, ?it/s]"
                        ]
                    },
                    "metadata": {},
                    "output_type": "display_data"
                },
                {
                    "data": {
                        "application/vnd.jupyter.widget-view+json": {
                            "model_id": "01ad8f79fd4c4dbdbbd57040935cf76f",
                            "version_major": 2,
                            "version_minor": 0
                        },
                        "text/plain": [
                            "  0%|          | 0/145 [00:00<?, ?it/s]"
                        ]
                    },
                    "metadata": {},
                    "output_type": "display_data"
                },
                {
                    "data": {
                        "application/vnd.jupyter.widget-view+json": {
                            "model_id": "8022954c4d6e48cf8a7486c51c8dca48",
                            "version_major": 2,
                            "version_minor": 0
                        },
                        "text/plain": [
                            "  0%|          | 0/2864 [00:00<?, ?it/s]"
                        ]
                    },
                    "metadata": {},
                    "output_type": "display_data"
                },
                {
                    "data": {
                        "application/vnd.jupyter.widget-view+json": {
                            "model_id": "09c3907d4cce454c8b858b95caaea62a",
                            "version_major": 2,
                            "version_minor": 0
                        },
                        "text/plain": [
                            "  0%|          | 0/4 [00:00<?, ?it/s]"
                        ]
                    },
                    "metadata": {},
                    "output_type": "display_data"
                },
                {
                    "data": {
                        "application/vnd.jupyter.widget-view+json": {
                            "model_id": "6dbf3bfcae1a4c99964dbb0501a25c45",
                            "version_major": 2,
                            "version_minor": 0
                        },
                        "text/plain": [
                            "  0%|          | 0/6 [00:00<?, ?it/s]"
                        ]
                    },
                    "metadata": {},
                    "output_type": "display_data"
                },
                {
                    "data": {
                        "application/vnd.jupyter.widget-view+json": {
                            "model_id": "28338233370c4ed2a1aa8264ee6a6ea5",
                            "version_major": 2,
                            "version_minor": 0
                        },
                        "text/plain": [
                            "  0%|          | 0/145 [00:00<?, ?it/s]"
                        ]
                    },
                    "metadata": {},
                    "output_type": "display_data"
                },
                {
                    "data": {
                        "application/vnd.jupyter.widget-view+json": {
                            "model_id": "dbe3a1fc083442cf8a016b63ed8577be",
                            "version_major": 2,
                            "version_minor": 0
                        },
                        "text/plain": [
                            "  0%|          | 0/2864 [00:00<?, ?it/s]"
                        ]
                    },
                    "metadata": {},
                    "output_type": "display_data"
                },
                {
                    "data": {
                        "application/vnd.jupyter.widget-view+json": {
                            "model_id": "fa7b2ad55a444110a2d968ae1a2a52b3",
                            "version_major": 2,
                            "version_minor": 0
                        },
                        "text/plain": [
                            "  0%|          | 0/4 [00:00<?, ?it/s]"
                        ]
                    },
                    "metadata": {},
                    "output_type": "display_data"
                },
                {
                    "data": {
                        "application/vnd.jupyter.widget-view+json": {
                            "model_id": "feeab73617b249ae9f32830e6c1ae697",
                            "version_major": 2,
                            "version_minor": 0
                        },
                        "text/plain": [
                            "  0%|          | 0/6 [00:00<?, ?it/s]"
                        ]
                    },
                    "metadata": {},
                    "output_type": "display_data"
                },
                {
                    "data": {
                        "application/vnd.jupyter.widget-view+json": {
                            "model_id": "90270ff1d2384973abf2fde2c7fa2156",
                            "version_major": 2,
                            "version_minor": 0
                        },
                        "text/plain": [
                            "  0%|          | 0/145 [00:00<?, ?it/s]"
                        ]
                    },
                    "metadata": {},
                    "output_type": "display_data"
                },
                {
                    "data": {
                        "application/vnd.jupyter.widget-view+json": {
                            "model_id": "0d5599222eba429fbcdfcfd9ef352dcf",
                            "version_major": 2,
                            "version_minor": 0
                        },
                        "text/plain": [
                            "  0%|          | 0/2864 [00:00<?, ?it/s]"
                        ]
                    },
                    "metadata": {},
                    "output_type": "display_data"
                },
                {
                    "data": {
                        "application/vnd.jupyter.widget-view+json": {
                            "model_id": "915c33e7df064d698358cbf5b7e9ad4c",
                            "version_major": 2,
                            "version_minor": 0
                        },
                        "text/plain": [
                            "  0%|          | 0/4 [00:00<?, ?it/s]"
                        ]
                    },
                    "metadata": {},
                    "output_type": "display_data"
                },
                {
                    "data": {
                        "application/vnd.jupyter.widget-view+json": {
                            "model_id": "67febd0dbd804f14a5e4ed4b1a5de218",
                            "version_major": 2,
                            "version_minor": 0
                        },
                        "text/plain": [
                            "  0%|          | 0/6 [00:00<?, ?it/s]"
                        ]
                    },
                    "metadata": {},
                    "output_type": "display_data"
                },
                {
                    "data": {
                        "application/vnd.jupyter.widget-view+json": {
                            "model_id": "cb45f4ac1e744e2d9e820eaecec96b8f",
                            "version_major": 2,
                            "version_minor": 0
                        },
                        "text/plain": [
                            "  0%|          | 0/108 [00:00<?, ?it/s]"
                        ]
                    },
                    "metadata": {},
                    "output_type": "display_data"
                },
                {
                    "data": {
                        "application/vnd.jupyter.widget-view+json": {
                            "model_id": "c9a1a712be7c499cab5768d3874e9838",
                            "version_major": 2,
                            "version_minor": 0
                        },
                        "text/plain": [
                            "  0%|          | 0/2176 [00:00<?, ?it/s]"
                        ]
                    },
                    "metadata": {},
                    "output_type": "display_data"
                },
                {
                    "data": {
                        "application/vnd.jupyter.widget-view+json": {
                            "model_id": "cb6d6c05bbc94a13bfa8dc71df6ac9c7",
                            "version_major": 2,
                            "version_minor": 0
                        },
                        "text/plain": [
                            "  0%|          | 0/2 [00:00<?, ?it/s]"
                        ]
                    },
                    "metadata": {},
                    "output_type": "display_data"
                },
                {
                    "data": {
                        "application/vnd.jupyter.widget-view+json": {
                            "model_id": "00ac72c183cd42bf95d78beaf2648870",
                            "version_major": 2,
                            "version_minor": 0
                        },
                        "text/plain": [
                            "  0%|          | 0/6 [00:00<?, ?it/s]"
                        ]
                    },
                    "metadata": {},
                    "output_type": "display_data"
                },
                {
                    "data": {
                        "application/vnd.jupyter.widget-view+json": {
                            "model_id": "645eb671a2d747998f4a96395f440fc6",
                            "version_major": 2,
                            "version_minor": 0
                        },
                        "text/plain": [
                            "  0%|          | 0/108 [00:00<?, ?it/s]"
                        ]
                    },
                    "metadata": {},
                    "output_type": "display_data"
                },
                {
                    "data": {
                        "application/vnd.jupyter.widget-view+json": {
                            "model_id": "fe569819576d49779daeb37cfc19fdc6",
                            "version_major": 2,
                            "version_minor": 0
                        },
                        "text/plain": [
                            "  0%|          | 0/2176 [00:00<?, ?it/s]"
                        ]
                    },
                    "metadata": {},
                    "output_type": "display_data"
                },
                {
                    "data": {
                        "application/vnd.jupyter.widget-view+json": {
                            "model_id": "bb7bef452cc34394a02b5413e7b9a919",
                            "version_major": 2,
                            "version_minor": 0
                        },
                        "text/plain": [
                            "  0%|          | 0/2 [00:00<?, ?it/s]"
                        ]
                    },
                    "metadata": {},
                    "output_type": "display_data"
                },
                {
                    "data": {
                        "application/vnd.jupyter.widget-view+json": {
                            "model_id": "aacfc3ed4f77412ab9258314c6b9514c",
                            "version_major": 2,
                            "version_minor": 0
                        },
                        "text/plain": [
                            "  0%|          | 0/6 [00:00<?, ?it/s]"
                        ]
                    },
                    "metadata": {},
                    "output_type": "display_data"
                },
                {
                    "data": {
                        "application/vnd.jupyter.widget-view+json": {
                            "model_id": "c83da97f3d49488dad6d8f779ca77c0d",
                            "version_major": 2,
                            "version_minor": 0
                        },
                        "text/plain": [
                            "  0%|          | 0/108 [00:00<?, ?it/s]"
                        ]
                    },
                    "metadata": {},
                    "output_type": "display_data"
                },
                {
                    "data": {
                        "application/vnd.jupyter.widget-view+json": {
                            "model_id": "4d67c3ef2bef43a1b44a249c904316d2",
                            "version_major": 2,
                            "version_minor": 0
                        },
                        "text/plain": [
                            "  0%|          | 0/2176 [00:00<?, ?it/s]"
                        ]
                    },
                    "metadata": {},
                    "output_type": "display_data"
                },
                {
                    "data": {
                        "application/vnd.jupyter.widget-view+json": {
                            "model_id": "f715181636df4ac8bbd902a699b3ad7e",
                            "version_major": 2,
                            "version_minor": 0
                        },
                        "text/plain": [
                            "  0%|          | 0/2 [00:00<?, ?it/s]"
                        ]
                    },
                    "metadata": {},
                    "output_type": "display_data"
                },
                {
                    "data": {
                        "application/vnd.jupyter.widget-view+json": {
                            "model_id": "75855f5b2f7f4a8e9d59b31778d6be45",
                            "version_major": 2,
                            "version_minor": 0
                        },
                        "text/plain": [
                            "  0%|          | 0/6 [00:00<?, ?it/s]"
                        ]
                    },
                    "metadata": {},
                    "output_type": "display_data"
                },
                {
                    "data": {
                        "application/vnd.jupyter.widget-view+json": {
                            "model_id": "67332be4c902463e9f7a6b18d8e6247f",
                            "version_major": 2,
                            "version_minor": 0
                        },
                        "text/plain": [
                            "  0%|          | 0/108 [00:00<?, ?it/s]"
                        ]
                    },
                    "metadata": {},
                    "output_type": "display_data"
                },
                {
                    "data": {
                        "application/vnd.jupyter.widget-view+json": {
                            "model_id": "a492ce563c594a0da26ce2910d3d8453",
                            "version_major": 2,
                            "version_minor": 0
                        },
                        "text/plain": [
                            "  0%|          | 0/2176 [00:00<?, ?it/s]"
                        ]
                    },
                    "metadata": {},
                    "output_type": "display_data"
                },
                {
                    "data": {
                        "application/vnd.jupyter.widget-view+json": {
                            "model_id": "e8a7436d42fe498bb0b330030367843a",
                            "version_major": 2,
                            "version_minor": 0
                        },
                        "text/plain": [
                            "  0%|          | 0/2 [00:00<?, ?it/s]"
                        ]
                    },
                    "metadata": {},
                    "output_type": "display_data"
                },
                {
                    "data": {
                        "application/vnd.jupyter.widget-view+json": {
                            "model_id": "9ad2248ad9814e8d81961892c00d7b7b",
                            "version_major": 2,
                            "version_minor": 0
                        },
                        "text/plain": [
                            "  0%|          | 0/6 [00:00<?, ?it/s]"
                        ]
                    },
                    "metadata": {},
                    "output_type": "display_data"
                },
                {
                    "data": {
                        "application/vnd.jupyter.widget-view+json": {
                            "model_id": "d648434082864446a41615d404a7a9ae",
                            "version_major": 2,
                            "version_minor": 0
                        },
                        "text/plain": [
                            "  0%|          | 0/108 [00:00<?, ?it/s]"
                        ]
                    },
                    "metadata": {},
                    "output_type": "display_data"
                },
                {
                    "data": {
                        "application/vnd.jupyter.widget-view+json": {
                            "model_id": "db32d370c8764e38a83a653ff9af09ed",
                            "version_major": 2,
                            "version_minor": 0
                        },
                        "text/plain": [
                            "  0%|          | 0/2176 [00:00<?, ?it/s]"
                        ]
                    },
                    "metadata": {},
                    "output_type": "display_data"
                },
                {
                    "data": {
                        "application/vnd.jupyter.widget-view+json": {
                            "model_id": "a4d18a9830d04083a9c3722302680543",
                            "version_major": 2,
                            "version_minor": 0
                        },
                        "text/plain": [
                            "  0%|          | 0/2 [00:00<?, ?it/s]"
                        ]
                    },
                    "metadata": {},
                    "output_type": "display_data"
                },
                {
                    "data": {
                        "application/vnd.jupyter.widget-view+json": {
                            "model_id": "109d7c559cca4111abef47e0710ca1fa",
                            "version_major": 2,
                            "version_minor": 0
                        },
                        "text/plain": [
                            "  0%|          | 0/6 [00:00<?, ?it/s]"
                        ]
                    },
                    "metadata": {},
                    "output_type": "display_data"
                },
                {
                    "data": {
                        "application/vnd.jupyter.widget-view+json": {
                            "model_id": "828a7398052f4dbea2e4fd484e44210a",
                            "version_major": 2,
                            "version_minor": 0
                        },
                        "text/plain": [
                            "  0%|          | 0/108 [00:00<?, ?it/s]"
                        ]
                    },
                    "metadata": {},
                    "output_type": "display_data"
                },
                {
                    "data": {
                        "application/vnd.jupyter.widget-view+json": {
                            "model_id": "4b3c662ce3a84023bdd4abd7f23dda3e",
                            "version_major": 2,
                            "version_minor": 0
                        },
                        "text/plain": [
                            "  0%|          | 0/2176 [00:00<?, ?it/s]"
                        ]
                    },
                    "metadata": {},
                    "output_type": "display_data"
                },
                {
                    "data": {
                        "application/vnd.jupyter.widget-view+json": {
                            "model_id": "fea8fbdb85034579ade5a68c8ac13c97",
                            "version_major": 2,
                            "version_minor": 0
                        },
                        "text/plain": [
                            "  0%|          | 0/2 [00:00<?, ?it/s]"
                        ]
                    },
                    "metadata": {},
                    "output_type": "display_data"
                },
                {
                    "data": {
                        "application/vnd.jupyter.widget-view+json": {
                            "model_id": "e714adf9791f407e91e7ff98889fcca0",
                            "version_major": 2,
                            "version_minor": 0
                        },
                        "text/plain": [
                            "  0%|          | 0/6 [00:00<?, ?it/s]"
                        ]
                    },
                    "metadata": {},
                    "output_type": "display_data"
                },
                {
                    "data": {
                        "application/vnd.jupyter.widget-view+json": {
                            "model_id": "87b217ca3a1145a283de6fa3b39eb6ed",
                            "version_major": 2,
                            "version_minor": 0
                        },
                        "text/plain": [
                            "  0%|          | 0/117 [00:00<?, ?it/s]"
                        ]
                    },
                    "metadata": {},
                    "output_type": "display_data"
                },
                {
                    "data": {
                        "application/vnd.jupyter.widget-view+json": {
                            "model_id": "aab8eda75a874a97b31ec8755d5f5484",
                            "version_major": 2,
                            "version_minor": 0
                        },
                        "text/plain": [
                            "  0%|          | 0/2176 [00:00<?, ?it/s]"
                        ]
                    },
                    "metadata": {},
                    "output_type": "display_data"
                },
                {
                    "data": {
                        "application/vnd.jupyter.widget-view+json": {
                            "model_id": "f0838b59b0574d8c97a1d99a86f0e344",
                            "version_major": 2,
                            "version_minor": 0
                        },
                        "text/plain": [
                            "  0%|          | 0/2 [00:00<?, ?it/s]"
                        ]
                    },
                    "metadata": {},
                    "output_type": "display_data"
                },
                {
                    "data": {
                        "application/vnd.jupyter.widget-view+json": {
                            "model_id": "7128bde5310c4b538683c576001daf5b",
                            "version_major": 2,
                            "version_minor": 0
                        },
                        "text/plain": [
                            "  0%|          | 0/15 [00:00<?, ?it/s]"
                        ]
                    },
                    "metadata": {},
                    "output_type": "display_data"
                },
                {
                    "data": {
                        "text/html": [
                            "<div>\n",
                            "<style scoped>\n",
                            "    .dataframe tbody tr th:only-of-type {\n",
                            "        vertical-align: middle;\n",
                            "    }\n",
                            "\n",
                            "    .dataframe tbody tr th {\n",
                            "        vertical-align: top;\n",
                            "    }\n",
                            "\n",
                            "    .dataframe thead th {\n",
                            "        text-align: right;\n",
                            "    }\n",
                            "</style>\n",
                            "<table border=\"1\" class=\"dataframe\">\n",
                            "  <thead>\n",
                            "    <tr style=\"text-align: right;\">\n",
                            "      <th></th>\n",
                            "      <th>Metadata_Well</th>\n",
                            "      <th>Metadata_labels</th>\n",
                            "      <th>average_precision</th>\n",
                            "      <th>p_value</th>\n",
                            "      <th>n_pos_pairs</th>\n",
                            "      <th>n_total_pairs</th>\n",
                            "      <th>shuffled</th>\n",
                            "      <th>comparison</th>\n",
                            "      <th>oneb_Metadata_Treatment_Dose_Inhibitor_Dose</th>\n",
                            "    </tr>\n",
                            "  </thead>\n",
                            "  <tbody>\n",
                            "    <tr>\n",
                            "      <th>0</th>\n",
                            "      <td>B06</td>\n",
                            "      <td>Control</td>\n",
                            "      <td>1.000000</td>\n",
                            "      <td>1.0</td>\n",
                            "      <td>7.0</td>\n",
                            "      <td>7.0</td>\n",
                            "      <td>non-shuffled</td>\n",
                            "      <td>DMSO_0.100_%_DMSO_0.025_%_Control_vs_Pyroptosis</td>\n",
                            "      <td>DMSO_0.100_%_DMSO_0.025_%</td>\n",
                            "    </tr>\n",
                            "    <tr>\n",
                            "      <th>1</th>\n",
                            "      <td>C06</td>\n",
                            "      <td>Control</td>\n",
                            "      <td>1.000000</td>\n",
                            "      <td>1.0</td>\n",
                            "      <td>7.0</td>\n",
                            "      <td>7.0</td>\n",
                            "      <td>non-shuffled</td>\n",
                            "      <td>DMSO_0.100_%_DMSO_0.025_%_Control_vs_Pyroptosis</td>\n",
                            "      <td>DMSO_0.100_%_DMSO_0.025_%</td>\n",
                            "    </tr>\n",
                            "    <tr>\n",
                            "      <th>2</th>\n",
                            "      <td>I06</td>\n",
                            "      <td>Control</td>\n",
                            "      <td>1.000000</td>\n",
                            "      <td>1.0</td>\n",
                            "      <td>7.0</td>\n",
                            "      <td>7.0</td>\n",
                            "      <td>non-shuffled</td>\n",
                            "      <td>DMSO_0.100_%_DMSO_0.025_%_Control_vs_Pyroptosis</td>\n",
                            "      <td>DMSO_0.100_%_DMSO_0.025_%</td>\n",
                            "    </tr>\n",
                            "    <tr>\n",
                            "      <th>3</th>\n",
                            "      <td>J06</td>\n",
                            "      <td>Control</td>\n",
                            "      <td>1.000000</td>\n",
                            "      <td>1.0</td>\n",
                            "      <td>7.0</td>\n",
                            "      <td>7.0</td>\n",
                            "      <td>non-shuffled</td>\n",
                            "      <td>DMSO_0.100_%_DMSO_0.025_%_Control_vs_Pyroptosis</td>\n",
                            "      <td>DMSO_0.100_%_DMSO_0.025_%</td>\n",
                            "    </tr>\n",
                            "    <tr>\n",
                            "      <th>4</th>\n",
                            "      <td>B07</td>\n",
                            "      <td>Control</td>\n",
                            "      <td>1.000000</td>\n",
                            "      <td>1.0</td>\n",
                            "      <td>7.0</td>\n",
                            "      <td>7.0</td>\n",
                            "      <td>non-shuffled</td>\n",
                            "      <td>DMSO_0.100_%_DMSO_0.025_%_Control_vs_Pyroptosis</td>\n",
                            "      <td>DMSO_0.100_%_DMSO_0.025_%</td>\n",
                            "    </tr>\n",
                            "    <tr>\n",
                            "      <th>...</th>\n",
                            "      <td>...</td>\n",
                            "      <td>...</td>\n",
                            "      <td>...</td>\n",
                            "      <td>...</td>\n",
                            "      <td>...</td>\n",
                            "      <td>...</td>\n",
                            "      <td>...</td>\n",
                            "      <td>...</td>\n",
                            "      <td>...</td>\n",
                            "    </tr>\n",
                            "    <tr>\n",
                            "      <th>5715</th>\n",
                            "      <td>C11</td>\n",
                            "      <td>Pyroptosis</td>\n",
                            "      <td>0.043723</td>\n",
                            "      <td>0.6</td>\n",
                            "      <td>3.0</td>\n",
                            "      <td>67.0</td>\n",
                            "      <td>non-shuffled</td>\n",
                            "      <td>Media_Control_vs_Pyroptosis</td>\n",
                            "      <td>LPS_Nigericin_100.000_ug_per_ml_3.000_uM_DMSO_...</td>\n",
                            "    </tr>\n",
                            "    <tr>\n",
                            "      <th>5716</th>\n",
                            "      <td>J02</td>\n",
                            "      <td>Pyroptosis</td>\n",
                            "      <td>0.055159</td>\n",
                            "      <td>0.4</td>\n",
                            "      <td>3.0</td>\n",
                            "      <td>67.0</td>\n",
                            "      <td>non-shuffled</td>\n",
                            "      <td>Media_Control_vs_Pyroptosis</td>\n",
                            "      <td>LPS_100.000_ug_per_ml_DMSO_0.025_%</td>\n",
                            "    </tr>\n",
                            "    <tr>\n",
                            "      <th>5717</th>\n",
                            "      <td>J03</td>\n",
                            "      <td>Pyroptosis</td>\n",
                            "      <td>0.059474</td>\n",
                            "      <td>0.4</td>\n",
                            "      <td>3.0</td>\n",
                            "      <td>67.0</td>\n",
                            "      <td>non-shuffled</td>\n",
                            "      <td>Media_Control_vs_Pyroptosis</td>\n",
                            "      <td>LPS_100.000_ug_per_ml_DMSO_0.025_%</td>\n",
                            "    </tr>\n",
                            "    <tr>\n",
                            "      <th>5718</th>\n",
                            "      <td>J08</td>\n",
                            "      <td>Pyroptosis</td>\n",
                            "      <td>0.091635</td>\n",
                            "      <td>0.4</td>\n",
                            "      <td>3.0</td>\n",
                            "      <td>67.0</td>\n",
                            "      <td>non-shuffled</td>\n",
                            "      <td>Media_Control_vs_Pyroptosis</td>\n",
                            "      <td>LPS_100.000_ug_per_ml_DMSO_0.025_%</td>\n",
                            "    </tr>\n",
                            "    <tr>\n",
                            "      <th>5719</th>\n",
                            "      <td>J09</td>\n",
                            "      <td>Pyroptosis</td>\n",
                            "      <td>0.042941</td>\n",
                            "      <td>0.6</td>\n",
                            "      <td>3.0</td>\n",
                            "      <td>67.0</td>\n",
                            "      <td>non-shuffled</td>\n",
                            "      <td>Media_Control_vs_Pyroptosis</td>\n",
                            "      <td>LPS_100.000_ug_per_ml_DMSO_0.025_%</td>\n",
                            "    </tr>\n",
                            "  </tbody>\n",
                            "</table>\n",
                            "<p>5720 rows \u00d7 9 columns</p>\n",
                            "</div>"
                        ],
                        "text/plain": [
                            "     Metadata_Well Metadata_labels  average_precision  p_value  n_pos_pairs  \\\n",
                            "0              B06         Control           1.000000      1.0          7.0   \n",
                            "1              C06         Control           1.000000      1.0          7.0   \n",
                            "2              I06         Control           1.000000      1.0          7.0   \n",
                            "3              J06         Control           1.000000      1.0          7.0   \n",
                            "4              B07         Control           1.000000      1.0          7.0   \n",
                            "...            ...             ...                ...      ...          ...   \n",
                            "5715           C11      Pyroptosis           0.043723      0.6          3.0   \n",
                            "5716           J02      Pyroptosis           0.055159      0.4          3.0   \n",
                            "5717           J03      Pyroptosis           0.059474      0.4          3.0   \n",
                            "5718           J08      Pyroptosis           0.091635      0.4          3.0   \n",
                            "5719           J09      Pyroptosis           0.042941      0.6          3.0   \n",
                            "\n",
                            "      n_total_pairs      shuffled  \\\n",
                            "0               7.0  non-shuffled   \n",
                            "1               7.0  non-shuffled   \n",
                            "2               7.0  non-shuffled   \n",
                            "3               7.0  non-shuffled   \n",
                            "4               7.0  non-shuffled   \n",
                            "...             ...           ...   \n",
                            "5715           67.0  non-shuffled   \n",
                            "5716           67.0  non-shuffled   \n",
                            "5717           67.0  non-shuffled   \n",
                            "5718           67.0  non-shuffled   \n",
                            "5719           67.0  non-shuffled   \n",
                            "\n",
                            "                                           comparison  \\\n",
                            "0     DMSO_0.100_%_DMSO_0.025_%_Control_vs_Pyroptosis   \n",
                            "1     DMSO_0.100_%_DMSO_0.025_%_Control_vs_Pyroptosis   \n",
                            "2     DMSO_0.100_%_DMSO_0.025_%_Control_vs_Pyroptosis   \n",
                            "3     DMSO_0.100_%_DMSO_0.025_%_Control_vs_Pyroptosis   \n",
                            "4     DMSO_0.100_%_DMSO_0.025_%_Control_vs_Pyroptosis   \n",
                            "...                                               ...   \n",
                            "5715                      Media_Control_vs_Pyroptosis   \n",
                            "5716                      Media_Control_vs_Pyroptosis   \n",
                            "5717                      Media_Control_vs_Pyroptosis   \n",
                            "5718                      Media_Control_vs_Pyroptosis   \n",
                            "5719                      Media_Control_vs_Pyroptosis   \n",
                            "\n",
                            "            oneb_Metadata_Treatment_Dose_Inhibitor_Dose  \n",
                            "0                             DMSO_0.100_%_DMSO_0.025_%  \n",
                            "1                             DMSO_0.100_%_DMSO_0.025_%  \n",
                            "2                             DMSO_0.100_%_DMSO_0.025_%  \n",
                            "3                             DMSO_0.100_%_DMSO_0.025_%  \n",
                            "4                             DMSO_0.100_%_DMSO_0.025_%  \n",
                            "...                                                 ...  \n",
                            "5715  LPS_Nigericin_100.000_ug_per_ml_3.000_uM_DMSO_...  \n",
                            "5716                 LPS_100.000_ug_per_ml_DMSO_0.025_%  \n",
                            "5717                 LPS_100.000_ug_per_ml_DMSO_0.025_%  \n",
                            "5718                 LPS_100.000_ug_per_ml_DMSO_0.025_%  \n",
                            "5719                 LPS_100.000_ug_per_ml_DMSO_0.025_%  \n",
                            "\n",
                            "[5720 rows x 9 columns]"
                        ]
                    },
                    "execution_count": 17,
                    "metadata": {},
                    "output_type": "execute_result"
                }
            ],
            "source": [
                "for i in df[\"oneb_Metadata_Treatment_Dose_Inhibitor_Dose\"].unique():\n",
                "\n",
                "    # manually get treatment\n",
                "    tmp = df[\n",
                "        df[\"oneb_Metadata_Treatment_Dose_Inhibitor_Dose\"].str.contains(i)\n",
                "    ].reset_index(drop=True)\n",
                "    # get the label\n",
                "    label = tmp[\"Metadata_labels\"].unique().tolist()[0]\n",
                "    # add all labels to the df except for the LPS treatment label\n",
                "    tmp1 = df[~df[\"Metadata_labels\"].str.contains(label)].reset_index(drop=True)\n",
                "    # concat tmp and tmp1\n",
                "    tmp1 = pd.concat([tmp, tmp1]).reset_index(drop=True)\n",
                "\n",
                "    # drop rows that contain the label\n",
                "    _pos_samby_permutations = [x for x in pos_samby_permutations if label in x]\n",
                "\n",
                "    for j in _pos_samby_permutations:\n",
                "        tmp1 = tmp1[tmp1[\"Metadata_labels\"].isin(j)].reset_index(drop=True)\n",
                "\n",
                "        # spliting metadata and raw feature values\n",
                "        logging.info(\"splitting data set into metadata and raw feature values\")\n",
                "        df_meta, df_feats = utils.split_data(tmp1)\n",
                "        df_feats = np.array(df_feats)\n",
                "        seed = np.random.randint(0, 100)\n",
                "\n",
                "        # shuffling the features, this will overwrite the generated feature space from above with the shuffled one\n",
                "        df_feats = shuffle_features(feature_vals=df_feats, seed=seed)\n",
                "\n",
                "        try:\n",
                "            # execute pipeline on negative control with trianing dataset with cp features\n",
                "\n",
                "            logging.info(f\"Running pipeline on CP features using phenotype\")\n",
                "            result = run_pipeline(\n",
                "                meta=df_meta,\n",
                "                feats=df_feats,\n",
                "                pos_sameby=pos_sameby,\n",
                "                pos_diffby=pos_diffby,\n",
                "                neg_sameby=neg_sameby,\n",
                "                neg_diffby=neg_diffby,\n",
                "                batch_size=batch_size,\n",
                "                null_size=null_size,\n",
                "            )\n",
                "\n",
                "            result[\"shuffled\"] = \"shuffled\"\n",
                "            comparison = i\n",
                "            comparison = comparison + \"_\" + \"_vs_\".join(j)\n",
                "\n",
                "            result[\"comparison\"] = comparison\n",
                "\n",
                "        except ZeroDivisionError as e:\n",
                "            logging.warning(f\"{e} captured on phenotye:. Skipping\")\n",
                "\n",
                "        # concatenating all datasets\n",
                "        results_df = pd.concat([results_df, result], ignore_index=True)\n",
                "\n",
                "# saving to csv\n",
                "results_df.to_csv(shuffled_feat_space_map_path, index=False)\n",
                "results_df"
            ]
        }
    ],
    "metadata": {
        "kernelspec": {
            "display_name": "map",
            "language": "python",
            "name": "python3"
        },
        "language_info": {
            "codemirror_mode": {
                "name": "ipython",
                "version": 3
            },
            "file_extension": ".py",
            "mimetype": "text/x-python",
            "name": "python",
            "nbconvert_exporter": "python",
            "pygments_lexer": "ipython3",
            "version": "3.12.2"
        }
    },
    "nbformat": 4,
    "nbformat_minor": 2
}
