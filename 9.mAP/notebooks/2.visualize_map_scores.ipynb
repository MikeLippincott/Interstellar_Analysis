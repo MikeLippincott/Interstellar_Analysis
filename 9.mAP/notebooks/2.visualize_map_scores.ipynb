{
 "cells": [
  {
   "cell_type": "code",
   "execution_count": 2,
   "metadata": {
    "vscode": {
     "languageId": "r"
    }
   },
   "outputs": [
    {
     "name": "stderr",
     "output_type": "stream",
     "text": [
      "Warning message:\n",
      "“package ‘ggplot2’ was built under R version 4.2.3”\n"
     ]
    }
   ],
   "source": [
    "library(ggplot2)"
   ]
  },
  {
   "cell_type": "code",
   "execution_count": 14,
   "metadata": {
    "vscode": {
     "languageId": "r"
    }
   },
   "outputs": [
    {
     "data": {
      "text/html": [
       "<table class=\"dataframe\">\n",
       "<caption>A data.frame: 6 × 8</caption>\n",
       "<thead>\n",
       "\t<tr><th></th><th scope=col>Metadata_labels</th><th scope=col>mean_average_precision</th><th scope=col>nlog10pvalue</th><th scope=col>q_value</th><th scope=col>nlog10qvalue</th><th scope=col>above_p_threshold</th><th scope=col>above_q_threshold</th><th scope=col>shuffled</th></tr>\n",
       "\t<tr><th></th><th scope=col>&lt;chr&gt;</th><th scope=col>&lt;dbl&gt;</th><th scope=col>&lt;dbl&gt;</th><th scope=col>&lt;dbl&gt;</th><th scope=col>&lt;dbl&gt;</th><th scope=col>&lt;chr&gt;</th><th scope=col>&lt;chr&gt;</th><th scope=col>&lt;chr&gt;</th></tr>\n",
       "</thead>\n",
       "<tbody>\n",
       "\t<tr><th scope=row>1</th><td>Apoptosis</td><td>0.05948675</td><td>0.30103</td><td>0.5</td><td>0.30103</td><td>False</td><td>False</td><td>features_shuffled </td></tr>\n",
       "\t<tr><th scope=row>2</th><td>Apoptosis</td><td>0.64044601</td><td>0.00000</td><td>1.0</td><td>0.00000</td><td>False</td><td>False</td><td>non-shuffled      </td></tr>\n",
       "\t<tr><th scope=row>3</th><td>Apoptosis</td><td>0.08938349</td><td>0.00000</td><td>1.0</td><td>0.00000</td><td>False</td><td>False</td><td>phenotype_shuffled</td></tr>\n",
       "\t<tr><th scope=row>4</th><td>Control  </td><td>0.53048307</td><td>0.00000</td><td>1.0</td><td>0.00000</td><td>False</td><td>False</td><td>features_shuffled </td></tr>\n",
       "\t<tr><th scope=row>5</th><td>Control  </td><td>0.60331815</td><td>0.30103</td><td>0.5</td><td>0.30103</td><td>False</td><td>False</td><td>non-shuffled      </td></tr>\n",
       "\t<tr><th scope=row>6</th><td>Control  </td><td>0.51707189</td><td>0.00000</td><td>1.0</td><td>0.00000</td><td>False</td><td>False</td><td>phenotype_shuffled</td></tr>\n",
       "</tbody>\n",
       "</table>\n"
      ],
      "text/latex": [
       "A data.frame: 6 × 8\n",
       "\\begin{tabular}{r|llllllll}\n",
       "  & Metadata\\_labels & mean\\_average\\_precision & nlog10pvalue & q\\_value & nlog10qvalue & above\\_p\\_threshold & above\\_q\\_threshold & shuffled\\\\\n",
       "  & <chr> & <dbl> & <dbl> & <dbl> & <dbl> & <chr> & <chr> & <chr>\\\\\n",
       "\\hline\n",
       "\t1 & Apoptosis & 0.05948675 & 0.30103 & 0.5 & 0.30103 & False & False & features\\_shuffled \\\\\n",
       "\t2 & Apoptosis & 0.64044601 & 0.00000 & 1.0 & 0.00000 & False & False & non-shuffled      \\\\\n",
       "\t3 & Apoptosis & 0.08938349 & 0.00000 & 1.0 & 0.00000 & False & False & phenotype\\_shuffled\\\\\n",
       "\t4 & Control   & 0.53048307 & 0.00000 & 1.0 & 0.00000 & False & False & features\\_shuffled \\\\\n",
       "\t5 & Control   & 0.60331815 & 0.30103 & 0.5 & 0.30103 & False & False & non-shuffled      \\\\\n",
       "\t6 & Control   & 0.51707189 & 0.00000 & 1.0 & 0.00000 & False & False & phenotype\\_shuffled\\\\\n",
       "\\end{tabular}\n"
      ],
      "text/markdown": [
       "\n",
       "A data.frame: 6 × 8\n",
       "\n",
       "| <!--/--> | Metadata_labels &lt;chr&gt; | mean_average_precision &lt;dbl&gt; | nlog10pvalue &lt;dbl&gt; | q_value &lt;dbl&gt; | nlog10qvalue &lt;dbl&gt; | above_p_threshold &lt;chr&gt; | above_q_threshold &lt;chr&gt; | shuffled &lt;chr&gt; |\n",
       "|---|---|---|---|---|---|---|---|---|\n",
       "| 1 | Apoptosis | 0.05948675 | 0.30103 | 0.5 | 0.30103 | False | False | features_shuffled  |\n",
       "| 2 | Apoptosis | 0.64044601 | 0.00000 | 1.0 | 0.00000 | False | False | non-shuffled       |\n",
       "| 3 | Apoptosis | 0.08938349 | 0.00000 | 1.0 | 0.00000 | False | False | phenotype_shuffled |\n",
       "| 4 | Control   | 0.53048307 | 0.00000 | 1.0 | 0.00000 | False | False | features_shuffled  |\n",
       "| 5 | Control   | 0.60331815 | 0.30103 | 0.5 | 0.30103 | False | False | non-shuffled       |\n",
       "| 6 | Control   | 0.51707189 | 0.00000 | 1.0 | 0.00000 | False | False | phenotype_shuffled |\n",
       "\n"
      ],
      "text/plain": [
       "  Metadata_labels mean_average_precision nlog10pvalue q_value nlog10qvalue\n",
       "1 Apoptosis       0.05948675             0.30103      0.5     0.30103     \n",
       "2 Apoptosis       0.64044601             0.00000      1.0     0.00000     \n",
       "3 Apoptosis       0.08938349             0.00000      1.0     0.00000     \n",
       "4 Control         0.53048307             0.00000      1.0     0.00000     \n",
       "5 Control         0.60331815             0.30103      0.5     0.30103     \n",
       "6 Control         0.51707189             0.00000      1.0     0.00000     \n",
       "  above_p_threshold above_q_threshold shuffled          \n",
       "1 False             False             features_shuffled \n",
       "2 False             False             non-shuffled      \n",
       "3 False             False             phenotype_shuffled\n",
       "4 False             False             features_shuffled \n",
       "5 False             False             non-shuffled      \n",
       "6 False             False             phenotype_shuffled"
      ]
     },
     "metadata": {},
     "output_type": "display_data"
    }
   ],
   "source": [
    "# set path to the data\n",
    "class_df_path <- file.path(\"..\",\"data\",\"processed\",\"aggregate_mAPs\",\"mAP_scores_class.csv\")\n",
    "reg_df_path <- file.path(\"..\",\"data\",\"processed\",\"mAP_scores\",\"mAP_scores_regular_class.csv\")\n",
    "shuffled_df_path <- file.path(\"..\",\"data\",\"processed\",\"mAP_scores\",\"mAP_scores_shuffled_class.csv\")\n",
    "shuffled_feature_space_df_path <- file.path(\"..\",\"data\",\"processed\",\"mAP_scores\",\"mAP_scores_shuffled_feature_space_class.csv\")\n",
    "# read in the data\n",
    "class_df <- read.csv(class_df_path)\n",
    "reg_df <- read.csv(reg_df_path)\n",
    "shuffled_df <- read.csv(shuffled_df_path)\n",
    "shuffled_feature_space_df <- read.csv(shuffled_feature_space_df_path)\n",
    "\n",
    "head(class_df)"
   ]
  },
  {
   "cell_type": "markdown",
   "metadata": {},
   "source": [
    "## Clean the class data"
   ]
  },
  {
   "cell_type": "code",
   "execution_count": 11,
   "metadata": {
    "vscode": {
     "languageId": "r"
    }
   },
   "outputs": [],
   "source": [
    "# declare the shuffled column as a factor\n",
    "# replace the values in the shuffled column\n",
    "class_df$shuffled <- gsub(\"features_shuffled\", \"Shuffled features\", class_df$shuffled)\n",
    "class_df$shuffled <- gsub(\"phenotype_shuffled\", \"Shuffled phenotypes\", class_df$shuffled)\n",
    "class_df$shuffled <- gsub(\"non-shuffled\", \"Non-shuffled\", class_df$shuffled)\n",
    "class_df$shuffled <- factor(class_df$shuffled, levels = c( \"Non-shuffled\", \"Shuffled features\", \"Shuffled phenotypes\"))\n",
    "class_df$Metadata_labels <- factor(class_df$Metadata_labels, levels = c(\"Control\", \"Apoptosis\", \"Pyroptosis\"))"
   ]
  },
  {
   "cell_type": "code",
   "execution_count": 12,
   "metadata": {
    "vscode": {
     "languageId": "r"
    }
   },
   "outputs": [
    {
     "data": {
      "image/png": "[encoded data removed]",
      "text/plain": [
       "plot without title"
      ]
     },
     "metadata": {
      "image/png": {
       "height": 420,
       "width": 420
      }
     },
     "output_type": "display_data"
    }
   ],
   "source": [
    "# plot the data\n",
    "barplot <- (\n",
    "    ggplot(class_df, aes(x=Metadata_labels, y=mean_average_precision, fill=shuffled))\n",
    "    + geom_bar(stat=\"identity\", position=\"dodge\")\n",
    "    + labs(x=\"Class\", y=\"mAP score\")\n",
    "    # legend title\n",
    "    + scale_fill_discrete(name=\"Shuffle Type\")\n",
    "    + theme_bw()\n",
    "    + ylim(0,1)\n",
    ")\n",
    "barplot"
   ]
  },
  {
   "cell_type": "markdown",
   "metadata": {},
   "source": [
    "## Clean the single well data"
   ]
  },
  {
   "cell_type": "code",
   "execution_count": 23,
   "metadata": {
    "vscode": {
     "languageId": "r"
    }
   },
   "outputs": [
    {
     "data": {
      "text/html": [
       "<table class=\"dataframe\">\n",
       "<caption>A data.frame: 6 × 7</caption>\n",
       "<thead>\n",
       "\t<tr><th></th><th scope=col>Metadata_Well</th><th scope=col>Metadata_labels</th><th scope=col>average_precision</th><th scope=col>p_value</th><th scope=col>n_pos_pairs</th><th scope=col>n_total_pairs</th><th scope=col>shuffled</th></tr>\n",
       "\t<tr><th></th><th scope=col>&lt;chr&gt;</th><th scope=col>&lt;fct&gt;</th><th scope=col>&lt;dbl&gt;</th><th scope=col>&lt;dbl&gt;</th><th scope=col>&lt;int&gt;</th><th scope=col>&lt;int&gt;</th><th scope=col>&lt;fct&gt;</th></tr>\n",
       "</thead>\n",
       "<tbody>\n",
       "\t<tr><th scope=row>1</th><td>B02</td><td>Pyroptosis</td><td>0.6058954</td><td>0.5</td><td>64</td><td>153</td><td>Non-shuffled</td></tr>\n",
       "\t<tr><th scope=row>2</th><td>B03</td><td>Pyroptosis</td><td>0.4928594</td><td>0.5</td><td>64</td><td>153</td><td>Non-shuffled</td></tr>\n",
       "\t<tr><th scope=row>3</th><td>B04</td><td>Pyroptosis</td><td>0.8348631</td><td>0.5</td><td>64</td><td>153</td><td>Non-shuffled</td></tr>\n",
       "\t<tr><th scope=row>4</th><td>B05</td><td>Pyroptosis</td><td>0.8197766</td><td>0.5</td><td>64</td><td>153</td><td>Non-shuffled</td></tr>\n",
       "\t<tr><th scope=row>5</th><td>B06</td><td>Control   </td><td>0.7005115</td><td>0.5</td><td>80</td><td>153</td><td>Non-shuffled</td></tr>\n",
       "\t<tr><th scope=row>6</th><td>B07</td><td>Control   </td><td>0.6046329</td><td>0.5</td><td>80</td><td>153</td><td>Non-shuffled</td></tr>\n",
       "</tbody>\n",
       "</table>\n"
      ],
      "text/latex": [
       "A data.frame: 6 × 7\n",
       "\\begin{tabular}{r|lllllll}\n",
       "  & Metadata\\_Well & Metadata\\_labels & average\\_precision & p\\_value & n\\_pos\\_pairs & n\\_total\\_pairs & shuffled\\\\\n",
       "  & <chr> & <fct> & <dbl> & <dbl> & <int> & <int> & <fct>\\\\\n",
       "\\hline\n",
       "\t1 & B02 & Pyroptosis & 0.6058954 & 0.5 & 64 & 153 & Non-shuffled\\\\\n",
       "\t2 & B03 & Pyroptosis & 0.4928594 & 0.5 & 64 & 153 & Non-shuffled\\\\\n",
       "\t3 & B04 & Pyroptosis & 0.8348631 & 0.5 & 64 & 153 & Non-shuffled\\\\\n",
       "\t4 & B05 & Pyroptosis & 0.8197766 & 0.5 & 64 & 153 & Non-shuffled\\\\\n",
       "\t5 & B06 & Control    & 0.7005115 & 0.5 & 80 & 153 & Non-shuffled\\\\\n",
       "\t6 & B07 & Control    & 0.6046329 & 0.5 & 80 & 153 & Non-shuffled\\\\\n",
       "\\end{tabular}\n"
      ],
      "text/markdown": [
       "\n",
       "A data.frame: 6 × 7\n",
       "\n",
       "| <!--/--> | Metadata_Well &lt;chr&gt; | Metadata_labels &lt;fct&gt; | average_precision &lt;dbl&gt; | p_value &lt;dbl&gt; | n_pos_pairs &lt;int&gt; | n_total_pairs &lt;int&gt; | shuffled &lt;fct&gt; |\n",
       "|---|---|---|---|---|---|---|---|\n",
       "| 1 | B02 | Pyroptosis | 0.6058954 | 0.5 | 64 | 153 | Non-shuffled |\n",
       "| 2 | B03 | Pyroptosis | 0.4928594 | 0.5 | 64 | 153 | Non-shuffled |\n",
       "| 3 | B04 | Pyroptosis | 0.8348631 | 0.5 | 64 | 153 | Non-shuffled |\n",
       "| 4 | B05 | Pyroptosis | 0.8197766 | 0.5 | 64 | 153 | Non-shuffled |\n",
       "| 5 | B06 | Control    | 0.7005115 | 0.5 | 80 | 153 | Non-shuffled |\n",
       "| 6 | B07 | Control    | 0.6046329 | 0.5 | 80 | 153 | Non-shuffled |\n",
       "\n"
      ],
      "text/plain": [
       "  Metadata_Well Metadata_labels average_precision p_value n_pos_pairs\n",
       "1 B02           Pyroptosis      0.6058954         0.5     64         \n",
       "2 B03           Pyroptosis      0.4928594         0.5     64         \n",
       "3 B04           Pyroptosis      0.8348631         0.5     64         \n",
       "4 B05           Pyroptosis      0.8197766         0.5     64         \n",
       "5 B06           Control         0.7005115         0.5     80         \n",
       "6 B07           Control         0.6046329         0.5     80         \n",
       "  n_total_pairs shuffled    \n",
       "1 153           Non-shuffled\n",
       "2 153           Non-shuffled\n",
       "3 153           Non-shuffled\n",
       "4 153           Non-shuffled\n",
       "5 153           Non-shuffled\n",
       "6 153           Non-shuffled"
      ]
     },
     "metadata": {},
     "output_type": "display_data"
    }
   ],
   "source": [
    "# combine the dataframes\n",
    "all_df <- rbind(reg_df, shuffled_df, shuffled_feature_space_df)\n",
    "all_df$shuffled <- gsub(\"features_shuffled\", \"Shuffled features\", all_df$shuffled)\n",
    "all_df$shuffled <- gsub(\"phenotype_shuffled\", \"Shuffled phenotypes\", all_df$shuffled)\n",
    "all_df$shuffled <- gsub(\"non-shuffled\", \"Non-shuffled\", all_df$shuffled)\n",
    "all_df$shuffled <- factor(all_df$shuffled, levels = c( \"Non-shuffled\", \"Shuffled features\", \"Shuffled phenotypes\"))\n",
    "all_df$Metadata_labels <- factor(all_df$Metadata_labels, levels = c(\"Control\", \"Apoptosis\", \"Pyroptosis\"))\n",
    "head(all_df)"
   ]
  },
  {
   "cell_type": "code",
   "execution_count": 25,
   "metadata": {
    "vscode": {
     "languageId": "r"
    }
   },
   "outputs": [
    {
     "data": {
      "image/png": "[encoded data removed]",
      "text/plain": [
       "plot without title"
      ]
     },
     "metadata": {
      "image/png": {
       "height": 420,
       "width": 420
      }
     },
     "output_type": "display_data"
    }
   ],
   "source": [
    "boxplot <- (\n",
    "    ggplot(all_df, aes(x=Metadata_labels, y=average_precision, fill=shuffled))\n",
    "    + geom_boxplot()\n",
    "    + labs(x=\"Class\", y=\"mAP score\")\n",
    "    # legend title\n",
    "    + scale_fill_discrete(name=\"Shuffle Type\")\n",
    "    + theme_bw()\n",
    "    + ylim(0,1)\n",
    "    \n",
    ")\n",
    "boxplot"
   ]
  }
 ],
 "metadata": {
  "kernelspec": {
   "display_name": "R",
   "language": "R",
   "name": "ir"
  },
  "language_info": {
   "codemirror_mode": "r",
   "file_extension": ".r",
   "mimetype": "text/x-r-source",
   "name": "R",
   "pygments_lexer": "r",
   "version": "4.2.2"
  }
 },
 "nbformat": 4,
 "nbformat_minor": 2
}
