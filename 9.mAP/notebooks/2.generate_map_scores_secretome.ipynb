{
    "cells": [
        {
            "cell_type": "code",
            "execution_count": 1,
            "metadata": {},
            "outputs": [],
            "source": [
                "import itertools\n",
                "import logging\n",
                "import pathlib\n",
                "import sys\n",
                "from typing import Optional\n",
                "\n",
                "import numpy as np\n",
                "import pandas as pd\n",
                "import toml\n",
                "from copairs.map import run_pipeline\n",
                "from pycytominer import feature_select\n",
                "\n",
                "# imports src\n",
                "sys.path.append(\"../\")\n",
                "from src import utils\n",
                "\n",
                "# setting up logger\n",
                "logging.basicConfig(\n",
                "    filename=\"map_analysis_testing.log\",\n",
                "    level=logging.DEBUG,\n",
                "    format=\"%(levelname)s:%(asctime)s:%(name)s:%(message)s\",\n",
                ")"
            ]
        },
        {
            "cell_type": "markdown",
            "metadata": {},
            "source": [
                "## Helper functions\n",
                "Set of helper functions to help out throughout the notebook"
            ]
        },
        {
            "cell_type": "code",
            "execution_count": 2,
            "metadata": {},
            "outputs": [],
            "source": [
                "## Helper function\n",
                "\n",
                "\n",
                "def shuffle_meta_labels(\n",
                "    dataset: pd.DataFrame, target_col: str, seed: Optional[int] = 0\n",
                ") -> pd.DataFrame:\n",
                "    \"\"\"shuffles labels or values within a single selected column\n",
                "\n",
                "    Parameters\n",
                "    ----------\n",
                "    dataset : pd.DataFrame\n",
                "        dataframe containing the dataset\n",
                "\n",
                "    target_col : str\n",
                "        Column to select in order to conduct the shuffling\n",
                "\n",
                "    seed : int\n",
                "        setting random seed\n",
                "\n",
                "    Returns\n",
                "    -------\n",
                "    pd.DataFrame\n",
                "        shuffled dataset\n",
                "\n",
                "    Raises\n",
                "    ------\n",
                "    TypeError\n",
                "        raised if incorrect types are provided\n",
                "    \"\"\"\n",
                "    # setting seed\n",
                "    np.random.seed(seed)\n",
                "\n",
                "    # type checking\n",
                "    if not isinstance(target_col, str):\n",
                "        raise TypeError(\"'target_col' must be a string type\")\n",
                "    if not isinstance(dataset, pd.DataFrame):\n",
                "        raise TypeError(\"'dataset' must be a pandas dataframe\")\n",
                "\n",
                "    # selecting column, shuffle values within column, add to dataframe\n",
                "    dataset[target_col] = np.random.permutation(dataset[target_col].values)\n",
                "    return dataset\n",
                "\n",
                "\n",
                "def shuffle_features(feature_vals: np.array, seed: Optional[int] = 0) -> np.array:\n",
                "    \"\"\"suffles all values within feature space\n",
                "\n",
                "    Parameters\n",
                "    ----------\n",
                "    feature_vals : np.array\n",
                "        shuffled\n",
                "\n",
                "    seed : Optional[int]\n",
                "        setting random seed\n",
                "\n",
                "    Returns\n",
                "    -------\n",
                "    np.array\n",
                "        Returns shuffled values within the feature space\n",
                "\n",
                "    Raises\n",
                "    ------\n",
                "    TypeError\n",
                "        Raised if a numpy array is not provided\n",
                "    \"\"\"\n",
                "    # setting seed\n",
                "    np.random.seed(seed)\n",
                "\n",
                "    # shuffle given array\n",
                "    if not isinstance(feature_vals, np.ndarray):\n",
                "        raise TypeError(\"'feature_vals' must be a numpy array\")\n",
                "    if feature_vals.ndim != 2:\n",
                "        raise TypeError(\"'feature_vals' must be a 2x2 matrix\")\n",
                "\n",
                "    # creating a copy for feature vales to prevent overwriting of global variables\n",
                "    feature_vals = np.copy(feature_vals)\n",
                "\n",
                "    # shuffling feature space\n",
                "    n_cols = feature_vals.shape[1]\n",
                "    for col_idx in range(0, n_cols):\n",
                "        # selecting column, shuffle, and update:\n",
                "        feature_vals[:, col_idx] = np.random.permutation(feature_vals[:, col_idx])\n",
                "\n",
                "    return feature_vals"
            ]
        },
        {
            "cell_type": "markdown",
            "metadata": {},
            "source": [
                "## Setting up Paths and loading data"
            ]
        },
        {
            "cell_type": "code",
            "execution_count": 3,
            "metadata": {},
            "outputs": [],
            "source": [
                "# load in the treatment groups\n",
                "ground_truth = pathlib.Path(\n",
                "    \"../../4.sc_Morphology_Neural_Network_MLP_Model/MLP_utils/ground_truth.toml\"\n",
                ").resolve(strict=True)\n",
                "# load in the ground truth\n",
                "ground_truth = toml.load(ground_truth)\n",
                "apoptosis_ground_truth = ground_truth[\"Apoptosis\"][\"apoptosis_groups_list\"]\n",
                "pyroptosis_ground_truth = ground_truth[\"Pyroptosis\"][\"pyroptosis_groups_list\"]\n",
                "control_ground_truth = ground_truth[\"Healthy\"][\"healthy_groups_list\"]"
            ]
        },
        {
            "cell_type": "code",
            "execution_count": 4,
            "metadata": {},
            "outputs": [],
            "source": [
                "single_cell_data = pathlib.Path(\n",
                "    f\"../../data/PBMC_preprocessed_sc_norm_aggregated_nomic.parquet\"\n",
                ").resolve(strict=True)\n",
                "df = pd.read_parquet(single_cell_data)"
            ]
        },
        {
            "cell_type": "code",
            "execution_count": 5,
            "metadata": {},
            "outputs": [],
            "source": [
                "# out paths\n",
                "map_out_dir = pathlib.Path(\"../data/processed/mAP_scores/secretome/\")\n",
                "map_out_dir.mkdir(exist_ok=True, parents=True)\n",
                "\n",
                "# regular data output\n",
                "# saving to csv\n",
                "regular_feat_map_path = pathlib.Path(map_out_dir / \"mAP_scores_regular_class.csv\")\n",
                "\n",
                "# shuffled data output\n",
                "shuffled_feat_map_path = pathlib.Path(map_out_dir / \"mAP_scores_shuffled_class.csv\")\n",
                "\n",
                "# shuffled feature space output\n",
                "shuffled_feat_space_map_path = pathlib.Path(\n",
                "    map_out_dir / \"mAP_scores_shuffled_feature_space_class.csv\"\n",
                ")"
            ]
        },
        {
            "cell_type": "markdown",
            "metadata": {},
            "source": [
                "### Clean up data"
            ]
        },
        {
            "cell_type": "code",
            "execution_count": 6,
            "metadata": {},
            "outputs": [],
            "source": [
                "# add apoptosis, pyroptosis and healthy columns to dataframe\n",
                "df[\"Apoptosis\"] = df.apply(\n",
                "    lambda row: row[\"oneb_Metadata_Treatment_Dose_Inhibitor_Dose\"]\n",
                "    in apoptosis_ground_truth,\n",
                "    axis=1,\n",
                ")\n",
                "df[\"Pyroptosis\"] = df.apply(\n",
                "    lambda row: row[\"oneb_Metadata_Treatment_Dose_Inhibitor_Dose\"]\n",
                "    in pyroptosis_ground_truth,\n",
                "    axis=1,\n",
                ")\n",
                "df[\"Control\"] = df.apply(\n",
                "    lambda row: row[\"oneb_Metadata_Treatment_Dose_Inhibitor_Dose\"]\n",
                "    in control_ground_truth,\n",
                "    axis=1,\n",
                ")\n",
                "\n",
                "# merge apoptosis, pyroptosis, and healthy columns into one column\n",
                "df[\"Metadata_labels\"] = df.apply(\n",
                "    lambda row: \"Apoptosis\"\n",
                "    if row[\"Apoptosis\"]\n",
                "    else \"Pyroptosis\"\n",
                "    if row[\"Pyroptosis\"]\n",
                "    else \"Control\",\n",
                "    axis=1,\n",
                ")\n",
                "# # drop apoptosis, pyroptosis, and healthy columns\n",
                "df.drop(columns=[\"Apoptosis\", \"Pyroptosis\", \"Control\"], inplace=True)\n",
                "df.drop(columns=[\"oneb_Metadata_Treatment_Dose_Inhibitor_Dose\"], inplace=True)"
            ]
        },
        {
            "cell_type": "code",
            "execution_count": 7,
            "metadata": {},
            "outputs": [
                {
                    "data": {
                        "text/html": [
                            "<div>\n",
                            "<style scoped>\n",
                            "    .dataframe tbody tr th:only-of-type {\n",
                            "        vertical-align: middle;\n",
                            "    }\n",
                            "\n",
                            "    .dataframe tbody tr th {\n",
                            "        vertical-align: top;\n",
                            "    }\n",
                            "\n",
                            "    .dataframe thead th {\n",
                            "        text-align: right;\n",
                            "    }\n",
                            "</style>\n",
                            "<table border=\"1\" class=\"dataframe\">\n",
                            "  <thead>\n",
                            "    <tr style=\"text-align: right;\">\n",
                            "      <th></th>\n",
                            "      <th>Metadata_Well</th>\n",
                            "      <th>Activin A [NSU]</th>\n",
                            "      <th>AITRL (GITR Ligand) [NSU]</th>\n",
                            "      <th>Amphiregulin [NSU]</th>\n",
                            "      <th>Amyloid beta [NSU]</th>\n",
                            "      <th>APRIL [NSU]</th>\n",
                            "      <th>BAFF [NSU]</th>\n",
                            "      <th>BCMA (TNFRSF17) [NSU]</th>\n",
                            "      <th>BDNF [NSU]</th>\n",
                            "      <th>BMP2 [NSU]</th>\n",
                            "      <th>...</th>\n",
                            "      <th>uPA [NSU]</th>\n",
                            "      <th>VCAM-1 [NSU]</th>\n",
                            "      <th>VEGF Receptor 2 (Flk-1) [NSU]</th>\n",
                            "      <th>VEGF-A (165) [NSU]</th>\n",
                            "      <th>VEGF-C [NSU]</th>\n",
                            "      <th>VEGF-D [NSU]</th>\n",
                            "      <th>VEGFR-1 [NSU]</th>\n",
                            "      <th>WISP-1 (CCN4) [NSU]</th>\n",
                            "      <th>XCL1 (Lymphotactin) [NSU]</th>\n",
                            "      <th>Metadata_labels</th>\n",
                            "    </tr>\n",
                            "  </thead>\n",
                            "  <tbody>\n",
                            "    <tr>\n",
                            "      <th>0</th>\n",
                            "      <td>B02</td>\n",
                            "      <td>0.799864</td>\n",
                            "      <td>0.239781</td>\n",
                            "      <td>0.771419</td>\n",
                            "      <td>0.227135</td>\n",
                            "      <td>0.282281</td>\n",
                            "      <td>0.077979</td>\n",
                            "      <td>0.517218</td>\n",
                            "      <td>0.268053</td>\n",
                            "      <td>0.205627</td>\n",
                            "      <td>...</td>\n",
                            "      <td>0.396902</td>\n",
                            "      <td>0.385081</td>\n",
                            "      <td>1.000000</td>\n",
                            "      <td>0.000000</td>\n",
                            "      <td>0.430111</td>\n",
                            "      <td>0.538503</td>\n",
                            "      <td>0.784695</td>\n",
                            "      <td>0.468448</td>\n",
                            "      <td>0.237545</td>\n",
                            "      <td>Pyroptosis</td>\n",
                            "    </tr>\n",
                            "    <tr>\n",
                            "      <th>1</th>\n",
                            "      <td>B03</td>\n",
                            "      <td>0.758205</td>\n",
                            "      <td>0.661245</td>\n",
                            "      <td>0.794392</td>\n",
                            "      <td>0.712920</td>\n",
                            "      <td>0.236378</td>\n",
                            "      <td>0.288705</td>\n",
                            "      <td>1.000000</td>\n",
                            "      <td>0.314184</td>\n",
                            "      <td>0.580188</td>\n",
                            "      <td>...</td>\n",
                            "      <td>0.256691</td>\n",
                            "      <td>0.327491</td>\n",
                            "      <td>0.390866</td>\n",
                            "      <td>0.406489</td>\n",
                            "      <td>0.412096</td>\n",
                            "      <td>0.104830</td>\n",
                            "      <td>0.812933</td>\n",
                            "      <td>0.518536</td>\n",
                            "      <td>0.244397</td>\n",
                            "      <td>Pyroptosis</td>\n",
                            "    </tr>\n",
                            "    <tr>\n",
                            "      <th>2</th>\n",
                            "      <td>B04</td>\n",
                            "      <td>0.128848</td>\n",
                            "      <td>0.555580</td>\n",
                            "      <td>0.823758</td>\n",
                            "      <td>0.246641</td>\n",
                            "      <td>0.249401</td>\n",
                            "      <td>0.109274</td>\n",
                            "      <td>0.844234</td>\n",
                            "      <td>0.368186</td>\n",
                            "      <td>0.506013</td>\n",
                            "      <td>...</td>\n",
                            "      <td>0.555221</td>\n",
                            "      <td>0.357476</td>\n",
                            "      <td>0.346884</td>\n",
                            "      <td>0.477553</td>\n",
                            "      <td>0.427658</td>\n",
                            "      <td>0.642061</td>\n",
                            "      <td>0.249380</td>\n",
                            "      <td>0.627712</td>\n",
                            "      <td>0.318350</td>\n",
                            "      <td>Pyroptosis</td>\n",
                            "    </tr>\n",
                            "    <tr>\n",
                            "      <th>3</th>\n",
                            "      <td>B05</td>\n",
                            "      <td>0.061989</td>\n",
                            "      <td>0.510255</td>\n",
                            "      <td>0.785998</td>\n",
                            "      <td>0.615661</td>\n",
                            "      <td>0.000000</td>\n",
                            "      <td>0.251962</td>\n",
                            "      <td>0.298381</td>\n",
                            "      <td>0.492203</td>\n",
                            "      <td>0.428714</td>\n",
                            "      <td>...</td>\n",
                            "      <td>0.308536</td>\n",
                            "      <td>0.588899</td>\n",
                            "      <td>0.828371</td>\n",
                            "      <td>0.484102</td>\n",
                            "      <td>0.294634</td>\n",
                            "      <td>0.673648</td>\n",
                            "      <td>0.236793</td>\n",
                            "      <td>0.557634</td>\n",
                            "      <td>0.350429</td>\n",
                            "      <td>Pyroptosis</td>\n",
                            "    </tr>\n",
                            "    <tr>\n",
                            "      <th>4</th>\n",
                            "      <td>B06</td>\n",
                            "      <td>0.097710</td>\n",
                            "      <td>0.461685</td>\n",
                            "      <td>0.270477</td>\n",
                            "      <td>0.514695</td>\n",
                            "      <td>0.479281</td>\n",
                            "      <td>0.270494</td>\n",
                            "      <td>0.708849</td>\n",
                            "      <td>0.134432</td>\n",
                            "      <td>0.350986</td>\n",
                            "      <td>...</td>\n",
                            "      <td>0.469875</td>\n",
                            "      <td>0.395392</td>\n",
                            "      <td>0.560129</td>\n",
                            "      <td>0.504521</td>\n",
                            "      <td>0.490444</td>\n",
                            "      <td>0.258834</td>\n",
                            "      <td>0.238358</td>\n",
                            "      <td>0.524276</td>\n",
                            "      <td>0.250670</td>\n",
                            "      <td>Control</td>\n",
                            "    </tr>\n",
                            "  </tbody>\n",
                            "</table>\n",
                            "<p>5 rows \u00d7 189 columns</p>\n",
                            "</div>"
                        ],
                        "text/plain": [
                            "  Metadata_Well  Activin A [NSU]  AITRL (GITR Ligand) [NSU]  \\\n",
                            "0           B02         0.799864                   0.239781   \n",
                            "1           B03         0.758205                   0.661245   \n",
                            "2           B04         0.128848                   0.555580   \n",
                            "3           B05         0.061989                   0.510255   \n",
                            "4           B06         0.097710                   0.461685   \n",
                            "\n",
                            "   Amphiregulin [NSU]  Amyloid beta [NSU]  APRIL [NSU]  BAFF [NSU]  \\\n",
                            "0            0.771419            0.227135     0.282281    0.077979   \n",
                            "1            0.794392            0.712920     0.236378    0.288705   \n",
                            "2            0.823758            0.246641     0.249401    0.109274   \n",
                            "3            0.785998            0.615661     0.000000    0.251962   \n",
                            "4            0.270477            0.514695     0.479281    0.270494   \n",
                            "\n",
                            "   BCMA (TNFRSF17) [NSU]  BDNF [NSU]  BMP2 [NSU]  ...  uPA [NSU]  \\\n",
                            "0               0.517218    0.268053    0.205627  ...   0.396902   \n",
                            "1               1.000000    0.314184    0.580188  ...   0.256691   \n",
                            "2               0.844234    0.368186    0.506013  ...   0.555221   \n",
                            "3               0.298381    0.492203    0.428714  ...   0.308536   \n",
                            "4               0.708849    0.134432    0.350986  ...   0.469875   \n",
                            "\n",
                            "   VCAM-1 [NSU]  VEGF Receptor 2 (Flk-1) [NSU]  VEGF-A (165) [NSU]  \\\n",
                            "0      0.385081                       1.000000            0.000000   \n",
                            "1      0.327491                       0.390866            0.406489   \n",
                            "2      0.357476                       0.346884            0.477553   \n",
                            "3      0.588899                       0.828371            0.484102   \n",
                            "4      0.395392                       0.560129            0.504521   \n",
                            "\n",
                            "   VEGF-C [NSU]  VEGF-D [NSU]  VEGFR-1 [NSU]  WISP-1 (CCN4) [NSU]  \\\n",
                            "0      0.430111      0.538503       0.784695             0.468448   \n",
                            "1      0.412096      0.104830       0.812933             0.518536   \n",
                            "2      0.427658      0.642061       0.249380             0.627712   \n",
                            "3      0.294634      0.673648       0.236793             0.557634   \n",
                            "4      0.490444      0.258834       0.238358             0.524276   \n",
                            "\n",
                            "   XCL1 (Lymphotactin) [NSU]  Metadata_labels  \n",
                            "0                   0.237545       Pyroptosis  \n",
                            "1                   0.244397       Pyroptosis  \n",
                            "2                   0.318350       Pyroptosis  \n",
                            "3                   0.350429       Pyroptosis  \n",
                            "4                   0.250670          Control  \n",
                            "\n",
                            "[5 rows x 189 columns]"
                        ]
                    },
                    "execution_count": 7,
                    "metadata": {},
                    "output_type": "execute_result"
                }
            ],
            "source": [
                "# keep columns that contain Metdata and ['NSU']\n",
                "df = df.filter(regex=\"Metadata|NSU\")\n",
                "df.head()"
            ]
        },
        {
            "cell_type": "code",
            "execution_count": 8,
            "metadata": {},
            "outputs": [],
            "source": [
                "# output directories\n",
                "map_out_dir = pathlib.Path(\"../data/processed/mAP_scores/\")\n",
                "map_out_dir.mkdir(parents=True, exist_ok=True)"
            ]
        },
        {
            "cell_type": "markdown",
            "metadata": {},
            "source": [
                "### mAP Pipeline Parameters"
            ]
        },
        {
            "cell_type": "markdown",
            "metadata": {},
            "source": [
                "The null size needs to be determined for the mAP pipeline. This is the size of the null class that is used to determine the mAP score."
            ]
        },
        {
            "cell_type": "code",
            "execution_count": 9,
            "metadata": {},
            "outputs": [
                {
                    "data": {
                        "text/plain": [
                            "65"
                        ]
                    },
                    "execution_count": 9,
                    "metadata": {},
                    "output_type": "execute_result"
                }
            ],
            "source": [
                "tmp = (\n",
                "    df.groupby([\"Metadata_labels\"])\n",
                "    .count()\n",
                "    .reset_index()[[\"Metadata_Well\", \"Metadata_labels\"]]\n",
                ")\n",
                "# get the Pyroptosis number of Metadata_Well\n",
                "Pyroptosis_count = tmp[tmp[\"Metadata_labels\"] == \"Pyroptosis\"][\"Metadata_Well\"].values[\n",
                "    0\n",
                "]\n",
                "Pyroptosis_count"
            ]
        },
        {
            "cell_type": "code",
            "execution_count": 10,
            "metadata": {},
            "outputs": [],
            "source": [
                "pos_sameby = [\n",
                "    \"Metadata_labels\",\n",
                "]\n",
                "pos_diffby = [\"Metadata_Well\"]\n",
                "\n",
                "neg_sameby = []\n",
                "neg_diffby = [\"Metadata_labels\"]\n",
                "\n",
                "null_size = Pyroptosis_count\n",
                "batch_size = 1\n",
                "\n",
                "# number of resampling\n",
                "n_resamples = 10"
            ]
        },
        {
            "cell_type": "markdown",
            "metadata": {},
            "source": [
                "### mAP analysis for non-shuffled data"
            ]
        },
        {
            "cell_type": "code",
            "execution_count": 11,
            "metadata": {},
            "outputs": [],
            "source": [
                "# generate the permutations of cell death labels via itertools\n",
                "pos_samby_permutations = list(itertools.combinations(df[\"Metadata_labels\"].unique(), 2))"
            ]
        },
        {
            "cell_type": "code",
            "execution_count": 13,
            "metadata": {},
            "outputs": [],
            "source": [
                "results_df = pd.DataFrame(\n",
                "    columns=[\n",
                "        \"Metadata_Well\",\n",
                "        \"Metadata_labels\",\n",
                "        \"average_precision\",\n",
                "        \"p_value\",\n",
                "        \"n_pos_pairs\",\n",
                "        \"n_total_pairs\",\n",
                "        \"shuffled\",\n",
                "        \"comparison\",\n",
                "    ]\n",
                ")"
            ]
        },
        {
            "cell_type": "code",
            "execution_count": 14,
            "metadata": {},
            "outputs": [
                {
                    "data": {
                        "application/vnd.jupyter.widget-view+json": {
                            "model_id": "1d792ab171334585a30eb2f126133b69",
                            "version_major": 2,
                            "version_minor": 0
                        },
                        "text/plain": [
                            "  0%|          | 0/4930 [00:00<?, ?it/s]"
                        ]
                    },
                    "metadata": {},
                    "output_type": "display_data"
                },
                {
                    "data": {
                        "application/vnd.jupyter.widget-view+json": {
                            "model_id": "6c0055ccc3f04444bfe1efeaf3b4eac3",
                            "version_major": 2,
                            "version_minor": 0
                        },
                        "text/plain": [
                            "  0%|          | 0/4940 [00:00<?, ?it/s]"
                        ]
                    },
                    "metadata": {},
                    "output_type": "display_data"
                },
                {
                    "data": {
                        "application/vnd.jupyter.widget-view+json": {
                            "model_id": "7b14d0dc94534a38a1956afa40370b32",
                            "version_major": 2,
                            "version_minor": 0
                        },
                        "text/plain": [
                            "  0%|          | 0/2 [00:00<?, ?it/s]"
                        ]
                    },
                    "metadata": {},
                    "output_type": "display_data"
                },
                {
                    "name": "stderr",
                    "output_type": "stream",
                    "text": [
                        "/tmp/ipykernel_394795/1364170550.py:38: FutureWarning: The behavior of DataFrame concatenation with empty or all-NA entries is deprecated. In a future version, this will no longer exclude empty or all-NA columns when determining the result dtypes. To retain the old behavior, exclude the relevant entries before the concat operation.\n",
                        "  results_df = pd.concat([results_df, result], ignore_index=True)\n"
                    ]
                },
                {
                    "data": {
                        "application/vnd.jupyter.widget-view+json": {
                            "model_id": "57217342fbb349afad7eb41765ca6e4a",
                            "version_major": 2,
                            "version_minor": 0
                        },
                        "text/plain": [
                            "  0%|          | 0/2108 [00:00<?, ?it/s]"
                        ]
                    },
                    "metadata": {},
                    "output_type": "display_data"
                },
                {
                    "data": {
                        "application/vnd.jupyter.widget-view+json": {
                            "model_id": "e433cabe3447448e9ac443e72484c9d7",
                            "version_major": 2,
                            "version_minor": 0
                        },
                        "text/plain": [
                            "  0%|          | 0/520 [00:00<?, ?it/s]"
                        ]
                    },
                    "metadata": {},
                    "output_type": "display_data"
                },
                {
                    "data": {
                        "application/vnd.jupyter.widget-view+json": {
                            "model_id": "853c100c54644b61abe8dfabbc342cad",
                            "version_major": 2,
                            "version_minor": 0
                        },
                        "text/plain": [
                            "  0%|          | 0/2 [00:00<?, ?it/s]"
                        ]
                    },
                    "metadata": {},
                    "output_type": "display_data"
                },
                {
                    "data": {
                        "application/vnd.jupyter.widget-view+json": {
                            "model_id": "1400480dadd0460db1bb8c70668606f0",
                            "version_major": 2,
                            "version_minor": 0
                        },
                        "text/plain": [
                            "  0%|          | 0/2878 [00:00<?, ?it/s]"
                        ]
                    },
                    "metadata": {},
                    "output_type": "display_data"
                },
                {
                    "data": {
                        "application/vnd.jupyter.widget-view+json": {
                            "model_id": "301b7ebe1700402f93140b2b1bdaeffb",
                            "version_major": 2,
                            "version_minor": 0
                        },
                        "text/plain": [
                            "  0%|          | 0/608 [00:00<?, ?it/s]"
                        ]
                    },
                    "metadata": {},
                    "output_type": "display_data"
                },
                {
                    "data": {
                        "application/vnd.jupyter.widget-view+json": {
                            "model_id": "31730f73282a47d79bdf99ab1bbfb4a5",
                            "version_major": 2,
                            "version_minor": 0
                        },
                        "text/plain": [
                            "  0%|          | 0/2 [00:00<?, ?it/s]"
                        ]
                    },
                    "metadata": {},
                    "output_type": "display_data"
                },
                {
                    "data": {
                        "text/html": [
                            "<div>\n",
                            "<style scoped>\n",
                            "    .dataframe tbody tr th:only-of-type {\n",
                            "        vertical-align: middle;\n",
                            "    }\n",
                            "\n",
                            "    .dataframe tbody tr th {\n",
                            "        vertical-align: top;\n",
                            "    }\n",
                            "\n",
                            "    .dataframe thead th {\n",
                            "        text-align: right;\n",
                            "    }\n",
                            "</style>\n",
                            "<table border=\"1\" class=\"dataframe\">\n",
                            "  <thead>\n",
                            "    <tr style=\"text-align: right;\">\n",
                            "      <th></th>\n",
                            "      <th>Metadata_Well</th>\n",
                            "      <th>Metadata_labels</th>\n",
                            "      <th>average_precision</th>\n",
                            "      <th>p_value</th>\n",
                            "      <th>n_pos_pairs</th>\n",
                            "      <th>n_total_pairs</th>\n",
                            "      <th>shuffled</th>\n",
                            "      <th>comparison</th>\n",
                            "    </tr>\n",
                            "  </thead>\n",
                            "  <tbody>\n",
                            "    <tr>\n",
                            "      <th>0</th>\n",
                            "      <td>B06</td>\n",
                            "      <td>Control</td>\n",
                            "      <td>0.966663</td>\n",
                            "      <td>0.015152</td>\n",
                            "      <td>75.0</td>\n",
                            "      <td>83.0</td>\n",
                            "      <td>non-shuffled</td>\n",
                            "      <td>Control_vs_Apoptosis</td>\n",
                            "    </tr>\n",
                            "    <tr>\n",
                            "      <th>1</th>\n",
                            "      <td>B07</td>\n",
                            "      <td>Control</td>\n",
                            "      <td>0.941457</td>\n",
                            "      <td>0.090909</td>\n",
                            "      <td>75.0</td>\n",
                            "      <td>83.0</td>\n",
                            "      <td>non-shuffled</td>\n",
                            "      <td>Control_vs_Apoptosis</td>\n",
                            "    </tr>\n",
                            "    <tr>\n",
                            "      <th>2</th>\n",
                            "      <td>B12</td>\n",
                            "      <td>Control</td>\n",
                            "      <td>0.962484</td>\n",
                            "      <td>0.015152</td>\n",
                            "      <td>75.0</td>\n",
                            "      <td>83.0</td>\n",
                            "      <td>non-shuffled</td>\n",
                            "      <td>Control_vs_Apoptosis</td>\n",
                            "    </tr>\n",
                            "    <tr>\n",
                            "      <th>3</th>\n",
                            "      <td>C06</td>\n",
                            "      <td>Control</td>\n",
                            "      <td>0.964183</td>\n",
                            "      <td>0.015152</td>\n",
                            "      <td>75.0</td>\n",
                            "      <td>83.0</td>\n",
                            "      <td>non-shuffled</td>\n",
                            "      <td>Control_vs_Apoptosis</td>\n",
                            "    </tr>\n",
                            "    <tr>\n",
                            "      <th>4</th>\n",
                            "      <td>C07</td>\n",
                            "      <td>Control</td>\n",
                            "      <td>0.970979</td>\n",
                            "      <td>0.015152</td>\n",
                            "      <td>75.0</td>\n",
                            "      <td>83.0</td>\n",
                            "      <td>non-shuffled</td>\n",
                            "      <td>Control_vs_Apoptosis</td>\n",
                            "    </tr>\n",
                            "  </tbody>\n",
                            "</table>\n",
                            "</div>"
                        ],
                        "text/plain": [
                            "  Metadata_Well Metadata_labels  average_precision   p_value  n_pos_pairs  \\\n",
                            "0           B06         Control           0.966663  0.015152         75.0   \n",
                            "1           B07         Control           0.941457  0.090909         75.0   \n",
                            "2           B12         Control           0.962484  0.015152         75.0   \n",
                            "3           C06         Control           0.964183  0.015152         75.0   \n",
                            "4           C07         Control           0.970979  0.015152         75.0   \n",
                            "\n",
                            "   n_total_pairs      shuffled            comparison  \n",
                            "0           83.0  non-shuffled  Control_vs_Apoptosis  \n",
                            "1           83.0  non-shuffled  Control_vs_Apoptosis  \n",
                            "2           83.0  non-shuffled  Control_vs_Apoptosis  \n",
                            "3           83.0  non-shuffled  Control_vs_Apoptosis  \n",
                            "4           83.0  non-shuffled  Control_vs_Apoptosis  "
                        ]
                    },
                    "execution_count": 14,
                    "metadata": {},
                    "output_type": "execute_result"
                }
            ],
            "source": [
                "for i in pos_samby_permutations:\n",
                "    # print(i)\n",
                "    tmp = df.copy()\n",
                "    # get only the rows with the current permutation\n",
                "    tmp = tmp[tmp[\"Metadata_labels\"].isin(i)]\n",
                "    # This will generated 100 values [0..100] as seed values\n",
                "    # This will occur per phenotype\n",
                "\n",
                "    # spliting metadata and raw feature values\n",
                "    logging.info(\"splitting data set into metadata and raw feature values\")\n",
                "    df_meta, df_feats = utils.split_data(tmp)\n",
                "    df_feats = np.array(df_feats)\n",
                "\n",
                "    # execute pipeline on negative control with training dataset with cp features\n",
                "    try:\n",
                "        # execute pipeline on negative control with trianing dataset with cp features\n",
                "\n",
                "        logging.info(f\"Running pipeline on CP features using phenotype\")\n",
                "        result = run_pipeline(\n",
                "            meta=df_meta,\n",
                "            feats=df_feats,\n",
                "            pos_sameby=pos_sameby,\n",
                "            pos_diffby=pos_diffby,\n",
                "            neg_sameby=neg_sameby,\n",
                "            neg_diffby=neg_diffby,\n",
                "            batch_size=batch_size,\n",
                "            null_size=null_size,\n",
                "        )\n",
                "\n",
                "        # adding columns\n",
                "        result[\"shuffled\"] = \"non-shuffled\"\n",
                "        result[\"comparison\"] = \"_vs_\".join(i)\n",
                "\n",
                "    except ZeroDivisionError as e:\n",
                "        logging.warning(f\"{e} captured on phenotye:. Skipping\")\n",
                "\n",
                "    # concatenating all datasets\n",
                "    results_df = pd.concat([results_df, result], ignore_index=True)\n",
                "# concatenating all datasets\n",
                "results_df.to_csv(regular_feat_map_path, index=False)\n",
                "result.head()"
            ]
        },
        {
            "cell_type": "markdown",
            "metadata": {},
            "source": [
                "### mAP analysis for shuffled data (Feature space)"
            ]
        },
        {
            "cell_type": "code",
            "execution_count": 15,
            "metadata": {},
            "outputs": [],
            "source": [
                "results_df = pd.DataFrame(\n",
                "    columns=[\n",
                "        \"Metadata_Well\",\n",
                "        \"Metadata_labels\",\n",
                "        \"average_precision\",\n",
                "        \"p_value\",\n",
                "        \"n_pos_pairs\",\n",
                "        \"n_total_pairs\",\n",
                "        \"shuffled\",\n",
                "        \"comparison\",\n",
                "    ]\n",
                ")"
            ]
        },
        {
            "cell_type": "code",
            "execution_count": 16,
            "metadata": {},
            "outputs": [
                {
                    "data": {
                        "application/vnd.jupyter.widget-view+json": {
                            "model_id": "aaaeee5096f14af88d4b32e5e4fc7bf8",
                            "version_major": 2,
                            "version_minor": 0
                        },
                        "text/plain": [
                            "  0%|          | 0/4930 [00:00<?, ?it/s]"
                        ]
                    },
                    "metadata": {},
                    "output_type": "display_data"
                },
                {
                    "data": {
                        "application/vnd.jupyter.widget-view+json": {
                            "model_id": "938cf96212d34e91b2401a157d717a56",
                            "version_major": 2,
                            "version_minor": 0
                        },
                        "text/plain": [
                            "  0%|          | 0/4940 [00:00<?, ?it/s]"
                        ]
                    },
                    "metadata": {},
                    "output_type": "display_data"
                },
                {
                    "data": {
                        "application/vnd.jupyter.widget-view+json": {
                            "model_id": "f2e2811365a54f1295c189eb9eaf0a88",
                            "version_major": 2,
                            "version_minor": 0
                        },
                        "text/plain": [
                            "  0%|          | 0/2 [00:00<?, ?it/s]"
                        ]
                    },
                    "metadata": {},
                    "output_type": "display_data"
                },
                {
                    "name": "stderr",
                    "output_type": "stream",
                    "text": [
                        "/tmp/ipykernel_394795/663457056.py:49: FutureWarning: The behavior of DataFrame concatenation with empty or all-NA entries is deprecated. In a future version, this will no longer exclude empty or all-NA columns when determining the result dtypes. To retain the old behavior, exclude the relevant entries before the concat operation.\n",
                        "  results_df = pd.concat([results_df, shuffled_feat_map], ignore_index=True)\n"
                    ]
                },
                {
                    "data": {
                        "application/vnd.jupyter.widget-view+json": {
                            "model_id": "e3f7ddbaacf84d73a00f06b7d9be8fe1",
                            "version_major": 2,
                            "version_minor": 0
                        },
                        "text/plain": [
                            "  0%|          | 0/2108 [00:00<?, ?it/s]"
                        ]
                    },
                    "metadata": {},
                    "output_type": "display_data"
                },
                {
                    "data": {
                        "application/vnd.jupyter.widget-view+json": {
                            "model_id": "651cf9e17d864ac7abb2be0daf9d104b",
                            "version_major": 2,
                            "version_minor": 0
                        },
                        "text/plain": [
                            "  0%|          | 0/520 [00:00<?, ?it/s]"
                        ]
                    },
                    "metadata": {},
                    "output_type": "display_data"
                },
                {
                    "data": {
                        "application/vnd.jupyter.widget-view+json": {
                            "model_id": "ceb63aa3a455478c8fe1296af9ba8ab0",
                            "version_major": 2,
                            "version_minor": 0
                        },
                        "text/plain": [
                            "  0%|          | 0/2 [00:00<?, ?it/s]"
                        ]
                    },
                    "metadata": {},
                    "output_type": "display_data"
                },
                {
                    "data": {
                        "application/vnd.jupyter.widget-view+json": {
                            "model_id": "65db020738244f6ab2dd96fb9741788a",
                            "version_major": 2,
                            "version_minor": 0
                        },
                        "text/plain": [
                            "  0%|          | 0/2878 [00:00<?, ?it/s]"
                        ]
                    },
                    "metadata": {},
                    "output_type": "display_data"
                },
                {
                    "data": {
                        "application/vnd.jupyter.widget-view+json": {
                            "model_id": "fa0e420303c34aef8ae2766e9154b634",
                            "version_major": 2,
                            "version_minor": 0
                        },
                        "text/plain": [
                            "  0%|          | 0/608 [00:00<?, ?it/s]"
                        ]
                    },
                    "metadata": {},
                    "output_type": "display_data"
                },
                {
                    "data": {
                        "application/vnd.jupyter.widget-view+json": {
                            "model_id": "241ad0003ebc4be080a722b334160ae2",
                            "version_major": 2,
                            "version_minor": 0
                        },
                        "text/plain": [
                            "  0%|          | 0/2 [00:00<?, ?it/s]"
                        ]
                    },
                    "metadata": {},
                    "output_type": "display_data"
                },
                {
                    "data": {
                        "text/html": [
                            "<div>\n",
                            "<style scoped>\n",
                            "    .dataframe tbody tr th:only-of-type {\n",
                            "        vertical-align: middle;\n",
                            "    }\n",
                            "\n",
                            "    .dataframe tbody tr th {\n",
                            "        vertical-align: top;\n",
                            "    }\n",
                            "\n",
                            "    .dataframe thead th {\n",
                            "        text-align: right;\n",
                            "    }\n",
                            "</style>\n",
                            "<table border=\"1\" class=\"dataframe\">\n",
                            "  <thead>\n",
                            "    <tr style=\"text-align: right;\">\n",
                            "      <th></th>\n",
                            "      <th>Metadata_Well</th>\n",
                            "      <th>Metadata_labels</th>\n",
                            "      <th>average_precision</th>\n",
                            "      <th>p_value</th>\n",
                            "      <th>n_pos_pairs</th>\n",
                            "      <th>n_total_pairs</th>\n",
                            "      <th>shuffled</th>\n",
                            "      <th>comparison</th>\n",
                            "    </tr>\n",
                            "  </thead>\n",
                            "  <tbody>\n",
                            "    <tr>\n",
                            "      <th>0</th>\n",
                            "      <td>B02</td>\n",
                            "      <td>Pyroptosis</td>\n",
                            "      <td>0.387611</td>\n",
                            "      <td>1.000000</td>\n",
                            "      <td>64.0</td>\n",
                            "      <td>140.0</td>\n",
                            "      <td>shuffled_baseline</td>\n",
                            "      <td>Pyroptosis_vs_Control</td>\n",
                            "    </tr>\n",
                            "    <tr>\n",
                            "      <th>1</th>\n",
                            "      <td>B03</td>\n",
                            "      <td>Pyroptosis</td>\n",
                            "      <td>0.455559</td>\n",
                            "      <td>0.742424</td>\n",
                            "      <td>64.0</td>\n",
                            "      <td>140.0</td>\n",
                            "      <td>shuffled_baseline</td>\n",
                            "      <td>Pyroptosis_vs_Control</td>\n",
                            "    </tr>\n",
                            "    <tr>\n",
                            "      <th>2</th>\n",
                            "      <td>B04</td>\n",
                            "      <td>Pyroptosis</td>\n",
                            "      <td>0.494000</td>\n",
                            "      <td>0.424242</td>\n",
                            "      <td>64.0</td>\n",
                            "      <td>140.0</td>\n",
                            "      <td>shuffled_baseline</td>\n",
                            "      <td>Pyroptosis_vs_Control</td>\n",
                            "    </tr>\n",
                            "    <tr>\n",
                            "      <th>3</th>\n",
                            "      <td>B05</td>\n",
                            "      <td>Pyroptosis</td>\n",
                            "      <td>0.483916</td>\n",
                            "      <td>0.469697</td>\n",
                            "      <td>64.0</td>\n",
                            "      <td>140.0</td>\n",
                            "      <td>shuffled_baseline</td>\n",
                            "      <td>Pyroptosis_vs_Control</td>\n",
                            "    </tr>\n",
                            "    <tr>\n",
                            "      <th>4</th>\n",
                            "      <td>B06</td>\n",
                            "      <td>Control</td>\n",
                            "      <td>0.538582</td>\n",
                            "      <td>0.651515</td>\n",
                            "      <td>75.0</td>\n",
                            "      <td>140.0</td>\n",
                            "      <td>shuffled_baseline</td>\n",
                            "      <td>Pyroptosis_vs_Control</td>\n",
                            "    </tr>\n",
                            "  </tbody>\n",
                            "</table>\n",
                            "</div>"
                        ],
                        "text/plain": [
                            "  Metadata_Well Metadata_labels  average_precision   p_value  n_pos_pairs  \\\n",
                            "0           B02      Pyroptosis           0.387611  1.000000         64.0   \n",
                            "1           B03      Pyroptosis           0.455559  0.742424         64.0   \n",
                            "2           B04      Pyroptosis           0.494000  0.424242         64.0   \n",
                            "3           B05      Pyroptosis           0.483916  0.469697         64.0   \n",
                            "4           B06         Control           0.538582  0.651515         75.0   \n",
                            "\n",
                            "   n_total_pairs           shuffled             comparison  \n",
                            "0          140.0  shuffled_baseline  Pyroptosis_vs_Control  \n",
                            "1          140.0  shuffled_baseline  Pyroptosis_vs_Control  \n",
                            "2          140.0  shuffled_baseline  Pyroptosis_vs_Control  \n",
                            "3          140.0  shuffled_baseline  Pyroptosis_vs_Control  \n",
                            "4          140.0  shuffled_baseline  Pyroptosis_vs_Control  "
                        ]
                    },
                    "execution_count": 16,
                    "metadata": {},
                    "output_type": "execute_result"
                }
            ],
            "source": [
                "for i in pos_samby_permutations:\n",
                "    # print(i)\n",
                "    tmp = df.copy()\n",
                "    # get only the rows with the current permutation\n",
                "    tmp = tmp[tmp[\"Metadata_labels\"].isin(i)]\n",
                "    # This will generated 100 values [0..100] as seed values\n",
                "    seed = np.random.randint(0, 100)\n",
                "\n",
                "    # split the shuffled dataset\n",
                "    # spliting metadata and raw feature values\n",
                "    logging.info(\"splitting shuffled data set into metadata and raw feature values\")\n",
                "    (\n",
                "        df_meta,\n",
                "        df_feats,\n",
                "    ) = utils.split_data(tmp)\n",
                "\n",
                "    df_feats = np.array(df_feats)\n",
                "\n",
                "    # shuffling the features, this will overwrite the generated feature space from above with the shuffled one\n",
                "    df_feats = shuffle_features(feature_vals=df_feats, seed=seed)\n",
                "\n",
                "    try:\n",
                "        # execute pipeline on negative control with trianing dataset with cp features\n",
                "        logging.info(\n",
                "            f\"Running pipeline on CP features using phenotype, feature space is shuffled\"\n",
                "        )\n",
                "        shuffled_feat_map = run_pipeline(\n",
                "            meta=df_meta,\n",
                "            feats=df_feats,\n",
                "            pos_sameby=pos_sameby,\n",
                "            pos_diffby=pos_diffby,\n",
                "            neg_sameby=neg_sameby,\n",
                "            neg_diffby=neg_diffby,\n",
                "            batch_size=batch_size,\n",
                "            null_size=null_size,\n",
                "        )\n",
                "\n",
                "        # adding shuffle label column\n",
                "        shuffled_feat_map[\"shuffled\"] = \"shuffled\"\n",
                "        shuffled_feat_map[\"comparison\"] = \"_vs_\".join(i)\n",
                "\n",
                "    except ZeroDivisionError as e:\n",
                "        logging.warning(f\"{e} captured on phenotype:  Skipping\")\n",
                "\n",
                "    # concatenating all datasets\n",
                "    results_df = pd.concat([results_df, shuffled_feat_map], ignore_index=True)\n",
                "    # saving to csv\n",
                "\n",
                "# saving to csv\n",
                "results_df.to_csv(shuffled_feat_space_map_path, index=False)\n",
                "results_df.head()"
            ]
        }
    ],
    "metadata": {
        "kernelspec": {
            "display_name": "map",
            "language": "python",
            "name": "python3"
        },
        "language_info": {
            "codemirror_mode": {
                "name": "ipython",
                "version": 3
            },
            "file_extension": ".py",
            "mimetype": "text/x-python",
            "name": "python",
            "nbconvert_exporter": "python",
            "pygments_lexer": "ipython3",
            "version": "3.12.1"
        }
    },
    "nbformat": 4,
    "nbformat_minor": 2
}
